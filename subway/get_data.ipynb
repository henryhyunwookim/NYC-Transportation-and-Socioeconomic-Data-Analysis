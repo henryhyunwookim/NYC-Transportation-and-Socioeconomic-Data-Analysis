{
 "cells": [
  {
   "cell_type": "markdown",
   "id": "b26378df",
   "metadata": {},
   "source": [
    "## 0. Load libraries and custom functions"
   ]
  },
  {
   "cell_type": "code",
   "execution_count": 1,
   "id": "c114183c",
   "metadata": {},
   "outputs": [],
   "source": [
    "%reset -f\n",
    "\n",
    "from functions import removeSpecialCharactersFromStationName,removeSpecialCharactersFromStationTimestamps,\\\n",
    "                createStationCountsByTime,computeTrafficRidershipCounts,removeOutlier,removeSpecialCharactersFromStopName,\\\n",
    "                matchStationNames,combineGTFSStopsAndStationData\n",
    "\n",
    "from sqlalchemy import create_engine\n",
    "import pandas as pd\n",
    "import matplotlib\n",
    "import matplotlib.dates as mdates\n",
    "import seaborn as sns\n",
    "import plotly\n",
    "import geopandas as gpd\n",
    "import pathlib"
   ]
  },
  {
   "cell_type": "markdown",
   "id": "f59c8867",
   "metadata": {},
   "source": [
    "## * If CSV file is already available, download them and start directly from Step 3.2. Read from Subway.csv"
   ]
  },
  {
   "cell_type": "markdown",
   "id": "82e22ca9",
   "metadata": {},
   "source": [
    "## 1. Load subway turnstile data\n",
    "- Download Turnstile data for first six months of 2022 using this script get_turnstile_data.py.\n",
    "- Usage get_turnstile_data.py \"(2201|2202|2203|2204|2205|2206)\"\n",
    "<br><br>\n",
    "- Note: Subway data from Jan-Jun 2022 will be used due to limited resources.\n",
    "- Data source: Metropolitan Transportation Authority(MTA) http://web.mta.info/developers/"
   ]
  },
  {
   "cell_type": "code",
   "execution_count": 2,
   "id": "514765b9",
   "metadata": {},
   "outputs": [],
   "source": [
    "#db_file = pathlib.Path('data/mta_data.db')sqlite://data/mta_data.db\n",
    "engine = create_engine(\"sqlite:///mta_data.db\")\n",
    "\n",
    "mta_df = pd.read_sql('SELECT * FROM mta_data;', engine)\n",
    "\n",
    "#Cleanup data from station names\n",
    "mta_df = mta_df.rename(columns={'C/A': 'control_area', 'UNIT': 'unit', 'SCP': 'subunit_channel_pos', 'STATION':'station', 'LINENAME':'subway_lines', 'DIVISION':'division', 'DATE':'date', 'TIME':'time', 'DESC':'desc', 'ENTRIES':'entries', 'EXITS':'exits'})\n",
    "mta_df = removeSpecialCharactersFromStationName(mta_df)\n",
    "mta_df = removeSpecialCharactersFromStationTimestamps(mta_df)\n",
    "\n",
    "mta_df['subunit_channel_pos'] = mta_df['subunit_channel_pos'].str.replace('-', '_')\n",
    "\n",
    "# Create UniqueId column for grouping by \n",
    "mta_df['unique_id'] = mta_df['control_area'] + '_' + mta_df['unit'] + '_' + mta_df['subunit_channel_pos'] + '_' + mta_df['station'] + '_' + mta_df['date'] + '_' + mta_df['time'] + '_' + mta_df['desc']\n",
    "mta_df['date_time'] = mta_df.date + ' ' + mta_df.time\n",
    "mta_df.date_time = pd.to_datetime(mta_df['date_time'], format = '%m_%d_%Y %H_%M_%S')\n",
    "mta_df = mta_df[mta_df.desc != 'RECOVR_AUD']\n",
    "\n",
    "mta_df = computeTrafficRidershipCounts(mta_df)\n",
    "mta_df.fillna(0, inplace=True)\n",
    "\n",
    "# Elimate outliers in the data by reducing to the 99th percentile. \n",
    "mta_df = removeOutlier(mta_df)\n",
    "\n",
    "mta_df = mta_df[(mta_df['date_time']>pd.Timestamp(2022,1,1)) & (mta_df['date_time']<pd.Timestamp(2022,7,1))]\n",
    "\n",
    "mta_df = createStationCountsByTime(mta_df, 'date_time', col_name='Station_Readings_Entry')\n",
    "mta_df = createStationCountsByTime(mta_df, 'date_time', col_name='Station_Readings_Exit')\n",
    "\n"
   ]
  },
  {
   "cell_type": "markdown",
   "id": "fc603568",
   "metadata": {},
   "source": [
    "<br>\n",
    "Concatenate yellow and green taxi dataframes as a single dataframe since they mostly share common columns and the distinction between the two is not necessary in our analysis."
   ]
  },
  {
   "cell_type": "markdown",
   "id": "a2ea8a4b",
   "metadata": {},
   "source": [
    "## 2. Map Subway stations with Borough and CDTA using Lat and Long geometry\n",
    "### 2-1. Download  .shp file as dataframe and map station lat and long with CDTA polygon.\n",
    "- Note: The taxi zones are roughly based on NYC Department of City Planning’s Neighborhood Tabulation Areas (NTAs).\n",
    "- Reference: https://data.cityofnewyork.us/Transportation/NYC-Taxi-Zones/d3c5-ddgc\n",
    "<br><br>\n",
    "- Note: Community District Tabulation Areas (CDTAs), which closely approximate Community Districts (CDs).\n",
    "- Reference: https://storymaps.arcgis.com/stories/d30850ba28944619b94e8ee4f746d5c4"
   ]
  },
  {
   "cell_type": "code",
   "execution_count": 3,
   "id": "9d5497f1",
   "metadata": {},
   "outputs": [
    {
     "name": "stderr",
     "output_type": "stream",
     "text": [
      "C:\\Users\\panch\\finaldeliverable\\NYC-Transportation-and-Socioeconomic-Data-Analysis\\subway\\functions.py:81: FutureWarning: The default value of regex will change from True to False in a future version. In addition, single character regular expressions will *not* be treated as literal strings when regex=True.\n",
      "  df.stop_name = df.stop_name.str.replace(\"(\",\"\")\n",
      "C:\\Users\\panch\\finaldeliverable\\NYC-Transportation-and-Socioeconomic-Data-Analysis\\subway\\functions.py:82: FutureWarning: The default value of regex will change from True to False in a future version. In addition, single character regular expressions will *not* be treated as literal strings when regex=True.\n",
      "  df.stop_name = df.stop_name.str.replace(\")\",\"\")\n",
      "C:\\Users\\panch\\finaldeliverable\\NYC-Transportation-and-Socioeconomic-Data-Analysis\\subway\\functions.py:84: FutureWarning: The default value of regex will change from True to False in a future version. In addition, single character regular expressions will *not* be treated as literal strings when regex=True.\n",
      "  df.stop_name = df.stop_name.str.replace(\".\",\"\")\n",
      "C:\\Users\\panch\\miniconda3\\lib\\site-packages\\pandas\\core\\dtypes\\cast.py:127: ShapelyDeprecationWarning: The array interface is deprecated and will no longer work in Shapely 2.0. Convert the '.coords' to a numpy array instead.\n",
      "  arr = construct_1d_object_array_from_listlike(values)\n"
     ]
    }
   ],
   "source": [
    "cols_to_keep = [\"station\",\"entries\", \"exits\",\"net_entries\",\"net_exits\",\"net_traffic\",\"Station_Readings_Exit_weekday\",\"Station_Readings_Exit_year_month\",\"Station_Readings_Exit_day\",\"Station_Readings_Exit_hour\",\"Station_Readings_Entry_weekday\",\"Station_Readings_Entry_year_month\",\"Station_Readings_Entry_day\",\"Station_Readings_Entry_hour\"]\n",
    "group_cols = [\"net_traffic\"]\n",
    "\n",
    "station_names_path = str(pathlib.Path(\"data/subway_df\", \"stationnames.csv\"))\n",
    "station_data_gtfs = pd.read_csv(station_names_path)\n",
    "station_data_gtfs = removeSpecialCharactersFromStopName(station_data_gtfs)\n",
    "\n",
    "mta_df = mta_df[cols_to_keep]\n",
    "                \n",
    "top_stations = mta_df.groupby('station')[group_cols].sum().sort_values(by='net_traffic', ascending=False).reset_index().copy()\n",
    "top_stations,station_data_gtfs = matchStationNames(top_stations,station_data_gtfs)\n",
    "\n",
    "#Merge station names from GTFS and Turnstile data for mapping CDTA\n",
    "top_station_df = pd.merge(top_stations, right=station_data_gtfs, left_on='matches', right_on='stop_name', how='left')\n",
    "\n",
    "#Merge CDTA Code and Burough code into single DF\n",
    "stationWithCdta,cdta_dict = combineGTFSStopsAndStationData(top_station_df)\n",
    "stationWithCdta.dropna(subset=['station'], how='all', inplace=True)\n",
    "\n",
    "stationWithCdta = stationWithCdta.rename(columns={'CDTA2020': 'cdtaCode'})\n",
    "\n",
    "#station name is mapped to wrong borough\n",
    "stationWithCdta = stationWithCdta.drop(stationWithCdta.index[226])\n",
    "\n",
    "#Create CDTA Dictionary\n",
    "cdta_station_dict = stationWithCdta[[\"cdtaCode\", \"station\"]].set_index(\"station\").to_dict()[\"cdtaCode\"]\n",
    "\n"
   ]
  },
  {
   "cell_type": "markdown",
   "id": "e03d3ed8",
   "metadata": {},
   "source": [
    "### 2-2. Load Net Entries and Exits for each CDTA"
   ]
  },
  {
   "cell_type": "code",
   "execution_count": 4,
   "id": "a74b9fc0",
   "metadata": {},
   "outputs": [
    {
     "name": "stderr",
     "output_type": "stream",
     "text": [
      "C:\\Users\\panch\\AppData\\Local\\Temp\\ipykernel_2704\\2860537520.py:7: FutureWarning: The default value of numeric_only in DataFrameGroupBy.sum is deprecated. In a future version, numeric_only will default to False. Either specify numeric_only or select only columns which should be valid for the function.\n",
      "  net_entry_cdta = net_entry_stations.groupby(['cdtaCode']).sum()\n",
      "C:\\Users\\panch\\AppData\\Local\\Temp\\ipykernel_2704\\2860537520.py:8: FutureWarning: The default value of numeric_only in DataFrameGroupBy.sum is deprecated. In a future version, numeric_only will default to False. Either specify numeric_only or select only columns which should be valid for the function.\n",
      "  net_exit_cdta = net_exit_stations.groupby(['cdtaCode']).sum()\n",
      "C:\\Users\\panch\\AppData\\Local\\Temp\\ipykernel_2704\\2860537520.py:10: FutureWarning: The default value of numeric_only in DataFrameGroupBy.mean is deprecated. In a future version, numeric_only will default to False. Either specify numeric_only or select only columns which should be valid for the function.\n",
      "  average_entry_cdta = net_entry_stations.groupby(['cdtaCode']).mean()\n",
      "C:\\Users\\panch\\AppData\\Local\\Temp\\ipykernel_2704\\2860537520.py:11: FutureWarning: The default value of numeric_only in DataFrameGroupBy.mean is deprecated. In a future version, numeric_only will default to False. Either specify numeric_only or select only columns which should be valid for the function.\n",
      "  average_exit_cdta = net_exit_stations.groupby(['cdtaCode']).mean()\n"
     ]
    }
   ],
   "source": [
    "net_entry_stations = mta_df.groupby(['station'])[\"net_entries\"].sum().reset_index().copy()\n",
    "net_exit_stations = mta_df.groupby(['station'])[\"net_exits\"].sum().reset_index().copy()\n",
    "\n",
    "net_entry_stations['cdtaCode'] = net_entry_stations['station'].map(cdta_station_dict).dropna()\n",
    "net_exit_stations['cdtaCode'] = net_exit_stations['station'].map(cdta_station_dict).dropna()\n",
    "\n",
    "net_entry_cdta = net_entry_stations.groupby(['cdtaCode']).sum()\n",
    "net_exit_cdta = net_exit_stations.groupby(['cdtaCode']).sum()\n",
    "\n",
    "average_entry_cdta = net_entry_stations.groupby(['cdtaCode']).mean()\n",
    "average_exit_cdta = net_exit_stations.groupby(['cdtaCode']).mean()\n",
    "\n",
    "stations_list = mta_df.groupby(['station']).count().reset_index().copy()\n",
    "stations_list['cdtaCode'] = stations_list['station'].map(cdta_station_dict).dropna()\n",
    "\n",
    "station_counts= stations_list.groupby(['cdtaCode']).count()\n",
    "station_counts = station_counts[['station']]\n",
    "station_counts = station_counts.rename(columns={'station': 'station_counts'})\n"
   ]
  },
  {
   "cell_type": "code",
   "execution_count": 5,
   "id": "49e07e51",
   "metadata": {},
   "outputs": [],
   "source": [
    "stations_list['borough'] = stations_list[\"cdtaCode\"].astype(str).apply(lambda x: \"EWR\" if \"EWR\" in str(x) else x[:2]).map(\n",
    "    {\n",
    "        'EWR': 'EWR',\n",
    "        'QN': 'Queens',\n",
    "        'BX': 'Bronx',\n",
    "        'MN': 'Manhattan',\n",
    "        'SI': 'Staten Island',\n",
    "        'BK': 'Brooklyn'\n",
    "    }\n",
    ")\n",
    "\n",
    "stations_list_buroughs = stations_list[[\"station\", \"net_entries\", \"net_exits\",\"cdtaCode\",\"borough\" ]]\n",
    "stations_list_buroughs.to_csv(\"data\\subway_df\\station_boroughs.csv\")"
   ]
  },
  {
   "cell_type": "markdown",
   "id": "7f57cdd9",
   "metadata": {},
   "source": [
    "### 2-3. Load CDTA Day wise (1 to 31 ) NetEntries and NetExits"
   ]
  },
  {
   "cell_type": "code",
   "execution_count": 6,
   "id": "27e1a744",
   "metadata": {},
   "outputs": [
    {
     "name": "stderr",
     "output_type": "stream",
     "text": [
      "C:\\Users\\panch\\AppData\\Local\\Temp\\ipykernel_2704\\3878387.py:8: FutureWarning: The default value of numeric_only in DataFrameGroupBy.sum is deprecated. In a future version, numeric_only will default to False. Either specify numeric_only or select only columns which should be valid for the function.\n",
      "  entry_day_count_cdta = day_entry_stations.groupby(['cdtaCode', 'Station_Readings_Entry_day']).sum().reset_index()\\\n",
      "C:\\Users\\panch\\AppData\\Local\\Temp\\ipykernel_2704\\3878387.py:13: FutureWarning: The default value of numeric_only in DataFrameGroupBy.sum is deprecated. In a future version, numeric_only will default to False. Either specify numeric_only or select only columns which should be valid for the function.\n",
      "  exit_day_count_cdta = day_exit_stations.groupby(['cdtaCode', 'Station_Readings_Exit_day']).sum().reset_index()\\\n"
     ]
    }
   ],
   "source": [
    "day_entry_stations = mta_df.groupby(['Station_Readings_Entry_day','station'])[\"net_entries\"].sum().reset_index().copy()\n",
    "day_exit_stations = mta_df.groupby(['Station_Readings_Exit_day','station'])[\"net_exits\"].sum().reset_index().copy()\n",
    "\n",
    "day_entry_stations['cdtaCode'] = day_entry_stations['station'].map(cdta_station_dict).dropna()\n",
    "day_exit_stations['cdtaCode'] = day_exit_stations['station'].map(cdta_station_dict).dropna()\n",
    "\n",
    "## Entry day count by CDTA\n",
    "entry_day_count_cdta = day_entry_stations.groupby(['cdtaCode', 'Station_Readings_Entry_day']).sum().reset_index()\\\n",
    "    [['cdtaCode', 'Station_Readings_Entry_day','net_entries']].pivot(index='cdtaCode', columns=\"Station_Readings_Entry_day\", values=\"net_entries\")\n",
    "entry_day_count_cdta.columns = [\"Entry_total_trip_count_day_\" + str(col) for col in entry_day_count_cdta.columns]\n",
    "\n",
    "## Exit day count by CDTA\n",
    "exit_day_count_cdta = day_exit_stations.groupby(['cdtaCode', 'Station_Readings_Exit_day']).sum().reset_index()\\\n",
    "    [['cdtaCode', 'Station_Readings_Exit_day','net_exits']].pivot(index='cdtaCode', columns=\"Station_Readings_Exit_day\", values=\"net_exits\")\n",
    "exit_day_count_cdta.columns = [\"Exit_total_trip_count_day_\" + str(col) for col in exit_day_count_cdta.columns]\n"
   ]
  },
  {
   "cell_type": "markdown",
   "id": "01be312a",
   "metadata": {},
   "source": [
    "### 2-4. Load CDTA Hour wise (1 to 24 ) NetEntries and NetExits."
   ]
  },
  {
   "cell_type": "code",
   "execution_count": 7,
   "id": "5ced8ca4",
   "metadata": {},
   "outputs": [
    {
     "name": "stderr",
     "output_type": "stream",
     "text": [
      "C:\\Users\\panch\\AppData\\Local\\Temp\\ipykernel_2704\\2866875340.py:8: FutureWarning: The default value of numeric_only in DataFrameGroupBy.sum is deprecated. In a future version, numeric_only will default to False. Either specify numeric_only or select only columns which should be valid for the function.\n",
      "  entry_hour_count_cdta = hour_entry_stations.groupby(['cdtaCode', 'Station_Readings_Entry_hour']).sum().reset_index()\\\n",
      "C:\\Users\\panch\\AppData\\Local\\Temp\\ipykernel_2704\\2866875340.py:13: FutureWarning: The default value of numeric_only in DataFrameGroupBy.sum is deprecated. In a future version, numeric_only will default to False. Either specify numeric_only or select only columns which should be valid for the function.\n",
      "  exit_hour_count_cdta = hour_exit_stations.groupby(['cdtaCode', 'Station_Readings_Exit_hour']).sum().reset_index()\\\n"
     ]
    }
   ],
   "source": [
    "hour_entry_stations = mta_df.groupby(['Station_Readings_Entry_hour','station'])[\"net_entries\"].sum().reset_index().copy()\n",
    "hour_exit_stations = mta_df.groupby(['Station_Readings_Exit_hour','station'])[\"net_exits\"].sum().reset_index().copy()\n",
    "\n",
    "hour_entry_stations['cdtaCode'] = hour_entry_stations['station'].map(cdta_station_dict).dropna()\n",
    "hour_exit_stations['cdtaCode'] = hour_exit_stations['station'].map(cdta_station_dict).dropna()\n",
    "\n",
    " ## Entry Hour count by CDTA\n",
    "entry_hour_count_cdta = hour_entry_stations.groupby(['cdtaCode', 'Station_Readings_Entry_hour']).sum().reset_index()\\\n",
    "    [['cdtaCode', 'Station_Readings_Entry_hour','net_entries']].pivot(index='cdtaCode', columns=\"Station_Readings_Entry_hour\", values=\"net_entries\")\n",
    "entry_hour_count_cdta.columns = [\"Entry_total_trip_count_hour_\" + str(col) for col in entry_hour_count_cdta.columns]\n",
    "\n",
    " ##  Exit Hour count by CDTA\n",
    "exit_hour_count_cdta = hour_exit_stations.groupby(['cdtaCode', 'Station_Readings_Exit_hour']).sum().reset_index()\\\n",
    "    [['cdtaCode', 'Station_Readings_Exit_hour','net_exits']].pivot(index='cdtaCode', columns=\"Station_Readings_Exit_hour\", values=\"net_exits\")\n",
    "exit_hour_count_cdta.columns = [\"Exit_total_trip_count_hour_\" + str(col) for col in exit_hour_count_cdta.columns]\n"
   ]
  },
  {
   "cell_type": "markdown",
   "id": "76804335",
   "metadata": {},
   "source": [
    "### 2-5. Load CDTA Weekday wise (Sunday to Saturday ) NetEntries and NetExits."
   ]
  },
  {
   "cell_type": "code",
   "execution_count": 8,
   "id": "fb2b4fd7",
   "metadata": {},
   "outputs": [
    {
     "name": "stderr",
     "output_type": "stream",
     "text": [
      "C:\\Users\\panch\\AppData\\Local\\Temp\\ipykernel_2704\\1677994790.py:8: FutureWarning: The default value of numeric_only in DataFrameGroupBy.sum is deprecated. In a future version, numeric_only will default to False. Either specify numeric_only or select only columns which should be valid for the function.\n",
      "  entry_weekday_count_cdta = weekday_entry_stations.groupby(['cdtaCode', 'Station_Readings_Entry_weekday']).sum().reset_index()\\\n",
      "C:\\Users\\panch\\AppData\\Local\\Temp\\ipykernel_2704\\1677994790.py:13: FutureWarning: The default value of numeric_only in DataFrameGroupBy.sum is deprecated. In a future version, numeric_only will default to False. Either specify numeric_only or select only columns which should be valid for the function.\n",
      "  exit_weekday_count_cdta = weekday_exit_stations.groupby(['cdtaCode', 'Station_Readings_Exit_weekday']).sum().reset_index()\\\n"
     ]
    }
   ],
   "source": [
    "weekday_entry_stations = mta_df.groupby(['Station_Readings_Entry_weekday','station'])[\"net_entries\"].sum().reset_index().copy()\n",
    "weekday_exit_stations = mta_df.groupby(['Station_Readings_Exit_weekday','station'])[\"net_exits\"].sum().reset_index().copy()\n",
    "\n",
    "weekday_entry_stations['cdtaCode'] = weekday_entry_stations['station'].map(cdta_station_dict).dropna()\n",
    "weekday_exit_stations['cdtaCode'] = weekday_exit_stations['station'].map(cdta_station_dict).dropna()\n",
    "\n",
    " ## Entry Weekday count by CDTA\n",
    "entry_weekday_count_cdta = weekday_entry_stations.groupby(['cdtaCode', 'Station_Readings_Entry_weekday']).sum().reset_index()\\\n",
    "    [['cdtaCode', 'Station_Readings_Entry_weekday','net_entries']].pivot(index='cdtaCode', columns=\"Station_Readings_Entry_weekday\", values=\"net_entries\")\n",
    "entry_weekday_count_cdta.columns = [\"Entry_total_trip_count_weekday_\" + str(col) for col in entry_weekday_count_cdta.columns]\n",
    "\n",
    " ## Exit Weekday count by CDTA\n",
    "exit_weekday_count_cdta = weekday_exit_stations.groupby(['cdtaCode', 'Station_Readings_Exit_weekday']).sum().reset_index()\\\n",
    "    [['cdtaCode', 'Station_Readings_Exit_weekday','net_exits']].pivot(index='cdtaCode', columns=\"Station_Readings_Exit_weekday\", values=\"net_exits\")\n",
    "exit_weekday_count_cdta.columns = [\"Exit_total_trip_count_weekday_\" + str(col) for col in exit_weekday_count_cdta.columns]\n"
   ]
  },
  {
   "cell_type": "markdown",
   "id": "f4bb949d",
   "metadata": {},
   "source": [
    "### 2-6. Load CDTA  Year and Month wise NetEntries and NetExits."
   ]
  },
  {
   "cell_type": "code",
   "execution_count": 9,
   "id": "aae53cec",
   "metadata": {},
   "outputs": [
    {
     "name": "stderr",
     "output_type": "stream",
     "text": [
      "C:\\Users\\panch\\AppData\\Local\\Temp\\ipykernel_2704\\1900610064.py:8: FutureWarning: The default value of numeric_only in DataFrameGroupBy.sum is deprecated. In a future version, numeric_only will default to False. Either specify numeric_only or select only columns which should be valid for the function.\n",
      "  entry_year_month_count_cdta = year_month_entry_stations.groupby(['cdtaCode', 'Station_Readings_Entry_year_month']).sum().reset_index()\\\n",
      "C:\\Users\\panch\\AppData\\Local\\Temp\\ipykernel_2704\\1900610064.py:13: FutureWarning: The default value of numeric_only in DataFrameGroupBy.sum is deprecated. In a future version, numeric_only will default to False. Either specify numeric_only or select only columns which should be valid for the function.\n",
      "  exit_year_month_count_cdta = year_month_exit_stations.groupby(['cdtaCode', 'Station_Readings_Exit_year_month']).sum().reset_index()\\\n"
     ]
    }
   ],
   "source": [
    "year_month_entry_stations = mta_df.groupby(['Station_Readings_Entry_year_month','station'])[\"net_entries\"].sum().reset_index().copy()\n",
    "year_month_exit_stations = mta_df.groupby(['Station_Readings_Exit_year_month','station'])[\"net_exits\"].sum().reset_index().copy()\n",
    "\n",
    "year_month_entry_stations['cdtaCode'] = year_month_entry_stations['station'].map(cdta_station_dict).dropna()\n",
    "year_month_exit_stations['cdtaCode'] = year_month_exit_stations['station'].map(cdta_station_dict).dropna()\n",
    "\n",
    " ## Entry Year and Monthwise count by CDTA\n",
    "entry_year_month_count_cdta = year_month_entry_stations.groupby(['cdtaCode', 'Station_Readings_Entry_year_month']).sum().reset_index()\\\n",
    "    [['cdtaCode', 'Station_Readings_Entry_year_month','net_entries']].pivot(index='cdtaCode', columns=\"Station_Readings_Entry_year_month\", values=\"net_entries\")\n",
    "entry_year_month_count_cdta.columns = [\"Entry_total_trip_count_year_month_\" + str(col) for col in entry_year_month_count_cdta.columns]\n",
    "\n",
    " ## Exit Year and Monthwise count by CDTA\n",
    "exit_year_month_count_cdta = year_month_exit_stations.groupby(['cdtaCode', 'Station_Readings_Exit_year_month']).sum().reset_index()\\\n",
    "    [['cdtaCode', 'Station_Readings_Exit_year_month','net_exits']].pivot(index='cdtaCode', columns=\"Station_Readings_Exit_year_month\", values=\"net_exits\")\n",
    "exit_year_month_count_cdta.columns = [\"Exit_total_trip_count_year_month_\" + str(col) for col in exit_year_month_count_cdta.columns]\n"
   ]
  },
  {
   "cell_type": "code",
   "execution_count": 10,
   "id": "a21d2b7f",
   "metadata": {},
   "outputs": [],
   "source": [
    "### 2-7. Load CDTA Buroughs."
   ]
  },
  {
   "cell_type": "code",
   "execution_count": 11,
   "id": "5d176754",
   "metadata": {},
   "outputs": [
    {
     "data": {
      "text/html": [
       "<div>\n",
       "<style scoped>\n",
       "    .dataframe tbody tr th:only-of-type {\n",
       "        vertical-align: middle;\n",
       "    }\n",
       "\n",
       "    .dataframe tbody tr th {\n",
       "        vertical-align: top;\n",
       "    }\n",
       "\n",
       "    .dataframe thead th {\n",
       "        text-align: right;\n",
       "    }\n",
       "</style>\n",
       "<table border=\"1\" class=\"dataframe\">\n",
       "  <thead>\n",
       "    <tr style=\"text-align: right;\">\n",
       "      <th></th>\n",
       "      <th>CDTAName</th>\n",
       "      <th>borough</th>\n",
       "      <th>boroughName</th>\n",
       "    </tr>\n",
       "    <tr>\n",
       "      <th>cdtaCode</th>\n",
       "      <th></th>\n",
       "      <th></th>\n",
       "      <th></th>\n",
       "    </tr>\n",
       "  </thead>\n",
       "  <tbody>\n",
       "    <tr>\n",
       "      <th>BK01</th>\n",
       "      <td>BK01 Williamsburg-Greenpoint (CD 1 Equivalent)</td>\n",
       "      <td>Bk</td>\n",
       "      <td>Brooklyn</td>\n",
       "    </tr>\n",
       "    <tr>\n",
       "      <th>BK02</th>\n",
       "      <td>BK02 Downtown Brooklyn-Fort Greene (CD 2 Appro...</td>\n",
       "      <td>Bk</td>\n",
       "      <td>Brooklyn</td>\n",
       "    </tr>\n",
       "    <tr>\n",
       "      <th>BK03</th>\n",
       "      <td>BK03 Bedford-Stuyvesant (CD 3 Approximation)</td>\n",
       "      <td>Bk</td>\n",
       "      <td>Brooklyn</td>\n",
       "    </tr>\n",
       "    <tr>\n",
       "      <th>BK04</th>\n",
       "      <td>BK04 Bushwick (CD 4 Equivalent)</td>\n",
       "      <td>Bk</td>\n",
       "      <td>Brooklyn</td>\n",
       "    </tr>\n",
       "    <tr>\n",
       "      <th>BK05</th>\n",
       "      <td>BK05 East New York-Cypress Hills (CD 5 Approxi...</td>\n",
       "      <td>Bk</td>\n",
       "      <td>Brooklyn</td>\n",
       "    </tr>\n",
       "    <tr>\n",
       "      <th>BK06</th>\n",
       "      <td>BK06 Park Slope-Carroll Gardens (CD 6 Approxim...</td>\n",
       "      <td>Bk</td>\n",
       "      <td>Brooklyn</td>\n",
       "    </tr>\n",
       "    <tr>\n",
       "      <th>BK07</th>\n",
       "      <td>BK07 Sunset Park-Windsor Terrace (CD 7 Approxi...</td>\n",
       "      <td>Bk</td>\n",
       "      <td>Brooklyn</td>\n",
       "    </tr>\n",
       "    <tr>\n",
       "      <th>BK09</th>\n",
       "      <td>BK09 Crown Heights (South) (CD 9 Approximation)</td>\n",
       "      <td>Bk</td>\n",
       "      <td>Brooklyn</td>\n",
       "    </tr>\n",
       "    <tr>\n",
       "      <th>BK10</th>\n",
       "      <td>BK10 Bay Ridge-Dyker Heights (CD 10 Approximat...</td>\n",
       "      <td>Bk</td>\n",
       "      <td>Brooklyn</td>\n",
       "    </tr>\n",
       "    <tr>\n",
       "      <th>BK11</th>\n",
       "      <td>BK11 Bensonhurst-Bath Beach (CD 11 Approximation)</td>\n",
       "      <td>Bk</td>\n",
       "      <td>Brooklyn</td>\n",
       "    </tr>\n",
       "    <tr>\n",
       "      <th>BK12</th>\n",
       "      <td>BK12 Borough Park-Kensington (CD 12 Approximat...</td>\n",
       "      <td>Bk</td>\n",
       "      <td>Brooklyn</td>\n",
       "    </tr>\n",
       "    <tr>\n",
       "      <th>BK13</th>\n",
       "      <td>BK13 Coney Island-Brighton Beach (CD 13 Approx...</td>\n",
       "      <td>Bk</td>\n",
       "      <td>Brooklyn</td>\n",
       "    </tr>\n",
       "    <tr>\n",
       "      <th>BK14</th>\n",
       "      <td>BK14 Flatbush-Midwood (CD 14 Approximation)</td>\n",
       "      <td>Bk</td>\n",
       "      <td>Brooklyn</td>\n",
       "    </tr>\n",
       "    <tr>\n",
       "      <th>BK15</th>\n",
       "      <td>BK15 Sheepshead Bay-Gravesend (East) (CD 15 Ap...</td>\n",
       "      <td>Bk</td>\n",
       "      <td>Brooklyn</td>\n",
       "    </tr>\n",
       "    <tr>\n",
       "      <th>BK16</th>\n",
       "      <td>BK16 Ocean Hill-Brownsville (CD 16 Approximation)</td>\n",
       "      <td>Bk</td>\n",
       "      <td>Brooklyn</td>\n",
       "    </tr>\n",
       "    <tr>\n",
       "      <th>BK17</th>\n",
       "      <td>BK17 East Flatbush (CD 17 Approximation)</td>\n",
       "      <td>Bk</td>\n",
       "      <td>Brooklyn</td>\n",
       "    </tr>\n",
       "    <tr>\n",
       "      <th>BK18</th>\n",
       "      <td>BK18 Canarsie-Flatlands (CD 18 Approximation)</td>\n",
       "      <td>Bk</td>\n",
       "      <td>Brooklyn</td>\n",
       "    </tr>\n",
       "    <tr>\n",
       "      <th>BK55</th>\n",
       "      <td>BK55 Prospect Park (JIA 55 Approximation)</td>\n",
       "      <td>Bk</td>\n",
       "      <td>Brooklyn</td>\n",
       "    </tr>\n",
       "    <tr>\n",
       "      <th>BX01</th>\n",
       "      <td>BX01 Melrose-Mott Haven-Port Morris (CD 1 Appr...</td>\n",
       "      <td>Bx</td>\n",
       "      <td>Bronx</td>\n",
       "    </tr>\n",
       "    <tr>\n",
       "      <th>BX02</th>\n",
       "      <td>BX02 Longwood-Hunts Point (CD 2 Approximation)</td>\n",
       "      <td>Bx</td>\n",
       "      <td>Bronx</td>\n",
       "    </tr>\n",
       "    <tr>\n",
       "      <th>BX03</th>\n",
       "      <td>BX03 Morrisania-Crotona Park East (CD 3 Approx...</td>\n",
       "      <td>Bx</td>\n",
       "      <td>Bronx</td>\n",
       "    </tr>\n",
       "    <tr>\n",
       "      <th>BX04</th>\n",
       "      <td>BX04 Highbridge-Concourse (CD 4 Approximation)</td>\n",
       "      <td>Bx</td>\n",
       "      <td>Bronx</td>\n",
       "    </tr>\n",
       "    <tr>\n",
       "      <th>BX05</th>\n",
       "      <td>BX05 Morris Heights-Mount Hope (CD 5 Approxima...</td>\n",
       "      <td>Bx</td>\n",
       "      <td>Bronx</td>\n",
       "    </tr>\n",
       "    <tr>\n",
       "      <th>BX06</th>\n",
       "      <td>BX06 Tremont-Belmont-West Farms (CD 6 Approxim...</td>\n",
       "      <td>Bx</td>\n",
       "      <td>Bronx</td>\n",
       "    </tr>\n",
       "    <tr>\n",
       "      <th>BX07</th>\n",
       "      <td>BX07 Fordham-Bedford Park-Norwood (CD 7 Approx...</td>\n",
       "      <td>Bx</td>\n",
       "      <td>Bronx</td>\n",
       "    </tr>\n",
       "    <tr>\n",
       "      <th>BX08</th>\n",
       "      <td>BX08 Riverdale-Kingsbridge-Marble Hill (CD 8 A...</td>\n",
       "      <td>Bx</td>\n",
       "      <td>Bronx</td>\n",
       "    </tr>\n",
       "    <tr>\n",
       "      <th>BX09</th>\n",
       "      <td>BX09 Soundview-Parkchester (CD 9 Approximation)</td>\n",
       "      <td>Bx</td>\n",
       "      <td>Bronx</td>\n",
       "    </tr>\n",
       "    <tr>\n",
       "      <th>BX10</th>\n",
       "      <td>BX10 Co-op City-Throgs Neck (CD 10 Approximation)</td>\n",
       "      <td>Bx</td>\n",
       "      <td>Bronx</td>\n",
       "    </tr>\n",
       "    <tr>\n",
       "      <th>BX11</th>\n",
       "      <td>BX11 Pelham Parkway-Morris Park (CD 11 Approxi...</td>\n",
       "      <td>Bx</td>\n",
       "      <td>Bronx</td>\n",
       "    </tr>\n",
       "    <tr>\n",
       "      <th>BX12</th>\n",
       "      <td>BX12 Wakefield-Williamsbridge-Eastchester (CD ...</td>\n",
       "      <td>Bx</td>\n",
       "      <td>Bronx</td>\n",
       "    </tr>\n",
       "    <tr>\n",
       "      <th>MN01</th>\n",
       "      <td>MN01 Financial District-Tribeca (CD 1 Equivalent)</td>\n",
       "      <td>M</td>\n",
       "      <td>Manhattan</td>\n",
       "    </tr>\n",
       "    <tr>\n",
       "      <th>MN02</th>\n",
       "      <td>MN02 Greenwich Village-SoHo (CD 2 Equivalent)</td>\n",
       "      <td>M</td>\n",
       "      <td>Manhattan</td>\n",
       "    </tr>\n",
       "    <tr>\n",
       "      <th>MN03</th>\n",
       "      <td>MN03 Lower East Side-Chinatown (CD 3 Equivalent)</td>\n",
       "      <td>M</td>\n",
       "      <td>Manhattan</td>\n",
       "    </tr>\n",
       "    <tr>\n",
       "      <th>MN04</th>\n",
       "      <td>MN04 Chelsea-Hell's Kitchen (CD 4 Approximation)</td>\n",
       "      <td>M</td>\n",
       "      <td>Manhattan</td>\n",
       "    </tr>\n",
       "    <tr>\n",
       "      <th>MN05</th>\n",
       "      <td>MN05 Midtown-Flatiron-Union Square (CD 5 Appro...</td>\n",
       "      <td>M</td>\n",
       "      <td>Manhattan</td>\n",
       "    </tr>\n",
       "    <tr>\n",
       "      <th>MN06</th>\n",
       "      <td>MN06 East Midtown-Murray Hill (CD 6 Approximat...</td>\n",
       "      <td>M</td>\n",
       "      <td>Manhattan</td>\n",
       "    </tr>\n",
       "    <tr>\n",
       "      <th>MN07</th>\n",
       "      <td>MN07 Upper West Side (CD 7 Approximation)</td>\n",
       "      <td>M</td>\n",
       "      <td>Manhattan</td>\n",
       "    </tr>\n",
       "    <tr>\n",
       "      <th>MN08</th>\n",
       "      <td>MN08 Upper East Side-Roosevelt Island (CD 8 Eq...</td>\n",
       "      <td>M</td>\n",
       "      <td>Manhattan</td>\n",
       "    </tr>\n",
       "    <tr>\n",
       "      <th>MN09</th>\n",
       "      <td>MN09 Morningside Heights-Hamilton Heights (CD ...</td>\n",
       "      <td>M</td>\n",
       "      <td>Manhattan</td>\n",
       "    </tr>\n",
       "    <tr>\n",
       "      <th>MN10</th>\n",
       "      <td>MN10 Harlem (CD 10 Equivalent)</td>\n",
       "      <td>M</td>\n",
       "      <td>Manhattan</td>\n",
       "    </tr>\n",
       "    <tr>\n",
       "      <th>MN11</th>\n",
       "      <td>MN11 East Harlem (CD 11 Equivalent)</td>\n",
       "      <td>M</td>\n",
       "      <td>Manhattan</td>\n",
       "    </tr>\n",
       "    <tr>\n",
       "      <th>MN12</th>\n",
       "      <td>MN12 Washington Heights-Inwood (CD 12 Equivalent)</td>\n",
       "      <td>M</td>\n",
       "      <td>Manhattan</td>\n",
       "    </tr>\n",
       "    <tr>\n",
       "      <th>MN64</th>\n",
       "      <td>MN64 Central Park (JIA 64 Equivalent)</td>\n",
       "      <td>M</td>\n",
       "      <td>Manhattan</td>\n",
       "    </tr>\n",
       "    <tr>\n",
       "      <th>QN01</th>\n",
       "      <td>QN01 Astoria-Queensbridge (CD 1 Equivalent)</td>\n",
       "      <td>Q</td>\n",
       "      <td>Queens</td>\n",
       "    </tr>\n",
       "    <tr>\n",
       "      <th>QN02</th>\n",
       "      <td>QN02 Long Island City-Sunnyside-Woodside (CD 2...</td>\n",
       "      <td>Q</td>\n",
       "      <td>Queens</td>\n",
       "    </tr>\n",
       "    <tr>\n",
       "      <th>QN03</th>\n",
       "      <td>QN03 Jackson Heights-East Elmhurst (CD 3 Appro...</td>\n",
       "      <td>Q</td>\n",
       "      <td>Queens</td>\n",
       "    </tr>\n",
       "    <tr>\n",
       "      <th>QN04</th>\n",
       "      <td>QN04 Elmhurst-Corona (CD 4 Approximation)</td>\n",
       "      <td>Q</td>\n",
       "      <td>Queens</td>\n",
       "    </tr>\n",
       "    <tr>\n",
       "      <th>QN05</th>\n",
       "      <td>QN05 Ridgewood-Maspeth-Middle Village (CD 5 Ap...</td>\n",
       "      <td>Q</td>\n",
       "      <td>Queens</td>\n",
       "    </tr>\n",
       "    <tr>\n",
       "      <th>QN06</th>\n",
       "      <td>QN06 Forest Hills-Rego Park (CD 6 Approximation)</td>\n",
       "      <td>Q</td>\n",
       "      <td>Queens</td>\n",
       "    </tr>\n",
       "    <tr>\n",
       "      <th>QN07</th>\n",
       "      <td>QN07 Flushing-Murray Hill-Whitestone (CD 7 App...</td>\n",
       "      <td>Q</td>\n",
       "      <td>Queens</td>\n",
       "    </tr>\n",
       "    <tr>\n",
       "      <th>QN09</th>\n",
       "      <td>QN09 Kew Gardens-Richmond Hill-Woodhaven (CD 9...</td>\n",
       "      <td>Q</td>\n",
       "      <td>Queens</td>\n",
       "    </tr>\n",
       "    <tr>\n",
       "      <th>QN10</th>\n",
       "      <td>QN10 South Ozone Park-Howard Beach (CD 10 Appr...</td>\n",
       "      <td>Q</td>\n",
       "      <td>Queens</td>\n",
       "    </tr>\n",
       "    <tr>\n",
       "      <th>QN12</th>\n",
       "      <td>QN12 Jamaica-St. Albans-Hollis (CD 12 Approxim...</td>\n",
       "      <td>Q</td>\n",
       "      <td>Queens</td>\n",
       "    </tr>\n",
       "    <tr>\n",
       "      <th>QN14</th>\n",
       "      <td>QN14 The Rockaways (CD 14 Approximation)</td>\n",
       "      <td>Q</td>\n",
       "      <td>Queens</td>\n",
       "    </tr>\n",
       "    <tr>\n",
       "      <th>QN81</th>\n",
       "      <td>QN81 Flushing Meadows-Corona Park (JIA 81 Appr...</td>\n",
       "      <td>Q</td>\n",
       "      <td>Queens</td>\n",
       "    </tr>\n",
       "    <tr>\n",
       "      <th>QN83</th>\n",
       "      <td>QN83 JFK International Airport (JIA 83 Approxi...</td>\n",
       "      <td>Q</td>\n",
       "      <td>Queens</td>\n",
       "    </tr>\n",
       "    <tr>\n",
       "      <th>SI01</th>\n",
       "      <td>SI01 North Shore (CD 1 Equivalent)</td>\n",
       "      <td>SI</td>\n",
       "      <td>Staten Island</td>\n",
       "    </tr>\n",
       "  </tbody>\n",
       "</table>\n",
       "</div>"
      ],
      "text/plain": [
       "                                                   CDTAName borough  \\\n",
       "cdtaCode                                                              \n",
       "BK01         BK01 Williamsburg-Greenpoint (CD 1 Equivalent)      Bk   \n",
       "BK02      BK02 Downtown Brooklyn-Fort Greene (CD 2 Appro...      Bk   \n",
       "BK03           BK03 Bedford-Stuyvesant (CD 3 Approximation)      Bk   \n",
       "BK04                        BK04 Bushwick (CD 4 Equivalent)      Bk   \n",
       "BK05      BK05 East New York-Cypress Hills (CD 5 Approxi...      Bk   \n",
       "BK06      BK06 Park Slope-Carroll Gardens (CD 6 Approxim...      Bk   \n",
       "BK07      BK07 Sunset Park-Windsor Terrace (CD 7 Approxi...      Bk   \n",
       "BK09        BK09 Crown Heights (South) (CD 9 Approximation)      Bk   \n",
       "BK10      BK10 Bay Ridge-Dyker Heights (CD 10 Approximat...      Bk   \n",
       "BK11      BK11 Bensonhurst-Bath Beach (CD 11 Approximation)      Bk   \n",
       "BK12      BK12 Borough Park-Kensington (CD 12 Approximat...      Bk   \n",
       "BK13      BK13 Coney Island-Brighton Beach (CD 13 Approx...      Bk   \n",
       "BK14            BK14 Flatbush-Midwood (CD 14 Approximation)      Bk   \n",
       "BK15      BK15 Sheepshead Bay-Gravesend (East) (CD 15 Ap...      Bk   \n",
       "BK16      BK16 Ocean Hill-Brownsville (CD 16 Approximation)      Bk   \n",
       "BK17               BK17 East Flatbush (CD 17 Approximation)      Bk   \n",
       "BK18          BK18 Canarsie-Flatlands (CD 18 Approximation)      Bk   \n",
       "BK55              BK55 Prospect Park (JIA 55 Approximation)      Bk   \n",
       "BX01      BX01 Melrose-Mott Haven-Port Morris (CD 1 Appr...      Bx   \n",
       "BX02         BX02 Longwood-Hunts Point (CD 2 Approximation)      Bx   \n",
       "BX03      BX03 Morrisania-Crotona Park East (CD 3 Approx...      Bx   \n",
       "BX04         BX04 Highbridge-Concourse (CD 4 Approximation)      Bx   \n",
       "BX05      BX05 Morris Heights-Mount Hope (CD 5 Approxima...      Bx   \n",
       "BX06      BX06 Tremont-Belmont-West Farms (CD 6 Approxim...      Bx   \n",
       "BX07      BX07 Fordham-Bedford Park-Norwood (CD 7 Approx...      Bx   \n",
       "BX08      BX08 Riverdale-Kingsbridge-Marble Hill (CD 8 A...      Bx   \n",
       "BX09        BX09 Soundview-Parkchester (CD 9 Approximation)      Bx   \n",
       "BX10      BX10 Co-op City-Throgs Neck (CD 10 Approximation)      Bx   \n",
       "BX11      BX11 Pelham Parkway-Morris Park (CD 11 Approxi...      Bx   \n",
       "BX12      BX12 Wakefield-Williamsbridge-Eastchester (CD ...      Bx   \n",
       "MN01      MN01 Financial District-Tribeca (CD 1 Equivalent)       M   \n",
       "MN02          MN02 Greenwich Village-SoHo (CD 2 Equivalent)       M   \n",
       "MN03       MN03 Lower East Side-Chinatown (CD 3 Equivalent)       M   \n",
       "MN04       MN04 Chelsea-Hell's Kitchen (CD 4 Approximation)       M   \n",
       "MN05      MN05 Midtown-Flatiron-Union Square (CD 5 Appro...       M   \n",
       "MN06      MN06 East Midtown-Murray Hill (CD 6 Approximat...       M   \n",
       "MN07              MN07 Upper West Side (CD 7 Approximation)       M   \n",
       "MN08      MN08 Upper East Side-Roosevelt Island (CD 8 Eq...       M   \n",
       "MN09      MN09 Morningside Heights-Hamilton Heights (CD ...       M   \n",
       "MN10                         MN10 Harlem (CD 10 Equivalent)       M   \n",
       "MN11                    MN11 East Harlem (CD 11 Equivalent)       M   \n",
       "MN12      MN12 Washington Heights-Inwood (CD 12 Equivalent)       M   \n",
       "MN64                  MN64 Central Park (JIA 64 Equivalent)       M   \n",
       "QN01            QN01 Astoria-Queensbridge (CD 1 Equivalent)       Q   \n",
       "QN02      QN02 Long Island City-Sunnyside-Woodside (CD 2...       Q   \n",
       "QN03      QN03 Jackson Heights-East Elmhurst (CD 3 Appro...       Q   \n",
       "QN04              QN04 Elmhurst-Corona (CD 4 Approximation)       Q   \n",
       "QN05      QN05 Ridgewood-Maspeth-Middle Village (CD 5 Ap...       Q   \n",
       "QN06       QN06 Forest Hills-Rego Park (CD 6 Approximation)       Q   \n",
       "QN07      QN07 Flushing-Murray Hill-Whitestone (CD 7 App...       Q   \n",
       "QN09      QN09 Kew Gardens-Richmond Hill-Woodhaven (CD 9...       Q   \n",
       "QN10      QN10 South Ozone Park-Howard Beach (CD 10 Appr...       Q   \n",
       "QN12      QN12 Jamaica-St. Albans-Hollis (CD 12 Approxim...       Q   \n",
       "QN14               QN14 The Rockaways (CD 14 Approximation)       Q   \n",
       "QN81      QN81 Flushing Meadows-Corona Park (JIA 81 Appr...       Q   \n",
       "QN83      QN83 JFK International Airport (JIA 83 Approxi...       Q   \n",
       "SI01                     SI01 North Shore (CD 1 Equivalent)      SI   \n",
       "\n",
       "            boroughName  \n",
       "cdtaCode                 \n",
       "BK01           Brooklyn  \n",
       "BK02           Brooklyn  \n",
       "BK03           Brooklyn  \n",
       "BK04           Brooklyn  \n",
       "BK05           Brooklyn  \n",
       "BK06           Brooklyn  \n",
       "BK07           Brooklyn  \n",
       "BK09           Brooklyn  \n",
       "BK10           Brooklyn  \n",
       "BK11           Brooklyn  \n",
       "BK12           Brooklyn  \n",
       "BK13           Brooklyn  \n",
       "BK14           Brooklyn  \n",
       "BK15           Brooklyn  \n",
       "BK16           Brooklyn  \n",
       "BK17           Brooklyn  \n",
       "BK18           Brooklyn  \n",
       "BK55           Brooklyn  \n",
       "BX01              Bronx  \n",
       "BX02              Bronx  \n",
       "BX03              Bronx  \n",
       "BX04              Bronx  \n",
       "BX05              Bronx  \n",
       "BX06              Bronx  \n",
       "BX07              Bronx  \n",
       "BX08              Bronx  \n",
       "BX09              Bronx  \n",
       "BX10              Bronx  \n",
       "BX11              Bronx  \n",
       "BX12              Bronx  \n",
       "MN01          Manhattan  \n",
       "MN02          Manhattan  \n",
       "MN03          Manhattan  \n",
       "MN04          Manhattan  \n",
       "MN05          Manhattan  \n",
       "MN06          Manhattan  \n",
       "MN07          Manhattan  \n",
       "MN08          Manhattan  \n",
       "MN09          Manhattan  \n",
       "MN10          Manhattan  \n",
       "MN11          Manhattan  \n",
       "MN12          Manhattan  \n",
       "MN64          Manhattan  \n",
       "QN01             Queens  \n",
       "QN02             Queens  \n",
       "QN03             Queens  \n",
       "QN04             Queens  \n",
       "QN05             Queens  \n",
       "QN06             Queens  \n",
       "QN07             Queens  \n",
       "QN09             Queens  \n",
       "QN10             Queens  \n",
       "QN12             Queens  \n",
       "QN14             Queens  \n",
       "QN81             Queens  \n",
       "QN83             Queens  \n",
       "SI01      Staten Island  "
      ]
     },
     "execution_count": 11,
     "metadata": {},
     "output_type": "execute_result"
    }
   ],
   "source": [
    "#cdta_burough_poly_df = stationWithCdta.set_index(\"cdtaCode\")[[\"CDTAName\", \"borough\",\"geometry\"]].drop_duplicates()\n",
    "cdta_burough_poly_df = stationWithCdta.set_index(\"cdtaCode\")[[\"CDTAName\", \"borough\"]].drop_duplicates()\n",
    "cdta_burough_poly_df = cdta_burough_poly_df.drop('BK08')\n",
    "\n",
    "condition = ~((cdta_burough_poly_df['CDTAName'] == 'BX08 Riverdale-Kingsbridge-Marble Hill (CD 8 Approximation)') & (cdta_burough_poly_df['borough'] == 'M'))\n",
    "cdta_burough_poly_df = cdta_burough_poly_df[ condition ]\n",
    "\n",
    "cdta_burough_poly_df['boroughName'] = cdta_burough_poly_df[\"borough\"].astype(str).apply(lambda x:x).map(\n",
    "    {\n",
    "        'Ew': 'EWR',\n",
    "        'Q': 'Queens',\n",
    "        'Bx': 'Bronx',\n",
    "        'M': 'Manhattan',\n",
    "        'SI': 'Staten Island',\n",
    "        'Bk': 'Brooklyn'\n",
    "    }\n",
    ")\n",
    "cdta_burough_poly_df\n"
   ]
  },
  {
   "cell_type": "markdown",
   "id": "e0b93868",
   "metadata": {},
   "source": [
    "## 3. Data cleaning and feature engineering\n",
    "### 3-1. Combine all CDTA breakdown into single dataframe."
   ]
  },
  {
   "cell_type": "code",
   "execution_count": 12,
   "id": "049feed4",
   "metadata": {},
   "outputs": [],
   "source": [
    "cdta_df = pd.concat([cdta_burough_poly_df,station_counts,net_entry_cdta,net_exit_cdta,entry_day_count_cdta,exit_day_count_cdta,entry_hour_count_cdta,exit_hour_count_cdta,entry_weekday_count_cdta,exit_weekday_count_cdta,entry_year_month_count_cdta,exit_year_month_count_cdta], axis=1)\n",
    "cdta_df = cdta_df.rename(columns={'borough': 'boroughCode'})\n",
    "cdta_df = cdta_df.rename(columns={'boroughName': 'borough'})\n",
    "cdta_df\n",
    "cdta_df.to_csv('data\\subway_df\\subway_cdta.csv')\n"
   ]
  },
  {
   "cell_type": "markdown",
   "id": "017147a1",
   "metadata": {},
   "source": [
    "### 3-2. Load the dataframe again from subway CDTA.csv"
   ]
  },
  {
   "cell_type": "code",
   "execution_count": 13,
   "id": "baf4f8de",
   "metadata": {},
   "outputs": [
    {
     "name": "stdout",
     "output_type": "stream",
     "text": [
      "Index(['cdtaCode', 'CDTAName', 'boroughCode', 'borough', 'station_counts',\n",
      "       'net_entries', 'net_exits', 'Entry_total_trip_count_day_1',\n",
      "       'Entry_total_trip_count_day_2', 'Entry_total_trip_count_day_3',\n",
      "       ...\n",
      "       'Entry_total_trip_count_year_month_2022-03',\n",
      "       'Entry_total_trip_count_year_month_2022-04',\n",
      "       'Entry_total_trip_count_year_month_2022-05',\n",
      "       'Entry_total_trip_count_year_month_2022-06',\n",
      "       'Exit_total_trip_count_year_month_2022-01',\n",
      "       'Exit_total_trip_count_year_month_2022-02',\n",
      "       'Exit_total_trip_count_year_month_2022-03',\n",
      "       'Exit_total_trip_count_year_month_2022-04',\n",
      "       'Exit_total_trip_count_year_month_2022-05',\n",
      "       'Exit_total_trip_count_year_month_2022-06'],\n",
      "      dtype='object', length=143)\n",
      "loaded subway cdta data again..\n",
      "CPU times: total: 15.6 ms\n",
      "Wall time: 13 ms\n"
     ]
    }
   ],
   "source": [
    "%%time\n",
    "cdta_subway_df = pd.read_csv ('data\\subway_df\\subway_cdta.csv')\n"
   ]
  },
  {
   "cell_type": "markdown",
   "id": "aada02de",
   "metadata": {},
   "source": [
    "### 4. Visualizations\n",
    "### 4-1. Based on pickup CDTA\n",
    "#### 4-1-1. Plot total and monthly trip count for each day, hour, and weekday for each borough."
   ]
  },
  {
   "cell_type": "code",
   "execution_count": 14,
   "id": "fef0fb98",
   "metadata": {
    "scrolled": true
   },
   "outputs": [
    {
     "ename": "NameError",
     "evalue": "name 'plot_total_trips' is not defined",
     "output_type": "error",
     "traceback": [
      "\u001b[1;31m---------------------------------------------------------------------------\u001b[0m",
      "\u001b[1;31mNameError\u001b[0m                                 Traceback (most recent call last)",
      "Cell \u001b[1;32mIn [14], line 1\u001b[0m\n\u001b[1;32m----> 1\u001b[0m \u001b[43mplot_total_trips\u001b[49m(cdta_subway_df, pu_do \u001b[38;5;241m=\u001b[39m \u001b[38;5;124m\"\u001b[39m\u001b[38;5;124mEntry\u001b[39m\u001b[38;5;124m\"\u001b[39m, single_month\u001b[38;5;241m=\u001b[39m\u001b[38;5;28;01mFalse\u001b[39;00m, year_month\u001b[38;5;241m=\u001b[39m\u001b[38;5;28;01mNone\u001b[39;00m, save_png\u001b[38;5;241m=\u001b[39m\u001b[38;5;28;01mFalse\u001b[39;00m)\n",
      "\u001b[1;31mNameError\u001b[0m: name 'plot_total_trips' is not defined"
     ]
    }
   ],
   "source": [
    "plot_total_trips(cdta_subway_df, pu_do = \"Entry\", single_month=False, year_month=None, save_png=False)"
   ]
  },
  {
   "cell_type": "markdown",
   "id": "3fe31a22",
   "metadata": {},
   "source": [
    "#### 4-1-2. Plot the same variables as above but for each month in Jan-Jun 2022."
   ]
  },
  {
   "cell_type": "code",
   "execution_count": null,
   "id": "d2863769",
   "metadata": {},
   "outputs": [],
   "source": [
    "#plot_trips_per_month(dfs, year_months, pu_do=\"PU\")"
   ]
  },
  {
   "cell_type": "markdown",
   "id": "fef5981d",
   "metadata": {},
   "source": [
    "![gif](data/png/trip_counts_per_month.gif)"
   ]
  },
  {
   "cell_type": "markdown",
   "id": "1d3dfe6e",
   "metadata": {},
   "source": [
    "#### 4-1-3. Plot sum and average of passenger count, total fare, congestion charge, airport fee, duration, trip distance, minute per mile, and total trip count for each CDTA on the map of NYC."
   ]
  },
  {
   "cell_type": "code",
   "execution_count": null,
   "id": "33529464",
   "metadata": {},
   "outputs": [],
   "source": [
    "cols = [\n",
    "    f'net_entries'\n",
    "]\n",
    "plot_on_map_entries(cdta_subway_df, cols)"
   ]
  },
  {
   "cell_type": "markdown",
   "id": "5f479750",
   "metadata": {},
   "source": [
    "#### 4-1-4. Plot the same variables as above but excluding Manhattan, where around 90% of taxi trips happened, to see if there are any interesting patterns in other boroughs."
   ]
  },
  {
   "cell_type": "code",
   "execution_count": null,
   "id": "95d4165b",
   "metadata": {},
   "outputs": [],
   "source": [
    "#plot_on_map(cdta_df[cdta_df['borough'] != \"Manhattan\"], pu_do=\"PU\")"
   ]
  },
  {
   "cell_type": "markdown",
   "id": "be40b152",
   "metadata": {},
   "source": [
    "### 4-2. Based on dropoff CDTA\n",
    "#### 4-2-1. Plot total and monthly trip count for each day, hour, and weekday for each borough."
   ]
  },
  {
   "cell_type": "code",
   "execution_count": null,
   "id": "ebd82847",
   "metadata": {},
   "outputs": [],
   "source": [
    "#plot_total_trips(cdta_df, pu_do = \"DO\", single_month=False, year_month=None, save_png=False)"
   ]
  },
  {
   "cell_type": "markdown",
   "id": "83a2c8b2",
   "metadata": {},
   "source": [
    "#### 4-2-2. Plot the same variables as above but for each month in Jan-Jun 2022."
   ]
  },
  {
   "cell_type": "code",
   "execution_count": null,
   "id": "3a14e29d",
   "metadata": {},
   "outputs": [],
   "source": [
    "#plot_trips_per_month(dfs, year_months, pu_do=\"DO\")"
   ]
  },
  {
   "cell_type": "markdown",
   "id": "96480278",
   "metadata": {},
   "source": [
    "#### 4-2-3. Plot sum and average of passenger count, total fare, congestion charge, airport fee, duration, trip distance, minute per mile, and total trip count for each CDTA on the map of NYC."
   ]
  },
  {
   "cell_type": "code",
   "execution_count": null,
   "id": "6092b71c",
   "metadata": {},
   "outputs": [],
   "source": [
    "#plot_on_map(cdta_df, pu_do=\"DO\")"
   ]
  },
  {
   "cell_type": "markdown",
   "id": "cd084375",
   "metadata": {},
   "source": [
    "#### 4-2-4. Plot the same variables as above but excluding Manhattan, where around 90% of taxi trips happened, to see if there are any interesting patterns in other boroughs."
   ]
  },
  {
   "cell_type": "code",
   "execution_count": null,
   "id": "f3c2e10c",
   "metadata": {},
   "outputs": [],
   "source": [
    "#plot_on_map(cdta_df[cdta_df['borough'] != \"Manhattan\"], pu_do=\"DO\")"
   ]
  }
 ],
 "metadata": {
  "kernelspec": {
   "display_name": "Python 3 (ipykernel)",
   "language": "python",
   "name": "python3"
  },
  "language_info": {
   "codemirror_mode": {
    "name": "ipython",
    "version": 3
   },
   "file_extension": ".py",
   "mimetype": "text/x-python",
   "name": "python",
   "nbconvert_exporter": "python",
   "pygments_lexer": "ipython3",
   "version": "3.9.12"
  },
  "vscode": {
   "interpreter": {
    "hash": "a42ccb73e7d9bfdf27e036f1d2b8b681e55fc0743cc5586bc2474d4a60f4b886"
   }
  }
 },
 "nbformat": 4,
 "nbformat_minor": 5
}
