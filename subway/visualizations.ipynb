{
 "cells": [
  {
   "cell_type": "markdown",
   "id": "b26378df",
   "metadata": {},
   "source": [
    "### 0. Load libraries and custom functions\n",
    "* If files are not available for plotting, please run get_data.ipynb to download/generate the files."
   ]
  },
  {
   "cell_type": "code",
   "execution_count": 1,
   "id": "a02e05a9",
   "metadata": {},
   "outputs": [],
   "source": [
    "from visualizationfunctions115 import plot_total_stations_interactive, plot_frequent_stations_interactive,plot_on_map_interactive\n",
    "import ipywidgets as widgets\n"
   ]
  },
  {
   "cell_type": "markdown",
   "id": "aada02de",
   "metadata": {},
   "source": [
    "### 1. Plot the following to see trends and patterns in station commuter traffic in Jan-Jun 2022:\n",
    "- total and monthly commuter count for each day of the month\n",
    "- total and monthly commuter count for each hour or the day\n",
    "- total and monthly commuter count for each weekday\n",
    "- total commuter count for each borough"
   ]
  },
  {
   "cell_type": "code",
   "execution_count": 2,
   "id": "b3b62101",
   "metadata": {},
   "outputs": [
    {
     "data": {
      "application/vnd.jupyter.widget-view+json": {
       "model_id": "1583c312932d46e48f4fdc5343a336d9",
       "version_major": 2,
       "version_minor": 0
      },
      "text/plain": [
       "interactive(children=(Dropdown(description='entry_or_exit', options=('Entry', 'Exit'), value='Entry'), Output(…"
      ]
     },
     "metadata": {},
     "output_type": "display_data"
    }
   ],
   "source": [
    "m = widgets.interactive(plot_total_stations_interactive, entry_or_exit = [\"Entry\", \"Exit\"])\n",
    "display(m)"
   ]
  },
  {
   "cell_type": "markdown",
   "id": "490588ae",
   "metadata": {},
   "source": [
    "#### Findings:\n",
    "- Manhattan has more commuters compared to other boroughs accounting for fifty percent of the traffic.\n",
    "- Peak time for commutes is late evenings.\n",
    "- Weekends have lesser commutes compared to weekdays."
   ]
  },
  {
   "cell_type": "markdown",
   "id": "5964d3e7",
   "metadata": {},
   "source": [
    "### 2.Plot commuter count of net entries and net exits , for each CDTA on the map of NYC"
   ]
  },
  {
   "cell_type": "code",
   "execution_count": 3,
   "id": "4d555207",
   "metadata": {},
   "outputs": [
    {
     "data": {
      "application/vnd.jupyter.widget-view+json": {
       "model_id": "c0e7360b66524d6fad256f70be369f4f",
       "version_major": 2,
       "version_minor": 0
      },
      "text/plain": [
       "interactive(children=(Dropdown(description='exclude_manhattan', options=(False, True), value=False), Output())…"
      ]
     },
     "metadata": {},
     "output_type": "display_data"
    }
   ],
   "source": [
    "m = widgets.interactive(plot_on_map_interactive,\n",
    "                        exclude_manhattan = [False, True])\n",
    "display(m)\n"
   ]
  },
  {
   "cell_type": "markdown",
   "id": "6ba70ed0",
   "metadata": {},
   "source": [
    "Findings:\n",
    "Manhattan's community district MN05 Midtown-Flatiron-Union Square has highest commuter traffic of all CDTA and is depicted in yellow color on the map.\n",
    "When Manhattan CDTAs are excluded, Brooklyn CDTAs have more traffic compared to other Community Districts.\n",
    "The commuter entries and exits for each station does not vary much so the graph looks similar for Net entries and Net Exits.\n"
   ]
  },
  {
   "cell_type": "markdown",
   "id": "c7b4f761",
   "metadata": {},
   "source": [
    "### 3. Top stations by Boroughs.."
   ]
  },
  {
   "cell_type": "code",
   "execution_count": 4,
   "id": "1957a7ce",
   "metadata": {},
   "outputs": [
    {
     "data": {
      "application/vnd.jupyter.widget-view+json": {
       "model_id": "e236756880ed4d508716a658a28a9e28",
       "version_major": 2,
       "version_minor": 0
      },
      "text/plain": [
       "interactive(children=(Dropdown(description='boroname', options=('Brooklyn', 'Bronx', 'Manhattan', 'Queens', 'S…"
      ]
     },
     "metadata": {},
     "output_type": "display_data"
    }
   ],
   "source": [
    "m = widgets.interactive(plot_frequent_stations_interactive, boroname = [\"Brooklyn\", \"Bronx\", \"Manhattan\", \"Queens\", \"Staten Island\"])\n",
    "display(m)"
   ]
  },
  {
   "cell_type": "markdown",
   "id": "db62faed",
   "metadata": {},
   "source": [
    "Findings:\n",
    "Only a few stations in each borough account for a significant amount of traffic.\n",
    "42 Street Port Authority station in Manhattan has the highest commuter count of 10,352,272 \n",
    "Few stations have negligible traffic compared to the top ten stations in each borough."
   ]
  }
 ],
 "metadata": {
  "kernelspec": {
   "display_name": "Python 3 (ipykernel)",
   "language": "python",
   "name": "python3"
  },
  "language_info": {
   "codemirror_mode": {
    "name": "ipython",
    "version": 3
   },
   "file_extension": ".py",
   "mimetype": "text/x-python",
   "name": "python",
   "nbconvert_exporter": "python",
   "pygments_lexer": "ipython3",
   "version": "3.9.12"
  },
  "vscode": {
   "interpreter": {
    "hash": "a42ccb73e7d9bfdf27e036f1d2b8b681e55fc0743cc5586bc2474d4a60f4b886"
   }
  }
 },
 "nbformat": 4,
 "nbformat_minor": 5
}
