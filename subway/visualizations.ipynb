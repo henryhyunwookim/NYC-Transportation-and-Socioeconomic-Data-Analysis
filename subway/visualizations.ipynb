{
 "cells": [
  {
   "cell_type": "markdown",
   "id": "b26378df",
   "metadata": {},
   "source": [
    "### 0. Load libraries and custom functions\n",
    "* If files are not available for plotting, please run get_data.ipynb to download/generate the files."
   ]
  },
  {
   "cell_type": "code",
   "execution_count": 20,
   "id": "a02e05a9",
   "metadata": {},
   "outputs": [],
   "source": [
    "from visualizationfunctions import plot_total_stations_interactive, plot_frequent_stations_interactive\n",
    "\n",
    "import ipywidgets as widgets\n",
    "\n",
    "# Initialize column variables for interactive plots.\n",
    "subway_cols = [\n",
    "    'net_entries']\n",
    "\n",
    "socio_cols = [\n",
    "    'Population',\n",
    "    'Disabled population',\n",
    "    'Foreign-born population',\n",
    "    'Population aged 65+',\n",
    "    'Median household income (2021$)',\n",
    "    'Poverty rate',\n",
    "    'Labor force participation rate',\n",
    "    'Population aged 25+ without a high school diploma',\n",
    "    'Unemployment rate',\n",
    "    'Severely rent-burdened households',\n",
    "    'Homeownership rate',\n",
    "    'Severe crowding rate (% of renter households)',\n",
    "    'Population density (1,000 persons per square mile)',\n",
    "    'Car-free commute (% of commuters)',\n",
    "    'Mean travel time to work (minutes)',\n",
    "    'Serious crime rate (per 1,000 residents)']"
   ]
  },
  {
   "cell_type": "markdown",
   "id": "aada02de",
   "metadata": {},
   "source": [
    "### 1. Plot the following to see trends and patterns in station commuter traffic in Jan-Jun 2022:\n",
    "- total and monthly station count for each day of the month\n",
    "- total and monthly station count for each hour or the day\n",
    "- total and monthly station count for each weekday\n",
    "- total trip count for each borough"
   ]
  },
  {
   "cell_type": "code",
   "execution_count": 21,
   "id": "b3b62101",
   "metadata": {},
   "outputs": [
    {
     "data": {
      "application/vnd.jupyter.widget-view+json": {
       "model_id": "608906c094a84babbbaddb442722e76a",
       "version_major": 2,
       "version_minor": 0
      },
      "text/plain": [
       "interactive(children=(Dropdown(description='entry_or_exit', options=('Entry', 'Exit'), value='Entry'), Output(…"
      ]
     },
     "metadata": {},
     "output_type": "display_data"
    }
   ],
   "source": [
    "m = widgets.interactive(plot_total_stations_interactive, entry_or_exit = [\"Entry\", \"Exit\"])\n",
    "display(m)"
   ]
  },
  {
   "cell_type": "markdown",
   "id": "5964d3e7",
   "metadata": {},
   "source": [
    "#### Findings:\n",
    "- Taxi rides are quite evenly spread throughout the months; no distinct or interesting trends in taxi rides for each day of the month.\n",
    "- Peak time for taxi rides appears to be around 6pm.\n",
    "- Slightly fewer taxi rides on Monday and Sunday.\n",
    "- Trip counts are lower in January and February, probably due to more tightened covid restrictions at the time.\n",
    "- Around 90% of taxi rides started or ended in Manhattan; almost 99% of taxi rides were picked up in Manhattan and Queens, and there were slightly more drop-offs in Brooklyn compared to pick-ups."
   ]
  },
  {
   "cell_type": "markdown",
   "id": "2fffd9ba",
   "metadata": {},
   "source": [
    "### 2.Top stations by Boroughs."
   ]
  },
  {
   "cell_type": "code",
   "execution_count": 22,
   "id": "4d555207",
   "metadata": {},
   "outputs": [
    {
     "data": {
      "application/vnd.jupyter.widget-view+json": {
       "model_id": "b7b0d362069643d5bc7308377f3def58",
       "version_major": 2,
       "version_minor": 0
      },
      "text/plain": [
       "interactive(children=(Dropdown(description='boroname', options=('Brooklyn', 'Bronx', 'Manhattan', 'Queens', 'S…"
      ]
     },
     "metadata": {},
     "output_type": "display_data"
    }
   ],
   "source": [
    "m = widgets.interactive(plot_frequent_stations_interactive, boroname = [\"Brooklyn\", \"Bronx\", \"Manhattan\", \"Queens\", \"Staten Island\"])\n",
    "display(m)"
   ]
  },
  {
   "cell_type": "code",
   "execution_count": null,
   "id": "b2a6e2e8",
   "metadata": {},
   "outputs": [],
   "source": []
  },
  {
   "cell_type": "code",
   "execution_count": null,
   "id": "b5d663f7",
   "metadata": {},
   "outputs": [],
   "source": [
    "def plot_on_map_interactive(exclude_manhattan):\n",
    "    \"\"\"\n",
    "    Create a small multiple where each choropleth visualizes a taxi trip variable/stat on a map of NYC.\n",
    "    \"\"\"\n",
    "    if entry_or_exit == \"Entry\":\n",
    "        selectOptions = \"Entry\"\n",
    "    elif entry_or_exit == \"Exit\":\n",
    "        selectOptions = \"Exit\"\n",
    "    \n",
    "    cdta_df = load_cdta_df(folder_name=\"data\\\\subway_df\")\n",
    "    if exclude_manhattan:\n",
    "        cdta_df = cdta_df[cdta_df['borough'] != \"Manhattan\"]\n",
    "    \n",
    "    for selectOptions in [\"Entry\", \"Exit\"]:\n",
    "        plot_on_map(cdta_df, selectOptions, exclude_manhattan)\n",
    "\n",
    "\n",
    "def plot_on_map(df, selectOptions, exclude_manhattan):\n",
    "    \"\"\"\n",
    "    This is a helper function for the plot_on_map_interactive function.\n",
    "    \"\"\"\n",
    "\n",
    "    cols = [\n",
    "        f'{pu_do}_total_passenger_count',\n",
    "        f'{pu_do}_total_fare',\n",
    "        f'{pu_do}_total_congestion_surcharge',\n",
    "        f'{pu_do}_total_airport_fee',\n",
    "        f'{pu_do}_total_duration (min)',\n",
    "        f'{pu_do}_total_trip_distance (mile)',\n",
    "        f'{pu_do}_total_trip_count',\n",
    "        f'{pu_do}_average_passenger_count',\n",
    "        f'{pu_do}_average_fare',\n",
    "        f'{pu_do}_average_congestion_surcharge',\n",
    "        f'{pu_do}_average_airport_fee',\n",
    "        f'{pu_do}_average_duration (min)',\n",
    "        f'{pu_do}_average_trip_distance (mile)',\n",
    "        f'{pu_do}_minute_per_mile'\n",
    "    ]\n",
    "\n",
    "    fig, axes = plt.subplots(2, 7, figsize=(30, 9.5))\n",
    "    axes_idx = []\n",
    "    for row_idx in range(2):\n",
    "        for col_idx in range(7):\n",
    "            axes_idx.append((row_idx, col_idx))\n",
    "\n",
    "    for i, col in enumerate(cols):\n",
    "        ax = axes[axes_idx[i]]\n",
    "        ax.set_xticks([])\n",
    "        ax.set_yticks([])\n",
    "        ax.set_title(str(axes_idx[i][0]) + \"-\" + str(axes_idx[i][1]) + \". \" + col)\n",
    "        divider = make_axes_locatable(ax)\n",
    "        cax = divider.append_axes(\"bottom\", size=\"5%\", pad=0.2)\n",
    "        vmin, vmax = df[col].min(), df[col].max()\n",
    "        df[[col, 'geometry']].plot(\n",
    "            column=col,\n",
    "            ax=ax,\n",
    "            cax=cax,\n",
    "            legend=True,\n",
    "            legend_kwds={\n",
    "                'orientation': 'horizontal'\n",
    "                },\n",
    "            vmin=vmin,\n",
    "            vmax=vmax\n",
    "        )\n",
    "        plt.ticklabel_format(scilimits=(0,0))\n",
    "\n",
    "    pickup_or_dropoff = \"pickup\"\n",
    "    if pu_do == \"DO\":\n",
    "        pickup_or_dropoff = \"dropoff\"\n",
    "    title = f\"Taxi trips across different community districts based on {pickup_or_dropoff} locations\"\n",
    "    if exclude_manhattan:\n",
    "        title = title + \", excluding Manhattan\"\n",
    "    plt.suptitle(\n",
    "        title,\n",
    "        fontsize=\"xx-large\",\n",
    "        fontweight=\"demibold\",\n",
    "        y=0.94\n",
    "        )\n",
    "    plt.subplots_adjust(top=0.9, hspace=0.1)"
   ]
  },
  {
   "cell_type": "code",
   "execution_count": null,
   "id": "faeb30cc",
   "metadata": {},
   "outputs": [],
   "source": []
  }
 ],
 "metadata": {
  "kernelspec": {
   "display_name": "Python 3 (ipykernel)",
   "language": "python",
   "name": "python3"
  },
  "language_info": {
   "codemirror_mode": {
    "name": "ipython",
    "version": 3
   },
   "file_extension": ".py",
   "mimetype": "text/x-python",
   "name": "python",
   "nbconvert_exporter": "python",
   "pygments_lexer": "ipython3",
   "version": "3.9.12"
  },
  "vscode": {
   "interpreter": {
    "hash": "a42ccb73e7d9bfdf27e036f1d2b8b681e55fc0743cc5586bc2474d4a60f4b886"
   }
  }
 },
 "nbformat": 4,
 "nbformat_minor": 5
}
