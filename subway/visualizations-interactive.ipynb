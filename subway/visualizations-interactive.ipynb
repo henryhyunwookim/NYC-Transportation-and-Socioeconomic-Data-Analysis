{
 "cells": [
  {
   "cell_type": "markdown",
   "id": "b26378df",
   "metadata": {},
   "source": [
    "### 0. Load libraries and custom functions\n",
    "* If files are not available for plotting, please run get_data.ipynb to download/generate the files."
   ]
  },
  {
   "cell_type": "code",
   "execution_count": 1,
   "id": "a02e05a9",
   "metadata": {},
   "outputs": [],
   "source": [
    "# Clone GitHub repository in the virtual environment provided in Google Colab.\n",
    "!git clone https://github.com/henryhyunwookim/NYC-Transportation-and-Socioeconomic-Data-Analysis.git\n",
    "\n",
    "# Install requirements.\n",
    "%cd NYC-Transportation-and-Socioeconomic-Data-Analysis\n",
    "%cd subway\n",
    "!pip install -r requirements.txt\n"
   ]
  },
  {
   "cell_type": "code",
   "execution_count": null,
   "id": "94718310",
   "metadata": {},
   "outputs": [],
   "source": [
    "# Load required libraries.\n",
    "import os\n",
    "os.chdir(\"/content/NYC-Transportation-and-Socioeconomic-Data-Analysis\")\n",
    "\n",
    "from subway.visualizationfunctions114 import plot_total_stations_interactive, plot_frequent_stations_interactive,plot_on_map_interactive\n",
    "\n",
    "import ipywidgets as widgets\n",
    "from google.colab import files\n",
    "%cd subway\n"
   ]
  },
  {
   "cell_type": "markdown",
   "id": "aada02de",
   "metadata": {},
   "source": [
    "### 1. Plot the following to see trends and patterns in station commuter traffic in Jan-Jun 2022:\n",
    "- total and monthly commuter count for each day of the month\n",
    "- total and monthly commuter count for each hour or the day\n",
    "- total and monthly commuter count for each weekday\n",
    "- total commuter count for each borough"
   ]
  },
  {
   "cell_type": "code",
   "execution_count": 2,
   "id": "b3b62101",
   "metadata": {},
   "outputs": [
    {
     "data": {
      "application/vnd.jupyter.widget-view+json": {
       "model_id": "7ea95b0a381342aa8b6ed5e28b8ceb01",
       "version_major": 2,
       "version_minor": 0
      },
      "text/plain": [
       "interactive(children=(Dropdown(description='entry_or_exit', options=('Entry', 'Exit'), value='Entry'), Output(…"
      ]
     },
     "metadata": {},
     "output_type": "display_data"
    }
   ],
   "source": [
    "m = widgets.interactive(plot_total_stations_interactive, entry_or_exit = [\"Entry\", \"Exit\"])\n",
    "display(m)"
   ]
  },
  {
   "cell_type": "markdown",
   "id": "98e3c593",
   "metadata": {},
   "source": [
    "#### Findings:\n",
    "- Manhattan has more commuters compared to other boroughs accounting for fifty percent of the traffic.\n",
    "- Peak time for commutes is late evenings.\n",
    "- Weekends have lesser commutes compared to weekdays."
   ]
  },
  {
   "cell_type": "markdown",
   "id": "5964d3e7",
   "metadata": {},
   "source": [
    "### 2.Plot commuter count of net entries and net exits , for each CDTA on the map of NYC"
   ]
  },
  {
   "cell_type": "code",
   "execution_count": 3,
   "id": "4d555207",
   "metadata": {},
   "outputs": [
    {
     "data": {
      "application/vnd.jupyter.widget-view+json": {
       "model_id": "421fdfafbb8742dcbdc40ddbb7f8e061",
       "version_major": 2,
       "version_minor": 0
      },
      "text/plain": [
       "interactive(children=(Dropdown(description='exclude_manhattan', options=(False, True), value=False), Output())…"
      ]
     },
     "metadata": {},
     "output_type": "display_data"
    }
   ],
   "source": [
    "m = widgets.interactive(plot_on_map_interactive,\n",
    "                        exclude_manhattan = [False, True])\n",
    "display(m)\n"
   ]
  },
  {
   "cell_type": "markdown",
   "id": "a8c3fb4d",
   "metadata": {},
   "source": [
    "### 3. Top stations by Boroughs.."
   ]
  },
  {
   "cell_type": "code",
   "execution_count": 4,
   "id": "864f7573",
   "metadata": {},
   "outputs": [
    {
     "data": {
      "application/vnd.jupyter.widget-view+json": {
       "model_id": "01c7768defa94e2f89577916d5ea4e2f",
       "version_major": 2,
       "version_minor": 0
      },
      "text/plain": [
       "interactive(children=(Dropdown(description='boroname', options=('Brooklyn', 'Bronx', 'Manhattan', 'Queens', 'S…"
      ]
     },
     "metadata": {},
     "output_type": "display_data"
    }
   ],
   "source": [
    "m = widgets.interactive(plot_frequent_stations_interactive, boroname = [\"Brooklyn\", \"Bronx\", \"Manhattan\", \"Queens\", \"Staten Island\"])\n",
    "display(m)"
   ]
  }
 ],
 "metadata": {
  "kernelspec": {
   "display_name": "Python 3 (ipykernel)",
   "language": "python",
   "name": "python3"
  },
  "language_info": {
   "codemirror_mode": {
    "name": "ipython",
    "version": 3
   },
   "file_extension": ".py",
   "mimetype": "text/x-python",
   "name": "python",
   "nbconvert_exporter": "python",
   "pygments_lexer": "ipython3",
   "version": "3.9.12"
  },
  "vscode": {
   "interpreter": {
    "hash": "a42ccb73e7d9bfdf27e036f1d2b8b681e55fc0743cc5586bc2474d4a60f4b886"
   }
  }
 },
 "nbformat": 4,
 "nbformat_minor": 5
}
