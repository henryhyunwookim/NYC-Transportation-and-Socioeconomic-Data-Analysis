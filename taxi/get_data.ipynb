{
 "cells": [
  {
   "cell_type": "markdown",
   "metadata": {},
   "source": [
    "## 0. Load libraries and custom functions"
   ]
  },
  {
   "cell_type": "code",
   "execution_count": 1,
   "metadata": {},
   "outputs": [
    {
     "name": "stderr",
     "output_type": "stream",
     "text": [
      "c:\\Users\\Admin\\AppData\\Local\\Programs\\Python\\Python310\\lib\\site-packages\\geopandas\\_compat.py:123: UserWarning: The Shapely GEOS version (3.10.2-CAPI-1.16.0) is incompatible with the GEOS version PyGEOS was compiled with (3.10.1-CAPI-1.16.0). Conversions between both will be slow.\n",
      "  warnings.warn(\n"
     ]
    }
   ],
   "source": [
    "from functions import load_taxi_trip_data, concat_dataframes, load_taxi_zones_shp, map_taxi_zone_to_cdta, add_features,\\\n",
    "                    get_cdta_df, get_cdta_df_per_month\n",
    "\n",
    "import geopandas as gpd\n",
    "import os"
   ]
  },
  {
   "cell_type": "markdown",
   "metadata": {},
   "source": [
    "## 1. Load taxi trip data\n",
    "- Download taxi trip data in the local drive and load them as dataframes.\n",
    "<br><br>\n",
    "- Note: Only yellow and green taxi trip data from Jan-Jun 2022 will be used due to limited resources.\n",
    "- Data source: NYC Taxi and Limousine Commission (TLC)"
   ]
  },
  {
   "cell_type": "code",
   "execution_count": 2,
   "metadata": {},
   "outputs": [
    {
     "name": "stdout",
     "output_type": "stream",
     "text": [
      "yellow_tripdata_2022-01.parquet already exists in c:\\Users\\Admin\\Documents\\GitHub\\NYC-Transportation-and-Socioeconomic-Data-Analysis\\taxi\\data\\yellow.\n",
      "green_tripdata_2022-01.parquet already exists in c:\\Users\\Admin\\Documents\\GitHub\\NYC-Transportation-and-Socioeconomic-Data-Analysis\\taxi\\data\\green.\n",
      "yellow_tripdata_2022-02.parquet already exists in c:\\Users\\Admin\\Documents\\GitHub\\NYC-Transportation-and-Socioeconomic-Data-Analysis\\taxi\\data\\yellow.\n",
      "green_tripdata_2022-02.parquet already exists in c:\\Users\\Admin\\Documents\\GitHub\\NYC-Transportation-and-Socioeconomic-Data-Analysis\\taxi\\data\\green.\n",
      "yellow_tripdata_2022-03.parquet already exists in c:\\Users\\Admin\\Documents\\GitHub\\NYC-Transportation-and-Socioeconomic-Data-Analysis\\taxi\\data\\yellow.\n",
      "green_tripdata_2022-03.parquet already exists in c:\\Users\\Admin\\Documents\\GitHub\\NYC-Transportation-and-Socioeconomic-Data-Analysis\\taxi\\data\\green.\n",
      "yellow_tripdata_2022-04.parquet already exists in c:\\Users\\Admin\\Documents\\GitHub\\NYC-Transportation-and-Socioeconomic-Data-Analysis\\taxi\\data\\yellow.\n",
      "green_tripdata_2022-04.parquet already exists in c:\\Users\\Admin\\Documents\\GitHub\\NYC-Transportation-and-Socioeconomic-Data-Analysis\\taxi\\data\\green.\n",
      "yellow_tripdata_2022-05.parquet already exists in c:\\Users\\Admin\\Documents\\GitHub\\NYC-Transportation-and-Socioeconomic-Data-Analysis\\taxi\\data\\yellow.\n",
      "green_tripdata_2022-05.parquet already exists in c:\\Users\\Admin\\Documents\\GitHub\\NYC-Transportation-and-Socioeconomic-Data-Analysis\\taxi\\data\\green.\n",
      "yellow_tripdata_2022-06.parquet already exists in c:\\Users\\Admin\\Documents\\GitHub\\NYC-Transportation-and-Socioeconomic-Data-Analysis\\taxi\\data\\yellow.\n",
      "green_tripdata_2022-06.parquet already exists in c:\\Users\\Admin\\Documents\\GitHub\\NYC-Transportation-and-Socioeconomic-Data-Analysis\\taxi\\data\\green.\n"
     ]
    }
   ],
   "source": [
    "source_url = \"https://www1.nyc.gov/site/tlc/about/tlc-trip-record-data.page\"\n",
    "dataframes = load_taxi_trip_data(source_url, folder_name=\"data\")"
   ]
  },
  {
   "cell_type": "markdown",
   "metadata": {},
   "source": [
    "<br>\n",
    "Concatenate yellow and green taxi dataframes as a single dataframe since they mostly share common columns and the distinction between the two is not necessary in our analysis."
   ]
  },
  {
   "cell_type": "code",
   "execution_count": 3,
   "metadata": {},
   "outputs": [
    {
     "data": {
      "text/html": [
       "<div>\n",
       "<style scoped>\n",
       "    .dataframe tbody tr th:only-of-type {\n",
       "        vertical-align: middle;\n",
       "    }\n",
       "\n",
       "    .dataframe tbody tr th {\n",
       "        vertical-align: top;\n",
       "    }\n",
       "\n",
       "    .dataframe thead th {\n",
       "        text-align: right;\n",
       "    }\n",
       "</style>\n",
       "<table border=\"1\" class=\"dataframe\">\n",
       "  <thead>\n",
       "    <tr style=\"text-align: right;\">\n",
       "      <th></th>\n",
       "      <th>VendorID</th>\n",
       "      <th>pickup_datetime</th>\n",
       "      <th>dropoff_datetime</th>\n",
       "      <th>passenger_count</th>\n",
       "      <th>trip_distance</th>\n",
       "      <th>RatecodeID</th>\n",
       "      <th>store_and_fwd_flag</th>\n",
       "      <th>PULocationID</th>\n",
       "      <th>DOLocationID</th>\n",
       "      <th>payment_type</th>\n",
       "      <th>...</th>\n",
       "      <th>extra</th>\n",
       "      <th>mta_tax</th>\n",
       "      <th>tip_amount</th>\n",
       "      <th>tolls_amount</th>\n",
       "      <th>improvement_surcharge</th>\n",
       "      <th>total_amount</th>\n",
       "      <th>congestion_surcharge</th>\n",
       "      <th>airport_fee</th>\n",
       "      <th>ehail_fee</th>\n",
       "      <th>trip_type</th>\n",
       "    </tr>\n",
       "  </thead>\n",
       "  <tbody>\n",
       "    <tr>\n",
       "      <th>0</th>\n",
       "      <td>1</td>\n",
       "      <td>2022-01-01 00:35:40</td>\n",
       "      <td>2022-01-01 00:53:29</td>\n",
       "      <td>2.0</td>\n",
       "      <td>3.80</td>\n",
       "      <td>1.0</td>\n",
       "      <td>N</td>\n",
       "      <td>142</td>\n",
       "      <td>236</td>\n",
       "      <td>1.0</td>\n",
       "      <td>...</td>\n",
       "      <td>3.0</td>\n",
       "      <td>0.5</td>\n",
       "      <td>3.65</td>\n",
       "      <td>0.0</td>\n",
       "      <td>0.3</td>\n",
       "      <td>21.95</td>\n",
       "      <td>2.5</td>\n",
       "      <td>0.0</td>\n",
       "      <td>NaN</td>\n",
       "      <td>NaN</td>\n",
       "    </tr>\n",
       "    <tr>\n",
       "      <th>1</th>\n",
       "      <td>1</td>\n",
       "      <td>2022-01-01 00:33:43</td>\n",
       "      <td>2022-01-01 00:42:07</td>\n",
       "      <td>1.0</td>\n",
       "      <td>2.10</td>\n",
       "      <td>1.0</td>\n",
       "      <td>N</td>\n",
       "      <td>236</td>\n",
       "      <td>42</td>\n",
       "      <td>1.0</td>\n",
       "      <td>...</td>\n",
       "      <td>0.5</td>\n",
       "      <td>0.5</td>\n",
       "      <td>4.00</td>\n",
       "      <td>0.0</td>\n",
       "      <td>0.3</td>\n",
       "      <td>13.30</td>\n",
       "      <td>0.0</td>\n",
       "      <td>0.0</td>\n",
       "      <td>NaN</td>\n",
       "      <td>NaN</td>\n",
       "    </tr>\n",
       "    <tr>\n",
       "      <th>2</th>\n",
       "      <td>2</td>\n",
       "      <td>2022-01-01 00:53:21</td>\n",
       "      <td>2022-01-01 01:02:19</td>\n",
       "      <td>1.0</td>\n",
       "      <td>0.97</td>\n",
       "      <td>1.0</td>\n",
       "      <td>N</td>\n",
       "      <td>166</td>\n",
       "      <td>166</td>\n",
       "      <td>1.0</td>\n",
       "      <td>...</td>\n",
       "      <td>0.5</td>\n",
       "      <td>0.5</td>\n",
       "      <td>1.76</td>\n",
       "      <td>0.0</td>\n",
       "      <td>0.3</td>\n",
       "      <td>10.56</td>\n",
       "      <td>0.0</td>\n",
       "      <td>0.0</td>\n",
       "      <td>NaN</td>\n",
       "      <td>NaN</td>\n",
       "    </tr>\n",
       "    <tr>\n",
       "      <th>3</th>\n",
       "      <td>2</td>\n",
       "      <td>2022-01-01 00:25:21</td>\n",
       "      <td>2022-01-01 00:35:23</td>\n",
       "      <td>1.0</td>\n",
       "      <td>1.09</td>\n",
       "      <td>1.0</td>\n",
       "      <td>N</td>\n",
       "      <td>114</td>\n",
       "      <td>68</td>\n",
       "      <td>2.0</td>\n",
       "      <td>...</td>\n",
       "      <td>0.5</td>\n",
       "      <td>0.5</td>\n",
       "      <td>0.00</td>\n",
       "      <td>0.0</td>\n",
       "      <td>0.3</td>\n",
       "      <td>11.80</td>\n",
       "      <td>2.5</td>\n",
       "      <td>0.0</td>\n",
       "      <td>NaN</td>\n",
       "      <td>NaN</td>\n",
       "    </tr>\n",
       "    <tr>\n",
       "      <th>4</th>\n",
       "      <td>2</td>\n",
       "      <td>2022-01-01 00:36:48</td>\n",
       "      <td>2022-01-01 01:14:20</td>\n",
       "      <td>1.0</td>\n",
       "      <td>4.30</td>\n",
       "      <td>1.0</td>\n",
       "      <td>N</td>\n",
       "      <td>68</td>\n",
       "      <td>163</td>\n",
       "      <td>1.0</td>\n",
       "      <td>...</td>\n",
       "      <td>0.5</td>\n",
       "      <td>0.5</td>\n",
       "      <td>3.00</td>\n",
       "      <td>0.0</td>\n",
       "      <td>0.3</td>\n",
       "      <td>30.30</td>\n",
       "      <td>2.5</td>\n",
       "      <td>0.0</td>\n",
       "      <td>NaN</td>\n",
       "      <td>NaN</td>\n",
       "    </tr>\n",
       "  </tbody>\n",
       "</table>\n",
       "<p>5 rows × 21 columns</p>\n",
       "</div>"
      ],
      "text/plain": [
       "   VendorID     pickup_datetime    dropoff_datetime  passenger_count  \\\n",
       "0         1 2022-01-01 00:35:40 2022-01-01 00:53:29              2.0   \n",
       "1         1 2022-01-01 00:33:43 2022-01-01 00:42:07              1.0   \n",
       "2         2 2022-01-01 00:53:21 2022-01-01 01:02:19              1.0   \n",
       "3         2 2022-01-01 00:25:21 2022-01-01 00:35:23              1.0   \n",
       "4         2 2022-01-01 00:36:48 2022-01-01 01:14:20              1.0   \n",
       "\n",
       "   trip_distance  RatecodeID store_and_fwd_flag  PULocationID  DOLocationID  \\\n",
       "0           3.80         1.0                  N           142           236   \n",
       "1           2.10         1.0                  N           236            42   \n",
       "2           0.97         1.0                  N           166           166   \n",
       "3           1.09         1.0                  N           114            68   \n",
       "4           4.30         1.0                  N            68           163   \n",
       "\n",
       "   payment_type  ...  extra  mta_tax  tip_amount  tolls_amount  \\\n",
       "0           1.0  ...    3.0      0.5        3.65           0.0   \n",
       "1           1.0  ...    0.5      0.5        4.00           0.0   \n",
       "2           1.0  ...    0.5      0.5        1.76           0.0   \n",
       "3           2.0  ...    0.5      0.5        0.00           0.0   \n",
       "4           1.0  ...    0.5      0.5        3.00           0.0   \n",
       "\n",
       "   improvement_surcharge  total_amount  congestion_surcharge  airport_fee  \\\n",
       "0                    0.3         21.95                   2.5          0.0   \n",
       "1                    0.3         13.30                   0.0          0.0   \n",
       "2                    0.3         10.56                   0.0          0.0   \n",
       "3                    0.3         11.80                   2.5          0.0   \n",
       "4                    0.3         30.30                   2.5          0.0   \n",
       "\n",
       "   ehail_fee trip_type  \n",
       "0        NaN       NaN  \n",
       "1        NaN       NaN  \n",
       "2        NaN       NaN  \n",
       "3        NaN       NaN  \n",
       "4        NaN       NaN  \n",
       "\n",
       "[5 rows x 21 columns]"
      ]
     },
     "execution_count": 3,
     "metadata": {},
     "output_type": "execute_result"
    }
   ],
   "source": [
    "street_hail_df_original = concat_dataframes(dataframes)\n",
    "street_hail_df_original.head()"
   ]
  },
  {
   "cell_type": "markdown",
   "metadata": {},
   "source": [
    "## 2. Map taxi zones into CDTAs\n",
    "### 2-1. Download taxi zones data in the local drive and load .shp file as dataframe.\n",
    "- Note: The taxi zones are roughly based on NYC Department of City Planning’s Neighborhood Tabulation Areas (NTAs).\n",
    "- Reference: https://data.cityofnewyork.us/Transportation/NYC-Taxi-Zones/d3c5-ddgc\n",
    "<br><br>\n",
    "- Note: Community District Tabulation Areas (CDTAs), which closely approximate Community Districts (CDs).\n",
    "- Reference: https://storymaps.arcgis.com/stories/d30850ba28944619b94e8ee4f746d5c4"
   ]
  },
  {
   "cell_type": "code",
   "execution_count": 4,
   "metadata": {},
   "outputs": [
    {
     "name": "stdout",
     "output_type": "stream",
     "text": [
      "taxi_zones.zip already exists in c:\\Users\\Admin\\Documents\\GitHub\\NYC-Transportation-and-Socioeconomic-Data-Analysis\\taxi\\data\\taxi_zones.\n",
      "Number of unique taxi zones: 260\n"
     ]
    },
    {
     "data": {
      "text/html": [
       "<div>\n",
       "<style scoped>\n",
       "    .dataframe tbody tr th:only-of-type {\n",
       "        vertical-align: middle;\n",
       "    }\n",
       "\n",
       "    .dataframe tbody tr th {\n",
       "        vertical-align: top;\n",
       "    }\n",
       "\n",
       "    .dataframe thead th {\n",
       "        text-align: right;\n",
       "    }\n",
       "</style>\n",
       "<table border=\"1\" class=\"dataframe\">\n",
       "  <thead>\n",
       "    <tr style=\"text-align: right;\">\n",
       "      <th></th>\n",
       "      <th>OBJECTID</th>\n",
       "      <th>Shape_Leng</th>\n",
       "      <th>Shape_Area</th>\n",
       "      <th>zone</th>\n",
       "      <th>LocationID</th>\n",
       "      <th>borough</th>\n",
       "      <th>geometry</th>\n",
       "    </tr>\n",
       "  </thead>\n",
       "  <tbody>\n",
       "    <tr>\n",
       "      <th>0</th>\n",
       "      <td>1</td>\n",
       "      <td>0.116357</td>\n",
       "      <td>0.000782</td>\n",
       "      <td>Newark Airport</td>\n",
       "      <td>1</td>\n",
       "      <td>EWR</td>\n",
       "      <td>POLYGON ((933100.918 192536.086, 933091.011 19...</td>\n",
       "    </tr>\n",
       "    <tr>\n",
       "      <th>1</th>\n",
       "      <td>2</td>\n",
       "      <td>0.433470</td>\n",
       "      <td>0.004866</td>\n",
       "      <td>Jamaica Bay</td>\n",
       "      <td>2</td>\n",
       "      <td>Queens</td>\n",
       "      <td>MULTIPOLYGON (((1033269.244 172126.008, 103343...</td>\n",
       "    </tr>\n",
       "    <tr>\n",
       "      <th>2</th>\n",
       "      <td>3</td>\n",
       "      <td>0.084341</td>\n",
       "      <td>0.000314</td>\n",
       "      <td>Allerton/Pelham Gardens</td>\n",
       "      <td>3</td>\n",
       "      <td>Bronx</td>\n",
       "      <td>POLYGON ((1026308.770 256767.698, 1026495.593 ...</td>\n",
       "    </tr>\n",
       "    <tr>\n",
       "      <th>3</th>\n",
       "      <td>4</td>\n",
       "      <td>0.043567</td>\n",
       "      <td>0.000112</td>\n",
       "      <td>Alphabet City</td>\n",
       "      <td>4</td>\n",
       "      <td>Manhattan</td>\n",
       "      <td>POLYGON ((992073.467 203714.076, 992068.667 20...</td>\n",
       "    </tr>\n",
       "    <tr>\n",
       "      <th>4</th>\n",
       "      <td>5</td>\n",
       "      <td>0.092146</td>\n",
       "      <td>0.000498</td>\n",
       "      <td>Arden Heights</td>\n",
       "      <td>5</td>\n",
       "      <td>Staten Island</td>\n",
       "      <td>POLYGON ((935843.310 144283.336, 936046.565 14...</td>\n",
       "    </tr>\n",
       "  </tbody>\n",
       "</table>\n",
       "</div>"
      ],
      "text/plain": [
       "   OBJECTID  Shape_Leng  Shape_Area                     zone  LocationID  \\\n",
       "0         1    0.116357    0.000782           Newark Airport           1   \n",
       "1         2    0.433470    0.004866              Jamaica Bay           2   \n",
       "2         3    0.084341    0.000314  Allerton/Pelham Gardens           3   \n",
       "3         4    0.043567    0.000112            Alphabet City           4   \n",
       "4         5    0.092146    0.000498            Arden Heights           5   \n",
       "\n",
       "         borough                                           geometry  \n",
       "0            EWR  POLYGON ((933100.918 192536.086, 933091.011 19...  \n",
       "1         Queens  MULTIPOLYGON (((1033269.244 172126.008, 103343...  \n",
       "2          Bronx  POLYGON ((1026308.770 256767.698, 1026495.593 ...  \n",
       "3      Manhattan  POLYGON ((992073.467 203714.076, 992068.667 20...  \n",
       "4  Staten Island  POLYGON ((935843.310 144283.336, 936046.565 14...  "
      ]
     },
     "execution_count": 4,
     "metadata": {},
     "output_type": "execute_result"
    }
   ],
   "source": [
    "taxi_zones_df = load_taxi_zones_shp(source_url, folder_name=\"data/taxi_zones\", target_filename = \"taxi_zones.zip\")\n",
    "print(f\"Number of unique taxi zones: {len(taxi_zones_df.zone.unique())}\")\n",
    "taxi_zones_df.head()"
   ]
  },
  {
   "cell_type": "markdown",
   "metadata": {},
   "source": [
    "### 2-2. Load Neighborhood Tabulation Areas (NTAs) data, which needs to be downloaded manually.\n",
    "- Note: Multiple NTAs belong to a single Community District Tabulation Areas (CDTA).\n",
    "- Data source: https://ssrc.formstack.com/forms/moa_d2g"
   ]
  },
  {
   "cell_type": "code",
   "execution_count": 5,
   "metadata": {},
   "outputs": [
    {
     "name": "stdout",
     "output_type": "stream",
     "text": [
      "Number of unique NTAs: 262\n",
      "Number of unique CDTAs: 71\n"
     ]
    },
    {
     "data": {
      "text/html": [
       "<div>\n",
       "<style scoped>\n",
       "    .dataframe tbody tr th:only-of-type {\n",
       "        vertical-align: middle;\n",
       "    }\n",
       "\n",
       "    .dataframe tbody tr th {\n",
       "        vertical-align: top;\n",
       "    }\n",
       "\n",
       "    .dataframe thead th {\n",
       "        text-align: right;\n",
       "    }\n",
       "</style>\n",
       "<table border=\"1\" class=\"dataframe\">\n",
       "  <thead>\n",
       "    <tr style=\"text-align: right;\">\n",
       "      <th></th>\n",
       "      <th>BoroCode</th>\n",
       "      <th>BoroName</th>\n",
       "      <th>CountyFIPS</th>\n",
       "      <th>NTA2020</th>\n",
       "      <th>NTAName</th>\n",
       "      <th>NTAAbbrev</th>\n",
       "      <th>NTAType</th>\n",
       "      <th>CDTA2020</th>\n",
       "      <th>CDTAName</th>\n",
       "      <th>Shape_Leng</th>\n",
       "      <th>Shape_Area</th>\n",
       "      <th>geometry</th>\n",
       "    </tr>\n",
       "  </thead>\n",
       "  <tbody>\n",
       "    <tr>\n",
       "      <th>0</th>\n",
       "      <td>3</td>\n",
       "      <td>Brooklyn</td>\n",
       "      <td>047</td>\n",
       "      <td>BK0101</td>\n",
       "      <td>Greenpoint</td>\n",
       "      <td>Grnpt</td>\n",
       "      <td>0</td>\n",
       "      <td>BK01</td>\n",
       "      <td>BK01 Williamsburg-Greenpoint (CD 1 Equivalent)</td>\n",
       "      <td>28914.355951</td>\n",
       "      <td>3.532200e+07</td>\n",
       "      <td>POLYGON ((1003059.997 204572.025, 1002950.775 ...</td>\n",
       "    </tr>\n",
       "    <tr>\n",
       "      <th>1</th>\n",
       "      <td>3</td>\n",
       "      <td>Brooklyn</td>\n",
       "      <td>047</td>\n",
       "      <td>BK0102</td>\n",
       "      <td>Williamsburg</td>\n",
       "      <td>Wllmsbrg</td>\n",
       "      <td>0</td>\n",
       "      <td>BK01</td>\n",
       "      <td>BK01 Williamsburg-Greenpoint (CD 1 Equivalent)</td>\n",
       "      <td>28155.614512</td>\n",
       "      <td>2.886227e+07</td>\n",
       "      <td>POLYGON ((995851.915 203199.331, 995969.192 20...</td>\n",
       "    </tr>\n",
       "    <tr>\n",
       "      <th>2</th>\n",
       "      <td>3</td>\n",
       "      <td>Brooklyn</td>\n",
       "      <td>047</td>\n",
       "      <td>BK0103</td>\n",
       "      <td>South Williamsburg</td>\n",
       "      <td>SWllmsbrg</td>\n",
       "      <td>0</td>\n",
       "      <td>BK01</td>\n",
       "      <td>BK01 Williamsburg-Greenpoint (CD 1 Equivalent)</td>\n",
       "      <td>18252.346181</td>\n",
       "      <td>1.520934e+07</td>\n",
       "      <td>POLYGON ((998047.210 196303.325, 998157.901 19...</td>\n",
       "    </tr>\n",
       "    <tr>\n",
       "      <th>3</th>\n",
       "      <td>3</td>\n",
       "      <td>Brooklyn</td>\n",
       "      <td>047</td>\n",
       "      <td>BK0104</td>\n",
       "      <td>East Williamsburg</td>\n",
       "      <td>EWllmsbrg</td>\n",
       "      <td>0</td>\n",
       "      <td>BK01</td>\n",
       "      <td>BK01 Williamsburg-Greenpoint (CD 1 Equivalent)</td>\n",
       "      <td>43184.868945</td>\n",
       "      <td>5.226612e+07</td>\n",
       "      <td>POLYGON ((1005302.497 199455.730, 1005307.792 ...</td>\n",
       "    </tr>\n",
       "    <tr>\n",
       "      <th>4</th>\n",
       "      <td>3</td>\n",
       "      <td>Brooklyn</td>\n",
       "      <td>047</td>\n",
       "      <td>BK0201</td>\n",
       "      <td>Brooklyn Heights</td>\n",
       "      <td>BkHts</td>\n",
       "      <td>0</td>\n",
       "      <td>BK02</td>\n",
       "      <td>BK02 Downtown Brooklyn-Fort Greene (CD 2 Appro...</td>\n",
       "      <td>14337.876099</td>\n",
       "      <td>9.985373e+06</td>\n",
       "      <td>POLYGON ((986367.735 190549.239, 985813.835 19...</td>\n",
       "    </tr>\n",
       "  </tbody>\n",
       "</table>\n",
       "</div>"
      ],
      "text/plain": [
       "   BoroCode  BoroName CountyFIPS NTA2020             NTAName  NTAAbbrev  \\\n",
       "0         3  Brooklyn        047  BK0101          Greenpoint      Grnpt   \n",
       "1         3  Brooklyn        047  BK0102        Williamsburg   Wllmsbrg   \n",
       "2         3  Brooklyn        047  BK0103  South Williamsburg  SWllmsbrg   \n",
       "3         3  Brooklyn        047  BK0104   East Williamsburg  EWllmsbrg   \n",
       "4         3  Brooklyn        047  BK0201    Brooklyn Heights      BkHts   \n",
       "\n",
       "  NTAType CDTA2020                                           CDTAName  \\\n",
       "0       0     BK01     BK01 Williamsburg-Greenpoint (CD 1 Equivalent)   \n",
       "1       0     BK01     BK01 Williamsburg-Greenpoint (CD 1 Equivalent)   \n",
       "2       0     BK01     BK01 Williamsburg-Greenpoint (CD 1 Equivalent)   \n",
       "3       0     BK01     BK01 Williamsburg-Greenpoint (CD 1 Equivalent)   \n",
       "4       0     BK02  BK02 Downtown Brooklyn-Fort Greene (CD 2 Appro...   \n",
       "\n",
       "     Shape_Leng    Shape_Area  \\\n",
       "0  28914.355951  3.532200e+07   \n",
       "1  28155.614512  2.886227e+07   \n",
       "2  18252.346181  1.520934e+07   \n",
       "3  43184.868945  5.226612e+07   \n",
       "4  14337.876099  9.985373e+06   \n",
       "\n",
       "                                            geometry  \n",
       "0  POLYGON ((1003059.997 204572.025, 1002950.775 ...  \n",
       "1  POLYGON ((995851.915 203199.331, 995969.192 20...  \n",
       "2  POLYGON ((998047.210 196303.325, 998157.901 19...  \n",
       "3  POLYGON ((1005302.497 199455.730, 1005307.792 ...  \n",
       "4  POLYGON ((986367.735 190549.239, 985813.835 19...  "
      ]
     },
     "execution_count": 5,
     "metadata": {},
     "output_type": "execute_result"
    }
   ],
   "source": [
    "nynta2020_df = gpd.read_file(os.getcwd()+\"/data/nynta2020_22b/nynta2020.shp\")\n",
    "print(f\"Number of unique NTAs: {len(nynta2020_df.NTA2020.unique())}\") # 262 NTAs\n",
    "print(f\"Number of unique CDTAs: {len(nynta2020_df.CDTA2020.unique())}\") # 71 CDTAs, including 59 community districts\n",
    "nynta2020_df.head()"
   ]
  },
  {
   "cell_type": "markdown",
   "metadata": {},
   "source": [
    "### 2-3. Map taxi zones into CDTA and update taxi_zones_df with the mapping information."
   ]
  },
  {
   "cell_type": "code",
   "execution_count": 6,
   "metadata": {},
   "outputs": [],
   "source": [
    "taxi_zones_df, idx_dict = map_taxi_zone_to_cdta(nynta2020_df, taxi_zones_df)"
   ]
  },
  {
   "cell_type": "markdown",
   "metadata": {},
   "source": [
    "### 2-4. Check taxi zones that did not have a match in NTAs."
   ]
  },
  {
   "cell_type": "code",
   "execution_count": 7,
   "metadata": {},
   "outputs": [
    {
     "name": "stdout",
     "output_type": "stream",
     "text": [
      "Taxi zones not mapped to any NTA: {1}\n"
     ]
    },
    {
     "data": {
      "text/html": [
       "<div>\n",
       "<style scoped>\n",
       "    .dataframe tbody tr th:only-of-type {\n",
       "        vertical-align: middle;\n",
       "    }\n",
       "\n",
       "    .dataframe tbody tr th {\n",
       "        vertical-align: top;\n",
       "    }\n",
       "\n",
       "    .dataframe thead th {\n",
       "        text-align: right;\n",
       "    }\n",
       "</style>\n",
       "<table border=\"1\" class=\"dataframe\">\n",
       "  <thead>\n",
       "    <tr style=\"text-align: right;\">\n",
       "      <th></th>\n",
       "      <th>OBJECTID</th>\n",
       "      <th>Shape_Leng</th>\n",
       "      <th>Shape_Area</th>\n",
       "      <th>zone</th>\n",
       "      <th>LocationID</th>\n",
       "      <th>borough</th>\n",
       "      <th>geometry</th>\n",
       "      <th>NTA</th>\n",
       "      <th>CDTA</th>\n",
       "      <th>CDTA_name</th>\n",
       "    </tr>\n",
       "  </thead>\n",
       "  <tbody>\n",
       "    <tr>\n",
       "      <th>0</th>\n",
       "      <td>1</td>\n",
       "      <td>0.116357</td>\n",
       "      <td>0.000782</td>\n",
       "      <td>Newark Airport</td>\n",
       "      <td>1</td>\n",
       "      <td>EWR</td>\n",
       "      <td>POLYGON ((933100.918 192536.086, 933091.011 19...</td>\n",
       "      <td></td>\n",
       "      <td></td>\n",
       "      <td></td>\n",
       "    </tr>\n",
       "  </tbody>\n",
       "</table>\n",
       "</div>"
      ],
      "text/plain": [
       "   OBJECTID  Shape_Leng  Shape_Area            zone  LocationID borough  \\\n",
       "0         1    0.116357    0.000782  Newark Airport           1     EWR   \n",
       "\n",
       "                                            geometry NTA CDTA CDTA_name  \n",
       "0  POLYGON ((933100.918 192536.086, 933091.011 19...                     "
      ]
     },
     "execution_count": 7,
     "metadata": {},
     "output_type": "execute_result"
    }
   ],
   "source": [
    "taxi_zones_not_in_nta = set(taxi_zones_df.LocationID).difference(set(idx_dict.keys()))\n",
    "print(f\"Taxi zones not mapped to any NTA: {taxi_zones_not_in_nta}\")\n",
    "taxi_zones_df[taxi_zones_df.LocationID==list(taxi_zones_not_in_nta)[0]]"
   ]
  },
  {
   "cell_type": "markdown",
   "metadata": {},
   "source": [
    "Since Newark Airport is located outside of NYC, manually add CDTA and its name."
   ]
  },
  {
   "cell_type": "code",
   "execution_count": 8,
   "metadata": {},
   "outputs": [],
   "source": [
    "taxi_zones_df.loc[0, \"CDTA\"] = \"EWR (Newark Airport)\"\n",
    "taxi_zones_df.loc[0, \"CDTA_name\"] = \"EWR (Newark Airport)\""
   ]
  },
  {
   "cell_type": "markdown",
   "metadata": {},
   "source": [
    "### 2-5. Add borough for each CDTA to taxi_zones_df."
   ]
  },
  {
   "cell_type": "code",
   "execution_count": 9,
   "metadata": {},
   "outputs": [
    {
     "data": {
      "text/html": [
       "<div>\n",
       "<style scoped>\n",
       "    .dataframe tbody tr th:only-of-type {\n",
       "        vertical-align: middle;\n",
       "    }\n",
       "\n",
       "    .dataframe tbody tr th {\n",
       "        vertical-align: top;\n",
       "    }\n",
       "\n",
       "    .dataframe thead th {\n",
       "        text-align: right;\n",
       "    }\n",
       "</style>\n",
       "<table border=\"1\" class=\"dataframe\">\n",
       "  <thead>\n",
       "    <tr style=\"text-align: right;\">\n",
       "      <th></th>\n",
       "      <th>OBJECTID</th>\n",
       "      <th>Shape_Leng</th>\n",
       "      <th>Shape_Area</th>\n",
       "      <th>zone</th>\n",
       "      <th>LocationID</th>\n",
       "      <th>borough</th>\n",
       "      <th>geometry</th>\n",
       "      <th>NTA</th>\n",
       "      <th>CDTA</th>\n",
       "      <th>CDTA_name</th>\n",
       "    </tr>\n",
       "  </thead>\n",
       "  <tbody>\n",
       "    <tr>\n",
       "      <th>0</th>\n",
       "      <td>1</td>\n",
       "      <td>0.116357</td>\n",
       "      <td>0.000782</td>\n",
       "      <td>Newark Airport</td>\n",
       "      <td>1</td>\n",
       "      <td>EWR</td>\n",
       "      <td>POLYGON ((933100.918 192536.086, 933091.011 19...</td>\n",
       "      <td></td>\n",
       "      <td>EWR (Newark Airport)</td>\n",
       "      <td>EWR (Newark Airport)</td>\n",
       "    </tr>\n",
       "    <tr>\n",
       "      <th>1</th>\n",
       "      <td>2</td>\n",
       "      <td>0.433470</td>\n",
       "      <td>0.004866</td>\n",
       "      <td>Jamaica Bay</td>\n",
       "      <td>2</td>\n",
       "      <td>Queens</td>\n",
       "      <td>MULTIPOLYGON (((1033269.244 172126.008, 103343...</td>\n",
       "      <td>QN8491</td>\n",
       "      <td>QN84</td>\n",
       "      <td>Jamaica Bay (East) (JIA 84 Approximation)</td>\n",
       "    </tr>\n",
       "    <tr>\n",
       "      <th>2</th>\n",
       "      <td>3</td>\n",
       "      <td>0.084341</td>\n",
       "      <td>0.000314</td>\n",
       "      <td>Allerton/Pelham Gardens</td>\n",
       "      <td>3</td>\n",
       "      <td>Bronx</td>\n",
       "      <td>POLYGON ((1026308.770 256767.698, 1026495.593 ...</td>\n",
       "      <td>BX1103</td>\n",
       "      <td>BX11</td>\n",
       "      <td>Pelham Parkway-Morris Park (CD 11 Approximation)</td>\n",
       "    </tr>\n",
       "    <tr>\n",
       "      <th>3</th>\n",
       "      <td>4</td>\n",
       "      <td>0.043567</td>\n",
       "      <td>0.000112</td>\n",
       "      <td>Alphabet City</td>\n",
       "      <td>4</td>\n",
       "      <td>Manhattan</td>\n",
       "      <td>POLYGON ((992073.467 203714.076, 992068.667 20...</td>\n",
       "      <td>MN0303</td>\n",
       "      <td>MN03</td>\n",
       "      <td>Lower East Side-Chinatown (CD 3 Equivalent)</td>\n",
       "    </tr>\n",
       "    <tr>\n",
       "      <th>4</th>\n",
       "      <td>5</td>\n",
       "      <td>0.092146</td>\n",
       "      <td>0.000498</td>\n",
       "      <td>Arden Heights</td>\n",
       "      <td>5</td>\n",
       "      <td>Staten Island</td>\n",
       "      <td>POLYGON ((935843.310 144283.336, 936046.565 14...</td>\n",
       "      <td>SI0303</td>\n",
       "      <td>SI03</td>\n",
       "      <td>South Shore (CD 3 Approximation)</td>\n",
       "    </tr>\n",
       "  </tbody>\n",
       "</table>\n",
       "</div>"
      ],
      "text/plain": [
       "   OBJECTID  Shape_Leng  Shape_Area                     zone  LocationID  \\\n",
       "0         1    0.116357    0.000782           Newark Airport           1   \n",
       "1         2    0.433470    0.004866              Jamaica Bay           2   \n",
       "2         3    0.084341    0.000314  Allerton/Pelham Gardens           3   \n",
       "3         4    0.043567    0.000112            Alphabet City           4   \n",
       "4         5    0.092146    0.000498            Arden Heights           5   \n",
       "\n",
       "         borough                                           geometry     NTA  \\\n",
       "0            EWR  POLYGON ((933100.918 192536.086, 933091.011 19...           \n",
       "1         Queens  MULTIPOLYGON (((1033269.244 172126.008, 103343...  QN8491   \n",
       "2          Bronx  POLYGON ((1026308.770 256767.698, 1026495.593 ...  BX1103   \n",
       "3      Manhattan  POLYGON ((992073.467 203714.076, 992068.667 20...  MN0303   \n",
       "4  Staten Island  POLYGON ((935843.310 144283.336, 936046.565 14...  SI0303   \n",
       "\n",
       "                   CDTA                                         CDTA_name  \n",
       "0  EWR (Newark Airport)                              EWR (Newark Airport)  \n",
       "1                  QN84         Jamaica Bay (East) (JIA 84 Approximation)  \n",
       "2                  BX11  Pelham Parkway-Morris Park (CD 11 Approximation)  \n",
       "3                  MN03       Lower East Side-Chinatown (CD 3 Equivalent)  \n",
       "4                  SI03                  South Shore (CD 3 Approximation)  "
      ]
     },
     "execution_count": 9,
     "metadata": {},
     "output_type": "execute_result"
    }
   ],
   "source": [
    "taxi_zones_df['borough'] = taxi_zones_df[\"CDTA\"].apply(lambda x: \"EWR\" if \"EWR\" in x else x[:2]).map(\n",
    "    {\n",
    "        'EWR': 'EWR',\n",
    "        'QN': 'Queens',\n",
    "        'BX': 'Bronx',\n",
    "        'MN': 'Manhattan',\n",
    "        'SI': 'Staten Island',\n",
    "        'BK': 'Brooklyn'\n",
    "    }\n",
    ")\n",
    "taxi_zones_df.head()"
   ]
  },
  {
   "cell_type": "markdown",
   "metadata": {},
   "source": [
    "### 2-6. Lastly, create dictionaries and a list  that will be used for filtering and feature engineering."
   ]
  },
  {
   "cell_type": "code",
   "execution_count": 10,
   "metadata": {},
   "outputs": [],
   "source": [
    "cdta_geo_dict = {}\n",
    "for cdta in taxi_zones_df[\"CDTA\"].unique():\n",
    "    cdta_geo_dict[cdta] = taxi_zones_df[taxi_zones_df[\"CDTA\"] == cdta][\"geometry\"].unary_union\n",
    "\n",
    "taxi_zone_dict = taxi_zones_df.set_index(\"LocationID\")[[\"geometry\", \"CDTA\", \"CDTA_name\"]].to_dict()\n",
    "\n",
    "zone_borough_dict = taxi_zones_df.set_index(\"LocationID\")[\"borough\"].to_dict()\n",
    "\n",
    "zones_in_manhattan_list = list(taxi_zones_df[taxi_zones_df[\"borough\"] == \"Manhattan\"][\"LocationID\"].values)"
   ]
  },
  {
   "cell_type": "markdown",
   "metadata": {},
   "source": [
    "## 3. Data cleaning and feature engineering\n",
    "### 3-1. Drop unnecessary data from the taxi trip dataframe."
   ]
  },
  {
   "cell_type": "code",
   "execution_count": 11,
   "metadata": {},
   "outputs": [],
   "source": [
    "# Drop columns to reduce memory required for the dataframe.\n",
    "cols_to_keep = [\"PULocationID\", \"DOLocationID\", \"pickup_datetime\", \"dropoff_datetime\",\n",
    "                \"passenger_count\", \"trip_distance\", \"total_amount\", \"congestion_surcharge\", \"airport_fee\"]\n",
    "street_hail_df = street_hail_df_original[cols_to_keep]\n",
    "\n",
    "# Drop rides from and to locations that are not found in the taxi zone dataframe.\n",
    "street_hail_df = street_hail_df[street_hail_df.PULocationID.isin(taxi_zones_df.LocationID) & \\\n",
    "                                street_hail_df.DOLocationID.isin(taxi_zones_df.LocationID)]\n",
    "\n",
    "# Drop rides whose pickup_datetime or dropoff_datetime is not in between 1 Jan 2022 and 30 Jun 2022;\n",
    "# Jul 2022 trip data are not complete as of 9 Nov 2022, thus dropping them to get proper monthly stats.\n",
    "street_hail_df = street_hail_df[(street_hail_df['pickup_datetime'] >= '2022-01-01') & \\\n",
    "                                (street_hail_df['dropoff_datetime'] >= '2022-01-01') & \\\n",
    "                                (street_hail_df['pickup_datetime'] < '2022-07-01') & \\\n",
    "                                (street_hail_df['dropoff_datetime'] < '2022-07-01')]\n",
    "\n",
    "# Drop rides without a passenger; 398,183 out of 19,893,903 rows (2% of the total rows).\n",
    "street_hail_df = street_hail_df[street_hail_df['passenger_count'] > 0]"
   ]
  },
  {
   "cell_type": "markdown",
   "metadata": {},
   "source": [
    "### 3-2. Add features to street_hail_df."
   ]
  },
  {
   "cell_type": "code",
   "execution_count": 12,
   "metadata": {},
   "outputs": [
    {
     "name": "stdout",
     "output_type": "stream",
     "text": [
      "Adding \"PU_borough\" to street_hail_df based on pickup locations.\n",
      "Adding \"DO_borough\" to street_hail_df based on dropoff locations.\n",
      "Adding \"PU_CDTA\" to street_hail_df based on pickup locations.\n",
      "Adding \"DO_CDTA\" to street_hail_df based on dropoff locations.\n",
      "Adding \"duration\" to street_hail_df based on pickup and dropoff datetimes.\n",
      "Splitting \"pickup_datetime\" into multiple columns (day, hour, weekday, and year_month).\n",
      "Splitting \"dropoff_datetime\" into multiple columns (day, hour, weekday, and year_month).\n"
     ]
    }
   ],
   "source": [
    "street_hail_df = add_features(street_hail_df, zone_borough_dict, taxi_zone_dict)"
   ]
  },
  {
   "cell_type": "code",
   "execution_count": 13,
   "metadata": {},
   "outputs": [
    {
     "name": "stdout",
     "output_type": "stream",
     "text": [
      "\n",
      "Computing dask.dataframe street_hail_df for the next step.\n",
      "This could take around 10 minutues due to the volume of the data - 19 million+ rows.\n",
      "\n",
      "Wall time: 12min 48s\n"
     ]
    }
   ],
   "source": [
    "%%time\n",
    "print(\"\"\"\n",
    "Computing dask.dataframe street_hail_df for the next step.\n",
    "This could take around 10 minutues due to the volume of the data - 19 million+ rows.\n",
    "\"\"\")\n",
    "street_hail_df = street_hail_df.fillna(0).compute()"
   ]
  },
  {
   "cell_type": "markdown",
   "metadata": {},
   "source": [
    "### 3-3. Get a dataframe containing statistics about taxi trips on pickup and dropoff CDTAs."
   ]
  },
  {
   "cell_type": "code",
   "execution_count": 14,
   "metadata": {},
   "outputs": [
    {
     "name": "stdout",
     "output_type": "stream",
     "text": [
      "cdta_df saved in c:\\Users\\Admin\\Documents\\GitHub\\NYC-Transportation-and-Socioeconomic-Data-Analysis\\taxi\\data\\cdta_df.\n",
      "Wall time: 7min 58s\n"
     ]
    }
   ],
   "source": [
    "%%time\n",
    "cdta_df = get_cdta_df(street_hail_df, cdta_geo_dict, taxi_zones_df, folder_name=\"data/cdta_df\")"
   ]
  },
  {
   "cell_type": "markdown",
   "metadata": {},
   "source": [
    "### 3-4. Get a dataframe for each month in Jan-Jun 2022, for pickup and dropoff separately."
   ]
  },
  {
   "cell_type": "code",
   "execution_count": 15,
   "metadata": {},
   "outputs": [
    {
     "name": "stdout",
     "output_type": "stream",
     "text": [
      "cdta_df_PU_2022-01.csv saved in c:\\Users\\Admin\\Documents\\GitHub\\NYC-Transportation-and-Socioeconomic-Data-Analysis\\taxi\\data\\cdta_df.\n",
      "cdta_df_PU_2022-03.csv saved in c:\\Users\\Admin\\Documents\\GitHub\\NYC-Transportation-and-Socioeconomic-Data-Analysis\\taxi\\data\\cdta_df.\n",
      "cdta_df_PU_2022-02.csv saved in c:\\Users\\Admin\\Documents\\GitHub\\NYC-Transportation-and-Socioeconomic-Data-Analysis\\taxi\\data\\cdta_df.\n",
      "cdta_df_PU_2022-04.csv saved in c:\\Users\\Admin\\Documents\\GitHub\\NYC-Transportation-and-Socioeconomic-Data-Analysis\\taxi\\data\\cdta_df.\n",
      "cdta_df_PU_2022-05.csv saved in c:\\Users\\Admin\\Documents\\GitHub\\NYC-Transportation-and-Socioeconomic-Data-Analysis\\taxi\\data\\cdta_df.\n",
      "cdta_df_PU_2022-06.csv saved in c:\\Users\\Admin\\Documents\\GitHub\\NYC-Transportation-and-Socioeconomic-Data-Analysis\\taxi\\data\\cdta_df.\n",
      "cdta_df_DO_2022-01.csv saved in c:\\Users\\Admin\\Documents\\GitHub\\NYC-Transportation-and-Socioeconomic-Data-Analysis\\taxi\\data\\cdta_df.\n",
      "cdta_df_DO_2022-03.csv saved in c:\\Users\\Admin\\Documents\\GitHub\\NYC-Transportation-and-Socioeconomic-Data-Analysis\\taxi\\data\\cdta_df.\n",
      "cdta_df_DO_2022-02.csv saved in c:\\Users\\Admin\\Documents\\GitHub\\NYC-Transportation-and-Socioeconomic-Data-Analysis\\taxi\\data\\cdta_df.\n",
      "cdta_df_DO_2022-04.csv saved in c:\\Users\\Admin\\Documents\\GitHub\\NYC-Transportation-and-Socioeconomic-Data-Analysis\\taxi\\data\\cdta_df.\n",
      "cdta_df_DO_2022-05.csv saved in c:\\Users\\Admin\\Documents\\GitHub\\NYC-Transportation-and-Socioeconomic-Data-Analysis\\taxi\\data\\cdta_df.\n",
      "cdta_df_DO_2022-06.csv saved in c:\\Users\\Admin\\Documents\\GitHub\\NYC-Transportation-and-Socioeconomic-Data-Analysis\\taxi\\data\\cdta_df.\n",
      "Wall time: 8min 7s\n"
     ]
    }
   ],
   "source": [
    "%%time\n",
    "dfs, year_months = get_cdta_df_per_month(street_hail_df, cdta_geo_dict, taxi_zones_df, folder_name=\"data/cdta_df\")"
   ]
  },
  {
   "cell_type": "markdown",
   "metadata": {},
   "source": [
    "### * Files are ready for analyses and visualizations. Please proceed to visualizations.ipynb."
   ]
  }
 ],
 "metadata": {
  "kernelspec": {
   "display_name": "Python 3.10.0 64-bit",
   "language": "python",
   "name": "python3"
  },
  "language_info": {
   "codemirror_mode": {
    "name": "ipython",
    "version": 3
   },
   "file_extension": ".py",
   "mimetype": "text/x-python",
   "name": "python",
   "nbconvert_exporter": "python",
   "pygments_lexer": "ipython3",
   "version": "3.10.0"
  },
  "orig_nbformat": 4,
  "vscode": {
   "interpreter": {
    "hash": "a42ccb73e7d9bfdf27e036f1d2b8b681e55fc0743cc5586bc2474d4a60f4b886"
   }
  }
 },
 "nbformat": 4,
 "nbformat_minor": 2
}
