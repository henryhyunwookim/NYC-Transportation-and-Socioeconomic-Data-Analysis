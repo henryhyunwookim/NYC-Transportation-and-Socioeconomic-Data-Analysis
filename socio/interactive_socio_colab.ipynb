{
 "cells": [
  {
   "cell_type": "markdown",
   "id": "2d2a23ef",
   "metadata": {},
   "source": [
    "# 0. Initialization\n",
    "Run the cell below and restart runtime. This cell should only be run once during runtime, otherwise another clone will get created whenever the cell is run."
   ]
  },
  {
   "cell_type": "code",
   "execution_count": null,
   "id": "1ad1e9b4",
   "metadata": {},
   "outputs": [],
   "source": [
    "# Clone GitHub repository in the virtual environment provided in Google Colab.\n",
    "!git clone https://github.com/henryhyunwookim/NYC-Transportation-and-Socioeconomic-Data-Analysis.git\n",
    "\n",
    "# Install requirements.\n",
    "%cd NYC-Transportation-and-Socioeconomic-Data-Analysis\n",
    "%cd socio\n",
    "!pip install -r requirements.txt\n",
    "     "
   ]
  },
  {
   "cell_type": "markdown",
   "id": "e01a36a1",
   "metadata": {},
   "source": [
    "## After restart, run the cells below.\n",
    "# 1. Load libraries"
   ]
  },
  {
   "cell_type": "code",
   "execution_count": null,
   "id": "68dff9f0",
   "metadata": {},
   "outputs": [],
   "source": [
    "import os\n",
    "os.chdir(\"/content/NYC-Transportation-and-Socioeconomic-Data-Analysis\")\n",
    "\n",
    "import pandas as pd\n",
    "import json\n",
    "from mpl_toolkits.axes_grid1.axes_divider import make_axes_locatable\n",
    "import matplotlib.pyplot as plt\n",
    "import numpy as np\n",
    "import plotly.graph_objs as go\n",
    "import os\n",
    "import plotly.express as px\n",
    "import ipywidgets as widgets\n",
    "\n",
    "from socio.functions import*\n",
    "\n",
    "from google.colab import files\n",
    "%cd socio\n"
   ]
  },
  {
   "cell_type": "code",
   "execution_count": null,
   "id": "91b89c40",
   "metadata": {},
   "outputs": [],
   "source": [
    "#helper functions\n",
    "\n",
    "def create_scatter(s1,s2,cd='PU_average_fare',  \n",
    "                   title = '', labels = '', a = '', \n",
    "                   x1=0,y1=0,b_size=30.,\n",
    "                   x2=0,y2=0,t2='',\n",
    "                   x3=0,y3=0,t3='',\n",
    "                   annotate = 1\n",
    "                   ):\n",
    "    \n",
    "    colors = {'Bronx':'red', 'Manhattan':'green', 'Queens':'blue', 'Staten Island':'orange', 'Brooklyn':'purple'}\n",
    "    color_names = {'red':'Bronx', 'green':'Manhattan', 'blue':'Queens', 'orange':'Staten Island', 'purple':'Brooklyn'}\n",
    "\n",
    "\n",
    "    x = df_taxi_subway_socio[s1]\n",
    "    y = df_taxi_subway_socio[s2]\n",
    "    area = df_taxi_subway_socio[cd]\n",
    "    colors_map = df_taxi_subway_socio['borough_x'].map(colors)\n",
    "\n",
    "\n",
    "    fig = px.scatter(df_taxi_subway_socio, \n",
    "                 x=s1,\n",
    "                 y=s2, \n",
    "                 size=cd,\n",
    "                 color=colors_map,\n",
    "                 hover_name=\"CDTAName\", \n",
    "                 title=title,\n",
    "                 labels=labels\n",
    "                )\n",
    "\n",
    "\n",
    "    fig.for_each_trace(lambda t: t.update(name = color_names[t.name],\n",
    "                                          legendgroup = color_names[t.name],\n",
    "                                          hovertemplate = t.hovertemplate.replace(t.name, color_names[t.name])\n",
    "                                         )\n",
    "                  )\n",
    "    \n",
    "    fig.update_traces(marker=dict(\n",
    "                        size=area,\n",
    "                        sizemode='area',\n",
    "                        sizeref=2.*max(area)/(b_size**2),\n",
    "                        sizemin=4\n",
    "                        )\n",
    "                     )\n",
    "    \n",
    "    \n",
    "    if a != '':\n",
    "        if annotate == 1:\n",
    "            fig.add_annotation(\n",
    "                x=x1,\n",
    "                y=y1,\n",
    "                xref=\"x\",\n",
    "                yref=\"y\",\n",
    "                text=a,\n",
    "                showarrow=True,\n",
    "                font=dict(\n",
    "                    family=\"Courier New, monospace\",\n",
    "                    size=13,\n",
    "                    color=\"#ffffff\"\n",
    "                    ),\n",
    "                align=\"center\",\n",
    "                arrowhead=2,\n",
    "                arrowsize=1,\n",
    "                arrowwidth=2,\n",
    "                arrowcolor=\"#636363\",\n",
    "                ax=30,\n",
    "                ay=60,\n",
    "                bordercolor=\"#c7c7c7\",\n",
    "                borderwidth=2,\n",
    "                borderpad=4,\n",
    "                bgcolor=\"#ff7f0e\",\n",
    "                opacity=0.8\n",
    "                )\n",
    "            if x2!=0:\n",
    "                fig.add_annotation(\n",
    "                    x=x2,\n",
    "                    y=y2,\n",
    "                    text=t2)\n",
    "            if x3!=0:\n",
    "                fig.add_annotation(\n",
    "                    x=x3,\n",
    "                    y=y3,\n",
    "                    text=t3\n",
    "                )\n",
    "        else:\n",
    "            fig.add_annotation(\n",
    "                x=x1,\n",
    "                y=y1,\n",
    "                xref=\"x\",\n",
    "                yref=\"y\",\n",
    "                text=a,\n",
    "                showarrow=True,\n",
    "                font=dict(\n",
    "                    family=\"Courier New, monospace\",\n",
    "                    size=13,\n",
    "                    color=\"#ffffff\"\n",
    "                    ),\n",
    "                align=\"center\",\n",
    "                arrowhead=2,\n",
    "                arrowsize=1,\n",
    "                arrowwidth=2,\n",
    "                arrowcolor=\"#636363\",\n",
    "                ax=-40,\n",
    "                ay=-130,\n",
    "                bordercolor=\"#c7c7c7\",\n",
    "                borderwidth=2,\n",
    "                borderpad=4,\n",
    "                bgcolor=\"#ff7f0e\",\n",
    "                opacity=0.8\n",
    "                )\n",
    "            if x2!=0:\n",
    "                fig.add_annotation(\n",
    "                    x=x2,\n",
    "                    y=y2,\n",
    "                    text=t2)\n",
    "      \n",
    "\n",
    "    fig.update_layout(\n",
    "        autosize=False,\n",
    "        width=700,\n",
    "        height=600)\n",
    "    \n",
    "    \n",
    "#     fig.show()\n",
    "    \n",
    "    return fig\n",
    "\n",
    "def create_scatter_interactive(s1,s2,cd='PU_average_fare',  \n",
    "                   title = '', labels = '', a = '', \n",
    "                   x1=0,y1=0,b_size=30.,\n",
    "                   x2=0,y2=0,t2='',\n",
    "                   x3=0,y3=0,t3='',\n",
    "                   annotate = 1\n",
    "                   ):\n",
    "    \n",
    "    colors = {'Bronx':'red', 'Manhattan':'green', 'Queens':'blue', 'Staten Island':'orange', 'Brooklyn':'purple'}\n",
    "    color_names = {'red':'Bronx', 'green':'Manhattan', 'blue':'Queens', 'orange':'Staten Island', 'purple':'Brooklyn'}\n",
    "\n",
    "\n",
    "    x = df_taxi_subway_socio[s1]\n",
    "    y = df_taxi_subway_socio[s2]\n",
    "    area = df_taxi_subway_socio[cd]\n",
    "    colors_map = df_taxi_subway_socio['borough_x'].map(colors)\n",
    "\n",
    "\n",
    "    fig = px.scatter(df_taxi_subway_socio, \n",
    "                 x=s1,\n",
    "                 y=s2, \n",
    "                 size=cd,\n",
    "                 color=colors_map,\n",
    "                 hover_name=\"CDTAName\", \n",
    "                 title=title,\n",
    "                 labels=labels\n",
    "                )\n",
    "\n",
    "\n",
    "    fig.for_each_trace(lambda t: t.update(name = color_names[t.name],\n",
    "                                          legendgroup = color_names[t.name],\n",
    "                                          hovertemplate = t.hovertemplate.replace(t.name, color_names[t.name])\n",
    "                                         )\n",
    "                  )\n",
    "    \n",
    "    fig.update_traces(marker=dict(\n",
    "                        size=area,\n",
    "                        sizemode='area',\n",
    "                        sizeref=2.*max(area)/(b_size**2),\n",
    "                        sizemin=4\n",
    "                        )\n",
    "                     )\n",
    "    \n",
    "    \n",
    "    if a != '':\n",
    "        if annotate == 1:\n",
    "            fig.add_annotation(\n",
    "                x=x1,\n",
    "                y=y1,\n",
    "                xref=\"x\",\n",
    "                yref=\"y\",\n",
    "                text=a,\n",
    "                showarrow=True,\n",
    "                font=dict(\n",
    "                    family=\"Courier New, monospace\",\n",
    "                    size=13,\n",
    "                    color=\"#ffffff\"\n",
    "                    ),\n",
    "                align=\"center\",\n",
    "                arrowhead=2,\n",
    "                arrowsize=1,\n",
    "                arrowwidth=2,\n",
    "                arrowcolor=\"#636363\",\n",
    "                ax=30,\n",
    "                ay=60,\n",
    "                bordercolor=\"#c7c7c7\",\n",
    "                borderwidth=2,\n",
    "                borderpad=4,\n",
    "                bgcolor=\"#ff7f0e\",\n",
    "                opacity=0.8\n",
    "                )\n",
    "            if x2!=0:\n",
    "                fig.add_annotation(\n",
    "                    x=x2,\n",
    "                    y=y2,\n",
    "                    text=t2)\n",
    "            if x3!=0:\n",
    "                fig.add_annotation(\n",
    "                    x=x3,\n",
    "                    y=y3,\n",
    "                    text=t3\n",
    "                )\n",
    "        else:\n",
    "            fig.add_annotation(\n",
    "                x=x1,\n",
    "                y=y1,\n",
    "                xref=\"x\",\n",
    "                yref=\"y\",\n",
    "                text=a,\n",
    "                showarrow=True,\n",
    "                font=dict(\n",
    "                    family=\"Courier New, monospace\",\n",
    "                    size=13,\n",
    "                    color=\"#ffffff\"\n",
    "                    ),\n",
    "                align=\"center\",\n",
    "                arrowhead=2,\n",
    "                arrowsize=1,\n",
    "                arrowwidth=2,\n",
    "                arrowcolor=\"#636363\",\n",
    "                ax=-40,\n",
    "                ay=-130,\n",
    "                bordercolor=\"#c7c7c7\",\n",
    "                borderwidth=2,\n",
    "                borderpad=4,\n",
    "                bgcolor=\"#ff7f0e\",\n",
    "                opacity=0.8\n",
    "                )\n",
    "            if x2!=0:\n",
    "                fig.add_annotation(\n",
    "                    x=x2,\n",
    "                    y=y2,\n",
    "                    text=t2)\n",
    "      \n",
    "\n",
    "    fig.update_layout(\n",
    "        autosize=False,\n",
    "        width=700,\n",
    "        height=600)\n",
    "    \n",
    "    \n",
    "    fig.show()\n",
    "    \n",
    "    return fig"
   ]
  },
  {
   "cell_type": "markdown",
   "id": "aa635301",
   "metadata": {},
   "source": [
    "# 2. Load data from the three soures (taxi, subway and socioeconomic)"
   ]
  },
  {
   "cell_type": "code",
   "execution_count": 99,
   "id": "f5ca8df9",
   "metadata": {},
   "outputs": [],
   "source": [
    "gdf_cd = pd.read_pickle('data/merge_data.pkl')\n",
    "df_taxi = pd.read_csv(os.path.dirname(os.getcwd()) +'/taxi/data/cdta_df/cdta_df.csv')\n",
    "df_socio = pd.read_csv('data/socioecoomic.csv')\n",
    "df_subway = pd.read_csv(os.path.dirname(os.getcwd()) +'/subway/data/subway_df/subway_cdta.csv')"
   ]
  },
  {
   "cell_type": "markdown",
   "id": "47893f44",
   "metadata": {},
   "source": [
    "# 3. Creating CD code mapping and merge all data files"
   ]
  },
  {
   "cell_type": "code",
   "execution_count": 100,
   "id": "b37edcc4",
   "metadata": {},
   "outputs": [],
   "source": [
    "gdf_cd['CD_map'] = gdf_cd.apply (lambda row: fill_value(row), axis=1)"
   ]
  },
  {
   "cell_type": "code",
   "execution_count": 101,
   "id": "72220422",
   "metadata": {},
   "outputs": [],
   "source": [
    "df_taxi_subway = df_taxi.merge(df_subway, left_on='CDTA', right_on='cdtaCode' , how =\"inner\")\n",
    "df_taxi_subway = df_taxi_subway.sort_values([\"borough_x\",'net_entries'], ascending=[True,False])\n",
    "df_taxi_subway_socio = gdf_cd.merge(df_taxi_subway, left_on='CD_map', right_on='CDTA' , how =\"inner\")\n",
    "# df_taxi_subway_socio.columns.tolist()"
   ]
  },
  {
   "cell_type": "markdown",
   "id": "f604b373",
   "metadata": {},
   "source": [
    "# 4. Create new dataframe for aggregate data and format columns"
   ]
  },
  {
   "cell_type": "code",
   "execution_count": 102,
   "id": "a00b7a09",
   "metadata": {},
   "outputs": [],
   "source": [
    "df_taxi_subway_socio['PU_average_fare'] = df_taxi_subway_socio['PU_average_fare'].round(2)\n",
    "df_taxi_subway_socio['PU_average_duration (min)'] = df_taxi_subway_socio['PU_average_duration (min)'].round(2)"
   ]
  },
  {
   "cell_type": "code",
   "execution_count": 103,
   "id": "b330ae78",
   "metadata": {},
   "outputs": [
    {
     "data": {
      "text/html": [
       "<div>\n",
       "<style scoped>\n",
       "    .dataframe tbody tr th:only-of-type {\n",
       "        vertical-align: middle;\n",
       "    }\n",
       "\n",
       "    .dataframe tbody tr th {\n",
       "        vertical-align: top;\n",
       "    }\n",
       "\n",
       "    .dataframe thead th {\n",
       "        text-align: right;\n",
       "    }\n",
       "</style>\n",
       "<table border=\"1\" class=\"dataframe\">\n",
       "  <thead>\n",
       "    <tr style=\"text-align: right;\">\n",
       "      <th></th>\n",
       "      <th>borough_x</th>\n",
       "      <th>PU_total_trip_count</th>\n",
       "      <th>net_entries</th>\n",
       "      <th>total</th>\n",
       "    </tr>\n",
       "  </thead>\n",
       "  <tbody>\n",
       "    <tr>\n",
       "      <th>2</th>\n",
       "      <td>Manhattan</td>\n",
       "      <td>17016178</td>\n",
       "      <td>162311230.0</td>\n",
       "      <td>179327408.0</td>\n",
       "    </tr>\n",
       "    <tr>\n",
       "      <th>1</th>\n",
       "      <td>Brooklyn</td>\n",
       "      <td>149480</td>\n",
       "      <td>72878938.0</td>\n",
       "      <td>73028418.0</td>\n",
       "    </tr>\n",
       "    <tr>\n",
       "      <th>3</th>\n",
       "      <td>Queens</td>\n",
       "      <td>1096299</td>\n",
       "      <td>54052566.0</td>\n",
       "      <td>55148865.0</td>\n",
       "    </tr>\n",
       "    <tr>\n",
       "      <th>0</th>\n",
       "      <td>Bronx</td>\n",
       "      <td>34281</td>\n",
       "      <td>31638430.0</td>\n",
       "      <td>31672711.0</td>\n",
       "    </tr>\n",
       "    <tr>\n",
       "      <th>4</th>\n",
       "      <td>Staten Island</td>\n",
       "      <td>161</td>\n",
       "      <td>774846.0</td>\n",
       "      <td>775007.0</td>\n",
       "    </tr>\n",
       "  </tbody>\n",
       "</table>\n",
       "</div>"
      ],
      "text/plain": [
       "       borough_x  PU_total_trip_count  net_entries        total\n",
       "2      Manhattan             17016178  162311230.0  179327408.0\n",
       "1       Brooklyn               149480   72878938.0   73028418.0\n",
       "3         Queens              1096299   54052566.0   55148865.0\n",
       "0          Bronx                34281   31638430.0   31672711.0\n",
       "4  Staten Island                  161     774846.0     775007.0"
      ]
     },
     "execution_count": 103,
     "metadata": {},
     "output_type": "execute_result"
    }
   ],
   "source": [
    "df_taxi_subway_aggr = df_taxi_subway.groupby(\"borough_x\").sum()[['PU_total_trip_count' ,'net_entries']]\n",
    "df_taxi_subway_aggr.reset_index(inplace=True)\n",
    "df_taxi_subway_aggr['total'] = df_taxi_subway_aggr['PU_total_trip_count'] + df_taxi_subway_aggr['net_entries']\n",
    "df_taxi_subway_aggr.sort_values(['total'], ascending = False)"
   ]
  },
  {
   "cell_type": "markdown",
   "id": "b10bff44",
   "metadata": {},
   "source": [
    "# 4. Select the indicators for analysis"
   ]
  },
  {
   "cell_type": "code",
   "execution_count": 104,
   "id": "b5467c8d",
   "metadata": {},
   "outputs": [],
   "source": [
    "gdf_cd_small = df_taxi_subway_socio[[\n",
    "    'Car-free commute (% of commuters)',\n",
    "    'Disabled population',\n",
    "    'Foreign-born population',\n",
    "    'Mean travel time to work (minutes)',\n",
    "     'Median household income (2021$)',\n",
    "    'Percent Asian',\n",
    "     'Percent Black',\n",
    "     'Percent Hispanic',\n",
    "     'Percent white',\n",
    "     'Population',\n",
    "     'Population aged 25+ without a high school diploma',\n",
    "     'Population aged 65+',\n",
    "     'Population density (1,000 persons per square mile)',\n",
    "     'Poverty rate',\n",
    "     'Poverty rate, population aged 65+',\n",
    "     'Poverty rate, population under 18 years old',\n",
    "     'Public Housing (properties)',\n",
    "     'Public Housing (units)',\n",
    "     'Public housing (% of rental units)',\n",
    "     'Racial diversity index',\n",
    "     'Serious crime rate (per 1,000 residents)',\n",
    "     'Serious crime rate, property (per 1,000 residents)',\n",
    "     'Serious crime rate, violent (per 1,000 residents)',\n",
    "     'Unemployment rate',\n",
    "     'PU_average_fare',\n",
    "     'PU_average_duration (min)',\n",
    "     'PU_total_trip_count',\n",
    "     'station_counts',\n",
    "     'net_entries'\n",
    "]]"
   ]
  },
  {
   "cell_type": "markdown",
   "id": "a49a67d1",
   "metadata": {},
   "source": [
    "# Visualization 1: The analysis of the net entries to subway stations and total trip counts by taxi aggregated at the borough level "
   ]
  },
  {
   "cell_type": "code",
   "execution_count": 105,
   "id": "70e776f3",
   "metadata": {},
   "outputs": [
    {
     "data": {
      "application/vnd.plotly.v1+json": {
       "config": {
        "plotlyServerURL": "https://plot.ly"
       },
       "data": [
        {
         "alignmentgroup": "True",
         "hovertemplate": "<b>%{hovertext}</b><br><br>Transit type=Subway (net_entries)<br>borough=%{x}<br>value (log)=%{y}<extra></extra>",
         "hovertext": [
          "Bronx",
          "Brooklyn",
          "Manhattan",
          "Queens",
          "Staten Island"
         ],
         "legendgroup": "Subway (net_entries)",
         "marker": {
          "color": "green",
          "pattern": {
           "shape": ""
          }
         },
         "name": "Subway (net_entries)",
         "offsetgroup": "net_entries",
         "orientation": "v",
         "showlegend": true,
         "textposition": "auto",
         "type": "bar",
         "x": [
          "Bronx",
          "Brooklyn",
          "Manhattan",
          "Queens",
          "Staten Island"
         ],
         "xaxis": "x",
         "y": [
          31638430,
          72878938,
          162311230,
          54052566,
          774846
         ],
         "yaxis": "y"
        },
        {
         "alignmentgroup": "True",
         "hovertemplate": "<b>%{hovertext}</b><br><br>Transit type=Taxi (total trip count)<br>borough=%{x}<br>value (log)=%{y}<extra></extra>",
         "hovertext": [
          "Bronx",
          "Brooklyn",
          "Manhattan",
          "Queens",
          "Staten Island"
         ],
         "legendgroup": "Taxi (total trip count)",
         "marker": {
          "color": "blue",
          "pattern": {
           "shape": ""
          }
         },
         "name": "Taxi (total trip count)",
         "offsetgroup": "PU_total_trip_count",
         "orientation": "v",
         "showlegend": true,
         "textposition": "auto",
         "type": "bar",
         "x": [
          "Bronx",
          "Brooklyn",
          "Manhattan",
          "Queens",
          "Staten Island"
         ],
         "xaxis": "x",
         "y": [
          34281,
          149480,
          17016178,
          1096299,
          161
         ],
         "yaxis": "y"
        }
       ],
       "layout": {
        "autosize": false,
        "barmode": "group",
        "height": 500,
        "legend": {
         "title": {
          "text": "Transit type"
         },
         "tracegroupgap": 0
        },
        "template": {
         "data": {
          "bar": [
           {
            "error_x": {
             "color": "#2a3f5f"
            },
            "error_y": {
             "color": "#2a3f5f"
            },
            "marker": {
             "line": {
              "color": "#E5ECF6",
              "width": 0.5
             },
             "pattern": {
              "fillmode": "overlay",
              "size": 10,
              "solidity": 0.2
             }
            },
            "type": "bar"
           }
          ],
          "barpolar": [
           {
            "marker": {
             "line": {
              "color": "#E5ECF6",
              "width": 0.5
             },
             "pattern": {
              "fillmode": "overlay",
              "size": 10,
              "solidity": 0.2
             }
            },
            "type": "barpolar"
           }
          ],
          "carpet": [
           {
            "aaxis": {
             "endlinecolor": "#2a3f5f",
             "gridcolor": "white",
             "linecolor": "white",
             "minorgridcolor": "white",
             "startlinecolor": "#2a3f5f"
            },
            "baxis": {
             "endlinecolor": "#2a3f5f",
             "gridcolor": "white",
             "linecolor": "white",
             "minorgridcolor": "white",
             "startlinecolor": "#2a3f5f"
            },
            "type": "carpet"
           }
          ],
          "choropleth": [
           {
            "colorbar": {
             "outlinewidth": 0,
             "ticks": ""
            },
            "type": "choropleth"
           }
          ],
          "contour": [
           {
            "colorbar": {
             "outlinewidth": 0,
             "ticks": ""
            },
            "colorscale": [
             [
              0,
              "#0d0887"
             ],
             [
              0.1111111111111111,
              "#46039f"
             ],
             [
              0.2222222222222222,
              "#7201a8"
             ],
             [
              0.3333333333333333,
              "#9c179e"
             ],
             [
              0.4444444444444444,
              "#bd3786"
             ],
             [
              0.5555555555555556,
              "#d8576b"
             ],
             [
              0.6666666666666666,
              "#ed7953"
             ],
             [
              0.7777777777777778,
              "#fb9f3a"
             ],
             [
              0.8888888888888888,
              "#fdca26"
             ],
             [
              1,
              "#f0f921"
             ]
            ],
            "type": "contour"
           }
          ],
          "contourcarpet": [
           {
            "colorbar": {
             "outlinewidth": 0,
             "ticks": ""
            },
            "type": "contourcarpet"
           }
          ],
          "heatmap": [
           {
            "colorbar": {
             "outlinewidth": 0,
             "ticks": ""
            },
            "colorscale": [
             [
              0,
              "#0d0887"
             ],
             [
              0.1111111111111111,
              "#46039f"
             ],
             [
              0.2222222222222222,
              "#7201a8"
             ],
             [
              0.3333333333333333,
              "#9c179e"
             ],
             [
              0.4444444444444444,
              "#bd3786"
             ],
             [
              0.5555555555555556,
              "#d8576b"
             ],
             [
              0.6666666666666666,
              "#ed7953"
             ],
             [
              0.7777777777777778,
              "#fb9f3a"
             ],
             [
              0.8888888888888888,
              "#fdca26"
             ],
             [
              1,
              "#f0f921"
             ]
            ],
            "type": "heatmap"
           }
          ],
          "heatmapgl": [
           {
            "colorbar": {
             "outlinewidth": 0,
             "ticks": ""
            },
            "colorscale": [
             [
              0,
              "#0d0887"
             ],
             [
              0.1111111111111111,
              "#46039f"
             ],
             [
              0.2222222222222222,
              "#7201a8"
             ],
             [
              0.3333333333333333,
              "#9c179e"
             ],
             [
              0.4444444444444444,
              "#bd3786"
             ],
             [
              0.5555555555555556,
              "#d8576b"
             ],
             [
              0.6666666666666666,
              "#ed7953"
             ],
             [
              0.7777777777777778,
              "#fb9f3a"
             ],
             [
              0.8888888888888888,
              "#fdca26"
             ],
             [
              1,
              "#f0f921"
             ]
            ],
            "type": "heatmapgl"
           }
          ],
          "histogram": [
           {
            "marker": {
             "pattern": {
              "fillmode": "overlay",
              "size": 10,
              "solidity": 0.2
             }
            },
            "type": "histogram"
           }
          ],
          "histogram2d": [
           {
            "colorbar": {
             "outlinewidth": 0,
             "ticks": ""
            },
            "colorscale": [
             [
              0,
              "#0d0887"
             ],
             [
              0.1111111111111111,
              "#46039f"
             ],
             [
              0.2222222222222222,
              "#7201a8"
             ],
             [
              0.3333333333333333,
              "#9c179e"
             ],
             [
              0.4444444444444444,
              "#bd3786"
             ],
             [
              0.5555555555555556,
              "#d8576b"
             ],
             [
              0.6666666666666666,
              "#ed7953"
             ],
             [
              0.7777777777777778,
              "#fb9f3a"
             ],
             [
              0.8888888888888888,
              "#fdca26"
             ],
             [
              1,
              "#f0f921"
             ]
            ],
            "type": "histogram2d"
           }
          ],
          "histogram2dcontour": [
           {
            "colorbar": {
             "outlinewidth": 0,
             "ticks": ""
            },
            "colorscale": [
             [
              0,
              "#0d0887"
             ],
             [
              0.1111111111111111,
              "#46039f"
             ],
             [
              0.2222222222222222,
              "#7201a8"
             ],
             [
              0.3333333333333333,
              "#9c179e"
             ],
             [
              0.4444444444444444,
              "#bd3786"
             ],
             [
              0.5555555555555556,
              "#d8576b"
             ],
             [
              0.6666666666666666,
              "#ed7953"
             ],
             [
              0.7777777777777778,
              "#fb9f3a"
             ],
             [
              0.8888888888888888,
              "#fdca26"
             ],
             [
              1,
              "#f0f921"
             ]
            ],
            "type": "histogram2dcontour"
           }
          ],
          "mesh3d": [
           {
            "colorbar": {
             "outlinewidth": 0,
             "ticks": ""
            },
            "type": "mesh3d"
           }
          ],
          "parcoords": [
           {
            "line": {
             "colorbar": {
              "outlinewidth": 0,
              "ticks": ""
             }
            },
            "type": "parcoords"
           }
          ],
          "pie": [
           {
            "automargin": true,
            "type": "pie"
           }
          ],
          "scatter": [
           {
            "fillpattern": {
             "fillmode": "overlay",
             "size": 10,
             "solidity": 0.2
            },
            "type": "scatter"
           }
          ],
          "scatter3d": [
           {
            "line": {
             "colorbar": {
              "outlinewidth": 0,
              "ticks": ""
             }
            },
            "marker": {
             "colorbar": {
              "outlinewidth": 0,
              "ticks": ""
             }
            },
            "type": "scatter3d"
           }
          ],
          "scattercarpet": [
           {
            "marker": {
             "colorbar": {
              "outlinewidth": 0,
              "ticks": ""
             }
            },
            "type": "scattercarpet"
           }
          ],
          "scattergeo": [
           {
            "marker": {
             "colorbar": {
              "outlinewidth": 0,
              "ticks": ""
             }
            },
            "type": "scattergeo"
           }
          ],
          "scattergl": [
           {
            "marker": {
             "colorbar": {
              "outlinewidth": 0,
              "ticks": ""
             }
            },
            "type": "scattergl"
           }
          ],
          "scattermapbox": [
           {
            "marker": {
             "colorbar": {
              "outlinewidth": 0,
              "ticks": ""
             }
            },
            "type": "scattermapbox"
           }
          ],
          "scatterpolar": [
           {
            "marker": {
             "colorbar": {
              "outlinewidth": 0,
              "ticks": ""
             }
            },
            "type": "scatterpolar"
           }
          ],
          "scatterpolargl": [
           {
            "marker": {
             "colorbar": {
              "outlinewidth": 0,
              "ticks": ""
             }
            },
            "type": "scatterpolargl"
           }
          ],
          "scatterternary": [
           {
            "marker": {
             "colorbar": {
              "outlinewidth": 0,
              "ticks": ""
             }
            },
            "type": "scatterternary"
           }
          ],
          "surface": [
           {
            "colorbar": {
             "outlinewidth": 0,
             "ticks": ""
            },
            "colorscale": [
             [
              0,
              "#0d0887"
             ],
             [
              0.1111111111111111,
              "#46039f"
             ],
             [
              0.2222222222222222,
              "#7201a8"
             ],
             [
              0.3333333333333333,
              "#9c179e"
             ],
             [
              0.4444444444444444,
              "#bd3786"
             ],
             [
              0.5555555555555556,
              "#d8576b"
             ],
             [
              0.6666666666666666,
              "#ed7953"
             ],
             [
              0.7777777777777778,
              "#fb9f3a"
             ],
             [
              0.8888888888888888,
              "#fdca26"
             ],
             [
              1,
              "#f0f921"
             ]
            ],
            "type": "surface"
           }
          ],
          "table": [
           {
            "cells": {
             "fill": {
              "color": "#EBF0F8"
             },
             "line": {
              "color": "white"
             }
            },
            "header": {
             "fill": {
              "color": "#C8D4E3"
             },
             "line": {
              "color": "white"
             }
            },
            "type": "table"
           }
          ]
         },
         "layout": {
          "annotationdefaults": {
           "arrowcolor": "#2a3f5f",
           "arrowhead": 0,
           "arrowwidth": 1
          },
          "autotypenumbers": "strict",
          "coloraxis": {
           "colorbar": {
            "outlinewidth": 0,
            "ticks": ""
           }
          },
          "colorscale": {
           "diverging": [
            [
             0,
             "#8e0152"
            ],
            [
             0.1,
             "#c51b7d"
            ],
            [
             0.2,
             "#de77ae"
            ],
            [
             0.3,
             "#f1b6da"
            ],
            [
             0.4,
             "#fde0ef"
            ],
            [
             0.5,
             "#f7f7f7"
            ],
            [
             0.6,
             "#e6f5d0"
            ],
            [
             0.7,
             "#b8e186"
            ],
            [
             0.8,
             "#7fbc41"
            ],
            [
             0.9,
             "#4d9221"
            ],
            [
             1,
             "#276419"
            ]
           ],
           "sequential": [
            [
             0,
             "#0d0887"
            ],
            [
             0.1111111111111111,
             "#46039f"
            ],
            [
             0.2222222222222222,
             "#7201a8"
            ],
            [
             0.3333333333333333,
             "#9c179e"
            ],
            [
             0.4444444444444444,
             "#bd3786"
            ],
            [
             0.5555555555555556,
             "#d8576b"
            ],
            [
             0.6666666666666666,
             "#ed7953"
            ],
            [
             0.7777777777777778,
             "#fb9f3a"
            ],
            [
             0.8888888888888888,
             "#fdca26"
            ],
            [
             1,
             "#f0f921"
            ]
           ],
           "sequentialminus": [
            [
             0,
             "#0d0887"
            ],
            [
             0.1111111111111111,
             "#46039f"
            ],
            [
             0.2222222222222222,
             "#7201a8"
            ],
            [
             0.3333333333333333,
             "#9c179e"
            ],
            [
             0.4444444444444444,
             "#bd3786"
            ],
            [
             0.5555555555555556,
             "#d8576b"
            ],
            [
             0.6666666666666666,
             "#ed7953"
            ],
            [
             0.7777777777777778,
             "#fb9f3a"
            ],
            [
             0.8888888888888888,
             "#fdca26"
            ],
            [
             1,
             "#f0f921"
            ]
           ]
          },
          "colorway": [
           "#636efa",
           "#EF553B",
           "#00cc96",
           "#ab63fa",
           "#FFA15A",
           "#19d3f3",
           "#FF6692",
           "#B6E880",
           "#FF97FF",
           "#FECB52"
          ],
          "font": {
           "color": "#2a3f5f"
          },
          "geo": {
           "bgcolor": "white",
           "lakecolor": "white",
           "landcolor": "#E5ECF6",
           "showlakes": true,
           "showland": true,
           "subunitcolor": "white"
          },
          "hoverlabel": {
           "align": "left"
          },
          "hovermode": "closest",
          "mapbox": {
           "style": "light"
          },
          "paper_bgcolor": "white",
          "plot_bgcolor": "#E5ECF6",
          "polar": {
           "angularaxis": {
            "gridcolor": "white",
            "linecolor": "white",
            "ticks": ""
           },
           "bgcolor": "#E5ECF6",
           "radialaxis": {
            "gridcolor": "white",
            "linecolor": "white",
            "ticks": ""
           }
          },
          "scene": {
           "xaxis": {
            "backgroundcolor": "#E5ECF6",
            "gridcolor": "white",
            "gridwidth": 2,
            "linecolor": "white",
            "showbackground": true,
            "ticks": "",
            "zerolinecolor": "white"
           },
           "yaxis": {
            "backgroundcolor": "#E5ECF6",
            "gridcolor": "white",
            "gridwidth": 2,
            "linecolor": "white",
            "showbackground": true,
            "ticks": "",
            "zerolinecolor": "white"
           },
           "zaxis": {
            "backgroundcolor": "#E5ECF6",
            "gridcolor": "white",
            "gridwidth": 2,
            "linecolor": "white",
            "showbackground": true,
            "ticks": "",
            "zerolinecolor": "white"
           }
          },
          "shapedefaults": {
           "line": {
            "color": "#2a3f5f"
           }
          },
          "ternary": {
           "aaxis": {
            "gridcolor": "white",
            "linecolor": "white",
            "ticks": ""
           },
           "baxis": {
            "gridcolor": "white",
            "linecolor": "white",
            "ticks": ""
           },
           "bgcolor": "#E5ECF6",
           "caxis": {
            "gridcolor": "white",
            "linecolor": "white",
            "ticks": ""
           }
          },
          "title": {
           "x": 0.05
          },
          "xaxis": {
           "automargin": true,
           "gridcolor": "white",
           "linecolor": "white",
           "ticks": "",
           "title": {
            "standoff": 15
           },
           "zerolinecolor": "white",
           "zerolinewidth": 2
          },
          "yaxis": {
           "automargin": true,
           "gridcolor": "white",
           "linecolor": "white",
           "ticks": "",
           "title": {
            "standoff": 15
           },
           "zerolinecolor": "white",
           "zerolinewidth": 2
          }
         }
        },
        "title": {
         "text": "Subway is predominantly the most used mode of trasit in NYC"
        },
        "width": 700,
        "xaxis": {
         "anchor": "y",
         "domain": [
          0,
          1
         ],
         "title": {
          "text": "borough"
         }
        },
        "yaxis": {
         "anchor": "x",
         "domain": [
          0,
          1
         ],
         "title": {
          "text": "value (log)"
         },
         "type": "log"
        }
       }
      },
      "text/html": [
       "<div>                            <div id=\"8a192a13-7e01-4062-bf0a-e85a956879b3\" class=\"plotly-graph-div\" style=\"height:500px; width:700px;\"></div>            <script type=\"text/javascript\">                require([\"plotly\"], function(Plotly) {                    window.PLOTLYENV=window.PLOTLYENV || {};                                    if (document.getElementById(\"8a192a13-7e01-4062-bf0a-e85a956879b3\")) {                    Plotly.newPlot(                        \"8a192a13-7e01-4062-bf0a-e85a956879b3\",                        [{\"alignmentgroup\":\"True\",\"hovertemplate\":\"<b>%{hovertext}</b><br><br>Transit type=Subway (net_entries)<br>borough=%{x}<br>value (log)=%{y}<extra></extra>\",\"hovertext\":[\"Bronx\",\"Brooklyn\",\"Manhattan\",\"Queens\",\"Staten Island\"],\"legendgroup\":\"Subway (net_entries)\",\"marker\":{\"color\":\"green\",\"pattern\":{\"shape\":\"\"}},\"name\":\"Subway (net_entries)\",\"offsetgroup\":\"net_entries\",\"orientation\":\"v\",\"showlegend\":true,\"textposition\":\"auto\",\"x\":[\"Bronx\",\"Brooklyn\",\"Manhattan\",\"Queens\",\"Staten Island\"],\"xaxis\":\"x\",\"y\":[31638430.0,72878938.0,162311230.0,54052566.0,774846.0],\"yaxis\":\"y\",\"type\":\"bar\"},{\"alignmentgroup\":\"True\",\"hovertemplate\":\"<b>%{hovertext}</b><br><br>Transit type=Taxi (total trip count)<br>borough=%{x}<br>value (log)=%{y}<extra></extra>\",\"hovertext\":[\"Bronx\",\"Brooklyn\",\"Manhattan\",\"Queens\",\"Staten Island\"],\"legendgroup\":\"Taxi (total trip count)\",\"marker\":{\"color\":\"blue\",\"pattern\":{\"shape\":\"\"}},\"name\":\"Taxi (total trip count)\",\"offsetgroup\":\"PU_total_trip_count\",\"orientation\":\"v\",\"showlegend\":true,\"textposition\":\"auto\",\"x\":[\"Bronx\",\"Brooklyn\",\"Manhattan\",\"Queens\",\"Staten Island\"],\"xaxis\":\"x\",\"y\":[34281.0,149480.0,17016178.0,1096299.0,161.0],\"yaxis\":\"y\",\"type\":\"bar\"}],                        {\"template\":{\"data\":{\"histogram2dcontour\":[{\"type\":\"histogram2dcontour\",\"colorbar\":{\"outlinewidth\":0,\"ticks\":\"\"},\"colorscale\":[[0.0,\"#0d0887\"],[0.1111111111111111,\"#46039f\"],[0.2222222222222222,\"#7201a8\"],[0.3333333333333333,\"#9c179e\"],[0.4444444444444444,\"#bd3786\"],[0.5555555555555556,\"#d8576b\"],[0.6666666666666666,\"#ed7953\"],[0.7777777777777778,\"#fb9f3a\"],[0.8888888888888888,\"#fdca26\"],[1.0,\"#f0f921\"]]}],\"choropleth\":[{\"type\":\"choropleth\",\"colorbar\":{\"outlinewidth\":0,\"ticks\":\"\"}}],\"histogram2d\":[{\"type\":\"histogram2d\",\"colorbar\":{\"outlinewidth\":0,\"ticks\":\"\"},\"colorscale\":[[0.0,\"#0d0887\"],[0.1111111111111111,\"#46039f\"],[0.2222222222222222,\"#7201a8\"],[0.3333333333333333,\"#9c179e\"],[0.4444444444444444,\"#bd3786\"],[0.5555555555555556,\"#d8576b\"],[0.6666666666666666,\"#ed7953\"],[0.7777777777777778,\"#fb9f3a\"],[0.8888888888888888,\"#fdca26\"],[1.0,\"#f0f921\"]]}],\"heatmap\":[{\"type\":\"heatmap\",\"colorbar\":{\"outlinewidth\":0,\"ticks\":\"\"},\"colorscale\":[[0.0,\"#0d0887\"],[0.1111111111111111,\"#46039f\"],[0.2222222222222222,\"#7201a8\"],[0.3333333333333333,\"#9c179e\"],[0.4444444444444444,\"#bd3786\"],[0.5555555555555556,\"#d8576b\"],[0.6666666666666666,\"#ed7953\"],[0.7777777777777778,\"#fb9f3a\"],[0.8888888888888888,\"#fdca26\"],[1.0,\"#f0f921\"]]}],\"heatmapgl\":[{\"type\":\"heatmapgl\",\"colorbar\":{\"outlinewidth\":0,\"ticks\":\"\"},\"colorscale\":[[0.0,\"#0d0887\"],[0.1111111111111111,\"#46039f\"],[0.2222222222222222,\"#7201a8\"],[0.3333333333333333,\"#9c179e\"],[0.4444444444444444,\"#bd3786\"],[0.5555555555555556,\"#d8576b\"],[0.6666666666666666,\"#ed7953\"],[0.7777777777777778,\"#fb9f3a\"],[0.8888888888888888,\"#fdca26\"],[1.0,\"#f0f921\"]]}],\"contourcarpet\":[{\"type\":\"contourcarpet\",\"colorbar\":{\"outlinewidth\":0,\"ticks\":\"\"}}],\"contour\":[{\"type\":\"contour\",\"colorbar\":{\"outlinewidth\":0,\"ticks\":\"\"},\"colorscale\":[[0.0,\"#0d0887\"],[0.1111111111111111,\"#46039f\"],[0.2222222222222222,\"#7201a8\"],[0.3333333333333333,\"#9c179e\"],[0.4444444444444444,\"#bd3786\"],[0.5555555555555556,\"#d8576b\"],[0.6666666666666666,\"#ed7953\"],[0.7777777777777778,\"#fb9f3a\"],[0.8888888888888888,\"#fdca26\"],[1.0,\"#f0f921\"]]}],\"surface\":[{\"type\":\"surface\",\"colorbar\":{\"outlinewidth\":0,\"ticks\":\"\"},\"colorscale\":[[0.0,\"#0d0887\"],[0.1111111111111111,\"#46039f\"],[0.2222222222222222,\"#7201a8\"],[0.3333333333333333,\"#9c179e\"],[0.4444444444444444,\"#bd3786\"],[0.5555555555555556,\"#d8576b\"],[0.6666666666666666,\"#ed7953\"],[0.7777777777777778,\"#fb9f3a\"],[0.8888888888888888,\"#fdca26\"],[1.0,\"#f0f921\"]]}],\"mesh3d\":[{\"type\":\"mesh3d\",\"colorbar\":{\"outlinewidth\":0,\"ticks\":\"\"}}],\"scatter\":[{\"fillpattern\":{\"fillmode\":\"overlay\",\"size\":10,\"solidity\":0.2},\"type\":\"scatter\"}],\"parcoords\":[{\"type\":\"parcoords\",\"line\":{\"colorbar\":{\"outlinewidth\":0,\"ticks\":\"\"}}}],\"scatterpolargl\":[{\"type\":\"scatterpolargl\",\"marker\":{\"colorbar\":{\"outlinewidth\":0,\"ticks\":\"\"}}}],\"bar\":[{\"error_x\":{\"color\":\"#2a3f5f\"},\"error_y\":{\"color\":\"#2a3f5f\"},\"marker\":{\"line\":{\"color\":\"#E5ECF6\",\"width\":0.5},\"pattern\":{\"fillmode\":\"overlay\",\"size\":10,\"solidity\":0.2}},\"type\":\"bar\"}],\"scattergeo\":[{\"type\":\"scattergeo\",\"marker\":{\"colorbar\":{\"outlinewidth\":0,\"ticks\":\"\"}}}],\"scatterpolar\":[{\"type\":\"scatterpolar\",\"marker\":{\"colorbar\":{\"outlinewidth\":0,\"ticks\":\"\"}}}],\"histogram\":[{\"marker\":{\"pattern\":{\"fillmode\":\"overlay\",\"size\":10,\"solidity\":0.2}},\"type\":\"histogram\"}],\"scattergl\":[{\"type\":\"scattergl\",\"marker\":{\"colorbar\":{\"outlinewidth\":0,\"ticks\":\"\"}}}],\"scatter3d\":[{\"type\":\"scatter3d\",\"line\":{\"colorbar\":{\"outlinewidth\":0,\"ticks\":\"\"}},\"marker\":{\"colorbar\":{\"outlinewidth\":0,\"ticks\":\"\"}}}],\"scattermapbox\":[{\"type\":\"scattermapbox\",\"marker\":{\"colorbar\":{\"outlinewidth\":0,\"ticks\":\"\"}}}],\"scatterternary\":[{\"type\":\"scatterternary\",\"marker\":{\"colorbar\":{\"outlinewidth\":0,\"ticks\":\"\"}}}],\"scattercarpet\":[{\"type\":\"scattercarpet\",\"marker\":{\"colorbar\":{\"outlinewidth\":0,\"ticks\":\"\"}}}],\"carpet\":[{\"aaxis\":{\"endlinecolor\":\"#2a3f5f\",\"gridcolor\":\"white\",\"linecolor\":\"white\",\"minorgridcolor\":\"white\",\"startlinecolor\":\"#2a3f5f\"},\"baxis\":{\"endlinecolor\":\"#2a3f5f\",\"gridcolor\":\"white\",\"linecolor\":\"white\",\"minorgridcolor\":\"white\",\"startlinecolor\":\"#2a3f5f\"},\"type\":\"carpet\"}],\"table\":[{\"cells\":{\"fill\":{\"color\":\"#EBF0F8\"},\"line\":{\"color\":\"white\"}},\"header\":{\"fill\":{\"color\":\"#C8D4E3\"},\"line\":{\"color\":\"white\"}},\"type\":\"table\"}],\"barpolar\":[{\"marker\":{\"line\":{\"color\":\"#E5ECF6\",\"width\":0.5},\"pattern\":{\"fillmode\":\"overlay\",\"size\":10,\"solidity\":0.2}},\"type\":\"barpolar\"}],\"pie\":[{\"automargin\":true,\"type\":\"pie\"}]},\"layout\":{\"autotypenumbers\":\"strict\",\"colorway\":[\"#636efa\",\"#EF553B\",\"#00cc96\",\"#ab63fa\",\"#FFA15A\",\"#19d3f3\",\"#FF6692\",\"#B6E880\",\"#FF97FF\",\"#FECB52\"],\"font\":{\"color\":\"#2a3f5f\"},\"hovermode\":\"closest\",\"hoverlabel\":{\"align\":\"left\"},\"paper_bgcolor\":\"white\",\"plot_bgcolor\":\"#E5ECF6\",\"polar\":{\"bgcolor\":\"#E5ECF6\",\"angularaxis\":{\"gridcolor\":\"white\",\"linecolor\":\"white\",\"ticks\":\"\"},\"radialaxis\":{\"gridcolor\":\"white\",\"linecolor\":\"white\",\"ticks\":\"\"}},\"ternary\":{\"bgcolor\":\"#E5ECF6\",\"aaxis\":{\"gridcolor\":\"white\",\"linecolor\":\"white\",\"ticks\":\"\"},\"baxis\":{\"gridcolor\":\"white\",\"linecolor\":\"white\",\"ticks\":\"\"},\"caxis\":{\"gridcolor\":\"white\",\"linecolor\":\"white\",\"ticks\":\"\"}},\"coloraxis\":{\"colorbar\":{\"outlinewidth\":0,\"ticks\":\"\"}},\"colorscale\":{\"sequential\":[[0.0,\"#0d0887\"],[0.1111111111111111,\"#46039f\"],[0.2222222222222222,\"#7201a8\"],[0.3333333333333333,\"#9c179e\"],[0.4444444444444444,\"#bd3786\"],[0.5555555555555556,\"#d8576b\"],[0.6666666666666666,\"#ed7953\"],[0.7777777777777778,\"#fb9f3a\"],[0.8888888888888888,\"#fdca26\"],[1.0,\"#f0f921\"]],\"sequentialminus\":[[0.0,\"#0d0887\"],[0.1111111111111111,\"#46039f\"],[0.2222222222222222,\"#7201a8\"],[0.3333333333333333,\"#9c179e\"],[0.4444444444444444,\"#bd3786\"],[0.5555555555555556,\"#d8576b\"],[0.6666666666666666,\"#ed7953\"],[0.7777777777777778,\"#fb9f3a\"],[0.8888888888888888,\"#fdca26\"],[1.0,\"#f0f921\"]],\"diverging\":[[0,\"#8e0152\"],[0.1,\"#c51b7d\"],[0.2,\"#de77ae\"],[0.3,\"#f1b6da\"],[0.4,\"#fde0ef\"],[0.5,\"#f7f7f7\"],[0.6,\"#e6f5d0\"],[0.7,\"#b8e186\"],[0.8,\"#7fbc41\"],[0.9,\"#4d9221\"],[1,\"#276419\"]]},\"xaxis\":{\"gridcolor\":\"white\",\"linecolor\":\"white\",\"ticks\":\"\",\"title\":{\"standoff\":15},\"zerolinecolor\":\"white\",\"automargin\":true,\"zerolinewidth\":2},\"yaxis\":{\"gridcolor\":\"white\",\"linecolor\":\"white\",\"ticks\":\"\",\"title\":{\"standoff\":15},\"zerolinecolor\":\"white\",\"automargin\":true,\"zerolinewidth\":2},\"scene\":{\"xaxis\":{\"backgroundcolor\":\"#E5ECF6\",\"gridcolor\":\"white\",\"linecolor\":\"white\",\"showbackground\":true,\"ticks\":\"\",\"zerolinecolor\":\"white\",\"gridwidth\":2},\"yaxis\":{\"backgroundcolor\":\"#E5ECF6\",\"gridcolor\":\"white\",\"linecolor\":\"white\",\"showbackground\":true,\"ticks\":\"\",\"zerolinecolor\":\"white\",\"gridwidth\":2},\"zaxis\":{\"backgroundcolor\":\"#E5ECF6\",\"gridcolor\":\"white\",\"linecolor\":\"white\",\"showbackground\":true,\"ticks\":\"\",\"zerolinecolor\":\"white\",\"gridwidth\":2}},\"shapedefaults\":{\"line\":{\"color\":\"#2a3f5f\"}},\"annotationdefaults\":{\"arrowcolor\":\"#2a3f5f\",\"arrowhead\":0,\"arrowwidth\":1},\"geo\":{\"bgcolor\":\"white\",\"landcolor\":\"#E5ECF6\",\"subunitcolor\":\"white\",\"showland\":true,\"showlakes\":true,\"lakecolor\":\"white\"},\"title\":{\"x\":0.05},\"mapbox\":{\"style\":\"light\"}}},\"xaxis\":{\"anchor\":\"y\",\"domain\":[0.0,1.0],\"title\":{\"text\":\"borough\"}},\"yaxis\":{\"anchor\":\"x\",\"domain\":[0.0,1.0],\"title\":{\"text\":\"value (log)\"},\"type\":\"log\"},\"legend\":{\"title\":{\"text\":\"Transit type\"},\"tracegroupgap\":0},\"title\":{\"text\":\"Subway is predominantly the most used mode of trasit in NYC\"},\"barmode\":\"group\",\"autosize\":false,\"width\":700,\"height\":500},                        {\"responsive\": true}                    ).then(function(){\n",
       "                            \n",
       "var gd = document.getElementById('8a192a13-7e01-4062-bf0a-e85a956879b3');\n",
       "var x = new MutationObserver(function (mutations, observer) {{\n",
       "        var display = window.getComputedStyle(gd).display;\n",
       "        if (!display || display === 'none') {{\n",
       "            console.log([gd, 'removed!']);\n",
       "            Plotly.purge(gd);\n",
       "            observer.disconnect();\n",
       "        }}\n",
       "}});\n",
       "\n",
       "// Listen for the removal of the full notebook cells\n",
       "var notebookContainer = gd.closest('#notebook-container');\n",
       "if (notebookContainer) {{\n",
       "    x.observe(notebookContainer, {childList: true});\n",
       "}}\n",
       "\n",
       "// Listen for the clearing of the current output cell\n",
       "var outputEl = gd.closest('.output');\n",
       "if (outputEl) {{\n",
       "    x.observe(outputEl, {childList: true});\n",
       "}}\n",
       "\n",
       "                        })                };                });            </script>        </div>"
      ]
     },
     "metadata": {},
     "output_type": "display_data"
    }
   ],
   "source": [
    "# Stats based on total trips\n",
    "newnames = {'net_entries':'Subway (net_entries)', 'PU_total_trip_count': 'Taxi (total trip count)'}\n",
    "\n",
    "fig = px.bar(df_taxi_subway_aggr, \n",
    "             x='borough_x', \n",
    "             y=['net_entries','PU_total_trip_count'], \n",
    "             color_discrete_sequence=[\"green\", \"blue\"], \n",
    "             barmode=\"group\", log_y = True,\n",
    "             hover_name=\"borough_x\", \n",
    "             title=\"Subway is predominantly the most used mode of trasit in NYC\",\n",
    "             labels={\n",
    "                     \"variable\": \"Transit type\",\n",
    "                     \"borough_x\": 'borough',\n",
    "                     \"value\" : \"value (log)\"\n",
    "                 }\n",
    "            )\n",
    "\n",
    "fig.for_each_trace(lambda t: t.update(name = newnames[t.name],\n",
    "                                      legendgroup = newnames[t.name],\n",
    "                                      hovertemplate = t.hovertemplate.replace(t.name, newnames[t.name])\n",
    "                                     )\n",
    "                  )\n",
    "\n",
    "fig.update_layout(\n",
    "    autosize=False,\n",
    "    width=700,\n",
    "    height=500)"
   ]
  },
  {
   "cell_type": "raw",
   "id": "d6c53059",
   "metadata": {},
   "source": [
    "Main finding: The analysis shows that by a large margin people use the subway as their main mode of transportation."
   ]
  },
  {
   "cell_type": "markdown",
   "id": "a87971a2",
   "metadata": {},
   "source": [
    "# Visualization 2: Subway and Taxi aggregate data analysis as a percentage of total traffic"
   ]
  },
  {
   "cell_type": "code",
   "execution_count": 106,
   "id": "e150ced9",
   "metadata": {},
   "outputs": [],
   "source": [
    "df_taxi_subway_aggr['taxi_percent_borough'] = (df_taxi_subway_aggr['PU_total_trip_count'] / \n",
    "                  df_taxi_subway_aggr['total']) * 100\n",
    "\n",
    "df_taxi_subway_aggr['subway_percent_borough'] = (df_taxi_subway_aggr['net_entries'] / \n",
    "                  df_taxi_subway_aggr['total']) * 100\n",
    "\n",
    "df_taxi_subway_aggr['taxi_percent'] = (df_taxi_subway_aggr['PU_total_trip_count'] / \n",
    "                  df_taxi_subway_aggr['PU_total_trip_count'].sum()) * 100\n",
    "\n",
    "df_taxi_subway_aggr['subway_percent'] = (df_taxi_subway_aggr['net_entries'] / \n",
    "                  df_taxi_subway_aggr['net_entries'].sum()) * 100"
   ]
  },
  {
   "cell_type": "code",
   "execution_count": 107,
   "id": "9ec9ed7f",
   "metadata": {},
   "outputs": [
    {
     "data": {
      "application/vnd.plotly.v1+json": {
       "config": {
        "plotlyServerURL": "https://plot.ly"
       },
       "data": [
        {
         "domain": {
          "x": [
           0,
           1
          ],
          "y": [
           0,
           1
          ]
         },
         "hovertemplate": "borough_x=%{label}<br>taxi_percent=%{value}<extra></extra>",
         "labels": [
          "Bronx",
          "Brooklyn",
          "Manhattan",
          "Queens",
          "Staten Island"
         ],
         "legendgroup": "",
         "name": "",
         "showlegend": true,
         "type": "pie",
         "values": [
          0.18736473772789936,
          0.8169913653500888,
          93.0028799656151,
          5.991883976732252,
          0.0008799545746679443
         ]
        }
       ],
       "layout": {
        "autosize": false,
        "height": 400,
        "legend": {
         "tracegroupgap": 0
        },
        "template": {
         "data": {
          "bar": [
           {
            "error_x": {
             "color": "#2a3f5f"
            },
            "error_y": {
             "color": "#2a3f5f"
            },
            "marker": {
             "line": {
              "color": "#E5ECF6",
              "width": 0.5
             },
             "pattern": {
              "fillmode": "overlay",
              "size": 10,
              "solidity": 0.2
             }
            },
            "type": "bar"
           }
          ],
          "barpolar": [
           {
            "marker": {
             "line": {
              "color": "#E5ECF6",
              "width": 0.5
             },
             "pattern": {
              "fillmode": "overlay",
              "size": 10,
              "solidity": 0.2
             }
            },
            "type": "barpolar"
           }
          ],
          "carpet": [
           {
            "aaxis": {
             "endlinecolor": "#2a3f5f",
             "gridcolor": "white",
             "linecolor": "white",
             "minorgridcolor": "white",
             "startlinecolor": "#2a3f5f"
            },
            "baxis": {
             "endlinecolor": "#2a3f5f",
             "gridcolor": "white",
             "linecolor": "white",
             "minorgridcolor": "white",
             "startlinecolor": "#2a3f5f"
            },
            "type": "carpet"
           }
          ],
          "choropleth": [
           {
            "colorbar": {
             "outlinewidth": 0,
             "ticks": ""
            },
            "type": "choropleth"
           }
          ],
          "contour": [
           {
            "colorbar": {
             "outlinewidth": 0,
             "ticks": ""
            },
            "colorscale": [
             [
              0,
              "#0d0887"
             ],
             [
              0.1111111111111111,
              "#46039f"
             ],
             [
              0.2222222222222222,
              "#7201a8"
             ],
             [
              0.3333333333333333,
              "#9c179e"
             ],
             [
              0.4444444444444444,
              "#bd3786"
             ],
             [
              0.5555555555555556,
              "#d8576b"
             ],
             [
              0.6666666666666666,
              "#ed7953"
             ],
             [
              0.7777777777777778,
              "#fb9f3a"
             ],
             [
              0.8888888888888888,
              "#fdca26"
             ],
             [
              1,
              "#f0f921"
             ]
            ],
            "type": "contour"
           }
          ],
          "contourcarpet": [
           {
            "colorbar": {
             "outlinewidth": 0,
             "ticks": ""
            },
            "type": "contourcarpet"
           }
          ],
          "heatmap": [
           {
            "colorbar": {
             "outlinewidth": 0,
             "ticks": ""
            },
            "colorscale": [
             [
              0,
              "#0d0887"
             ],
             [
              0.1111111111111111,
              "#46039f"
             ],
             [
              0.2222222222222222,
              "#7201a8"
             ],
             [
              0.3333333333333333,
              "#9c179e"
             ],
             [
              0.4444444444444444,
              "#bd3786"
             ],
             [
              0.5555555555555556,
              "#d8576b"
             ],
             [
              0.6666666666666666,
              "#ed7953"
             ],
             [
              0.7777777777777778,
              "#fb9f3a"
             ],
             [
              0.8888888888888888,
              "#fdca26"
             ],
             [
              1,
              "#f0f921"
             ]
            ],
            "type": "heatmap"
           }
          ],
          "heatmapgl": [
           {
            "colorbar": {
             "outlinewidth": 0,
             "ticks": ""
            },
            "colorscale": [
             [
              0,
              "#0d0887"
             ],
             [
              0.1111111111111111,
              "#46039f"
             ],
             [
              0.2222222222222222,
              "#7201a8"
             ],
             [
              0.3333333333333333,
              "#9c179e"
             ],
             [
              0.4444444444444444,
              "#bd3786"
             ],
             [
              0.5555555555555556,
              "#d8576b"
             ],
             [
              0.6666666666666666,
              "#ed7953"
             ],
             [
              0.7777777777777778,
              "#fb9f3a"
             ],
             [
              0.8888888888888888,
              "#fdca26"
             ],
             [
              1,
              "#f0f921"
             ]
            ],
            "type": "heatmapgl"
           }
          ],
          "histogram": [
           {
            "marker": {
             "pattern": {
              "fillmode": "overlay",
              "size": 10,
              "solidity": 0.2
             }
            },
            "type": "histogram"
           }
          ],
          "histogram2d": [
           {
            "colorbar": {
             "outlinewidth": 0,
             "ticks": ""
            },
            "colorscale": [
             [
              0,
              "#0d0887"
             ],
             [
              0.1111111111111111,
              "#46039f"
             ],
             [
              0.2222222222222222,
              "#7201a8"
             ],
             [
              0.3333333333333333,
              "#9c179e"
             ],
             [
              0.4444444444444444,
              "#bd3786"
             ],
             [
              0.5555555555555556,
              "#d8576b"
             ],
             [
              0.6666666666666666,
              "#ed7953"
             ],
             [
              0.7777777777777778,
              "#fb9f3a"
             ],
             [
              0.8888888888888888,
              "#fdca26"
             ],
             [
              1,
              "#f0f921"
             ]
            ],
            "type": "histogram2d"
           }
          ],
          "histogram2dcontour": [
           {
            "colorbar": {
             "outlinewidth": 0,
             "ticks": ""
            },
            "colorscale": [
             [
              0,
              "#0d0887"
             ],
             [
              0.1111111111111111,
              "#46039f"
             ],
             [
              0.2222222222222222,
              "#7201a8"
             ],
             [
              0.3333333333333333,
              "#9c179e"
             ],
             [
              0.4444444444444444,
              "#bd3786"
             ],
             [
              0.5555555555555556,
              "#d8576b"
             ],
             [
              0.6666666666666666,
              "#ed7953"
             ],
             [
              0.7777777777777778,
              "#fb9f3a"
             ],
             [
              0.8888888888888888,
              "#fdca26"
             ],
             [
              1,
              "#f0f921"
             ]
            ],
            "type": "histogram2dcontour"
           }
          ],
          "mesh3d": [
           {
            "colorbar": {
             "outlinewidth": 0,
             "ticks": ""
            },
            "type": "mesh3d"
           }
          ],
          "parcoords": [
           {
            "line": {
             "colorbar": {
              "outlinewidth": 0,
              "ticks": ""
             }
            },
            "type": "parcoords"
           }
          ],
          "pie": [
           {
            "automargin": true,
            "type": "pie"
           }
          ],
          "scatter": [
           {
            "fillpattern": {
             "fillmode": "overlay",
             "size": 10,
             "solidity": 0.2
            },
            "type": "scatter"
           }
          ],
          "scatter3d": [
           {
            "line": {
             "colorbar": {
              "outlinewidth": 0,
              "ticks": ""
             }
            },
            "marker": {
             "colorbar": {
              "outlinewidth": 0,
              "ticks": ""
             }
            },
            "type": "scatter3d"
           }
          ],
          "scattercarpet": [
           {
            "marker": {
             "colorbar": {
              "outlinewidth": 0,
              "ticks": ""
             }
            },
            "type": "scattercarpet"
           }
          ],
          "scattergeo": [
           {
            "marker": {
             "colorbar": {
              "outlinewidth": 0,
              "ticks": ""
             }
            },
            "type": "scattergeo"
           }
          ],
          "scattergl": [
           {
            "marker": {
             "colorbar": {
              "outlinewidth": 0,
              "ticks": ""
             }
            },
            "type": "scattergl"
           }
          ],
          "scattermapbox": [
           {
            "marker": {
             "colorbar": {
              "outlinewidth": 0,
              "ticks": ""
             }
            },
            "type": "scattermapbox"
           }
          ],
          "scatterpolar": [
           {
            "marker": {
             "colorbar": {
              "outlinewidth": 0,
              "ticks": ""
             }
            },
            "type": "scatterpolar"
           }
          ],
          "scatterpolargl": [
           {
            "marker": {
             "colorbar": {
              "outlinewidth": 0,
              "ticks": ""
             }
            },
            "type": "scatterpolargl"
           }
          ],
          "scatterternary": [
           {
            "marker": {
             "colorbar": {
              "outlinewidth": 0,
              "ticks": ""
             }
            },
            "type": "scatterternary"
           }
          ],
          "surface": [
           {
            "colorbar": {
             "outlinewidth": 0,
             "ticks": ""
            },
            "colorscale": [
             [
              0,
              "#0d0887"
             ],
             [
              0.1111111111111111,
              "#46039f"
             ],
             [
              0.2222222222222222,
              "#7201a8"
             ],
             [
              0.3333333333333333,
              "#9c179e"
             ],
             [
              0.4444444444444444,
              "#bd3786"
             ],
             [
              0.5555555555555556,
              "#d8576b"
             ],
             [
              0.6666666666666666,
              "#ed7953"
             ],
             [
              0.7777777777777778,
              "#fb9f3a"
             ],
             [
              0.8888888888888888,
              "#fdca26"
             ],
             [
              1,
              "#f0f921"
             ]
            ],
            "type": "surface"
           }
          ],
          "table": [
           {
            "cells": {
             "fill": {
              "color": "#EBF0F8"
             },
             "line": {
              "color": "white"
             }
            },
            "header": {
             "fill": {
              "color": "#C8D4E3"
             },
             "line": {
              "color": "white"
             }
            },
            "type": "table"
           }
          ]
         },
         "layout": {
          "annotationdefaults": {
           "arrowcolor": "#2a3f5f",
           "arrowhead": 0,
           "arrowwidth": 1
          },
          "autotypenumbers": "strict",
          "coloraxis": {
           "colorbar": {
            "outlinewidth": 0,
            "ticks": ""
           }
          },
          "colorscale": {
           "diverging": [
            [
             0,
             "#8e0152"
            ],
            [
             0.1,
             "#c51b7d"
            ],
            [
             0.2,
             "#de77ae"
            ],
            [
             0.3,
             "#f1b6da"
            ],
            [
             0.4,
             "#fde0ef"
            ],
            [
             0.5,
             "#f7f7f7"
            ],
            [
             0.6,
             "#e6f5d0"
            ],
            [
             0.7,
             "#b8e186"
            ],
            [
             0.8,
             "#7fbc41"
            ],
            [
             0.9,
             "#4d9221"
            ],
            [
             1,
             "#276419"
            ]
           ],
           "sequential": [
            [
             0,
             "#0d0887"
            ],
            [
             0.1111111111111111,
             "#46039f"
            ],
            [
             0.2222222222222222,
             "#7201a8"
            ],
            [
             0.3333333333333333,
             "#9c179e"
            ],
            [
             0.4444444444444444,
             "#bd3786"
            ],
            [
             0.5555555555555556,
             "#d8576b"
            ],
            [
             0.6666666666666666,
             "#ed7953"
            ],
            [
             0.7777777777777778,
             "#fb9f3a"
            ],
            [
             0.8888888888888888,
             "#fdca26"
            ],
            [
             1,
             "#f0f921"
            ]
           ],
           "sequentialminus": [
            [
             0,
             "#0d0887"
            ],
            [
             0.1111111111111111,
             "#46039f"
            ],
            [
             0.2222222222222222,
             "#7201a8"
            ],
            [
             0.3333333333333333,
             "#9c179e"
            ],
            [
             0.4444444444444444,
             "#bd3786"
            ],
            [
             0.5555555555555556,
             "#d8576b"
            ],
            [
             0.6666666666666666,
             "#ed7953"
            ],
            [
             0.7777777777777778,
             "#fb9f3a"
            ],
            [
             0.8888888888888888,
             "#fdca26"
            ],
            [
             1,
             "#f0f921"
            ]
           ]
          },
          "colorway": [
           "#636efa",
           "#EF553B",
           "#00cc96",
           "#ab63fa",
           "#FFA15A",
           "#19d3f3",
           "#FF6692",
           "#B6E880",
           "#FF97FF",
           "#FECB52"
          ],
          "font": {
           "color": "#2a3f5f"
          },
          "geo": {
           "bgcolor": "white",
           "lakecolor": "white",
           "landcolor": "#E5ECF6",
           "showlakes": true,
           "showland": true,
           "subunitcolor": "white"
          },
          "hoverlabel": {
           "align": "left"
          },
          "hovermode": "closest",
          "mapbox": {
           "style": "light"
          },
          "paper_bgcolor": "white",
          "plot_bgcolor": "#E5ECF6",
          "polar": {
           "angularaxis": {
            "gridcolor": "white",
            "linecolor": "white",
            "ticks": ""
           },
           "bgcolor": "#E5ECF6",
           "radialaxis": {
            "gridcolor": "white",
            "linecolor": "white",
            "ticks": ""
           }
          },
          "scene": {
           "xaxis": {
            "backgroundcolor": "#E5ECF6",
            "gridcolor": "white",
            "gridwidth": 2,
            "linecolor": "white",
            "showbackground": true,
            "ticks": "",
            "zerolinecolor": "white"
           },
           "yaxis": {
            "backgroundcolor": "#E5ECF6",
            "gridcolor": "white",
            "gridwidth": 2,
            "linecolor": "white",
            "showbackground": true,
            "ticks": "",
            "zerolinecolor": "white"
           },
           "zaxis": {
            "backgroundcolor": "#E5ECF6",
            "gridcolor": "white",
            "gridwidth": 2,
            "linecolor": "white",
            "showbackground": true,
            "ticks": "",
            "zerolinecolor": "white"
           }
          },
          "shapedefaults": {
           "line": {
            "color": "#2a3f5f"
           }
          },
          "ternary": {
           "aaxis": {
            "gridcolor": "white",
            "linecolor": "white",
            "ticks": ""
           },
           "baxis": {
            "gridcolor": "white",
            "linecolor": "white",
            "ticks": ""
           },
           "bgcolor": "#E5ECF6",
           "caxis": {
            "gridcolor": "white",
            "linecolor": "white",
            "ticks": ""
           }
          },
          "title": {
           "x": 0.05
          },
          "xaxis": {
           "automargin": true,
           "gridcolor": "white",
           "linecolor": "white",
           "ticks": "",
           "title": {
            "standoff": 15
           },
           "zerolinecolor": "white",
           "zerolinewidth": 2
          },
          "yaxis": {
           "automargin": true,
           "gridcolor": "white",
           "linecolor": "white",
           "ticks": "",
           "title": {
            "standoff": 15
           },
           "zerolinecolor": "white",
           "zerolinewidth": 2
          }
         }
        },
        "title": {
         "text": "Taxi usage by Boroughs"
        },
        "width": 400
       }
      },
      "text/html": [
       "<div>                            <div id=\"fb09600f-544d-4f8d-a216-145920c9a913\" class=\"plotly-graph-div\" style=\"height:400px; width:400px;\"></div>            <script type=\"text/javascript\">                require([\"plotly\"], function(Plotly) {                    window.PLOTLYENV=window.PLOTLYENV || {};                                    if (document.getElementById(\"fb09600f-544d-4f8d-a216-145920c9a913\")) {                    Plotly.newPlot(                        \"fb09600f-544d-4f8d-a216-145920c9a913\",                        [{\"domain\":{\"x\":[0.0,1.0],\"y\":[0.0,1.0]},\"hovertemplate\":\"borough_x=%{label}<br>taxi_percent=%{value}<extra></extra>\",\"labels\":[\"Bronx\",\"Brooklyn\",\"Manhattan\",\"Queens\",\"Staten Island\"],\"legendgroup\":\"\",\"name\":\"\",\"showlegend\":true,\"values\":[0.18736473772789936,0.8169913653500888,93.0028799656151,5.991883976732252,0.0008799545746679443],\"type\":\"pie\"}],                        {\"template\":{\"data\":{\"histogram2dcontour\":[{\"type\":\"histogram2dcontour\",\"colorbar\":{\"outlinewidth\":0,\"ticks\":\"\"},\"colorscale\":[[0.0,\"#0d0887\"],[0.1111111111111111,\"#46039f\"],[0.2222222222222222,\"#7201a8\"],[0.3333333333333333,\"#9c179e\"],[0.4444444444444444,\"#bd3786\"],[0.5555555555555556,\"#d8576b\"],[0.6666666666666666,\"#ed7953\"],[0.7777777777777778,\"#fb9f3a\"],[0.8888888888888888,\"#fdca26\"],[1.0,\"#f0f921\"]]}],\"choropleth\":[{\"type\":\"choropleth\",\"colorbar\":{\"outlinewidth\":0,\"ticks\":\"\"}}],\"histogram2d\":[{\"type\":\"histogram2d\",\"colorbar\":{\"outlinewidth\":0,\"ticks\":\"\"},\"colorscale\":[[0.0,\"#0d0887\"],[0.1111111111111111,\"#46039f\"],[0.2222222222222222,\"#7201a8\"],[0.3333333333333333,\"#9c179e\"],[0.4444444444444444,\"#bd3786\"],[0.5555555555555556,\"#d8576b\"],[0.6666666666666666,\"#ed7953\"],[0.7777777777777778,\"#fb9f3a\"],[0.8888888888888888,\"#fdca26\"],[1.0,\"#f0f921\"]]}],\"heatmap\":[{\"type\":\"heatmap\",\"colorbar\":{\"outlinewidth\":0,\"ticks\":\"\"},\"colorscale\":[[0.0,\"#0d0887\"],[0.1111111111111111,\"#46039f\"],[0.2222222222222222,\"#7201a8\"],[0.3333333333333333,\"#9c179e\"],[0.4444444444444444,\"#bd3786\"],[0.5555555555555556,\"#d8576b\"],[0.6666666666666666,\"#ed7953\"],[0.7777777777777778,\"#fb9f3a\"],[0.8888888888888888,\"#fdca26\"],[1.0,\"#f0f921\"]]}],\"heatmapgl\":[{\"type\":\"heatmapgl\",\"colorbar\":{\"outlinewidth\":0,\"ticks\":\"\"},\"colorscale\":[[0.0,\"#0d0887\"],[0.1111111111111111,\"#46039f\"],[0.2222222222222222,\"#7201a8\"],[0.3333333333333333,\"#9c179e\"],[0.4444444444444444,\"#bd3786\"],[0.5555555555555556,\"#d8576b\"],[0.6666666666666666,\"#ed7953\"],[0.7777777777777778,\"#fb9f3a\"],[0.8888888888888888,\"#fdca26\"],[1.0,\"#f0f921\"]]}],\"contourcarpet\":[{\"type\":\"contourcarpet\",\"colorbar\":{\"outlinewidth\":0,\"ticks\":\"\"}}],\"contour\":[{\"type\":\"contour\",\"colorbar\":{\"outlinewidth\":0,\"ticks\":\"\"},\"colorscale\":[[0.0,\"#0d0887\"],[0.1111111111111111,\"#46039f\"],[0.2222222222222222,\"#7201a8\"],[0.3333333333333333,\"#9c179e\"],[0.4444444444444444,\"#bd3786\"],[0.5555555555555556,\"#d8576b\"],[0.6666666666666666,\"#ed7953\"],[0.7777777777777778,\"#fb9f3a\"],[0.8888888888888888,\"#fdca26\"],[1.0,\"#f0f921\"]]}],\"surface\":[{\"type\":\"surface\",\"colorbar\":{\"outlinewidth\":0,\"ticks\":\"\"},\"colorscale\":[[0.0,\"#0d0887\"],[0.1111111111111111,\"#46039f\"],[0.2222222222222222,\"#7201a8\"],[0.3333333333333333,\"#9c179e\"],[0.4444444444444444,\"#bd3786\"],[0.5555555555555556,\"#d8576b\"],[0.6666666666666666,\"#ed7953\"],[0.7777777777777778,\"#fb9f3a\"],[0.8888888888888888,\"#fdca26\"],[1.0,\"#f0f921\"]]}],\"mesh3d\":[{\"type\":\"mesh3d\",\"colorbar\":{\"outlinewidth\":0,\"ticks\":\"\"}}],\"scatter\":[{\"fillpattern\":{\"fillmode\":\"overlay\",\"size\":10,\"solidity\":0.2},\"type\":\"scatter\"}],\"parcoords\":[{\"type\":\"parcoords\",\"line\":{\"colorbar\":{\"outlinewidth\":0,\"ticks\":\"\"}}}],\"scatterpolargl\":[{\"type\":\"scatterpolargl\",\"marker\":{\"colorbar\":{\"outlinewidth\":0,\"ticks\":\"\"}}}],\"bar\":[{\"error_x\":{\"color\":\"#2a3f5f\"},\"error_y\":{\"color\":\"#2a3f5f\"},\"marker\":{\"line\":{\"color\":\"#E5ECF6\",\"width\":0.5},\"pattern\":{\"fillmode\":\"overlay\",\"size\":10,\"solidity\":0.2}},\"type\":\"bar\"}],\"scattergeo\":[{\"type\":\"scattergeo\",\"marker\":{\"colorbar\":{\"outlinewidth\":0,\"ticks\":\"\"}}}],\"scatterpolar\":[{\"type\":\"scatterpolar\",\"marker\":{\"colorbar\":{\"outlinewidth\":0,\"ticks\":\"\"}}}],\"histogram\":[{\"marker\":{\"pattern\":{\"fillmode\":\"overlay\",\"size\":10,\"solidity\":0.2}},\"type\":\"histogram\"}],\"scattergl\":[{\"type\":\"scattergl\",\"marker\":{\"colorbar\":{\"outlinewidth\":0,\"ticks\":\"\"}}}],\"scatter3d\":[{\"type\":\"scatter3d\",\"line\":{\"colorbar\":{\"outlinewidth\":0,\"ticks\":\"\"}},\"marker\":{\"colorbar\":{\"outlinewidth\":0,\"ticks\":\"\"}}}],\"scattermapbox\":[{\"type\":\"scattermapbox\",\"marker\":{\"colorbar\":{\"outlinewidth\":0,\"ticks\":\"\"}}}],\"scatterternary\":[{\"type\":\"scatterternary\",\"marker\":{\"colorbar\":{\"outlinewidth\":0,\"ticks\":\"\"}}}],\"scattercarpet\":[{\"type\":\"scattercarpet\",\"marker\":{\"colorbar\":{\"outlinewidth\":0,\"ticks\":\"\"}}}],\"carpet\":[{\"aaxis\":{\"endlinecolor\":\"#2a3f5f\",\"gridcolor\":\"white\",\"linecolor\":\"white\",\"minorgridcolor\":\"white\",\"startlinecolor\":\"#2a3f5f\"},\"baxis\":{\"endlinecolor\":\"#2a3f5f\",\"gridcolor\":\"white\",\"linecolor\":\"white\",\"minorgridcolor\":\"white\",\"startlinecolor\":\"#2a3f5f\"},\"type\":\"carpet\"}],\"table\":[{\"cells\":{\"fill\":{\"color\":\"#EBF0F8\"},\"line\":{\"color\":\"white\"}},\"header\":{\"fill\":{\"color\":\"#C8D4E3\"},\"line\":{\"color\":\"white\"}},\"type\":\"table\"}],\"barpolar\":[{\"marker\":{\"line\":{\"color\":\"#E5ECF6\",\"width\":0.5},\"pattern\":{\"fillmode\":\"overlay\",\"size\":10,\"solidity\":0.2}},\"type\":\"barpolar\"}],\"pie\":[{\"automargin\":true,\"type\":\"pie\"}]},\"layout\":{\"autotypenumbers\":\"strict\",\"colorway\":[\"#636efa\",\"#EF553B\",\"#00cc96\",\"#ab63fa\",\"#FFA15A\",\"#19d3f3\",\"#FF6692\",\"#B6E880\",\"#FF97FF\",\"#FECB52\"],\"font\":{\"color\":\"#2a3f5f\"},\"hovermode\":\"closest\",\"hoverlabel\":{\"align\":\"left\"},\"paper_bgcolor\":\"white\",\"plot_bgcolor\":\"#E5ECF6\",\"polar\":{\"bgcolor\":\"#E5ECF6\",\"angularaxis\":{\"gridcolor\":\"white\",\"linecolor\":\"white\",\"ticks\":\"\"},\"radialaxis\":{\"gridcolor\":\"white\",\"linecolor\":\"white\",\"ticks\":\"\"}},\"ternary\":{\"bgcolor\":\"#E5ECF6\",\"aaxis\":{\"gridcolor\":\"white\",\"linecolor\":\"white\",\"ticks\":\"\"},\"baxis\":{\"gridcolor\":\"white\",\"linecolor\":\"white\",\"ticks\":\"\"},\"caxis\":{\"gridcolor\":\"white\",\"linecolor\":\"white\",\"ticks\":\"\"}},\"coloraxis\":{\"colorbar\":{\"outlinewidth\":0,\"ticks\":\"\"}},\"colorscale\":{\"sequential\":[[0.0,\"#0d0887\"],[0.1111111111111111,\"#46039f\"],[0.2222222222222222,\"#7201a8\"],[0.3333333333333333,\"#9c179e\"],[0.4444444444444444,\"#bd3786\"],[0.5555555555555556,\"#d8576b\"],[0.6666666666666666,\"#ed7953\"],[0.7777777777777778,\"#fb9f3a\"],[0.8888888888888888,\"#fdca26\"],[1.0,\"#f0f921\"]],\"sequentialminus\":[[0.0,\"#0d0887\"],[0.1111111111111111,\"#46039f\"],[0.2222222222222222,\"#7201a8\"],[0.3333333333333333,\"#9c179e\"],[0.4444444444444444,\"#bd3786\"],[0.5555555555555556,\"#d8576b\"],[0.6666666666666666,\"#ed7953\"],[0.7777777777777778,\"#fb9f3a\"],[0.8888888888888888,\"#fdca26\"],[1.0,\"#f0f921\"]],\"diverging\":[[0,\"#8e0152\"],[0.1,\"#c51b7d\"],[0.2,\"#de77ae\"],[0.3,\"#f1b6da\"],[0.4,\"#fde0ef\"],[0.5,\"#f7f7f7\"],[0.6,\"#e6f5d0\"],[0.7,\"#b8e186\"],[0.8,\"#7fbc41\"],[0.9,\"#4d9221\"],[1,\"#276419\"]]},\"xaxis\":{\"gridcolor\":\"white\",\"linecolor\":\"white\",\"ticks\":\"\",\"title\":{\"standoff\":15},\"zerolinecolor\":\"white\",\"automargin\":true,\"zerolinewidth\":2},\"yaxis\":{\"gridcolor\":\"white\",\"linecolor\":\"white\",\"ticks\":\"\",\"title\":{\"standoff\":15},\"zerolinecolor\":\"white\",\"automargin\":true,\"zerolinewidth\":2},\"scene\":{\"xaxis\":{\"backgroundcolor\":\"#E5ECF6\",\"gridcolor\":\"white\",\"linecolor\":\"white\",\"showbackground\":true,\"ticks\":\"\",\"zerolinecolor\":\"white\",\"gridwidth\":2},\"yaxis\":{\"backgroundcolor\":\"#E5ECF6\",\"gridcolor\":\"white\",\"linecolor\":\"white\",\"showbackground\":true,\"ticks\":\"\",\"zerolinecolor\":\"white\",\"gridwidth\":2},\"zaxis\":{\"backgroundcolor\":\"#E5ECF6\",\"gridcolor\":\"white\",\"linecolor\":\"white\",\"showbackground\":true,\"ticks\":\"\",\"zerolinecolor\":\"white\",\"gridwidth\":2}},\"shapedefaults\":{\"line\":{\"color\":\"#2a3f5f\"}},\"annotationdefaults\":{\"arrowcolor\":\"#2a3f5f\",\"arrowhead\":0,\"arrowwidth\":1},\"geo\":{\"bgcolor\":\"white\",\"landcolor\":\"#E5ECF6\",\"subunitcolor\":\"white\",\"showland\":true,\"showlakes\":true,\"lakecolor\":\"white\"},\"title\":{\"x\":0.05},\"mapbox\":{\"style\":\"light\"}}},\"legend\":{\"tracegroupgap\":0},\"title\":{\"text\":\"Taxi usage by Boroughs\"},\"autosize\":false,\"width\":400,\"height\":400},                        {\"responsive\": true}                    ).then(function(){\n",
       "                            \n",
       "var gd = document.getElementById('fb09600f-544d-4f8d-a216-145920c9a913');\n",
       "var x = new MutationObserver(function (mutations, observer) {{\n",
       "        var display = window.getComputedStyle(gd).display;\n",
       "        if (!display || display === 'none') {{\n",
       "            console.log([gd, 'removed!']);\n",
       "            Plotly.purge(gd);\n",
       "            observer.disconnect();\n",
       "        }}\n",
       "}});\n",
       "\n",
       "// Listen for the removal of the full notebook cells\n",
       "var notebookContainer = gd.closest('#notebook-container');\n",
       "if (notebookContainer) {{\n",
       "    x.observe(notebookContainer, {childList: true});\n",
       "}}\n",
       "\n",
       "// Listen for the clearing of the current output cell\n",
       "var outputEl = gd.closest('.output');\n",
       "if (outputEl) {{\n",
       "    x.observe(outputEl, {childList: true});\n",
       "}}\n",
       "\n",
       "                        })                };                });            </script>        </div>"
      ]
     },
     "metadata": {},
     "output_type": "display_data"
    }
   ],
   "source": [
    "fig = px.pie(df_taxi_subway_aggr, values='taxi_percent', names='borough_x',title=\"Taxi usage by Boroughs\")\n",
    "\n",
    "fig.update_layout(\n",
    "        autosize=False,\n",
    "        width=400,\n",
    "        height=400)\n",
    "\n",
    "fig.show()"
   ]
  },
  {
   "cell_type": "code",
   "execution_count": 108,
   "id": "58d17b68",
   "metadata": {},
   "outputs": [
    {
     "data": {
      "application/vnd.plotly.v1+json": {
       "config": {
        "plotlyServerURL": "https://plot.ly"
       },
       "data": [
        {
         "domain": {
          "x": [
           0,
           1
          ],
          "y": [
           0,
           1
          ]
         },
         "hovertemplate": "borough_x=%{label}<br>subway_percent=%{value}<extra></extra>",
         "labels": [
          "Bronx",
          "Brooklyn",
          "Manhattan",
          "Queens",
          "Staten Island"
         ],
         "legendgroup": "",
         "name": "",
         "showlegend": true,
         "type": "pie",
         "values": [
          9.836107212795433,
          22.657415292815454,
          50.461121494356654,
          16.804463252528688,
          0.24089274750376963
         ]
        }
       ],
       "layout": {
        "autosize": false,
        "height": 400,
        "legend": {
         "tracegroupgap": 0
        },
        "template": {
         "data": {
          "bar": [
           {
            "error_x": {
             "color": "#2a3f5f"
            },
            "error_y": {
             "color": "#2a3f5f"
            },
            "marker": {
             "line": {
              "color": "#E5ECF6",
              "width": 0.5
             },
             "pattern": {
              "fillmode": "overlay",
              "size": 10,
              "solidity": 0.2
             }
            },
            "type": "bar"
           }
          ],
          "barpolar": [
           {
            "marker": {
             "line": {
              "color": "#E5ECF6",
              "width": 0.5
             },
             "pattern": {
              "fillmode": "overlay",
              "size": 10,
              "solidity": 0.2
             }
            },
            "type": "barpolar"
           }
          ],
          "carpet": [
           {
            "aaxis": {
             "endlinecolor": "#2a3f5f",
             "gridcolor": "white",
             "linecolor": "white",
             "minorgridcolor": "white",
             "startlinecolor": "#2a3f5f"
            },
            "baxis": {
             "endlinecolor": "#2a3f5f",
             "gridcolor": "white",
             "linecolor": "white",
             "minorgridcolor": "white",
             "startlinecolor": "#2a3f5f"
            },
            "type": "carpet"
           }
          ],
          "choropleth": [
           {
            "colorbar": {
             "outlinewidth": 0,
             "ticks": ""
            },
            "type": "choropleth"
           }
          ],
          "contour": [
           {
            "colorbar": {
             "outlinewidth": 0,
             "ticks": ""
            },
            "colorscale": [
             [
              0,
              "#0d0887"
             ],
             [
              0.1111111111111111,
              "#46039f"
             ],
             [
              0.2222222222222222,
              "#7201a8"
             ],
             [
              0.3333333333333333,
              "#9c179e"
             ],
             [
              0.4444444444444444,
              "#bd3786"
             ],
             [
              0.5555555555555556,
              "#d8576b"
             ],
             [
              0.6666666666666666,
              "#ed7953"
             ],
             [
              0.7777777777777778,
              "#fb9f3a"
             ],
             [
              0.8888888888888888,
              "#fdca26"
             ],
             [
              1,
              "#f0f921"
             ]
            ],
            "type": "contour"
           }
          ],
          "contourcarpet": [
           {
            "colorbar": {
             "outlinewidth": 0,
             "ticks": ""
            },
            "type": "contourcarpet"
           }
          ],
          "heatmap": [
           {
            "colorbar": {
             "outlinewidth": 0,
             "ticks": ""
            },
            "colorscale": [
             [
              0,
              "#0d0887"
             ],
             [
              0.1111111111111111,
              "#46039f"
             ],
             [
              0.2222222222222222,
              "#7201a8"
             ],
             [
              0.3333333333333333,
              "#9c179e"
             ],
             [
              0.4444444444444444,
              "#bd3786"
             ],
             [
              0.5555555555555556,
              "#d8576b"
             ],
             [
              0.6666666666666666,
              "#ed7953"
             ],
             [
              0.7777777777777778,
              "#fb9f3a"
             ],
             [
              0.8888888888888888,
              "#fdca26"
             ],
             [
              1,
              "#f0f921"
             ]
            ],
            "type": "heatmap"
           }
          ],
          "heatmapgl": [
           {
            "colorbar": {
             "outlinewidth": 0,
             "ticks": ""
            },
            "colorscale": [
             [
              0,
              "#0d0887"
             ],
             [
              0.1111111111111111,
              "#46039f"
             ],
             [
              0.2222222222222222,
              "#7201a8"
             ],
             [
              0.3333333333333333,
              "#9c179e"
             ],
             [
              0.4444444444444444,
              "#bd3786"
             ],
             [
              0.5555555555555556,
              "#d8576b"
             ],
             [
              0.6666666666666666,
              "#ed7953"
             ],
             [
              0.7777777777777778,
              "#fb9f3a"
             ],
             [
              0.8888888888888888,
              "#fdca26"
             ],
             [
              1,
              "#f0f921"
             ]
            ],
            "type": "heatmapgl"
           }
          ],
          "histogram": [
           {
            "marker": {
             "pattern": {
              "fillmode": "overlay",
              "size": 10,
              "solidity": 0.2
             }
            },
            "type": "histogram"
           }
          ],
          "histogram2d": [
           {
            "colorbar": {
             "outlinewidth": 0,
             "ticks": ""
            },
            "colorscale": [
             [
              0,
              "#0d0887"
             ],
             [
              0.1111111111111111,
              "#46039f"
             ],
             [
              0.2222222222222222,
              "#7201a8"
             ],
             [
              0.3333333333333333,
              "#9c179e"
             ],
             [
              0.4444444444444444,
              "#bd3786"
             ],
             [
              0.5555555555555556,
              "#d8576b"
             ],
             [
              0.6666666666666666,
              "#ed7953"
             ],
             [
              0.7777777777777778,
              "#fb9f3a"
             ],
             [
              0.8888888888888888,
              "#fdca26"
             ],
             [
              1,
              "#f0f921"
             ]
            ],
            "type": "histogram2d"
           }
          ],
          "histogram2dcontour": [
           {
            "colorbar": {
             "outlinewidth": 0,
             "ticks": ""
            },
            "colorscale": [
             [
              0,
              "#0d0887"
             ],
             [
              0.1111111111111111,
              "#46039f"
             ],
             [
              0.2222222222222222,
              "#7201a8"
             ],
             [
              0.3333333333333333,
              "#9c179e"
             ],
             [
              0.4444444444444444,
              "#bd3786"
             ],
             [
              0.5555555555555556,
              "#d8576b"
             ],
             [
              0.6666666666666666,
              "#ed7953"
             ],
             [
              0.7777777777777778,
              "#fb9f3a"
             ],
             [
              0.8888888888888888,
              "#fdca26"
             ],
             [
              1,
              "#f0f921"
             ]
            ],
            "type": "histogram2dcontour"
           }
          ],
          "mesh3d": [
           {
            "colorbar": {
             "outlinewidth": 0,
             "ticks": ""
            },
            "type": "mesh3d"
           }
          ],
          "parcoords": [
           {
            "line": {
             "colorbar": {
              "outlinewidth": 0,
              "ticks": ""
             }
            },
            "type": "parcoords"
           }
          ],
          "pie": [
           {
            "automargin": true,
            "type": "pie"
           }
          ],
          "scatter": [
           {
            "fillpattern": {
             "fillmode": "overlay",
             "size": 10,
             "solidity": 0.2
            },
            "type": "scatter"
           }
          ],
          "scatter3d": [
           {
            "line": {
             "colorbar": {
              "outlinewidth": 0,
              "ticks": ""
             }
            },
            "marker": {
             "colorbar": {
              "outlinewidth": 0,
              "ticks": ""
             }
            },
            "type": "scatter3d"
           }
          ],
          "scattercarpet": [
           {
            "marker": {
             "colorbar": {
              "outlinewidth": 0,
              "ticks": ""
             }
            },
            "type": "scattercarpet"
           }
          ],
          "scattergeo": [
           {
            "marker": {
             "colorbar": {
              "outlinewidth": 0,
              "ticks": ""
             }
            },
            "type": "scattergeo"
           }
          ],
          "scattergl": [
           {
            "marker": {
             "colorbar": {
              "outlinewidth": 0,
              "ticks": ""
             }
            },
            "type": "scattergl"
           }
          ],
          "scattermapbox": [
           {
            "marker": {
             "colorbar": {
              "outlinewidth": 0,
              "ticks": ""
             }
            },
            "type": "scattermapbox"
           }
          ],
          "scatterpolar": [
           {
            "marker": {
             "colorbar": {
              "outlinewidth": 0,
              "ticks": ""
             }
            },
            "type": "scatterpolar"
           }
          ],
          "scatterpolargl": [
           {
            "marker": {
             "colorbar": {
              "outlinewidth": 0,
              "ticks": ""
             }
            },
            "type": "scatterpolargl"
           }
          ],
          "scatterternary": [
           {
            "marker": {
             "colorbar": {
              "outlinewidth": 0,
              "ticks": ""
             }
            },
            "type": "scatterternary"
           }
          ],
          "surface": [
           {
            "colorbar": {
             "outlinewidth": 0,
             "ticks": ""
            },
            "colorscale": [
             [
              0,
              "#0d0887"
             ],
             [
              0.1111111111111111,
              "#46039f"
             ],
             [
              0.2222222222222222,
              "#7201a8"
             ],
             [
              0.3333333333333333,
              "#9c179e"
             ],
             [
              0.4444444444444444,
              "#bd3786"
             ],
             [
              0.5555555555555556,
              "#d8576b"
             ],
             [
              0.6666666666666666,
              "#ed7953"
             ],
             [
              0.7777777777777778,
              "#fb9f3a"
             ],
             [
              0.8888888888888888,
              "#fdca26"
             ],
             [
              1,
              "#f0f921"
             ]
            ],
            "type": "surface"
           }
          ],
          "table": [
           {
            "cells": {
             "fill": {
              "color": "#EBF0F8"
             },
             "line": {
              "color": "white"
             }
            },
            "header": {
             "fill": {
              "color": "#C8D4E3"
             },
             "line": {
              "color": "white"
             }
            },
            "type": "table"
           }
          ]
         },
         "layout": {
          "annotationdefaults": {
           "arrowcolor": "#2a3f5f",
           "arrowhead": 0,
           "arrowwidth": 1
          },
          "autotypenumbers": "strict",
          "coloraxis": {
           "colorbar": {
            "outlinewidth": 0,
            "ticks": ""
           }
          },
          "colorscale": {
           "diverging": [
            [
             0,
             "#8e0152"
            ],
            [
             0.1,
             "#c51b7d"
            ],
            [
             0.2,
             "#de77ae"
            ],
            [
             0.3,
             "#f1b6da"
            ],
            [
             0.4,
             "#fde0ef"
            ],
            [
             0.5,
             "#f7f7f7"
            ],
            [
             0.6,
             "#e6f5d0"
            ],
            [
             0.7,
             "#b8e186"
            ],
            [
             0.8,
             "#7fbc41"
            ],
            [
             0.9,
             "#4d9221"
            ],
            [
             1,
             "#276419"
            ]
           ],
           "sequential": [
            [
             0,
             "#0d0887"
            ],
            [
             0.1111111111111111,
             "#46039f"
            ],
            [
             0.2222222222222222,
             "#7201a8"
            ],
            [
             0.3333333333333333,
             "#9c179e"
            ],
            [
             0.4444444444444444,
             "#bd3786"
            ],
            [
             0.5555555555555556,
             "#d8576b"
            ],
            [
             0.6666666666666666,
             "#ed7953"
            ],
            [
             0.7777777777777778,
             "#fb9f3a"
            ],
            [
             0.8888888888888888,
             "#fdca26"
            ],
            [
             1,
             "#f0f921"
            ]
           ],
           "sequentialminus": [
            [
             0,
             "#0d0887"
            ],
            [
             0.1111111111111111,
             "#46039f"
            ],
            [
             0.2222222222222222,
             "#7201a8"
            ],
            [
             0.3333333333333333,
             "#9c179e"
            ],
            [
             0.4444444444444444,
             "#bd3786"
            ],
            [
             0.5555555555555556,
             "#d8576b"
            ],
            [
             0.6666666666666666,
             "#ed7953"
            ],
            [
             0.7777777777777778,
             "#fb9f3a"
            ],
            [
             0.8888888888888888,
             "#fdca26"
            ],
            [
             1,
             "#f0f921"
            ]
           ]
          },
          "colorway": [
           "#636efa",
           "#EF553B",
           "#00cc96",
           "#ab63fa",
           "#FFA15A",
           "#19d3f3",
           "#FF6692",
           "#B6E880",
           "#FF97FF",
           "#FECB52"
          ],
          "font": {
           "color": "#2a3f5f"
          },
          "geo": {
           "bgcolor": "white",
           "lakecolor": "white",
           "landcolor": "#E5ECF6",
           "showlakes": true,
           "showland": true,
           "subunitcolor": "white"
          },
          "hoverlabel": {
           "align": "left"
          },
          "hovermode": "closest",
          "mapbox": {
           "style": "light"
          },
          "paper_bgcolor": "white",
          "plot_bgcolor": "#E5ECF6",
          "polar": {
           "angularaxis": {
            "gridcolor": "white",
            "linecolor": "white",
            "ticks": ""
           },
           "bgcolor": "#E5ECF6",
           "radialaxis": {
            "gridcolor": "white",
            "linecolor": "white",
            "ticks": ""
           }
          },
          "scene": {
           "xaxis": {
            "backgroundcolor": "#E5ECF6",
            "gridcolor": "white",
            "gridwidth": 2,
            "linecolor": "white",
            "showbackground": true,
            "ticks": "",
            "zerolinecolor": "white"
           },
           "yaxis": {
            "backgroundcolor": "#E5ECF6",
            "gridcolor": "white",
            "gridwidth": 2,
            "linecolor": "white",
            "showbackground": true,
            "ticks": "",
            "zerolinecolor": "white"
           },
           "zaxis": {
            "backgroundcolor": "#E5ECF6",
            "gridcolor": "white",
            "gridwidth": 2,
            "linecolor": "white",
            "showbackground": true,
            "ticks": "",
            "zerolinecolor": "white"
           }
          },
          "shapedefaults": {
           "line": {
            "color": "#2a3f5f"
           }
          },
          "ternary": {
           "aaxis": {
            "gridcolor": "white",
            "linecolor": "white",
            "ticks": ""
           },
           "baxis": {
            "gridcolor": "white",
            "linecolor": "white",
            "ticks": ""
           },
           "bgcolor": "#E5ECF6",
           "caxis": {
            "gridcolor": "white",
            "linecolor": "white",
            "ticks": ""
           }
          },
          "title": {
           "x": 0.05
          },
          "xaxis": {
           "automargin": true,
           "gridcolor": "white",
           "linecolor": "white",
           "ticks": "",
           "title": {
            "standoff": 15
           },
           "zerolinecolor": "white",
           "zerolinewidth": 2
          },
          "yaxis": {
           "automargin": true,
           "gridcolor": "white",
           "linecolor": "white",
           "ticks": "",
           "title": {
            "standoff": 15
           },
           "zerolinecolor": "white",
           "zerolinewidth": 2
          }
         }
        },
        "title": {
         "text": "Subway usage by Boroughs"
        },
        "width": 400
       }
      },
      "text/html": [
       "<div>                            <div id=\"78a84b1d-517d-4d67-9546-96660b98facc\" class=\"plotly-graph-div\" style=\"height:400px; width:400px;\"></div>            <script type=\"text/javascript\">                require([\"plotly\"], function(Plotly) {                    window.PLOTLYENV=window.PLOTLYENV || {};                                    if (document.getElementById(\"78a84b1d-517d-4d67-9546-96660b98facc\")) {                    Plotly.newPlot(                        \"78a84b1d-517d-4d67-9546-96660b98facc\",                        [{\"domain\":{\"x\":[0.0,1.0],\"y\":[0.0,1.0]},\"hovertemplate\":\"borough_x=%{label}<br>subway_percent=%{value}<extra></extra>\",\"labels\":[\"Bronx\",\"Brooklyn\",\"Manhattan\",\"Queens\",\"Staten Island\"],\"legendgroup\":\"\",\"name\":\"\",\"showlegend\":true,\"values\":[9.836107212795433,22.657415292815454,50.461121494356654,16.804463252528688,0.24089274750376963],\"type\":\"pie\"}],                        {\"template\":{\"data\":{\"histogram2dcontour\":[{\"type\":\"histogram2dcontour\",\"colorbar\":{\"outlinewidth\":0,\"ticks\":\"\"},\"colorscale\":[[0.0,\"#0d0887\"],[0.1111111111111111,\"#46039f\"],[0.2222222222222222,\"#7201a8\"],[0.3333333333333333,\"#9c179e\"],[0.4444444444444444,\"#bd3786\"],[0.5555555555555556,\"#d8576b\"],[0.6666666666666666,\"#ed7953\"],[0.7777777777777778,\"#fb9f3a\"],[0.8888888888888888,\"#fdca26\"],[1.0,\"#f0f921\"]]}],\"choropleth\":[{\"type\":\"choropleth\",\"colorbar\":{\"outlinewidth\":0,\"ticks\":\"\"}}],\"histogram2d\":[{\"type\":\"histogram2d\",\"colorbar\":{\"outlinewidth\":0,\"ticks\":\"\"},\"colorscale\":[[0.0,\"#0d0887\"],[0.1111111111111111,\"#46039f\"],[0.2222222222222222,\"#7201a8\"],[0.3333333333333333,\"#9c179e\"],[0.4444444444444444,\"#bd3786\"],[0.5555555555555556,\"#d8576b\"],[0.6666666666666666,\"#ed7953\"],[0.7777777777777778,\"#fb9f3a\"],[0.8888888888888888,\"#fdca26\"],[1.0,\"#f0f921\"]]}],\"heatmap\":[{\"type\":\"heatmap\",\"colorbar\":{\"outlinewidth\":0,\"ticks\":\"\"},\"colorscale\":[[0.0,\"#0d0887\"],[0.1111111111111111,\"#46039f\"],[0.2222222222222222,\"#7201a8\"],[0.3333333333333333,\"#9c179e\"],[0.4444444444444444,\"#bd3786\"],[0.5555555555555556,\"#d8576b\"],[0.6666666666666666,\"#ed7953\"],[0.7777777777777778,\"#fb9f3a\"],[0.8888888888888888,\"#fdca26\"],[1.0,\"#f0f921\"]]}],\"heatmapgl\":[{\"type\":\"heatmapgl\",\"colorbar\":{\"outlinewidth\":0,\"ticks\":\"\"},\"colorscale\":[[0.0,\"#0d0887\"],[0.1111111111111111,\"#46039f\"],[0.2222222222222222,\"#7201a8\"],[0.3333333333333333,\"#9c179e\"],[0.4444444444444444,\"#bd3786\"],[0.5555555555555556,\"#d8576b\"],[0.6666666666666666,\"#ed7953\"],[0.7777777777777778,\"#fb9f3a\"],[0.8888888888888888,\"#fdca26\"],[1.0,\"#f0f921\"]]}],\"contourcarpet\":[{\"type\":\"contourcarpet\",\"colorbar\":{\"outlinewidth\":0,\"ticks\":\"\"}}],\"contour\":[{\"type\":\"contour\",\"colorbar\":{\"outlinewidth\":0,\"ticks\":\"\"},\"colorscale\":[[0.0,\"#0d0887\"],[0.1111111111111111,\"#46039f\"],[0.2222222222222222,\"#7201a8\"],[0.3333333333333333,\"#9c179e\"],[0.4444444444444444,\"#bd3786\"],[0.5555555555555556,\"#d8576b\"],[0.6666666666666666,\"#ed7953\"],[0.7777777777777778,\"#fb9f3a\"],[0.8888888888888888,\"#fdca26\"],[1.0,\"#f0f921\"]]}],\"surface\":[{\"type\":\"surface\",\"colorbar\":{\"outlinewidth\":0,\"ticks\":\"\"},\"colorscale\":[[0.0,\"#0d0887\"],[0.1111111111111111,\"#46039f\"],[0.2222222222222222,\"#7201a8\"],[0.3333333333333333,\"#9c179e\"],[0.4444444444444444,\"#bd3786\"],[0.5555555555555556,\"#d8576b\"],[0.6666666666666666,\"#ed7953\"],[0.7777777777777778,\"#fb9f3a\"],[0.8888888888888888,\"#fdca26\"],[1.0,\"#f0f921\"]]}],\"mesh3d\":[{\"type\":\"mesh3d\",\"colorbar\":{\"outlinewidth\":0,\"ticks\":\"\"}}],\"scatter\":[{\"fillpattern\":{\"fillmode\":\"overlay\",\"size\":10,\"solidity\":0.2},\"type\":\"scatter\"}],\"parcoords\":[{\"type\":\"parcoords\",\"line\":{\"colorbar\":{\"outlinewidth\":0,\"ticks\":\"\"}}}],\"scatterpolargl\":[{\"type\":\"scatterpolargl\",\"marker\":{\"colorbar\":{\"outlinewidth\":0,\"ticks\":\"\"}}}],\"bar\":[{\"error_x\":{\"color\":\"#2a3f5f\"},\"error_y\":{\"color\":\"#2a3f5f\"},\"marker\":{\"line\":{\"color\":\"#E5ECF6\",\"width\":0.5},\"pattern\":{\"fillmode\":\"overlay\",\"size\":10,\"solidity\":0.2}},\"type\":\"bar\"}],\"scattergeo\":[{\"type\":\"scattergeo\",\"marker\":{\"colorbar\":{\"outlinewidth\":0,\"ticks\":\"\"}}}],\"scatterpolar\":[{\"type\":\"scatterpolar\",\"marker\":{\"colorbar\":{\"outlinewidth\":0,\"ticks\":\"\"}}}],\"histogram\":[{\"marker\":{\"pattern\":{\"fillmode\":\"overlay\",\"size\":10,\"solidity\":0.2}},\"type\":\"histogram\"}],\"scattergl\":[{\"type\":\"scattergl\",\"marker\":{\"colorbar\":{\"outlinewidth\":0,\"ticks\":\"\"}}}],\"scatter3d\":[{\"type\":\"scatter3d\",\"line\":{\"colorbar\":{\"outlinewidth\":0,\"ticks\":\"\"}},\"marker\":{\"colorbar\":{\"outlinewidth\":0,\"ticks\":\"\"}}}],\"scattermapbox\":[{\"type\":\"scattermapbox\",\"marker\":{\"colorbar\":{\"outlinewidth\":0,\"ticks\":\"\"}}}],\"scatterternary\":[{\"type\":\"scatterternary\",\"marker\":{\"colorbar\":{\"outlinewidth\":0,\"ticks\":\"\"}}}],\"scattercarpet\":[{\"type\":\"scattercarpet\",\"marker\":{\"colorbar\":{\"outlinewidth\":0,\"ticks\":\"\"}}}],\"carpet\":[{\"aaxis\":{\"endlinecolor\":\"#2a3f5f\",\"gridcolor\":\"white\",\"linecolor\":\"white\",\"minorgridcolor\":\"white\",\"startlinecolor\":\"#2a3f5f\"},\"baxis\":{\"endlinecolor\":\"#2a3f5f\",\"gridcolor\":\"white\",\"linecolor\":\"white\",\"minorgridcolor\":\"white\",\"startlinecolor\":\"#2a3f5f\"},\"type\":\"carpet\"}],\"table\":[{\"cells\":{\"fill\":{\"color\":\"#EBF0F8\"},\"line\":{\"color\":\"white\"}},\"header\":{\"fill\":{\"color\":\"#C8D4E3\"},\"line\":{\"color\":\"white\"}},\"type\":\"table\"}],\"barpolar\":[{\"marker\":{\"line\":{\"color\":\"#E5ECF6\",\"width\":0.5},\"pattern\":{\"fillmode\":\"overlay\",\"size\":10,\"solidity\":0.2}},\"type\":\"barpolar\"}],\"pie\":[{\"automargin\":true,\"type\":\"pie\"}]},\"layout\":{\"autotypenumbers\":\"strict\",\"colorway\":[\"#636efa\",\"#EF553B\",\"#00cc96\",\"#ab63fa\",\"#FFA15A\",\"#19d3f3\",\"#FF6692\",\"#B6E880\",\"#FF97FF\",\"#FECB52\"],\"font\":{\"color\":\"#2a3f5f\"},\"hovermode\":\"closest\",\"hoverlabel\":{\"align\":\"left\"},\"paper_bgcolor\":\"white\",\"plot_bgcolor\":\"#E5ECF6\",\"polar\":{\"bgcolor\":\"#E5ECF6\",\"angularaxis\":{\"gridcolor\":\"white\",\"linecolor\":\"white\",\"ticks\":\"\"},\"radialaxis\":{\"gridcolor\":\"white\",\"linecolor\":\"white\",\"ticks\":\"\"}},\"ternary\":{\"bgcolor\":\"#E5ECF6\",\"aaxis\":{\"gridcolor\":\"white\",\"linecolor\":\"white\",\"ticks\":\"\"},\"baxis\":{\"gridcolor\":\"white\",\"linecolor\":\"white\",\"ticks\":\"\"},\"caxis\":{\"gridcolor\":\"white\",\"linecolor\":\"white\",\"ticks\":\"\"}},\"coloraxis\":{\"colorbar\":{\"outlinewidth\":0,\"ticks\":\"\"}},\"colorscale\":{\"sequential\":[[0.0,\"#0d0887\"],[0.1111111111111111,\"#46039f\"],[0.2222222222222222,\"#7201a8\"],[0.3333333333333333,\"#9c179e\"],[0.4444444444444444,\"#bd3786\"],[0.5555555555555556,\"#d8576b\"],[0.6666666666666666,\"#ed7953\"],[0.7777777777777778,\"#fb9f3a\"],[0.8888888888888888,\"#fdca26\"],[1.0,\"#f0f921\"]],\"sequentialminus\":[[0.0,\"#0d0887\"],[0.1111111111111111,\"#46039f\"],[0.2222222222222222,\"#7201a8\"],[0.3333333333333333,\"#9c179e\"],[0.4444444444444444,\"#bd3786\"],[0.5555555555555556,\"#d8576b\"],[0.6666666666666666,\"#ed7953\"],[0.7777777777777778,\"#fb9f3a\"],[0.8888888888888888,\"#fdca26\"],[1.0,\"#f0f921\"]],\"diverging\":[[0,\"#8e0152\"],[0.1,\"#c51b7d\"],[0.2,\"#de77ae\"],[0.3,\"#f1b6da\"],[0.4,\"#fde0ef\"],[0.5,\"#f7f7f7\"],[0.6,\"#e6f5d0\"],[0.7,\"#b8e186\"],[0.8,\"#7fbc41\"],[0.9,\"#4d9221\"],[1,\"#276419\"]]},\"xaxis\":{\"gridcolor\":\"white\",\"linecolor\":\"white\",\"ticks\":\"\",\"title\":{\"standoff\":15},\"zerolinecolor\":\"white\",\"automargin\":true,\"zerolinewidth\":2},\"yaxis\":{\"gridcolor\":\"white\",\"linecolor\":\"white\",\"ticks\":\"\",\"title\":{\"standoff\":15},\"zerolinecolor\":\"white\",\"automargin\":true,\"zerolinewidth\":2},\"scene\":{\"xaxis\":{\"backgroundcolor\":\"#E5ECF6\",\"gridcolor\":\"white\",\"linecolor\":\"white\",\"showbackground\":true,\"ticks\":\"\",\"zerolinecolor\":\"white\",\"gridwidth\":2},\"yaxis\":{\"backgroundcolor\":\"#E5ECF6\",\"gridcolor\":\"white\",\"linecolor\":\"white\",\"showbackground\":true,\"ticks\":\"\",\"zerolinecolor\":\"white\",\"gridwidth\":2},\"zaxis\":{\"backgroundcolor\":\"#E5ECF6\",\"gridcolor\":\"white\",\"linecolor\":\"white\",\"showbackground\":true,\"ticks\":\"\",\"zerolinecolor\":\"white\",\"gridwidth\":2}},\"shapedefaults\":{\"line\":{\"color\":\"#2a3f5f\"}},\"annotationdefaults\":{\"arrowcolor\":\"#2a3f5f\",\"arrowhead\":0,\"arrowwidth\":1},\"geo\":{\"bgcolor\":\"white\",\"landcolor\":\"#E5ECF6\",\"subunitcolor\":\"white\",\"showland\":true,\"showlakes\":true,\"lakecolor\":\"white\"},\"title\":{\"x\":0.05},\"mapbox\":{\"style\":\"light\"}}},\"legend\":{\"tracegroupgap\":0},\"title\":{\"text\":\"Subway usage by Boroughs\"},\"autosize\":false,\"width\":400,\"height\":400},                        {\"responsive\": true}                    ).then(function(){\n",
       "                            \n",
       "var gd = document.getElementById('78a84b1d-517d-4d67-9546-96660b98facc');\n",
       "var x = new MutationObserver(function (mutations, observer) {{\n",
       "        var display = window.getComputedStyle(gd).display;\n",
       "        if (!display || display === 'none') {{\n",
       "            console.log([gd, 'removed!']);\n",
       "            Plotly.purge(gd);\n",
       "            observer.disconnect();\n",
       "        }}\n",
       "}});\n",
       "\n",
       "// Listen for the removal of the full notebook cells\n",
       "var notebookContainer = gd.closest('#notebook-container');\n",
       "if (notebookContainer) {{\n",
       "    x.observe(notebookContainer, {childList: true});\n",
       "}}\n",
       "\n",
       "// Listen for the clearing of the current output cell\n",
       "var outputEl = gd.closest('.output');\n",
       "if (outputEl) {{\n",
       "    x.observe(outputEl, {childList: true});\n",
       "}}\n",
       "\n",
       "                        })                };                });            </script>        </div>"
      ]
     },
     "metadata": {},
     "output_type": "display_data"
    }
   ],
   "source": [
    "fig = px.pie(df_taxi_subway_aggr, values='subway_percent', names='borough_x', title=\"Subway usage by Boroughs\",)\n",
    "fig.update_layout(\n",
    "        autosize=False,\n",
    "        width=400,\n",
    "        height=400)\n",
    "fig.show()"
   ]
  },
  {
   "cell_type": "raw",
   "id": "a5a7283c",
   "metadata": {},
   "source": [
    "Findings: Based on the data collected for this report, universally across all boroughs 99% of traffic is through the subways except for Manhattan where subway usage is about 90% of total \n",
    "traffic. Manhattan has the highest subway usage (50% of total traffic) followed by Brooklyn (22.7%) and then Queens (16.8%) . See Appendix for charts with details. \n"
   ]
  },
  {
   "cell_type": "markdown",
   "id": "7b57ea15",
   "metadata": {},
   "source": [
    "# Visualization 3: Poorer community districts have higher taxi fares"
   ]
  },
  {
   "cell_type": "code",
   "execution_count": 109,
   "id": "fb93be70",
   "metadata": {},
   "outputs": [
    {
     "data": {
      "application/vnd.plotly.v1+json": {
       "config": {
        "plotlyServerURL": "https://plot.ly"
       },
       "data": [
        {
         "hovertemplate": "<b>%{hovertext}</b><br><br>Borough=Queens<br>Poverty rate (%)=%{x}<br>Unemployment rate (%)=%{y}<br>Taxi (average_fare $)=%{marker.size}<extra></extra>",
         "hovertext": [
          "QN04 Elmhurst-Corona (CD 4 Approximation)",
          "QN14 The Rockaways (CD 14 Approximation)",
          "QN07 Flushing-Murray Hill-Whitestone (CD 7 Approximation)",
          "QN06 Forest Hills-Rego Park (CD 6 Approximation)",
          "QN09 Kew Gardens-Richmond Hill-Woodhaven (CD 9 Approximation)",
          "QN01 Astoria-Queensbridge (CD 1 Equivalent)",
          "QN03 Jackson Heights-East Elmhurst (CD 3 Approximation)",
          "QN05 Ridgewood-Maspeth-Middle Village (CD 5 Approximation)",
          "QN02 Long Island City-Sunnyside-Woodside (CD 2 Approximation)",
          "QN10 South Ozone Park-Howard Beach (CD 10 Approximation)",
          "QN12 Jamaica-St. Albans-Hollis (CD 12 Approximation)"
         ],
         "legendgroup": "Queens",
         "marker": {
          "color": "#636efa",
          "size": [
           26.32,
           18.18,
           19.66,
           16.49,
           49.24,
           31.77,
           31.8,
           48,
           39.56,
           18.57,
           24.83,
           30.09,
           82.05,
           33.67,
           31.85,
           46.61,
           41.16,
           29.53,
           29.59,
           49.52,
           50.87,
           46.24,
           42.45,
           26.77,
           38.27,
           17.25,
           47.29,
           35.96,
           42.49,
           16.67,
           31.98,
           23.27,
           26.68,
           20.29,
           17.26,
           32.05,
           38.28,
           24.61,
           35.08,
           34.11,
           20.54,
           34.47,
           24.46,
           29.41,
           18.25,
           25.61,
           52.33
          ],
          "sizemin": 4,
          "sizemode": "area",
          "sizeref": 0.18233333333333332,
          "symbol": "circle"
         },
         "mode": "markers",
         "name": "Queens",
         "orientation": "v",
         "showlegend": true,
         "type": "scatter",
         "x": [
          10.2,
          18.1,
          14.8,
          11.1,
          10.1,
          11.6,
          15,
          8.4,
          9.2,
          7.5,
          10.6
         ],
         "xaxis": "x",
         "y": [
          3.55,
          6.27,
          4.53,
          3.81,
          5.2,
          3.37,
          4.4,
          3.14,
          3.92,
          4.49,
          6.63
         ],
         "yaxis": "y"
        },
        {
         "hovertemplate": "<b>%{hovertext}</b><br><br>Borough=Manhattan<br>Poverty rate (%)=%{x}<br>Unemployment rate (%)=%{y}<br>Taxi (average_fare $)=%{marker.size}<extra></extra>",
         "hovertext": [
          "MN04 Chelsea-Hell's Kitchen (CD 4 Approximation)",
          "MN03 Lower East Side-Chinatown (CD 3 Equivalent)",
          "MN08 Upper East Side-Roosevelt Island (CD 8 Equivalent)",
          "MN02 Greenwich Village-SoHo (CD 2 Equivalent)",
          "MN06 East Midtown-Murray Hill (CD 6 Approximation)",
          "MN11 East Harlem (CD 11 Equivalent)",
          "MN12 Washington Heights-Inwood (CD 12 Equivalent)",
          "MN10 Harlem (CD 10 Equivalent)",
          "MN07 Upper West Side (CD 7 Approximation)",
          "MN09 Morningside Heights-Hamilton Heights (CD 9 Equivalent)",
          "MN01 Financial District-Tribeca (CD 1 Equivalent)",
          "MN05 Midtown-Flatiron-Union Square (CD 5 Approximation)"
         ],
         "legendgroup": "Manhattan",
         "marker": {
          "color": "#EF553B",
          "size": [
           26.32,
           18.18,
           19.66,
           16.49,
           49.24,
           31.77,
           31.8,
           48,
           39.56,
           18.57,
           24.83,
           30.09,
           82.05,
           33.67,
           31.85,
           46.61,
           41.16,
           29.53,
           29.59,
           49.52,
           50.87,
           46.24,
           42.45,
           26.77,
           38.27,
           17.25,
           47.29,
           35.96,
           42.49,
           16.67,
           31.98,
           23.27,
           26.68,
           20.29,
           17.26,
           32.05,
           38.28,
           24.61,
           35.08,
           34.11,
           20.54,
           34.47,
           24.46,
           29.41,
           18.25,
           25.61,
           52.33
          ],
          "sizemin": 4,
          "sizemode": "area",
          "sizeref": 0.18233333333333332,
          "symbol": "circle"
         },
         "mode": "markers",
         "name": "Manhattan",
         "orientation": "v",
         "showlegend": true,
         "type": "scatter",
         "x": [
          11.1,
          24,
          5.8,
          6.1,
          6.5,
          34,
          15.5,
          20.1,
          8.7,
          19.6,
          6.1,
          11.1
         ],
         "xaxis": "x",
         "y": [
          2.64,
          5.24,
          1.98,
          4.32,
          1.31,
          6.08,
          6.16,
          8.69,
          2.32,
          6.79,
          4.32,
          2.64
         ],
         "yaxis": "y"
        },
        {
         "hovertemplate": "<b>%{hovertext}</b><br><br>Borough=Brooklyn<br>Poverty rate (%)=%{x}<br>Unemployment rate (%)=%{y}<br>Taxi (average_fare $)=%{marker.size}<extra></extra>",
         "hovertext": [
          "BK12 Borough Park-Kensington (CD 12 Approximation)",
          "BK02 Downtown Brooklyn-Fort Greene (CD 2 Approximation)",
          "BK01 Williamsburg-Greenpoint (CD 1 Equivalent)",
          "BK09 Crown Heights (South) (CD 9 Approximation)",
          "BK07 Sunset Park-Windsor Terrace (CD 7 Approximation)",
          "BK11 Bensonhurst-Bath Beach (CD 11 Approximation)",
          "BK06 Park Slope-Carroll Gardens (CD 6 Approximation)",
          "BK04 Bushwick (CD 4 Equivalent)",
          "BK05 East New York-Cypress Hills (CD 5 Approximation)",
          "BK03 Bedford-Stuyvesant (CD 3 Approximation)",
          "BK10 Bay Ridge-Dyker Heights (CD 10 Approximation)"
         ],
         "legendgroup": "Brooklyn",
         "marker": {
          "color": "#00cc96",
          "size": [
           26.32,
           18.18,
           19.66,
           16.49,
           49.24,
           31.77,
           31.8,
           48,
           39.56,
           18.57,
           24.83,
           30.09,
           82.05,
           33.67,
           31.85,
           46.61,
           41.16,
           29.53,
           29.59,
           49.52,
           50.87,
           46.24,
           42.45,
           26.77,
           38.27,
           17.25,
           47.29,
           35.96,
           42.49,
           16.67,
           31.98,
           23.27,
           26.68,
           20.29,
           17.26,
           32.05,
           38.28,
           24.61,
           35.08,
           34.11,
           20.54,
           34.47,
           24.46,
           29.41,
           18.25,
           25.61,
           52.33
          ],
          "sizemin": 4,
          "sizemode": "area",
          "sizeref": 0.18233333333333332,
          "symbol": "circle"
         },
         "mode": "markers",
         "name": "Brooklyn",
         "orientation": "v",
         "showlegend": true,
         "type": "scatter",
         "x": [
          26.8,
          13.8,
          20.1,
          17.9,
          18.1,
          14.6,
          7.6,
          20.7,
          23.3,
          23,
          14.2
         ],
         "xaxis": "x",
         "y": [
          3.99,
          6.31,
          3.99,
          4.46,
          3.33,
          4.53,
          3.41,
          6.32,
          3.85,
          6.63,
          3.59
         ],
         "yaxis": "y"
        },
        {
         "hovertemplate": "<b>%{hovertext}</b><br><br>Borough=Bronx<br>Poverty rate (%)=%{x}<br>Unemployment rate (%)=%{y}<br>Taxi (average_fare $)=%{marker.size}<extra></extra>",
         "hovertext": [
          "BX01 Melrose-Mott Haven-Port Morris (CD 1 Approximation)",
          "BX04 Highbridge-Concourse (CD 4 Approximation)",
          "BX03 Morrisania-Crotona Park East (CD 3 Approximation)",
          "BX06 Tremont-Belmont-West Farms (CD 6 Approximation)",
          "BX12 Wakefield-Williamsbridge-Eastchester (CD 12 Approximation)",
          "BX10 Co-op City-Throgs Neck (CD 10 Approximation)",
          "BX11 Pelham Parkway-Morris Park (CD 11 Approximation)",
          "BX02 Longwood-Hunts Point (CD 2 Approximation)",
          "BX09 Soundview-Parkchester (CD 9 Approximation)",
          "BX08 Riverdale-Kingsbridge-Marble Hill (CD 8 Approximation)",
          "BX05 Morris Heights-Mount Hope (CD 5 Approximation)",
          "BX07 Fordham-Bedford Park-Norwood (CD 7 Approximation)"
         ],
         "legendgroup": "Bronx",
         "marker": {
          "color": "#ab63fa",
          "size": [
           26.32,
           18.18,
           19.66,
           16.49,
           49.24,
           31.77,
           31.8,
           48,
           39.56,
           18.57,
           24.83,
           30.09,
           82.05,
           33.67,
           31.85,
           46.61,
           41.16,
           29.53,
           29.59,
           49.52,
           50.87,
           46.24,
           42.45,
           26.77,
           38.27,
           17.25,
           47.29,
           35.96,
           42.49,
           16.67,
           31.98,
           23.27,
           26.68,
           20.29,
           17.26,
           32.05,
           38.28,
           24.61,
           35.08,
           34.11,
           20.54,
           34.47,
           24.46,
           29.41,
           18.25,
           25.61,
           52.33
          ],
          "sizemin": 4,
          "sizemode": "area",
          "sizeref": 0.18233333333333332,
          "symbol": "circle"
         },
         "mode": "markers",
         "name": "Bronx",
         "orientation": "v",
         "showlegend": true,
         "type": "scatter",
         "x": [
          39.6,
          32.4,
          40.3,
          40.3,
          17.1,
          12.9,
          14.6,
          39.6,
          26.6,
          16.5,
          31.4,
          22.6
         ],
         "xaxis": "x",
         "y": [
          11.29,
          9.57,
          11.49,
          11.49,
          8.27,
          4.5,
          8.09,
          11.29,
          6.91,
          5.62,
          11.58,
          11.73
         ],
         "yaxis": "y"
        },
        {
         "hovertemplate": "<b>%{hovertext}</b><br><br>Borough=Staten Island<br>Poverty rate (%)=%{x}<br>Unemployment rate (%)=%{y}<br>Taxi (average_fare $)=%{marker.size}<extra></extra>",
         "hovertext": [
          "SI01 North Shore (CD 1 Equivalent)"
         ],
         "legendgroup": "Staten Island",
         "marker": {
          "color": "#FFA15A",
          "size": [
           26.32,
           18.18,
           19.66,
           16.49,
           49.24,
           31.77,
           31.8,
           48,
           39.56,
           18.57,
           24.83,
           30.09,
           82.05,
           33.67,
           31.85,
           46.61,
           41.16,
           29.53,
           29.59,
           49.52,
           50.87,
           46.24,
           42.45,
           26.77,
           38.27,
           17.25,
           47.29,
           35.96,
           42.49,
           16.67,
           31.98,
           23.27,
           26.68,
           20.29,
           17.26,
           32.05,
           38.28,
           24.61,
           35.08,
           34.11,
           20.54,
           34.47,
           24.46,
           29.41,
           18.25,
           25.61,
           52.33
          ],
          "sizemin": 4,
          "sizemode": "area",
          "sizeref": 0.18233333333333332,
          "symbol": "circle"
         },
         "mode": "markers",
         "name": "Staten Island",
         "orientation": "v",
         "showlegend": true,
         "type": "scatter",
         "x": [
          13
         ],
         "xaxis": "x",
         "y": [
          5.13
         ],
         "yaxis": "y"
        }
       ],
       "layout": {
        "annotations": [
         {
          "align": "center",
          "arrowcolor": "#636363",
          "arrowhead": 2,
          "arrowsize": 1,
          "arrowwidth": 2,
          "ax": 30,
          "ay": 60,
          "bgcolor": "#ff7f0e",
          "bordercolor": "#c7c7c7",
          "borderpad": 4,
          "borderwidth": 2,
          "font": {
           "color": "#ffffff",
           "family": "Courier New, monospace",
           "size": 13
          },
          "opacity": 0.8,
          "showarrow": true,
          "text": "high <br> unemployment rate <br> and poverty rate",
          "x": 40.3,
          "xref": "x",
          "y": 11.49,
          "yref": "y"
         }
        ],
        "autosize": false,
        "height": 600,
        "legend": {
         "itemsizing": "constant",
         "title": {
          "text": "Borough"
         },
         "tracegroupgap": 0
        },
        "template": {
         "data": {
          "bar": [
           {
            "error_x": {
             "color": "#2a3f5f"
            },
            "error_y": {
             "color": "#2a3f5f"
            },
            "marker": {
             "line": {
              "color": "#E5ECF6",
              "width": 0.5
             },
             "pattern": {
              "fillmode": "overlay",
              "size": 10,
              "solidity": 0.2
             }
            },
            "type": "bar"
           }
          ],
          "barpolar": [
           {
            "marker": {
             "line": {
              "color": "#E5ECF6",
              "width": 0.5
             },
             "pattern": {
              "fillmode": "overlay",
              "size": 10,
              "solidity": 0.2
             }
            },
            "type": "barpolar"
           }
          ],
          "carpet": [
           {
            "aaxis": {
             "endlinecolor": "#2a3f5f",
             "gridcolor": "white",
             "linecolor": "white",
             "minorgridcolor": "white",
             "startlinecolor": "#2a3f5f"
            },
            "baxis": {
             "endlinecolor": "#2a3f5f",
             "gridcolor": "white",
             "linecolor": "white",
             "minorgridcolor": "white",
             "startlinecolor": "#2a3f5f"
            },
            "type": "carpet"
           }
          ],
          "choropleth": [
           {
            "colorbar": {
             "outlinewidth": 0,
             "ticks": ""
            },
            "type": "choropleth"
           }
          ],
          "contour": [
           {
            "colorbar": {
             "outlinewidth": 0,
             "ticks": ""
            },
            "colorscale": [
             [
              0,
              "#0d0887"
             ],
             [
              0.1111111111111111,
              "#46039f"
             ],
             [
              0.2222222222222222,
              "#7201a8"
             ],
             [
              0.3333333333333333,
              "#9c179e"
             ],
             [
              0.4444444444444444,
              "#bd3786"
             ],
             [
              0.5555555555555556,
              "#d8576b"
             ],
             [
              0.6666666666666666,
              "#ed7953"
             ],
             [
              0.7777777777777778,
              "#fb9f3a"
             ],
             [
              0.8888888888888888,
              "#fdca26"
             ],
             [
              1,
              "#f0f921"
             ]
            ],
            "type": "contour"
           }
          ],
          "contourcarpet": [
           {
            "colorbar": {
             "outlinewidth": 0,
             "ticks": ""
            },
            "type": "contourcarpet"
           }
          ],
          "heatmap": [
           {
            "colorbar": {
             "outlinewidth": 0,
             "ticks": ""
            },
            "colorscale": [
             [
              0,
              "#0d0887"
             ],
             [
              0.1111111111111111,
              "#46039f"
             ],
             [
              0.2222222222222222,
              "#7201a8"
             ],
             [
              0.3333333333333333,
              "#9c179e"
             ],
             [
              0.4444444444444444,
              "#bd3786"
             ],
             [
              0.5555555555555556,
              "#d8576b"
             ],
             [
              0.6666666666666666,
              "#ed7953"
             ],
             [
              0.7777777777777778,
              "#fb9f3a"
             ],
             [
              0.8888888888888888,
              "#fdca26"
             ],
             [
              1,
              "#f0f921"
             ]
            ],
            "type": "heatmap"
           }
          ],
          "heatmapgl": [
           {
            "colorbar": {
             "outlinewidth": 0,
             "ticks": ""
            },
            "colorscale": [
             [
              0,
              "#0d0887"
             ],
             [
              0.1111111111111111,
              "#46039f"
             ],
             [
              0.2222222222222222,
              "#7201a8"
             ],
             [
              0.3333333333333333,
              "#9c179e"
             ],
             [
              0.4444444444444444,
              "#bd3786"
             ],
             [
              0.5555555555555556,
              "#d8576b"
             ],
             [
              0.6666666666666666,
              "#ed7953"
             ],
             [
              0.7777777777777778,
              "#fb9f3a"
             ],
             [
              0.8888888888888888,
              "#fdca26"
             ],
             [
              1,
              "#f0f921"
             ]
            ],
            "type": "heatmapgl"
           }
          ],
          "histogram": [
           {
            "marker": {
             "pattern": {
              "fillmode": "overlay",
              "size": 10,
              "solidity": 0.2
             }
            },
            "type": "histogram"
           }
          ],
          "histogram2d": [
           {
            "colorbar": {
             "outlinewidth": 0,
             "ticks": ""
            },
            "colorscale": [
             [
              0,
              "#0d0887"
             ],
             [
              0.1111111111111111,
              "#46039f"
             ],
             [
              0.2222222222222222,
              "#7201a8"
             ],
             [
              0.3333333333333333,
              "#9c179e"
             ],
             [
              0.4444444444444444,
              "#bd3786"
             ],
             [
              0.5555555555555556,
              "#d8576b"
             ],
             [
              0.6666666666666666,
              "#ed7953"
             ],
             [
              0.7777777777777778,
              "#fb9f3a"
             ],
             [
              0.8888888888888888,
              "#fdca26"
             ],
             [
              1,
              "#f0f921"
             ]
            ],
            "type": "histogram2d"
           }
          ],
          "histogram2dcontour": [
           {
            "colorbar": {
             "outlinewidth": 0,
             "ticks": ""
            },
            "colorscale": [
             [
              0,
              "#0d0887"
             ],
             [
              0.1111111111111111,
              "#46039f"
             ],
             [
              0.2222222222222222,
              "#7201a8"
             ],
             [
              0.3333333333333333,
              "#9c179e"
             ],
             [
              0.4444444444444444,
              "#bd3786"
             ],
             [
              0.5555555555555556,
              "#d8576b"
             ],
             [
              0.6666666666666666,
              "#ed7953"
             ],
             [
              0.7777777777777778,
              "#fb9f3a"
             ],
             [
              0.8888888888888888,
              "#fdca26"
             ],
             [
              1,
              "#f0f921"
             ]
            ],
            "type": "histogram2dcontour"
           }
          ],
          "mesh3d": [
           {
            "colorbar": {
             "outlinewidth": 0,
             "ticks": ""
            },
            "type": "mesh3d"
           }
          ],
          "parcoords": [
           {
            "line": {
             "colorbar": {
              "outlinewidth": 0,
              "ticks": ""
             }
            },
            "type": "parcoords"
           }
          ],
          "pie": [
           {
            "automargin": true,
            "type": "pie"
           }
          ],
          "scatter": [
           {
            "fillpattern": {
             "fillmode": "overlay",
             "size": 10,
             "solidity": 0.2
            },
            "type": "scatter"
           }
          ],
          "scatter3d": [
           {
            "line": {
             "colorbar": {
              "outlinewidth": 0,
              "ticks": ""
             }
            },
            "marker": {
             "colorbar": {
              "outlinewidth": 0,
              "ticks": ""
             }
            },
            "type": "scatter3d"
           }
          ],
          "scattercarpet": [
           {
            "marker": {
             "colorbar": {
              "outlinewidth": 0,
              "ticks": ""
             }
            },
            "type": "scattercarpet"
           }
          ],
          "scattergeo": [
           {
            "marker": {
             "colorbar": {
              "outlinewidth": 0,
              "ticks": ""
             }
            },
            "type": "scattergeo"
           }
          ],
          "scattergl": [
           {
            "marker": {
             "colorbar": {
              "outlinewidth": 0,
              "ticks": ""
             }
            },
            "type": "scattergl"
           }
          ],
          "scattermapbox": [
           {
            "marker": {
             "colorbar": {
              "outlinewidth": 0,
              "ticks": ""
             }
            },
            "type": "scattermapbox"
           }
          ],
          "scatterpolar": [
           {
            "marker": {
             "colorbar": {
              "outlinewidth": 0,
              "ticks": ""
             }
            },
            "type": "scatterpolar"
           }
          ],
          "scatterpolargl": [
           {
            "marker": {
             "colorbar": {
              "outlinewidth": 0,
              "ticks": ""
             }
            },
            "type": "scatterpolargl"
           }
          ],
          "scatterternary": [
           {
            "marker": {
             "colorbar": {
              "outlinewidth": 0,
              "ticks": ""
             }
            },
            "type": "scatterternary"
           }
          ],
          "surface": [
           {
            "colorbar": {
             "outlinewidth": 0,
             "ticks": ""
            },
            "colorscale": [
             [
              0,
              "#0d0887"
             ],
             [
              0.1111111111111111,
              "#46039f"
             ],
             [
              0.2222222222222222,
              "#7201a8"
             ],
             [
              0.3333333333333333,
              "#9c179e"
             ],
             [
              0.4444444444444444,
              "#bd3786"
             ],
             [
              0.5555555555555556,
              "#d8576b"
             ],
             [
              0.6666666666666666,
              "#ed7953"
             ],
             [
              0.7777777777777778,
              "#fb9f3a"
             ],
             [
              0.8888888888888888,
              "#fdca26"
             ],
             [
              1,
              "#f0f921"
             ]
            ],
            "type": "surface"
           }
          ],
          "table": [
           {
            "cells": {
             "fill": {
              "color": "#EBF0F8"
             },
             "line": {
              "color": "white"
             }
            },
            "header": {
             "fill": {
              "color": "#C8D4E3"
             },
             "line": {
              "color": "white"
             }
            },
            "type": "table"
           }
          ]
         },
         "layout": {
          "annotationdefaults": {
           "arrowcolor": "#2a3f5f",
           "arrowhead": 0,
           "arrowwidth": 1
          },
          "autotypenumbers": "strict",
          "coloraxis": {
           "colorbar": {
            "outlinewidth": 0,
            "ticks": ""
           }
          },
          "colorscale": {
           "diverging": [
            [
             0,
             "#8e0152"
            ],
            [
             0.1,
             "#c51b7d"
            ],
            [
             0.2,
             "#de77ae"
            ],
            [
             0.3,
             "#f1b6da"
            ],
            [
             0.4,
             "#fde0ef"
            ],
            [
             0.5,
             "#f7f7f7"
            ],
            [
             0.6,
             "#e6f5d0"
            ],
            [
             0.7,
             "#b8e186"
            ],
            [
             0.8,
             "#7fbc41"
            ],
            [
             0.9,
             "#4d9221"
            ],
            [
             1,
             "#276419"
            ]
           ],
           "sequential": [
            [
             0,
             "#0d0887"
            ],
            [
             0.1111111111111111,
             "#46039f"
            ],
            [
             0.2222222222222222,
             "#7201a8"
            ],
            [
             0.3333333333333333,
             "#9c179e"
            ],
            [
             0.4444444444444444,
             "#bd3786"
            ],
            [
             0.5555555555555556,
             "#d8576b"
            ],
            [
             0.6666666666666666,
             "#ed7953"
            ],
            [
             0.7777777777777778,
             "#fb9f3a"
            ],
            [
             0.8888888888888888,
             "#fdca26"
            ],
            [
             1,
             "#f0f921"
            ]
           ],
           "sequentialminus": [
            [
             0,
             "#0d0887"
            ],
            [
             0.1111111111111111,
             "#46039f"
            ],
            [
             0.2222222222222222,
             "#7201a8"
            ],
            [
             0.3333333333333333,
             "#9c179e"
            ],
            [
             0.4444444444444444,
             "#bd3786"
            ],
            [
             0.5555555555555556,
             "#d8576b"
            ],
            [
             0.6666666666666666,
             "#ed7953"
            ],
            [
             0.7777777777777778,
             "#fb9f3a"
            ],
            [
             0.8888888888888888,
             "#fdca26"
            ],
            [
             1,
             "#f0f921"
            ]
           ]
          },
          "colorway": [
           "#636efa",
           "#EF553B",
           "#00cc96",
           "#ab63fa",
           "#FFA15A",
           "#19d3f3",
           "#FF6692",
           "#B6E880",
           "#FF97FF",
           "#FECB52"
          ],
          "font": {
           "color": "#2a3f5f"
          },
          "geo": {
           "bgcolor": "white",
           "lakecolor": "white",
           "landcolor": "#E5ECF6",
           "showlakes": true,
           "showland": true,
           "subunitcolor": "white"
          },
          "hoverlabel": {
           "align": "left"
          },
          "hovermode": "closest",
          "mapbox": {
           "style": "light"
          },
          "paper_bgcolor": "white",
          "plot_bgcolor": "#E5ECF6",
          "polar": {
           "angularaxis": {
            "gridcolor": "white",
            "linecolor": "white",
            "ticks": ""
           },
           "bgcolor": "#E5ECF6",
           "radialaxis": {
            "gridcolor": "white",
            "linecolor": "white",
            "ticks": ""
           }
          },
          "scene": {
           "xaxis": {
            "backgroundcolor": "#E5ECF6",
            "gridcolor": "white",
            "gridwidth": 2,
            "linecolor": "white",
            "showbackground": true,
            "ticks": "",
            "zerolinecolor": "white"
           },
           "yaxis": {
            "backgroundcolor": "#E5ECF6",
            "gridcolor": "white",
            "gridwidth": 2,
            "linecolor": "white",
            "showbackground": true,
            "ticks": "",
            "zerolinecolor": "white"
           },
           "zaxis": {
            "backgroundcolor": "#E5ECF6",
            "gridcolor": "white",
            "gridwidth": 2,
            "linecolor": "white",
            "showbackground": true,
            "ticks": "",
            "zerolinecolor": "white"
           }
          },
          "shapedefaults": {
           "line": {
            "color": "#2a3f5f"
           }
          },
          "ternary": {
           "aaxis": {
            "gridcolor": "white",
            "linecolor": "white",
            "ticks": ""
           },
           "baxis": {
            "gridcolor": "white",
            "linecolor": "white",
            "ticks": ""
           },
           "bgcolor": "#E5ECF6",
           "caxis": {
            "gridcolor": "white",
            "linecolor": "white",
            "ticks": ""
           }
          },
          "title": {
           "x": 0.05
          },
          "xaxis": {
           "automargin": true,
           "gridcolor": "white",
           "linecolor": "white",
           "ticks": "",
           "title": {
            "standoff": 15
           },
           "zerolinecolor": "white",
           "zerolinewidth": 2
          },
          "yaxis": {
           "automargin": true,
           "gridcolor": "white",
           "linecolor": "white",
           "ticks": "",
           "title": {
            "standoff": 15
           },
           "zerolinecolor": "white",
           "zerolinewidth": 2
          }
         }
        },
        "title": {
         "text": "Poorer community districts have<br>higher taxi fares"
        },
        "width": 700,
        "xaxis": {
         "anchor": "y",
         "domain": [
          0,
          1
         ],
         "title": {
          "text": "Poverty rate (%)"
         }
        },
        "yaxis": {
         "anchor": "x",
         "domain": [
          0,
          1
         ],
         "title": {
          "text": "Unemployment rate (%)"
         }
        }
       }
      },
      "text/html": [
       "<div>                            <div id=\"56892c0b-c782-426e-9314-2046cf07178a\" class=\"plotly-graph-div\" style=\"height:600px; width:700px;\"></div>            <script type=\"text/javascript\">                require([\"plotly\"], function(Plotly) {                    window.PLOTLYENV=window.PLOTLYENV || {};                                    if (document.getElementById(\"56892c0b-c782-426e-9314-2046cf07178a\")) {                    Plotly.newPlot(                        \"56892c0b-c782-426e-9314-2046cf07178a\",                        [{\"hovertemplate\":\"<b>%{hovertext}</b><br><br>Borough=Queens<br>Poverty rate (%)=%{x}<br>Unemployment rate (%)=%{y}<br>Taxi (average_fare $)=%{marker.size}<extra></extra>\",\"hovertext\":[\"QN04 Elmhurst-Corona (CD 4 Approximation)\",\"QN14 The Rockaways (CD 14 Approximation)\",\"QN07 Flushing-Murray Hill-Whitestone (CD 7 Approximation)\",\"QN06 Forest Hills-Rego Park (CD 6 Approximation)\",\"QN09 Kew Gardens-Richmond Hill-Woodhaven (CD 9 Approximation)\",\"QN01 Astoria-Queensbridge (CD 1 Equivalent)\",\"QN03 Jackson Heights-East Elmhurst (CD 3 Approximation)\",\"QN05 Ridgewood-Maspeth-Middle Village (CD 5 Approximation)\",\"QN02 Long Island City-Sunnyside-Woodside (CD 2 Approximation)\",\"QN10 South Ozone Park-Howard Beach (CD 10 Approximation)\",\"QN12 Jamaica-St. Albans-Hollis (CD 12 Approximation)\"],\"legendgroup\":\"Queens\",\"marker\":{\"color\":\"#636efa\",\"size\":[26.32,18.18,19.66,16.49,49.24,31.77,31.8,48.0,39.56,18.57,24.83,30.09,82.05,33.67,31.85,46.61,41.16,29.53,29.59,49.52,50.87,46.24,42.45,26.77,38.27,17.25,47.29,35.96,42.49,16.67,31.98,23.27,26.68,20.29,17.26,32.05,38.28,24.61,35.08,34.11,20.54,34.47,24.46,29.41,18.25,25.61,52.33],\"sizemode\":\"area\",\"sizeref\":0.18233333333333332,\"symbol\":\"circle\",\"sizemin\":4},\"mode\":\"markers\",\"name\":\"Queens\",\"orientation\":\"v\",\"showlegend\":true,\"x\":[10.2,18.1,14.8,11.1,10.1,11.6,15.0,8.4,9.2,7.5,10.6],\"xaxis\":\"x\",\"y\":[3.55,6.27,4.53,3.81,5.2,3.37,4.4,3.14,3.92,4.49,6.63],\"yaxis\":\"y\",\"type\":\"scatter\"},{\"hovertemplate\":\"<b>%{hovertext}</b><br><br>Borough=Manhattan<br>Poverty rate (%)=%{x}<br>Unemployment rate (%)=%{y}<br>Taxi (average_fare $)=%{marker.size}<extra></extra>\",\"hovertext\":[\"MN04 Chelsea-Hell's Kitchen (CD 4 Approximation)\",\"MN03 Lower East Side-Chinatown (CD 3 Equivalent)\",\"MN08 Upper East Side-Roosevelt Island (CD 8 Equivalent)\",\"MN02 Greenwich Village-SoHo (CD 2 Equivalent)\",\"MN06 East Midtown-Murray Hill (CD 6 Approximation)\",\"MN11 East Harlem (CD 11 Equivalent)\",\"MN12 Washington Heights-Inwood (CD 12 Equivalent)\",\"MN10 Harlem (CD 10 Equivalent)\",\"MN07 Upper West Side (CD 7 Approximation)\",\"MN09 Morningside Heights-Hamilton Heights (CD 9 Equivalent)\",\"MN01 Financial District-Tribeca (CD 1 Equivalent)\",\"MN05 Midtown-Flatiron-Union Square (CD 5 Approximation)\"],\"legendgroup\":\"Manhattan\",\"marker\":{\"color\":\"#EF553B\",\"size\":[26.32,18.18,19.66,16.49,49.24,31.77,31.8,48.0,39.56,18.57,24.83,30.09,82.05,33.67,31.85,46.61,41.16,29.53,29.59,49.52,50.87,46.24,42.45,26.77,38.27,17.25,47.29,35.96,42.49,16.67,31.98,23.27,26.68,20.29,17.26,32.05,38.28,24.61,35.08,34.11,20.54,34.47,24.46,29.41,18.25,25.61,52.33],\"sizemode\":\"area\",\"sizeref\":0.18233333333333332,\"symbol\":\"circle\",\"sizemin\":4},\"mode\":\"markers\",\"name\":\"Manhattan\",\"orientation\":\"v\",\"showlegend\":true,\"x\":[11.1,24.0,5.8,6.1,6.5,34.0,15.5,20.1,8.7,19.6,6.1,11.1],\"xaxis\":\"x\",\"y\":[2.64,5.24,1.98,4.32,1.31,6.08,6.16,8.69,2.32,6.79,4.32,2.64],\"yaxis\":\"y\",\"type\":\"scatter\"},{\"hovertemplate\":\"<b>%{hovertext}</b><br><br>Borough=Brooklyn<br>Poverty rate (%)=%{x}<br>Unemployment rate (%)=%{y}<br>Taxi (average_fare $)=%{marker.size}<extra></extra>\",\"hovertext\":[\"BK12 Borough Park-Kensington (CD 12 Approximation)\",\"BK02 Downtown Brooklyn-Fort Greene (CD 2 Approximation)\",\"BK01 Williamsburg-Greenpoint (CD 1 Equivalent)\",\"BK09 Crown Heights (South) (CD 9 Approximation)\",\"BK07 Sunset Park-Windsor Terrace (CD 7 Approximation)\",\"BK11 Bensonhurst-Bath Beach (CD 11 Approximation)\",\"BK06 Park Slope-Carroll Gardens (CD 6 Approximation)\",\"BK04 Bushwick (CD 4 Equivalent)\",\"BK05 East New York-Cypress Hills (CD 5 Approximation)\",\"BK03 Bedford-Stuyvesant (CD 3 Approximation)\",\"BK10 Bay Ridge-Dyker Heights (CD 10 Approximation)\"],\"legendgroup\":\"Brooklyn\",\"marker\":{\"color\":\"#00cc96\",\"size\":[26.32,18.18,19.66,16.49,49.24,31.77,31.8,48.0,39.56,18.57,24.83,30.09,82.05,33.67,31.85,46.61,41.16,29.53,29.59,49.52,50.87,46.24,42.45,26.77,38.27,17.25,47.29,35.96,42.49,16.67,31.98,23.27,26.68,20.29,17.26,32.05,38.28,24.61,35.08,34.11,20.54,34.47,24.46,29.41,18.25,25.61,52.33],\"sizemode\":\"area\",\"sizeref\":0.18233333333333332,\"symbol\":\"circle\",\"sizemin\":4},\"mode\":\"markers\",\"name\":\"Brooklyn\",\"orientation\":\"v\",\"showlegend\":true,\"x\":[26.8,13.8,20.1,17.9,18.1,14.6,7.6,20.7,23.3,23.0,14.2],\"xaxis\":\"x\",\"y\":[3.99,6.31,3.99,4.46,3.33,4.53,3.41,6.32,3.85,6.63,3.59],\"yaxis\":\"y\",\"type\":\"scatter\"},{\"hovertemplate\":\"<b>%{hovertext}</b><br><br>Borough=Bronx<br>Poverty rate (%)=%{x}<br>Unemployment rate (%)=%{y}<br>Taxi (average_fare $)=%{marker.size}<extra></extra>\",\"hovertext\":[\"BX01 Melrose-Mott Haven-Port Morris (CD 1 Approximation)\",\"BX04 Highbridge-Concourse (CD 4 Approximation)\",\"BX03 Morrisania-Crotona Park East (CD 3 Approximation)\",\"BX06 Tremont-Belmont-West Farms (CD 6 Approximation)\",\"BX12 Wakefield-Williamsbridge-Eastchester (CD 12 Approximation)\",\"BX10 Co-op City-Throgs Neck (CD 10 Approximation)\",\"BX11 Pelham Parkway-Morris Park (CD 11 Approximation)\",\"BX02 Longwood-Hunts Point (CD 2 Approximation)\",\"BX09 Soundview-Parkchester (CD 9 Approximation)\",\"BX08 Riverdale-Kingsbridge-Marble Hill (CD 8 Approximation)\",\"BX05 Morris Heights-Mount Hope (CD 5 Approximation)\",\"BX07 Fordham-Bedford Park-Norwood (CD 7 Approximation)\"],\"legendgroup\":\"Bronx\",\"marker\":{\"color\":\"#ab63fa\",\"size\":[26.32,18.18,19.66,16.49,49.24,31.77,31.8,48.0,39.56,18.57,24.83,30.09,82.05,33.67,31.85,46.61,41.16,29.53,29.59,49.52,50.87,46.24,42.45,26.77,38.27,17.25,47.29,35.96,42.49,16.67,31.98,23.27,26.68,20.29,17.26,32.05,38.28,24.61,35.08,34.11,20.54,34.47,24.46,29.41,18.25,25.61,52.33],\"sizemode\":\"area\",\"sizeref\":0.18233333333333332,\"symbol\":\"circle\",\"sizemin\":4},\"mode\":\"markers\",\"name\":\"Bronx\",\"orientation\":\"v\",\"showlegend\":true,\"x\":[39.6,32.4,40.3,40.3,17.1,12.9,14.6,39.6,26.6,16.5,31.4,22.6],\"xaxis\":\"x\",\"y\":[11.29,9.57,11.49,11.49,8.27,4.5,8.09,11.29,6.91,5.62,11.58,11.73],\"yaxis\":\"y\",\"type\":\"scatter\"},{\"hovertemplate\":\"<b>%{hovertext}</b><br><br>Borough=Staten Island<br>Poverty rate (%)=%{x}<br>Unemployment rate (%)=%{y}<br>Taxi (average_fare $)=%{marker.size}<extra></extra>\",\"hovertext\":[\"SI01 North Shore (CD 1 Equivalent)\"],\"legendgroup\":\"Staten Island\",\"marker\":{\"color\":\"#FFA15A\",\"size\":[26.32,18.18,19.66,16.49,49.24,31.77,31.8,48.0,39.56,18.57,24.83,30.09,82.05,33.67,31.85,46.61,41.16,29.53,29.59,49.52,50.87,46.24,42.45,26.77,38.27,17.25,47.29,35.96,42.49,16.67,31.98,23.27,26.68,20.29,17.26,32.05,38.28,24.61,35.08,34.11,20.54,34.47,24.46,29.41,18.25,25.61,52.33],\"sizemode\":\"area\",\"sizeref\":0.18233333333333332,\"symbol\":\"circle\",\"sizemin\":4},\"mode\":\"markers\",\"name\":\"Staten Island\",\"orientation\":\"v\",\"showlegend\":true,\"x\":[13.0],\"xaxis\":\"x\",\"y\":[5.13],\"yaxis\":\"y\",\"type\":\"scatter\"}],                        {\"template\":{\"data\":{\"histogram2dcontour\":[{\"type\":\"histogram2dcontour\",\"colorbar\":{\"outlinewidth\":0,\"ticks\":\"\"},\"colorscale\":[[0.0,\"#0d0887\"],[0.1111111111111111,\"#46039f\"],[0.2222222222222222,\"#7201a8\"],[0.3333333333333333,\"#9c179e\"],[0.4444444444444444,\"#bd3786\"],[0.5555555555555556,\"#d8576b\"],[0.6666666666666666,\"#ed7953\"],[0.7777777777777778,\"#fb9f3a\"],[0.8888888888888888,\"#fdca26\"],[1.0,\"#f0f921\"]]}],\"choropleth\":[{\"type\":\"choropleth\",\"colorbar\":{\"outlinewidth\":0,\"ticks\":\"\"}}],\"histogram2d\":[{\"type\":\"histogram2d\",\"colorbar\":{\"outlinewidth\":0,\"ticks\":\"\"},\"colorscale\":[[0.0,\"#0d0887\"],[0.1111111111111111,\"#46039f\"],[0.2222222222222222,\"#7201a8\"],[0.3333333333333333,\"#9c179e\"],[0.4444444444444444,\"#bd3786\"],[0.5555555555555556,\"#d8576b\"],[0.6666666666666666,\"#ed7953\"],[0.7777777777777778,\"#fb9f3a\"],[0.8888888888888888,\"#fdca26\"],[1.0,\"#f0f921\"]]}],\"heatmap\":[{\"type\":\"heatmap\",\"colorbar\":{\"outlinewidth\":0,\"ticks\":\"\"},\"colorscale\":[[0.0,\"#0d0887\"],[0.1111111111111111,\"#46039f\"],[0.2222222222222222,\"#7201a8\"],[0.3333333333333333,\"#9c179e\"],[0.4444444444444444,\"#bd3786\"],[0.5555555555555556,\"#d8576b\"],[0.6666666666666666,\"#ed7953\"],[0.7777777777777778,\"#fb9f3a\"],[0.8888888888888888,\"#fdca26\"],[1.0,\"#f0f921\"]]}],\"heatmapgl\":[{\"type\":\"heatmapgl\",\"colorbar\":{\"outlinewidth\":0,\"ticks\":\"\"},\"colorscale\":[[0.0,\"#0d0887\"],[0.1111111111111111,\"#46039f\"],[0.2222222222222222,\"#7201a8\"],[0.3333333333333333,\"#9c179e\"],[0.4444444444444444,\"#bd3786\"],[0.5555555555555556,\"#d8576b\"],[0.6666666666666666,\"#ed7953\"],[0.7777777777777778,\"#fb9f3a\"],[0.8888888888888888,\"#fdca26\"],[1.0,\"#f0f921\"]]}],\"contourcarpet\":[{\"type\":\"contourcarpet\",\"colorbar\":{\"outlinewidth\":0,\"ticks\":\"\"}}],\"contour\":[{\"type\":\"contour\",\"colorbar\":{\"outlinewidth\":0,\"ticks\":\"\"},\"colorscale\":[[0.0,\"#0d0887\"],[0.1111111111111111,\"#46039f\"],[0.2222222222222222,\"#7201a8\"],[0.3333333333333333,\"#9c179e\"],[0.4444444444444444,\"#bd3786\"],[0.5555555555555556,\"#d8576b\"],[0.6666666666666666,\"#ed7953\"],[0.7777777777777778,\"#fb9f3a\"],[0.8888888888888888,\"#fdca26\"],[1.0,\"#f0f921\"]]}],\"surface\":[{\"type\":\"surface\",\"colorbar\":{\"outlinewidth\":0,\"ticks\":\"\"},\"colorscale\":[[0.0,\"#0d0887\"],[0.1111111111111111,\"#46039f\"],[0.2222222222222222,\"#7201a8\"],[0.3333333333333333,\"#9c179e\"],[0.4444444444444444,\"#bd3786\"],[0.5555555555555556,\"#d8576b\"],[0.6666666666666666,\"#ed7953\"],[0.7777777777777778,\"#fb9f3a\"],[0.8888888888888888,\"#fdca26\"],[1.0,\"#f0f921\"]]}],\"mesh3d\":[{\"type\":\"mesh3d\",\"colorbar\":{\"outlinewidth\":0,\"ticks\":\"\"}}],\"scatter\":[{\"fillpattern\":{\"fillmode\":\"overlay\",\"size\":10,\"solidity\":0.2},\"type\":\"scatter\"}],\"parcoords\":[{\"type\":\"parcoords\",\"line\":{\"colorbar\":{\"outlinewidth\":0,\"ticks\":\"\"}}}],\"scatterpolargl\":[{\"type\":\"scatterpolargl\",\"marker\":{\"colorbar\":{\"outlinewidth\":0,\"ticks\":\"\"}}}],\"bar\":[{\"error_x\":{\"color\":\"#2a3f5f\"},\"error_y\":{\"color\":\"#2a3f5f\"},\"marker\":{\"line\":{\"color\":\"#E5ECF6\",\"width\":0.5},\"pattern\":{\"fillmode\":\"overlay\",\"size\":10,\"solidity\":0.2}},\"type\":\"bar\"}],\"scattergeo\":[{\"type\":\"scattergeo\",\"marker\":{\"colorbar\":{\"outlinewidth\":0,\"ticks\":\"\"}}}],\"scatterpolar\":[{\"type\":\"scatterpolar\",\"marker\":{\"colorbar\":{\"outlinewidth\":0,\"ticks\":\"\"}}}],\"histogram\":[{\"marker\":{\"pattern\":{\"fillmode\":\"overlay\",\"size\":10,\"solidity\":0.2}},\"type\":\"histogram\"}],\"scattergl\":[{\"type\":\"scattergl\",\"marker\":{\"colorbar\":{\"outlinewidth\":0,\"ticks\":\"\"}}}],\"scatter3d\":[{\"type\":\"scatter3d\",\"line\":{\"colorbar\":{\"outlinewidth\":0,\"ticks\":\"\"}},\"marker\":{\"colorbar\":{\"outlinewidth\":0,\"ticks\":\"\"}}}],\"scattermapbox\":[{\"type\":\"scattermapbox\",\"marker\":{\"colorbar\":{\"outlinewidth\":0,\"ticks\":\"\"}}}],\"scatterternary\":[{\"type\":\"scatterternary\",\"marker\":{\"colorbar\":{\"outlinewidth\":0,\"ticks\":\"\"}}}],\"scattercarpet\":[{\"type\":\"scattercarpet\",\"marker\":{\"colorbar\":{\"outlinewidth\":0,\"ticks\":\"\"}}}],\"carpet\":[{\"aaxis\":{\"endlinecolor\":\"#2a3f5f\",\"gridcolor\":\"white\",\"linecolor\":\"white\",\"minorgridcolor\":\"white\",\"startlinecolor\":\"#2a3f5f\"},\"baxis\":{\"endlinecolor\":\"#2a3f5f\",\"gridcolor\":\"white\",\"linecolor\":\"white\",\"minorgridcolor\":\"white\",\"startlinecolor\":\"#2a3f5f\"},\"type\":\"carpet\"}],\"table\":[{\"cells\":{\"fill\":{\"color\":\"#EBF0F8\"},\"line\":{\"color\":\"white\"}},\"header\":{\"fill\":{\"color\":\"#C8D4E3\"},\"line\":{\"color\":\"white\"}},\"type\":\"table\"}],\"barpolar\":[{\"marker\":{\"line\":{\"color\":\"#E5ECF6\",\"width\":0.5},\"pattern\":{\"fillmode\":\"overlay\",\"size\":10,\"solidity\":0.2}},\"type\":\"barpolar\"}],\"pie\":[{\"automargin\":true,\"type\":\"pie\"}]},\"layout\":{\"autotypenumbers\":\"strict\",\"colorway\":[\"#636efa\",\"#EF553B\",\"#00cc96\",\"#ab63fa\",\"#FFA15A\",\"#19d3f3\",\"#FF6692\",\"#B6E880\",\"#FF97FF\",\"#FECB52\"],\"font\":{\"color\":\"#2a3f5f\"},\"hovermode\":\"closest\",\"hoverlabel\":{\"align\":\"left\"},\"paper_bgcolor\":\"white\",\"plot_bgcolor\":\"#E5ECF6\",\"polar\":{\"bgcolor\":\"#E5ECF6\",\"angularaxis\":{\"gridcolor\":\"white\",\"linecolor\":\"white\",\"ticks\":\"\"},\"radialaxis\":{\"gridcolor\":\"white\",\"linecolor\":\"white\",\"ticks\":\"\"}},\"ternary\":{\"bgcolor\":\"#E5ECF6\",\"aaxis\":{\"gridcolor\":\"white\",\"linecolor\":\"white\",\"ticks\":\"\"},\"baxis\":{\"gridcolor\":\"white\",\"linecolor\":\"white\",\"ticks\":\"\"},\"caxis\":{\"gridcolor\":\"white\",\"linecolor\":\"white\",\"ticks\":\"\"}},\"coloraxis\":{\"colorbar\":{\"outlinewidth\":0,\"ticks\":\"\"}},\"colorscale\":{\"sequential\":[[0.0,\"#0d0887\"],[0.1111111111111111,\"#46039f\"],[0.2222222222222222,\"#7201a8\"],[0.3333333333333333,\"#9c179e\"],[0.4444444444444444,\"#bd3786\"],[0.5555555555555556,\"#d8576b\"],[0.6666666666666666,\"#ed7953\"],[0.7777777777777778,\"#fb9f3a\"],[0.8888888888888888,\"#fdca26\"],[1.0,\"#f0f921\"]],\"sequentialminus\":[[0.0,\"#0d0887\"],[0.1111111111111111,\"#46039f\"],[0.2222222222222222,\"#7201a8\"],[0.3333333333333333,\"#9c179e\"],[0.4444444444444444,\"#bd3786\"],[0.5555555555555556,\"#d8576b\"],[0.6666666666666666,\"#ed7953\"],[0.7777777777777778,\"#fb9f3a\"],[0.8888888888888888,\"#fdca26\"],[1.0,\"#f0f921\"]],\"diverging\":[[0,\"#8e0152\"],[0.1,\"#c51b7d\"],[0.2,\"#de77ae\"],[0.3,\"#f1b6da\"],[0.4,\"#fde0ef\"],[0.5,\"#f7f7f7\"],[0.6,\"#e6f5d0\"],[0.7,\"#b8e186\"],[0.8,\"#7fbc41\"],[0.9,\"#4d9221\"],[1,\"#276419\"]]},\"xaxis\":{\"gridcolor\":\"white\",\"linecolor\":\"white\",\"ticks\":\"\",\"title\":{\"standoff\":15},\"zerolinecolor\":\"white\",\"automargin\":true,\"zerolinewidth\":2},\"yaxis\":{\"gridcolor\":\"white\",\"linecolor\":\"white\",\"ticks\":\"\",\"title\":{\"standoff\":15},\"zerolinecolor\":\"white\",\"automargin\":true,\"zerolinewidth\":2},\"scene\":{\"xaxis\":{\"backgroundcolor\":\"#E5ECF6\",\"gridcolor\":\"white\",\"linecolor\":\"white\",\"showbackground\":true,\"ticks\":\"\",\"zerolinecolor\":\"white\",\"gridwidth\":2},\"yaxis\":{\"backgroundcolor\":\"#E5ECF6\",\"gridcolor\":\"white\",\"linecolor\":\"white\",\"showbackground\":true,\"ticks\":\"\",\"zerolinecolor\":\"white\",\"gridwidth\":2},\"zaxis\":{\"backgroundcolor\":\"#E5ECF6\",\"gridcolor\":\"white\",\"linecolor\":\"white\",\"showbackground\":true,\"ticks\":\"\",\"zerolinecolor\":\"white\",\"gridwidth\":2}},\"shapedefaults\":{\"line\":{\"color\":\"#2a3f5f\"}},\"annotationdefaults\":{\"arrowcolor\":\"#2a3f5f\",\"arrowhead\":0,\"arrowwidth\":1},\"geo\":{\"bgcolor\":\"white\",\"landcolor\":\"#E5ECF6\",\"subunitcolor\":\"white\",\"showland\":true,\"showlakes\":true,\"lakecolor\":\"white\"},\"title\":{\"x\":0.05},\"mapbox\":{\"style\":\"light\"}}},\"xaxis\":{\"anchor\":\"y\",\"domain\":[0.0,1.0],\"title\":{\"text\":\"Poverty rate (%)\"}},\"yaxis\":{\"anchor\":\"x\",\"domain\":[0.0,1.0],\"title\":{\"text\":\"Unemployment rate (%)\"}},\"legend\":{\"title\":{\"text\":\"Borough\"},\"tracegroupgap\":0,\"itemsizing\":\"constant\"},\"title\":{\"text\":\"Poorer community districts have<br>higher taxi fares\"},\"annotations\":[{\"align\":\"center\",\"arrowcolor\":\"#636363\",\"arrowhead\":2,\"arrowsize\":1,\"arrowwidth\":2,\"ax\":30,\"ay\":60,\"bgcolor\":\"#ff7f0e\",\"bordercolor\":\"#c7c7c7\",\"borderpad\":4,\"borderwidth\":2,\"font\":{\"color\":\"#ffffff\",\"family\":\"Courier New, monospace\",\"size\":13},\"opacity\":0.8,\"showarrow\":true,\"text\":\"high <br> unemployment rate <br> and poverty rate\",\"x\":40.3,\"xref\":\"x\",\"y\":11.49,\"yref\":\"y\"}],\"autosize\":false,\"width\":700,\"height\":600},                        {\"responsive\": true}                    ).then(function(){\n",
       "                            \n",
       "var gd = document.getElementById('56892c0b-c782-426e-9314-2046cf07178a');\n",
       "var x = new MutationObserver(function (mutations, observer) {{\n",
       "        var display = window.getComputedStyle(gd).display;\n",
       "        if (!display || display === 'none') {{\n",
       "            console.log([gd, 'removed!']);\n",
       "            Plotly.purge(gd);\n",
       "            observer.disconnect();\n",
       "        }}\n",
       "}});\n",
       "\n",
       "// Listen for the removal of the full notebook cells\n",
       "var notebookContainer = gd.closest('#notebook-container');\n",
       "if (notebookContainer) {{\n",
       "    x.observe(notebookContainer, {childList: true});\n",
       "}}\n",
       "\n",
       "// Listen for the clearing of the current output cell\n",
       "var outputEl = gd.closest('.output');\n",
       "if (outputEl) {{\n",
       "    x.observe(outputEl, {childList: true});\n",
       "}}\n",
       "\n",
       "                        })                };                });            </script>        </div>"
      ]
     },
     "metadata": {},
     "output_type": "display_data"
    }
   ],
   "source": [
    "s1 = 'Poverty rate'\n",
    "s2 = 'Unemployment rate'\n",
    "cd = 'PU_average_fare'\n",
    "l = {\n",
    "                     \"color\": \"Borough\",\n",
    "                     \"PU_average_fare\" :'Taxi (average_fare $)',\n",
    "                     \"Poverty rate\" :\"Poverty rate (%)\",\n",
    "                     \"Unemployment rate\" :\"Unemployment rate (%)\",\n",
    "                 \n",
    "                 }\n",
    "a_text = \"high <br> unemployment rate <br> and poverty rate\"\n",
    "\n",
    "create_scatter(s1,s2,cd,\"Poorer community districts have<br>higher taxi fares\",l , a_text, 40.3,11.49)\n",
    "\n"
   ]
  },
  {
   "cell_type": "markdown",
   "id": "9b0154ef",
   "metadata": {},
   "source": [
    "# Visualization 4: Poorer community districts have longer commutes"
   ]
  },
  {
   "cell_type": "code",
   "execution_count": 110,
   "id": "91f688bd",
   "metadata": {},
   "outputs": [
    {
     "data": {
      "application/vnd.plotly.v1+json": {
       "config": {
        "plotlyServerURL": "https://plot.ly"
       },
       "data": [
        {
         "hovertemplate": "<b>%{hovertext}</b><br><br>Borough=Queens<br>Poverty rate (%)=%{x}<br>Unemployment rate (%)=%{y}<br>Taxi (average duration min)=%{marker.size}<extra></extra>",
         "hovertext": [
          "QN04 Elmhurst-Corona (CD 4 Approximation)",
          "QN14 The Rockaways (CD 14 Approximation)",
          "QN07 Flushing-Murray Hill-Whitestone (CD 7 Approximation)",
          "QN06 Forest Hills-Rego Park (CD 6 Approximation)",
          "QN09 Kew Gardens-Richmond Hill-Woodhaven (CD 9 Approximation)",
          "QN01 Astoria-Queensbridge (CD 1 Equivalent)",
          "QN03 Jackson Heights-East Elmhurst (CD 3 Approximation)",
          "QN05 Ridgewood-Maspeth-Middle Village (CD 5 Approximation)",
          "QN02 Long Island City-Sunnyside-Woodside (CD 2 Approximation)",
          "QN10 South Ozone Park-Howard Beach (CD 10 Approximation)",
          "QN12 Jamaica-St. Albans-Hollis (CD 12 Approximation)"
         ],
         "legendgroup": "Queens",
         "marker": {
          "color": "#636efa",
          "size": [
           26.09,
           15.43,
           17.18,
           12.91,
           42.1,
           28.18,
           27.54,
           40.02,
           38.66,
           16.52,
           24.74,
           28.37,
           46.36,
           28.53,
           31.69,
           35.54,
           37.12,
           24.89,
           26.5,
           37.22,
           39.74,
           33.78,
           33.49,
           24.01,
           31.2,
           13.75,
           33.49,
           33.45,
           37.44,
           14.17,
           25.28,
           22.12,
           24.55,
           17.84,
           13.99,
           28.81,
           32.56,
           21.17,
           32.64,
           31.9,
           17.9,
           34.29,
           21.01,
           22.74,
           15.55,
           22.6,
           38.3
          ],
          "sizemin": 4,
          "sizemode": "area",
          "sizeref": 0.10302222222222222,
          "symbol": "circle"
         },
         "mode": "markers",
         "name": "Queens",
         "orientation": "v",
         "showlegend": true,
         "type": "scatter",
         "x": [
          10.2,
          18.1,
          14.8,
          11.1,
          10.1,
          11.6,
          15,
          8.4,
          9.2,
          7.5,
          10.6
         ],
         "xaxis": "x",
         "y": [
          3.55,
          6.27,
          4.53,
          3.81,
          5.2,
          3.37,
          4.4,
          3.14,
          3.92,
          4.49,
          6.63
         ],
         "yaxis": "y"
        },
        {
         "hovertemplate": "<b>%{hovertext}</b><br><br>Borough=Manhattan<br>Poverty rate (%)=%{x}<br>Unemployment rate (%)=%{y}<br>Taxi (average duration min)=%{marker.size}<extra></extra>",
         "hovertext": [
          "MN04 Chelsea-Hell's Kitchen (CD 4 Approximation)",
          "MN03 Lower East Side-Chinatown (CD 3 Equivalent)",
          "MN08 Upper East Side-Roosevelt Island (CD 8 Equivalent)",
          "MN02 Greenwich Village-SoHo (CD 2 Equivalent)",
          "MN06 East Midtown-Murray Hill (CD 6 Approximation)",
          "MN11 East Harlem (CD 11 Equivalent)",
          "MN12 Washington Heights-Inwood (CD 12 Equivalent)",
          "MN10 Harlem (CD 10 Equivalent)",
          "MN07 Upper West Side (CD 7 Approximation)",
          "MN09 Morningside Heights-Hamilton Heights (CD 9 Equivalent)",
          "MN01 Financial District-Tribeca (CD 1 Equivalent)",
          "MN05 Midtown-Flatiron-Union Square (CD 5 Approximation)"
         ],
         "legendgroup": "Manhattan",
         "marker": {
          "color": "#EF553B",
          "size": [
           26.09,
           15.43,
           17.18,
           12.91,
           42.1,
           28.18,
           27.54,
           40.02,
           38.66,
           16.52,
           24.74,
           28.37,
           46.36,
           28.53,
           31.69,
           35.54,
           37.12,
           24.89,
           26.5,
           37.22,
           39.74,
           33.78,
           33.49,
           24.01,
           31.2,
           13.75,
           33.49,
           33.45,
           37.44,
           14.17,
           25.28,
           22.12,
           24.55,
           17.84,
           13.99,
           28.81,
           32.56,
           21.17,
           32.64,
           31.9,
           17.9,
           34.29,
           21.01,
           22.74,
           15.55,
           22.6,
           38.3
          ],
          "sizemin": 4,
          "sizemode": "area",
          "sizeref": 0.10302222222222222,
          "symbol": "circle"
         },
         "mode": "markers",
         "name": "Manhattan",
         "orientation": "v",
         "showlegend": true,
         "type": "scatter",
         "x": [
          11.1,
          24,
          5.8,
          6.1,
          6.5,
          34,
          15.5,
          20.1,
          8.7,
          19.6,
          6.1,
          11.1
         ],
         "xaxis": "x",
         "y": [
          2.64,
          5.24,
          1.98,
          4.32,
          1.31,
          6.08,
          6.16,
          8.69,
          2.32,
          6.79,
          4.32,
          2.64
         ],
         "yaxis": "y"
        },
        {
         "hovertemplate": "<b>%{hovertext}</b><br><br>Borough=Brooklyn<br>Poverty rate (%)=%{x}<br>Unemployment rate (%)=%{y}<br>Taxi (average duration min)=%{marker.size}<extra></extra>",
         "hovertext": [
          "BK12 Borough Park-Kensington (CD 12 Approximation)",
          "BK02 Downtown Brooklyn-Fort Greene (CD 2 Approximation)",
          "BK01 Williamsburg-Greenpoint (CD 1 Equivalent)",
          "BK09 Crown Heights (South) (CD 9 Approximation)",
          "BK07 Sunset Park-Windsor Terrace (CD 7 Approximation)",
          "BK11 Bensonhurst-Bath Beach (CD 11 Approximation)",
          "BK06 Park Slope-Carroll Gardens (CD 6 Approximation)",
          "BK04 Bushwick (CD 4 Equivalent)",
          "BK05 East New York-Cypress Hills (CD 5 Approximation)",
          "BK03 Bedford-Stuyvesant (CD 3 Approximation)",
          "BK10 Bay Ridge-Dyker Heights (CD 10 Approximation)"
         ],
         "legendgroup": "Brooklyn",
         "marker": {
          "color": "#00cc96",
          "size": [
           26.09,
           15.43,
           17.18,
           12.91,
           42.1,
           28.18,
           27.54,
           40.02,
           38.66,
           16.52,
           24.74,
           28.37,
           46.36,
           28.53,
           31.69,
           35.54,
           37.12,
           24.89,
           26.5,
           37.22,
           39.74,
           33.78,
           33.49,
           24.01,
           31.2,
           13.75,
           33.49,
           33.45,
           37.44,
           14.17,
           25.28,
           22.12,
           24.55,
           17.84,
           13.99,
           28.81,
           32.56,
           21.17,
           32.64,
           31.9,
           17.9,
           34.29,
           21.01,
           22.74,
           15.55,
           22.6,
           38.3
          ],
          "sizemin": 4,
          "sizemode": "area",
          "sizeref": 0.10302222222222222,
          "symbol": "circle"
         },
         "mode": "markers",
         "name": "Brooklyn",
         "orientation": "v",
         "showlegend": true,
         "type": "scatter",
         "x": [
          26.8,
          13.8,
          20.1,
          17.9,
          18.1,
          14.6,
          7.6,
          20.7,
          23.3,
          23,
          14.2
         ],
         "xaxis": "x",
         "y": [
          3.99,
          6.31,
          3.99,
          4.46,
          3.33,
          4.53,
          3.41,
          6.32,
          3.85,
          6.63,
          3.59
         ],
         "yaxis": "y"
        },
        {
         "hovertemplate": "<b>%{hovertext}</b><br><br>Borough=Bronx<br>Poverty rate (%)=%{x}<br>Unemployment rate (%)=%{y}<br>Taxi (average duration min)=%{marker.size}<extra></extra>",
         "hovertext": [
          "BX01 Melrose-Mott Haven-Port Morris (CD 1 Approximation)",
          "BX04 Highbridge-Concourse (CD 4 Approximation)",
          "BX03 Morrisania-Crotona Park East (CD 3 Approximation)",
          "BX06 Tremont-Belmont-West Farms (CD 6 Approximation)",
          "BX12 Wakefield-Williamsbridge-Eastchester (CD 12 Approximation)",
          "BX10 Co-op City-Throgs Neck (CD 10 Approximation)",
          "BX11 Pelham Parkway-Morris Park (CD 11 Approximation)",
          "BX02 Longwood-Hunts Point (CD 2 Approximation)",
          "BX09 Soundview-Parkchester (CD 9 Approximation)",
          "BX08 Riverdale-Kingsbridge-Marble Hill (CD 8 Approximation)",
          "BX05 Morris Heights-Mount Hope (CD 5 Approximation)",
          "BX07 Fordham-Bedford Park-Norwood (CD 7 Approximation)"
         ],
         "legendgroup": "Bronx",
         "marker": {
          "color": "#ab63fa",
          "size": [
           26.09,
           15.43,
           17.18,
           12.91,
           42.1,
           28.18,
           27.54,
           40.02,
           38.66,
           16.52,
           24.74,
           28.37,
           46.36,
           28.53,
           31.69,
           35.54,
           37.12,
           24.89,
           26.5,
           37.22,
           39.74,
           33.78,
           33.49,
           24.01,
           31.2,
           13.75,
           33.49,
           33.45,
           37.44,
           14.17,
           25.28,
           22.12,
           24.55,
           17.84,
           13.99,
           28.81,
           32.56,
           21.17,
           32.64,
           31.9,
           17.9,
           34.29,
           21.01,
           22.74,
           15.55,
           22.6,
           38.3
          ],
          "sizemin": 4,
          "sizemode": "area",
          "sizeref": 0.10302222222222222,
          "symbol": "circle"
         },
         "mode": "markers",
         "name": "Bronx",
         "orientation": "v",
         "showlegend": true,
         "type": "scatter",
         "x": [
          39.6,
          32.4,
          40.3,
          40.3,
          17.1,
          12.9,
          14.6,
          39.6,
          26.6,
          16.5,
          31.4,
          22.6
         ],
         "xaxis": "x",
         "y": [
          11.29,
          9.57,
          11.49,
          11.49,
          8.27,
          4.5,
          8.09,
          11.29,
          6.91,
          5.62,
          11.58,
          11.73
         ],
         "yaxis": "y"
        },
        {
         "hovertemplate": "<b>%{hovertext}</b><br><br>Borough=Staten Island<br>Poverty rate (%)=%{x}<br>Unemployment rate (%)=%{y}<br>Taxi (average duration min)=%{marker.size}<extra></extra>",
         "hovertext": [
          "SI01 North Shore (CD 1 Equivalent)"
         ],
         "legendgroup": "Staten Island",
         "marker": {
          "color": "#FFA15A",
          "size": [
           26.09,
           15.43,
           17.18,
           12.91,
           42.1,
           28.18,
           27.54,
           40.02,
           38.66,
           16.52,
           24.74,
           28.37,
           46.36,
           28.53,
           31.69,
           35.54,
           37.12,
           24.89,
           26.5,
           37.22,
           39.74,
           33.78,
           33.49,
           24.01,
           31.2,
           13.75,
           33.49,
           33.45,
           37.44,
           14.17,
           25.28,
           22.12,
           24.55,
           17.84,
           13.99,
           28.81,
           32.56,
           21.17,
           32.64,
           31.9,
           17.9,
           34.29,
           21.01,
           22.74,
           15.55,
           22.6,
           38.3
          ],
          "sizemin": 4,
          "sizemode": "area",
          "sizeref": 0.10302222222222222,
          "symbol": "circle"
         },
         "mode": "markers",
         "name": "Staten Island",
         "orientation": "v",
         "showlegend": true,
         "type": "scatter",
         "x": [
          13
         ],
         "xaxis": "x",
         "y": [
          5.13
         ],
         "yaxis": "y"
        }
       ],
       "layout": {
        "annotations": [
         {
          "align": "center",
          "arrowcolor": "#636363",
          "arrowhead": 2,
          "arrowsize": 1,
          "arrowwidth": 2,
          "ax": 30,
          "ay": 60,
          "bgcolor": "#ff7f0e",
          "bordercolor": "#c7c7c7",
          "borderpad": 4,
          "borderwidth": 2,
          "font": {
           "color": "#ffffff",
           "family": "Courier New, monospace",
           "size": 13
          },
          "opacity": 0.8,
          "showarrow": true,
          "text": "high <br> unemployment rate <br> and poverty rate",
          "x": 40.3,
          "xref": "x",
          "y": 11.49,
          "yref": "y"
         }
        ],
        "autosize": false,
        "height": 600,
        "legend": {
         "itemsizing": "constant",
         "title": {
          "text": "Borough"
         },
         "tracegroupgap": 0
        },
        "template": {
         "data": {
          "bar": [
           {
            "error_x": {
             "color": "#2a3f5f"
            },
            "error_y": {
             "color": "#2a3f5f"
            },
            "marker": {
             "line": {
              "color": "#E5ECF6",
              "width": 0.5
             },
             "pattern": {
              "fillmode": "overlay",
              "size": 10,
              "solidity": 0.2
             }
            },
            "type": "bar"
           }
          ],
          "barpolar": [
           {
            "marker": {
             "line": {
              "color": "#E5ECF6",
              "width": 0.5
             },
             "pattern": {
              "fillmode": "overlay",
              "size": 10,
              "solidity": 0.2
             }
            },
            "type": "barpolar"
           }
          ],
          "carpet": [
           {
            "aaxis": {
             "endlinecolor": "#2a3f5f",
             "gridcolor": "white",
             "linecolor": "white",
             "minorgridcolor": "white",
             "startlinecolor": "#2a3f5f"
            },
            "baxis": {
             "endlinecolor": "#2a3f5f",
             "gridcolor": "white",
             "linecolor": "white",
             "minorgridcolor": "white",
             "startlinecolor": "#2a3f5f"
            },
            "type": "carpet"
           }
          ],
          "choropleth": [
           {
            "colorbar": {
             "outlinewidth": 0,
             "ticks": ""
            },
            "type": "choropleth"
           }
          ],
          "contour": [
           {
            "colorbar": {
             "outlinewidth": 0,
             "ticks": ""
            },
            "colorscale": [
             [
              0,
              "#0d0887"
             ],
             [
              0.1111111111111111,
              "#46039f"
             ],
             [
              0.2222222222222222,
              "#7201a8"
             ],
             [
              0.3333333333333333,
              "#9c179e"
             ],
             [
              0.4444444444444444,
              "#bd3786"
             ],
             [
              0.5555555555555556,
              "#d8576b"
             ],
             [
              0.6666666666666666,
              "#ed7953"
             ],
             [
              0.7777777777777778,
              "#fb9f3a"
             ],
             [
              0.8888888888888888,
              "#fdca26"
             ],
             [
              1,
              "#f0f921"
             ]
            ],
            "type": "contour"
           }
          ],
          "contourcarpet": [
           {
            "colorbar": {
             "outlinewidth": 0,
             "ticks": ""
            },
            "type": "contourcarpet"
           }
          ],
          "heatmap": [
           {
            "colorbar": {
             "outlinewidth": 0,
             "ticks": ""
            },
            "colorscale": [
             [
              0,
              "#0d0887"
             ],
             [
              0.1111111111111111,
              "#46039f"
             ],
             [
              0.2222222222222222,
              "#7201a8"
             ],
             [
              0.3333333333333333,
              "#9c179e"
             ],
             [
              0.4444444444444444,
              "#bd3786"
             ],
             [
              0.5555555555555556,
              "#d8576b"
             ],
             [
              0.6666666666666666,
              "#ed7953"
             ],
             [
              0.7777777777777778,
              "#fb9f3a"
             ],
             [
              0.8888888888888888,
              "#fdca26"
             ],
             [
              1,
              "#f0f921"
             ]
            ],
            "type": "heatmap"
           }
          ],
          "heatmapgl": [
           {
            "colorbar": {
             "outlinewidth": 0,
             "ticks": ""
            },
            "colorscale": [
             [
              0,
              "#0d0887"
             ],
             [
              0.1111111111111111,
              "#46039f"
             ],
             [
              0.2222222222222222,
              "#7201a8"
             ],
             [
              0.3333333333333333,
              "#9c179e"
             ],
             [
              0.4444444444444444,
              "#bd3786"
             ],
             [
              0.5555555555555556,
              "#d8576b"
             ],
             [
              0.6666666666666666,
              "#ed7953"
             ],
             [
              0.7777777777777778,
              "#fb9f3a"
             ],
             [
              0.8888888888888888,
              "#fdca26"
             ],
             [
              1,
              "#f0f921"
             ]
            ],
            "type": "heatmapgl"
           }
          ],
          "histogram": [
           {
            "marker": {
             "pattern": {
              "fillmode": "overlay",
              "size": 10,
              "solidity": 0.2
             }
            },
            "type": "histogram"
           }
          ],
          "histogram2d": [
           {
            "colorbar": {
             "outlinewidth": 0,
             "ticks": ""
            },
            "colorscale": [
             [
              0,
              "#0d0887"
             ],
             [
              0.1111111111111111,
              "#46039f"
             ],
             [
              0.2222222222222222,
              "#7201a8"
             ],
             [
              0.3333333333333333,
              "#9c179e"
             ],
             [
              0.4444444444444444,
              "#bd3786"
             ],
             [
              0.5555555555555556,
              "#d8576b"
             ],
             [
              0.6666666666666666,
              "#ed7953"
             ],
             [
              0.7777777777777778,
              "#fb9f3a"
             ],
             [
              0.8888888888888888,
              "#fdca26"
             ],
             [
              1,
              "#f0f921"
             ]
            ],
            "type": "histogram2d"
           }
          ],
          "histogram2dcontour": [
           {
            "colorbar": {
             "outlinewidth": 0,
             "ticks": ""
            },
            "colorscale": [
             [
              0,
              "#0d0887"
             ],
             [
              0.1111111111111111,
              "#46039f"
             ],
             [
              0.2222222222222222,
              "#7201a8"
             ],
             [
              0.3333333333333333,
              "#9c179e"
             ],
             [
              0.4444444444444444,
              "#bd3786"
             ],
             [
              0.5555555555555556,
              "#d8576b"
             ],
             [
              0.6666666666666666,
              "#ed7953"
             ],
             [
              0.7777777777777778,
              "#fb9f3a"
             ],
             [
              0.8888888888888888,
              "#fdca26"
             ],
             [
              1,
              "#f0f921"
             ]
            ],
            "type": "histogram2dcontour"
           }
          ],
          "mesh3d": [
           {
            "colorbar": {
             "outlinewidth": 0,
             "ticks": ""
            },
            "type": "mesh3d"
           }
          ],
          "parcoords": [
           {
            "line": {
             "colorbar": {
              "outlinewidth": 0,
              "ticks": ""
             }
            },
            "type": "parcoords"
           }
          ],
          "pie": [
           {
            "automargin": true,
            "type": "pie"
           }
          ],
          "scatter": [
           {
            "fillpattern": {
             "fillmode": "overlay",
             "size": 10,
             "solidity": 0.2
            },
            "type": "scatter"
           }
          ],
          "scatter3d": [
           {
            "line": {
             "colorbar": {
              "outlinewidth": 0,
              "ticks": ""
             }
            },
            "marker": {
             "colorbar": {
              "outlinewidth": 0,
              "ticks": ""
             }
            },
            "type": "scatter3d"
           }
          ],
          "scattercarpet": [
           {
            "marker": {
             "colorbar": {
              "outlinewidth": 0,
              "ticks": ""
             }
            },
            "type": "scattercarpet"
           }
          ],
          "scattergeo": [
           {
            "marker": {
             "colorbar": {
              "outlinewidth": 0,
              "ticks": ""
             }
            },
            "type": "scattergeo"
           }
          ],
          "scattergl": [
           {
            "marker": {
             "colorbar": {
              "outlinewidth": 0,
              "ticks": ""
             }
            },
            "type": "scattergl"
           }
          ],
          "scattermapbox": [
           {
            "marker": {
             "colorbar": {
              "outlinewidth": 0,
              "ticks": ""
             }
            },
            "type": "scattermapbox"
           }
          ],
          "scatterpolar": [
           {
            "marker": {
             "colorbar": {
              "outlinewidth": 0,
              "ticks": ""
             }
            },
            "type": "scatterpolar"
           }
          ],
          "scatterpolargl": [
           {
            "marker": {
             "colorbar": {
              "outlinewidth": 0,
              "ticks": ""
             }
            },
            "type": "scatterpolargl"
           }
          ],
          "scatterternary": [
           {
            "marker": {
             "colorbar": {
              "outlinewidth": 0,
              "ticks": ""
             }
            },
            "type": "scatterternary"
           }
          ],
          "surface": [
           {
            "colorbar": {
             "outlinewidth": 0,
             "ticks": ""
            },
            "colorscale": [
             [
              0,
              "#0d0887"
             ],
             [
              0.1111111111111111,
              "#46039f"
             ],
             [
              0.2222222222222222,
              "#7201a8"
             ],
             [
              0.3333333333333333,
              "#9c179e"
             ],
             [
              0.4444444444444444,
              "#bd3786"
             ],
             [
              0.5555555555555556,
              "#d8576b"
             ],
             [
              0.6666666666666666,
              "#ed7953"
             ],
             [
              0.7777777777777778,
              "#fb9f3a"
             ],
             [
              0.8888888888888888,
              "#fdca26"
             ],
             [
              1,
              "#f0f921"
             ]
            ],
            "type": "surface"
           }
          ],
          "table": [
           {
            "cells": {
             "fill": {
              "color": "#EBF0F8"
             },
             "line": {
              "color": "white"
             }
            },
            "header": {
             "fill": {
              "color": "#C8D4E3"
             },
             "line": {
              "color": "white"
             }
            },
            "type": "table"
           }
          ]
         },
         "layout": {
          "annotationdefaults": {
           "arrowcolor": "#2a3f5f",
           "arrowhead": 0,
           "arrowwidth": 1
          },
          "autotypenumbers": "strict",
          "coloraxis": {
           "colorbar": {
            "outlinewidth": 0,
            "ticks": ""
           }
          },
          "colorscale": {
           "diverging": [
            [
             0,
             "#8e0152"
            ],
            [
             0.1,
             "#c51b7d"
            ],
            [
             0.2,
             "#de77ae"
            ],
            [
             0.3,
             "#f1b6da"
            ],
            [
             0.4,
             "#fde0ef"
            ],
            [
             0.5,
             "#f7f7f7"
            ],
            [
             0.6,
             "#e6f5d0"
            ],
            [
             0.7,
             "#b8e186"
            ],
            [
             0.8,
             "#7fbc41"
            ],
            [
             0.9,
             "#4d9221"
            ],
            [
             1,
             "#276419"
            ]
           ],
           "sequential": [
            [
             0,
             "#0d0887"
            ],
            [
             0.1111111111111111,
             "#46039f"
            ],
            [
             0.2222222222222222,
             "#7201a8"
            ],
            [
             0.3333333333333333,
             "#9c179e"
            ],
            [
             0.4444444444444444,
             "#bd3786"
            ],
            [
             0.5555555555555556,
             "#d8576b"
            ],
            [
             0.6666666666666666,
             "#ed7953"
            ],
            [
             0.7777777777777778,
             "#fb9f3a"
            ],
            [
             0.8888888888888888,
             "#fdca26"
            ],
            [
             1,
             "#f0f921"
            ]
           ],
           "sequentialminus": [
            [
             0,
             "#0d0887"
            ],
            [
             0.1111111111111111,
             "#46039f"
            ],
            [
             0.2222222222222222,
             "#7201a8"
            ],
            [
             0.3333333333333333,
             "#9c179e"
            ],
            [
             0.4444444444444444,
             "#bd3786"
            ],
            [
             0.5555555555555556,
             "#d8576b"
            ],
            [
             0.6666666666666666,
             "#ed7953"
            ],
            [
             0.7777777777777778,
             "#fb9f3a"
            ],
            [
             0.8888888888888888,
             "#fdca26"
            ],
            [
             1,
             "#f0f921"
            ]
           ]
          },
          "colorway": [
           "#636efa",
           "#EF553B",
           "#00cc96",
           "#ab63fa",
           "#FFA15A",
           "#19d3f3",
           "#FF6692",
           "#B6E880",
           "#FF97FF",
           "#FECB52"
          ],
          "font": {
           "color": "#2a3f5f"
          },
          "geo": {
           "bgcolor": "white",
           "lakecolor": "white",
           "landcolor": "#E5ECF6",
           "showlakes": true,
           "showland": true,
           "subunitcolor": "white"
          },
          "hoverlabel": {
           "align": "left"
          },
          "hovermode": "closest",
          "mapbox": {
           "style": "light"
          },
          "paper_bgcolor": "white",
          "plot_bgcolor": "#E5ECF6",
          "polar": {
           "angularaxis": {
            "gridcolor": "white",
            "linecolor": "white",
            "ticks": ""
           },
           "bgcolor": "#E5ECF6",
           "radialaxis": {
            "gridcolor": "white",
            "linecolor": "white",
            "ticks": ""
           }
          },
          "scene": {
           "xaxis": {
            "backgroundcolor": "#E5ECF6",
            "gridcolor": "white",
            "gridwidth": 2,
            "linecolor": "white",
            "showbackground": true,
            "ticks": "",
            "zerolinecolor": "white"
           },
           "yaxis": {
            "backgroundcolor": "#E5ECF6",
            "gridcolor": "white",
            "gridwidth": 2,
            "linecolor": "white",
            "showbackground": true,
            "ticks": "",
            "zerolinecolor": "white"
           },
           "zaxis": {
            "backgroundcolor": "#E5ECF6",
            "gridcolor": "white",
            "gridwidth": 2,
            "linecolor": "white",
            "showbackground": true,
            "ticks": "",
            "zerolinecolor": "white"
           }
          },
          "shapedefaults": {
           "line": {
            "color": "#2a3f5f"
           }
          },
          "ternary": {
           "aaxis": {
            "gridcolor": "white",
            "linecolor": "white",
            "ticks": ""
           },
           "baxis": {
            "gridcolor": "white",
            "linecolor": "white",
            "ticks": ""
           },
           "bgcolor": "#E5ECF6",
           "caxis": {
            "gridcolor": "white",
            "linecolor": "white",
            "ticks": ""
           }
          },
          "title": {
           "x": 0.05
          },
          "xaxis": {
           "automargin": true,
           "gridcolor": "white",
           "linecolor": "white",
           "ticks": "",
           "title": {
            "standoff": 15
           },
           "zerolinecolor": "white",
           "zerolinewidth": 2
          },
          "yaxis": {
           "automargin": true,
           "gridcolor": "white",
           "linecolor": "white",
           "ticks": "",
           "title": {
            "standoff": 15
           },
           "zerolinecolor": "white",
           "zerolinewidth": 2
          }
         }
        },
        "title": {
         "text": "Poorer community districts have<br>longer commutes"
        },
        "width": 700,
        "xaxis": {
         "anchor": "y",
         "domain": [
          0,
          1
         ],
         "title": {
          "text": "Poverty rate (%)"
         }
        },
        "yaxis": {
         "anchor": "x",
         "domain": [
          0,
          1
         ],
         "title": {
          "text": "Unemployment rate (%)"
         }
        }
       }
      },
      "text/html": [
       "<div>                            <div id=\"b789a5b7-6a38-4f10-88b1-8facbf5b60c2\" class=\"plotly-graph-div\" style=\"height:600px; width:700px;\"></div>            <script type=\"text/javascript\">                require([\"plotly\"], function(Plotly) {                    window.PLOTLYENV=window.PLOTLYENV || {};                                    if (document.getElementById(\"b789a5b7-6a38-4f10-88b1-8facbf5b60c2\")) {                    Plotly.newPlot(                        \"b789a5b7-6a38-4f10-88b1-8facbf5b60c2\",                        [{\"hovertemplate\":\"<b>%{hovertext}</b><br><br>Borough=Queens<br>Poverty rate (%)=%{x}<br>Unemployment rate (%)=%{y}<br>Taxi (average duration min)=%{marker.size}<extra></extra>\",\"hovertext\":[\"QN04 Elmhurst-Corona (CD 4 Approximation)\",\"QN14 The Rockaways (CD 14 Approximation)\",\"QN07 Flushing-Murray Hill-Whitestone (CD 7 Approximation)\",\"QN06 Forest Hills-Rego Park (CD 6 Approximation)\",\"QN09 Kew Gardens-Richmond Hill-Woodhaven (CD 9 Approximation)\",\"QN01 Astoria-Queensbridge (CD 1 Equivalent)\",\"QN03 Jackson Heights-East Elmhurst (CD 3 Approximation)\",\"QN05 Ridgewood-Maspeth-Middle Village (CD 5 Approximation)\",\"QN02 Long Island City-Sunnyside-Woodside (CD 2 Approximation)\",\"QN10 South Ozone Park-Howard Beach (CD 10 Approximation)\",\"QN12 Jamaica-St. Albans-Hollis (CD 12 Approximation)\"],\"legendgroup\":\"Queens\",\"marker\":{\"color\":\"#636efa\",\"size\":[26.09,15.43,17.18,12.91,42.1,28.18,27.54,40.02,38.66,16.52,24.74,28.37,46.36,28.53,31.69,35.54,37.12,24.89,26.5,37.22,39.74,33.78,33.49,24.01,31.2,13.75,33.49,33.45,37.44,14.17,25.28,22.12,24.55,17.84,13.99,28.81,32.56,21.17,32.64,31.9,17.9,34.29,21.01,22.74,15.55,22.6,38.3],\"sizemode\":\"area\",\"sizeref\":0.10302222222222222,\"symbol\":\"circle\",\"sizemin\":4},\"mode\":\"markers\",\"name\":\"Queens\",\"orientation\":\"v\",\"showlegend\":true,\"x\":[10.2,18.1,14.8,11.1,10.1,11.6,15.0,8.4,9.2,7.5,10.6],\"xaxis\":\"x\",\"y\":[3.55,6.27,4.53,3.81,5.2,3.37,4.4,3.14,3.92,4.49,6.63],\"yaxis\":\"y\",\"type\":\"scatter\"},{\"hovertemplate\":\"<b>%{hovertext}</b><br><br>Borough=Manhattan<br>Poverty rate (%)=%{x}<br>Unemployment rate (%)=%{y}<br>Taxi (average duration min)=%{marker.size}<extra></extra>\",\"hovertext\":[\"MN04 Chelsea-Hell's Kitchen (CD 4 Approximation)\",\"MN03 Lower East Side-Chinatown (CD 3 Equivalent)\",\"MN08 Upper East Side-Roosevelt Island (CD 8 Equivalent)\",\"MN02 Greenwich Village-SoHo (CD 2 Equivalent)\",\"MN06 East Midtown-Murray Hill (CD 6 Approximation)\",\"MN11 East Harlem (CD 11 Equivalent)\",\"MN12 Washington Heights-Inwood (CD 12 Equivalent)\",\"MN10 Harlem (CD 10 Equivalent)\",\"MN07 Upper West Side (CD 7 Approximation)\",\"MN09 Morningside Heights-Hamilton Heights (CD 9 Equivalent)\",\"MN01 Financial District-Tribeca (CD 1 Equivalent)\",\"MN05 Midtown-Flatiron-Union Square (CD 5 Approximation)\"],\"legendgroup\":\"Manhattan\",\"marker\":{\"color\":\"#EF553B\",\"size\":[26.09,15.43,17.18,12.91,42.1,28.18,27.54,40.02,38.66,16.52,24.74,28.37,46.36,28.53,31.69,35.54,37.12,24.89,26.5,37.22,39.74,33.78,33.49,24.01,31.2,13.75,33.49,33.45,37.44,14.17,25.28,22.12,24.55,17.84,13.99,28.81,32.56,21.17,32.64,31.9,17.9,34.29,21.01,22.74,15.55,22.6,38.3],\"sizemode\":\"area\",\"sizeref\":0.10302222222222222,\"symbol\":\"circle\",\"sizemin\":4},\"mode\":\"markers\",\"name\":\"Manhattan\",\"orientation\":\"v\",\"showlegend\":true,\"x\":[11.1,24.0,5.8,6.1,6.5,34.0,15.5,20.1,8.7,19.6,6.1,11.1],\"xaxis\":\"x\",\"y\":[2.64,5.24,1.98,4.32,1.31,6.08,6.16,8.69,2.32,6.79,4.32,2.64],\"yaxis\":\"y\",\"type\":\"scatter\"},{\"hovertemplate\":\"<b>%{hovertext}</b><br><br>Borough=Brooklyn<br>Poverty rate (%)=%{x}<br>Unemployment rate (%)=%{y}<br>Taxi (average duration min)=%{marker.size}<extra></extra>\",\"hovertext\":[\"BK12 Borough Park-Kensington (CD 12 Approximation)\",\"BK02 Downtown Brooklyn-Fort Greene (CD 2 Approximation)\",\"BK01 Williamsburg-Greenpoint (CD 1 Equivalent)\",\"BK09 Crown Heights (South) (CD 9 Approximation)\",\"BK07 Sunset Park-Windsor Terrace (CD 7 Approximation)\",\"BK11 Bensonhurst-Bath Beach (CD 11 Approximation)\",\"BK06 Park Slope-Carroll Gardens (CD 6 Approximation)\",\"BK04 Bushwick (CD 4 Equivalent)\",\"BK05 East New York-Cypress Hills (CD 5 Approximation)\",\"BK03 Bedford-Stuyvesant (CD 3 Approximation)\",\"BK10 Bay Ridge-Dyker Heights (CD 10 Approximation)\"],\"legendgroup\":\"Brooklyn\",\"marker\":{\"color\":\"#00cc96\",\"size\":[26.09,15.43,17.18,12.91,42.1,28.18,27.54,40.02,38.66,16.52,24.74,28.37,46.36,28.53,31.69,35.54,37.12,24.89,26.5,37.22,39.74,33.78,33.49,24.01,31.2,13.75,33.49,33.45,37.44,14.17,25.28,22.12,24.55,17.84,13.99,28.81,32.56,21.17,32.64,31.9,17.9,34.29,21.01,22.74,15.55,22.6,38.3],\"sizemode\":\"area\",\"sizeref\":0.10302222222222222,\"symbol\":\"circle\",\"sizemin\":4},\"mode\":\"markers\",\"name\":\"Brooklyn\",\"orientation\":\"v\",\"showlegend\":true,\"x\":[26.8,13.8,20.1,17.9,18.1,14.6,7.6,20.7,23.3,23.0,14.2],\"xaxis\":\"x\",\"y\":[3.99,6.31,3.99,4.46,3.33,4.53,3.41,6.32,3.85,6.63,3.59],\"yaxis\":\"y\",\"type\":\"scatter\"},{\"hovertemplate\":\"<b>%{hovertext}</b><br><br>Borough=Bronx<br>Poverty rate (%)=%{x}<br>Unemployment rate (%)=%{y}<br>Taxi (average duration min)=%{marker.size}<extra></extra>\",\"hovertext\":[\"BX01 Melrose-Mott Haven-Port Morris (CD 1 Approximation)\",\"BX04 Highbridge-Concourse (CD 4 Approximation)\",\"BX03 Morrisania-Crotona Park East (CD 3 Approximation)\",\"BX06 Tremont-Belmont-West Farms (CD 6 Approximation)\",\"BX12 Wakefield-Williamsbridge-Eastchester (CD 12 Approximation)\",\"BX10 Co-op City-Throgs Neck (CD 10 Approximation)\",\"BX11 Pelham Parkway-Morris Park (CD 11 Approximation)\",\"BX02 Longwood-Hunts Point (CD 2 Approximation)\",\"BX09 Soundview-Parkchester (CD 9 Approximation)\",\"BX08 Riverdale-Kingsbridge-Marble Hill (CD 8 Approximation)\",\"BX05 Morris Heights-Mount Hope (CD 5 Approximation)\",\"BX07 Fordham-Bedford Park-Norwood (CD 7 Approximation)\"],\"legendgroup\":\"Bronx\",\"marker\":{\"color\":\"#ab63fa\",\"size\":[26.09,15.43,17.18,12.91,42.1,28.18,27.54,40.02,38.66,16.52,24.74,28.37,46.36,28.53,31.69,35.54,37.12,24.89,26.5,37.22,39.74,33.78,33.49,24.01,31.2,13.75,33.49,33.45,37.44,14.17,25.28,22.12,24.55,17.84,13.99,28.81,32.56,21.17,32.64,31.9,17.9,34.29,21.01,22.74,15.55,22.6,38.3],\"sizemode\":\"area\",\"sizeref\":0.10302222222222222,\"symbol\":\"circle\",\"sizemin\":4},\"mode\":\"markers\",\"name\":\"Bronx\",\"orientation\":\"v\",\"showlegend\":true,\"x\":[39.6,32.4,40.3,40.3,17.1,12.9,14.6,39.6,26.6,16.5,31.4,22.6],\"xaxis\":\"x\",\"y\":[11.29,9.57,11.49,11.49,8.27,4.5,8.09,11.29,6.91,5.62,11.58,11.73],\"yaxis\":\"y\",\"type\":\"scatter\"},{\"hovertemplate\":\"<b>%{hovertext}</b><br><br>Borough=Staten Island<br>Poverty rate (%)=%{x}<br>Unemployment rate (%)=%{y}<br>Taxi (average duration min)=%{marker.size}<extra></extra>\",\"hovertext\":[\"SI01 North Shore (CD 1 Equivalent)\"],\"legendgroup\":\"Staten Island\",\"marker\":{\"color\":\"#FFA15A\",\"size\":[26.09,15.43,17.18,12.91,42.1,28.18,27.54,40.02,38.66,16.52,24.74,28.37,46.36,28.53,31.69,35.54,37.12,24.89,26.5,37.22,39.74,33.78,33.49,24.01,31.2,13.75,33.49,33.45,37.44,14.17,25.28,22.12,24.55,17.84,13.99,28.81,32.56,21.17,32.64,31.9,17.9,34.29,21.01,22.74,15.55,22.6,38.3],\"sizemode\":\"area\",\"sizeref\":0.10302222222222222,\"symbol\":\"circle\",\"sizemin\":4},\"mode\":\"markers\",\"name\":\"Staten Island\",\"orientation\":\"v\",\"showlegend\":true,\"x\":[13.0],\"xaxis\":\"x\",\"y\":[5.13],\"yaxis\":\"y\",\"type\":\"scatter\"}],                        {\"template\":{\"data\":{\"histogram2dcontour\":[{\"type\":\"histogram2dcontour\",\"colorbar\":{\"outlinewidth\":0,\"ticks\":\"\"},\"colorscale\":[[0.0,\"#0d0887\"],[0.1111111111111111,\"#46039f\"],[0.2222222222222222,\"#7201a8\"],[0.3333333333333333,\"#9c179e\"],[0.4444444444444444,\"#bd3786\"],[0.5555555555555556,\"#d8576b\"],[0.6666666666666666,\"#ed7953\"],[0.7777777777777778,\"#fb9f3a\"],[0.8888888888888888,\"#fdca26\"],[1.0,\"#f0f921\"]]}],\"choropleth\":[{\"type\":\"choropleth\",\"colorbar\":{\"outlinewidth\":0,\"ticks\":\"\"}}],\"histogram2d\":[{\"type\":\"histogram2d\",\"colorbar\":{\"outlinewidth\":0,\"ticks\":\"\"},\"colorscale\":[[0.0,\"#0d0887\"],[0.1111111111111111,\"#46039f\"],[0.2222222222222222,\"#7201a8\"],[0.3333333333333333,\"#9c179e\"],[0.4444444444444444,\"#bd3786\"],[0.5555555555555556,\"#d8576b\"],[0.6666666666666666,\"#ed7953\"],[0.7777777777777778,\"#fb9f3a\"],[0.8888888888888888,\"#fdca26\"],[1.0,\"#f0f921\"]]}],\"heatmap\":[{\"type\":\"heatmap\",\"colorbar\":{\"outlinewidth\":0,\"ticks\":\"\"},\"colorscale\":[[0.0,\"#0d0887\"],[0.1111111111111111,\"#46039f\"],[0.2222222222222222,\"#7201a8\"],[0.3333333333333333,\"#9c179e\"],[0.4444444444444444,\"#bd3786\"],[0.5555555555555556,\"#d8576b\"],[0.6666666666666666,\"#ed7953\"],[0.7777777777777778,\"#fb9f3a\"],[0.8888888888888888,\"#fdca26\"],[1.0,\"#f0f921\"]]}],\"heatmapgl\":[{\"type\":\"heatmapgl\",\"colorbar\":{\"outlinewidth\":0,\"ticks\":\"\"},\"colorscale\":[[0.0,\"#0d0887\"],[0.1111111111111111,\"#46039f\"],[0.2222222222222222,\"#7201a8\"],[0.3333333333333333,\"#9c179e\"],[0.4444444444444444,\"#bd3786\"],[0.5555555555555556,\"#d8576b\"],[0.6666666666666666,\"#ed7953\"],[0.7777777777777778,\"#fb9f3a\"],[0.8888888888888888,\"#fdca26\"],[1.0,\"#f0f921\"]]}],\"contourcarpet\":[{\"type\":\"contourcarpet\",\"colorbar\":{\"outlinewidth\":0,\"ticks\":\"\"}}],\"contour\":[{\"type\":\"contour\",\"colorbar\":{\"outlinewidth\":0,\"ticks\":\"\"},\"colorscale\":[[0.0,\"#0d0887\"],[0.1111111111111111,\"#46039f\"],[0.2222222222222222,\"#7201a8\"],[0.3333333333333333,\"#9c179e\"],[0.4444444444444444,\"#bd3786\"],[0.5555555555555556,\"#d8576b\"],[0.6666666666666666,\"#ed7953\"],[0.7777777777777778,\"#fb9f3a\"],[0.8888888888888888,\"#fdca26\"],[1.0,\"#f0f921\"]]}],\"surface\":[{\"type\":\"surface\",\"colorbar\":{\"outlinewidth\":0,\"ticks\":\"\"},\"colorscale\":[[0.0,\"#0d0887\"],[0.1111111111111111,\"#46039f\"],[0.2222222222222222,\"#7201a8\"],[0.3333333333333333,\"#9c179e\"],[0.4444444444444444,\"#bd3786\"],[0.5555555555555556,\"#d8576b\"],[0.6666666666666666,\"#ed7953\"],[0.7777777777777778,\"#fb9f3a\"],[0.8888888888888888,\"#fdca26\"],[1.0,\"#f0f921\"]]}],\"mesh3d\":[{\"type\":\"mesh3d\",\"colorbar\":{\"outlinewidth\":0,\"ticks\":\"\"}}],\"scatter\":[{\"fillpattern\":{\"fillmode\":\"overlay\",\"size\":10,\"solidity\":0.2},\"type\":\"scatter\"}],\"parcoords\":[{\"type\":\"parcoords\",\"line\":{\"colorbar\":{\"outlinewidth\":0,\"ticks\":\"\"}}}],\"scatterpolargl\":[{\"type\":\"scatterpolargl\",\"marker\":{\"colorbar\":{\"outlinewidth\":0,\"ticks\":\"\"}}}],\"bar\":[{\"error_x\":{\"color\":\"#2a3f5f\"},\"error_y\":{\"color\":\"#2a3f5f\"},\"marker\":{\"line\":{\"color\":\"#E5ECF6\",\"width\":0.5},\"pattern\":{\"fillmode\":\"overlay\",\"size\":10,\"solidity\":0.2}},\"type\":\"bar\"}],\"scattergeo\":[{\"type\":\"scattergeo\",\"marker\":{\"colorbar\":{\"outlinewidth\":0,\"ticks\":\"\"}}}],\"scatterpolar\":[{\"type\":\"scatterpolar\",\"marker\":{\"colorbar\":{\"outlinewidth\":0,\"ticks\":\"\"}}}],\"histogram\":[{\"marker\":{\"pattern\":{\"fillmode\":\"overlay\",\"size\":10,\"solidity\":0.2}},\"type\":\"histogram\"}],\"scattergl\":[{\"type\":\"scattergl\",\"marker\":{\"colorbar\":{\"outlinewidth\":0,\"ticks\":\"\"}}}],\"scatter3d\":[{\"type\":\"scatter3d\",\"line\":{\"colorbar\":{\"outlinewidth\":0,\"ticks\":\"\"}},\"marker\":{\"colorbar\":{\"outlinewidth\":0,\"ticks\":\"\"}}}],\"scattermapbox\":[{\"type\":\"scattermapbox\",\"marker\":{\"colorbar\":{\"outlinewidth\":0,\"ticks\":\"\"}}}],\"scatterternary\":[{\"type\":\"scatterternary\",\"marker\":{\"colorbar\":{\"outlinewidth\":0,\"ticks\":\"\"}}}],\"scattercarpet\":[{\"type\":\"scattercarpet\",\"marker\":{\"colorbar\":{\"outlinewidth\":0,\"ticks\":\"\"}}}],\"carpet\":[{\"aaxis\":{\"endlinecolor\":\"#2a3f5f\",\"gridcolor\":\"white\",\"linecolor\":\"white\",\"minorgridcolor\":\"white\",\"startlinecolor\":\"#2a3f5f\"},\"baxis\":{\"endlinecolor\":\"#2a3f5f\",\"gridcolor\":\"white\",\"linecolor\":\"white\",\"minorgridcolor\":\"white\",\"startlinecolor\":\"#2a3f5f\"},\"type\":\"carpet\"}],\"table\":[{\"cells\":{\"fill\":{\"color\":\"#EBF0F8\"},\"line\":{\"color\":\"white\"}},\"header\":{\"fill\":{\"color\":\"#C8D4E3\"},\"line\":{\"color\":\"white\"}},\"type\":\"table\"}],\"barpolar\":[{\"marker\":{\"line\":{\"color\":\"#E5ECF6\",\"width\":0.5},\"pattern\":{\"fillmode\":\"overlay\",\"size\":10,\"solidity\":0.2}},\"type\":\"barpolar\"}],\"pie\":[{\"automargin\":true,\"type\":\"pie\"}]},\"layout\":{\"autotypenumbers\":\"strict\",\"colorway\":[\"#636efa\",\"#EF553B\",\"#00cc96\",\"#ab63fa\",\"#FFA15A\",\"#19d3f3\",\"#FF6692\",\"#B6E880\",\"#FF97FF\",\"#FECB52\"],\"font\":{\"color\":\"#2a3f5f\"},\"hovermode\":\"closest\",\"hoverlabel\":{\"align\":\"left\"},\"paper_bgcolor\":\"white\",\"plot_bgcolor\":\"#E5ECF6\",\"polar\":{\"bgcolor\":\"#E5ECF6\",\"angularaxis\":{\"gridcolor\":\"white\",\"linecolor\":\"white\",\"ticks\":\"\"},\"radialaxis\":{\"gridcolor\":\"white\",\"linecolor\":\"white\",\"ticks\":\"\"}},\"ternary\":{\"bgcolor\":\"#E5ECF6\",\"aaxis\":{\"gridcolor\":\"white\",\"linecolor\":\"white\",\"ticks\":\"\"},\"baxis\":{\"gridcolor\":\"white\",\"linecolor\":\"white\",\"ticks\":\"\"},\"caxis\":{\"gridcolor\":\"white\",\"linecolor\":\"white\",\"ticks\":\"\"}},\"coloraxis\":{\"colorbar\":{\"outlinewidth\":0,\"ticks\":\"\"}},\"colorscale\":{\"sequential\":[[0.0,\"#0d0887\"],[0.1111111111111111,\"#46039f\"],[0.2222222222222222,\"#7201a8\"],[0.3333333333333333,\"#9c179e\"],[0.4444444444444444,\"#bd3786\"],[0.5555555555555556,\"#d8576b\"],[0.6666666666666666,\"#ed7953\"],[0.7777777777777778,\"#fb9f3a\"],[0.8888888888888888,\"#fdca26\"],[1.0,\"#f0f921\"]],\"sequentialminus\":[[0.0,\"#0d0887\"],[0.1111111111111111,\"#46039f\"],[0.2222222222222222,\"#7201a8\"],[0.3333333333333333,\"#9c179e\"],[0.4444444444444444,\"#bd3786\"],[0.5555555555555556,\"#d8576b\"],[0.6666666666666666,\"#ed7953\"],[0.7777777777777778,\"#fb9f3a\"],[0.8888888888888888,\"#fdca26\"],[1.0,\"#f0f921\"]],\"diverging\":[[0,\"#8e0152\"],[0.1,\"#c51b7d\"],[0.2,\"#de77ae\"],[0.3,\"#f1b6da\"],[0.4,\"#fde0ef\"],[0.5,\"#f7f7f7\"],[0.6,\"#e6f5d0\"],[0.7,\"#b8e186\"],[0.8,\"#7fbc41\"],[0.9,\"#4d9221\"],[1,\"#276419\"]]},\"xaxis\":{\"gridcolor\":\"white\",\"linecolor\":\"white\",\"ticks\":\"\",\"title\":{\"standoff\":15},\"zerolinecolor\":\"white\",\"automargin\":true,\"zerolinewidth\":2},\"yaxis\":{\"gridcolor\":\"white\",\"linecolor\":\"white\",\"ticks\":\"\",\"title\":{\"standoff\":15},\"zerolinecolor\":\"white\",\"automargin\":true,\"zerolinewidth\":2},\"scene\":{\"xaxis\":{\"backgroundcolor\":\"#E5ECF6\",\"gridcolor\":\"white\",\"linecolor\":\"white\",\"showbackground\":true,\"ticks\":\"\",\"zerolinecolor\":\"white\",\"gridwidth\":2},\"yaxis\":{\"backgroundcolor\":\"#E5ECF6\",\"gridcolor\":\"white\",\"linecolor\":\"white\",\"showbackground\":true,\"ticks\":\"\",\"zerolinecolor\":\"white\",\"gridwidth\":2},\"zaxis\":{\"backgroundcolor\":\"#E5ECF6\",\"gridcolor\":\"white\",\"linecolor\":\"white\",\"showbackground\":true,\"ticks\":\"\",\"zerolinecolor\":\"white\",\"gridwidth\":2}},\"shapedefaults\":{\"line\":{\"color\":\"#2a3f5f\"}},\"annotationdefaults\":{\"arrowcolor\":\"#2a3f5f\",\"arrowhead\":0,\"arrowwidth\":1},\"geo\":{\"bgcolor\":\"white\",\"landcolor\":\"#E5ECF6\",\"subunitcolor\":\"white\",\"showland\":true,\"showlakes\":true,\"lakecolor\":\"white\"},\"title\":{\"x\":0.05},\"mapbox\":{\"style\":\"light\"}}},\"xaxis\":{\"anchor\":\"y\",\"domain\":[0.0,1.0],\"title\":{\"text\":\"Poverty rate (%)\"}},\"yaxis\":{\"anchor\":\"x\",\"domain\":[0.0,1.0],\"title\":{\"text\":\"Unemployment rate (%)\"}},\"legend\":{\"title\":{\"text\":\"Borough\"},\"tracegroupgap\":0,\"itemsizing\":\"constant\"},\"title\":{\"text\":\"Poorer community districts have<br>longer commutes\"},\"annotations\":[{\"align\":\"center\",\"arrowcolor\":\"#636363\",\"arrowhead\":2,\"arrowsize\":1,\"arrowwidth\":2,\"ax\":30,\"ay\":60,\"bgcolor\":\"#ff7f0e\",\"bordercolor\":\"#c7c7c7\",\"borderpad\":4,\"borderwidth\":2,\"font\":{\"color\":\"#ffffff\",\"family\":\"Courier New, monospace\",\"size\":13},\"opacity\":0.8,\"showarrow\":true,\"text\":\"high <br> unemployment rate <br> and poverty rate\",\"x\":40.3,\"xref\":\"x\",\"y\":11.49,\"yref\":\"y\"}],\"autosize\":false,\"width\":700,\"height\":600},                        {\"responsive\": true}                    ).then(function(){\n",
       "                            \n",
       "var gd = document.getElementById('b789a5b7-6a38-4f10-88b1-8facbf5b60c2');\n",
       "var x = new MutationObserver(function (mutations, observer) {{\n",
       "        var display = window.getComputedStyle(gd).display;\n",
       "        if (!display || display === 'none') {{\n",
       "            console.log([gd, 'removed!']);\n",
       "            Plotly.purge(gd);\n",
       "            observer.disconnect();\n",
       "        }}\n",
       "}});\n",
       "\n",
       "// Listen for the removal of the full notebook cells\n",
       "var notebookContainer = gd.closest('#notebook-container');\n",
       "if (notebookContainer) {{\n",
       "    x.observe(notebookContainer, {childList: true});\n",
       "}}\n",
       "\n",
       "// Listen for the clearing of the current output cell\n",
       "var outputEl = gd.closest('.output');\n",
       "if (outputEl) {{\n",
       "    x.observe(outputEl, {childList: true});\n",
       "}}\n",
       "\n",
       "                        })                };                });            </script>        </div>"
      ]
     },
     "metadata": {},
     "output_type": "display_data"
    }
   ],
   "source": [
    "s1 = 'Poverty rate'\n",
    "s2 = 'Unemployment rate'\n",
    "cd = 'PU_average_duration (min)'\n",
    "l = {\n",
    "                     \"color\": \"Borough\",\n",
    "                     \"PU_average_duration (min)\" :'Taxi (average duration min)',\n",
    "                     \"Poverty rate\" :\"Poverty rate (%)\",\n",
    "                     \"Unemployment rate\" :\"Unemployment rate (%)\",\n",
    "                 \n",
    "                 }\n",
    "a_text = \"high <br> unemployment rate <br> and poverty rate\"\n",
    "\n",
    "create_scatter(s1,s2,cd,\"Poorer community districts have<br>longer commutes\",l , a_text, 40.3,11.49)\n",
    "\n"
   ]
  },
  {
   "cell_type": "markdown",
   "id": "85f61fa0",
   "metadata": {},
   "source": [
    "# Visualization 5: Densly populated districts with high unemployment rate have fewer subway stations"
   ]
  },
  {
   "cell_type": "code",
   "execution_count": 111,
   "id": "c3ba0629",
   "metadata": {},
   "outputs": [
    {
     "data": {
      "application/vnd.plotly.v1+json": {
       "config": {
        "plotlyServerURL": "https://plot.ly"
       },
       "data": [
        {
         "hovertemplate": "<b>%{hovertext}</b><br><br>Borough=Queens<br>Population density (1,000 persons per square mile)=%{x}<br>Unemployment rate (%)=%{y}<br>Number of subway stations=%{marker.size}<extra></extra>",
         "hovertext": [
          "QN04 Elmhurst-Corona (CD 4 Approximation)",
          "QN14 The Rockaways (CD 14 Approximation)",
          "QN07 Flushing-Murray Hill-Whitestone (CD 7 Approximation)",
          "QN06 Forest Hills-Rego Park (CD 6 Approximation)",
          "QN09 Kew Gardens-Richmond Hill-Woodhaven (CD 9 Approximation)",
          "QN01 Astoria-Queensbridge (CD 1 Equivalent)",
          "QN03 Jackson Heights-East Elmhurst (CD 3 Approximation)",
          "QN05 Ridgewood-Maspeth-Middle Village (CD 5 Approximation)",
          "QN02 Long Island City-Sunnyside-Woodside (CD 2 Approximation)",
          "QN10 South Ozone Park-Howard Beach (CD 10 Approximation)",
          "QN12 Jamaica-St. Albans-Hollis (CD 12 Approximation)"
         ],
         "legendgroup": "Queens",
         "marker": {
          "color": "#636efa",
          "size": [
           6,
           4,
           6,
           6,
           8,
           14,
           10,
           10,
           11,
           12,
           9,
           4,
           2,
           1,
           2,
           4,
           3,
           4,
           5,
           9,
           4,
           6,
           3,
           6,
           4,
           4,
           2,
           6,
           6,
           3,
           11,
           10,
           3,
           5,
           4,
           4,
           6,
           12,
           9,
           14,
           2,
           6,
           17,
           8,
           24,
           7,
           2
          ],
          "sizemin": 4,
          "sizemode": "area",
          "sizeref": 0.05333333333333334,
          "symbol": "circle"
         },
         "mode": "markers",
         "name": "Queens",
         "orientation": "v",
         "showlegend": true,
         "type": "scatter",
         "x": [
          43.3,
          10.8,
          20.4,
          37.7,
          30.3,
          32.2,
          41.9,
          22.6,
          22.7,
          19.3,
          25.9
         ],
         "xaxis": "x",
         "y": [
          3.55,
          6.27,
          4.53,
          3.81,
          5.2,
          3.37,
          4.4,
          3.14,
          3.92,
          4.49,
          6.63
         ],
         "yaxis": "y"
        },
        {
         "hovertemplate": "<b>%{hovertext}</b><br><br>Borough=Manhattan<br>Population density (1,000 persons per square mile)=%{x}<br>Unemployment rate (%)=%{y}<br>Number of subway stations=%{marker.size}<extra></extra>",
         "hovertext": [
          "MN04 Chelsea-Hell's Kitchen (CD 4 Approximation)",
          "MN03 Lower East Side-Chinatown (CD 3 Equivalent)",
          "MN08 Upper East Side-Roosevelt Island (CD 8 Equivalent)",
          "MN02 Greenwich Village-SoHo (CD 2 Equivalent)",
          "MN06 East Midtown-Murray Hill (CD 6 Approximation)",
          "MN11 East Harlem (CD 11 Equivalent)",
          "MN12 Washington Heights-Inwood (CD 12 Equivalent)",
          "MN10 Harlem (CD 10 Equivalent)",
          "MN07 Upper West Side (CD 7 Approximation)",
          "MN09 Morningside Heights-Hamilton Heights (CD 9 Equivalent)",
          "MN01 Financial District-Tribeca (CD 1 Equivalent)",
          "MN05 Midtown-Flatiron-Union Square (CD 5 Approximation)"
         ],
         "legendgroup": "Manhattan",
         "marker": {
          "color": "#EF553B",
          "size": [
           6,
           4,
           6,
           6,
           8,
           14,
           10,
           10,
           11,
           12,
           9,
           4,
           2,
           1,
           2,
           4,
           3,
           4,
           5,
           9,
           4,
           6,
           3,
           6,
           4,
           4,
           2,
           6,
           6,
           3,
           11,
           10,
           3,
           5,
           4,
           4,
           6,
           12,
           9,
           14,
           2,
           6,
           17,
           8,
           24,
           7,
           2
          ],
          "sizemin": 4,
          "sizemode": "area",
          "sizeref": 0.05333333333333334,
          "symbol": "circle"
         },
         "mode": "markers",
         "name": "Manhattan",
         "orientation": "v",
         "showlegend": true,
         "type": "scatter",
         "x": [
          54.3,
          95.8,
          109.1,
          56.9,
          91.6,
          48,
          69.6,
          95.4,
          60.6,
          78.8,
          56.9,
          54.3
         ],
         "xaxis": "x",
         "y": [
          2.64,
          5.24,
          1.98,
          4.32,
          1.31,
          6.08,
          6.16,
          8.69,
          2.32,
          6.79,
          4.32,
          2.64
         ],
         "yaxis": "y"
        },
        {
         "hovertemplate": "<b>%{hovertext}</b><br><br>Borough=Brooklyn<br>Population density (1,000 persons per square mile)=%{x}<br>Unemployment rate (%)=%{y}<br>Number of subway stations=%{marker.size}<extra></extra>",
         "hovertext": [
          "BK12 Borough Park-Kensington (CD 12 Approximation)",
          "BK02 Downtown Brooklyn-Fort Greene (CD 2 Approximation)",
          "BK01 Williamsburg-Greenpoint (CD 1 Equivalent)",
          "BK09 Crown Heights (South) (CD 9 Approximation)",
          "BK07 Sunset Park-Windsor Terrace (CD 7 Approximation)",
          "BK11 Bensonhurst-Bath Beach (CD 11 Approximation)",
          "BK06 Park Slope-Carroll Gardens (CD 6 Approximation)",
          "BK04 Bushwick (CD 4 Equivalent)",
          "BK05 East New York-Cypress Hills (CD 5 Approximation)",
          "BK03 Bedford-Stuyvesant (CD 3 Approximation)",
          "BK10 Bay Ridge-Dyker Heights (CD 10 Approximation)"
         ],
         "legendgroup": "Brooklyn",
         "marker": {
          "color": "#00cc96",
          "size": [
           6,
           4,
           6,
           6,
           8,
           14,
           10,
           10,
           11,
           12,
           9,
           4,
           2,
           1,
           2,
           4,
           3,
           4,
           5,
           9,
           4,
           6,
           3,
           6,
           4,
           4,
           2,
           6,
           6,
           3,
           11,
           10,
           3,
           5,
           4,
           4,
           6,
           12,
           9,
           14,
           2,
           6,
           17,
           8,
           24,
           7,
           2
          ],
          "sizemin": 4,
          "sizemode": "area",
          "sizeref": 0.05333333333333334,
          "symbol": "circle"
         },
         "mode": "markers",
         "name": "Brooklyn",
         "orientation": "v",
         "showlegend": true,
         "type": "scatter",
         "x": [
          48.8,
          42.8,
          36.7,
          62.2,
          32.6,
          50.6,
          28.5,
          50.3,
          29.8,
          62.8,
          31.7
         ],
         "xaxis": "x",
         "y": [
          3.99,
          6.31,
          3.99,
          4.46,
          3.33,
          4.53,
          3.41,
          6.32,
          3.85,
          6.63,
          3.59
         ],
         "yaxis": "y"
        },
        {
         "hovertemplate": "<b>%{hovertext}</b><br><br>Borough=Bronx<br>Population density (1,000 persons per square mile)=%{x}<br>Unemployment rate (%)=%{y}<br>Number of subway stations=%{marker.size}<extra></extra>",
         "hovertext": [
          "BX01 Melrose-Mott Haven-Port Morris (CD 1 Approximation)",
          "BX04 Highbridge-Concourse (CD 4 Approximation)",
          "BX03 Morrisania-Crotona Park East (CD 3 Approximation)",
          "BX06 Tremont-Belmont-West Farms (CD 6 Approximation)",
          "BX12 Wakefield-Williamsbridge-Eastchester (CD 12 Approximation)",
          "BX10 Co-op City-Throgs Neck (CD 10 Approximation)",
          "BX11 Pelham Parkway-Morris Park (CD 11 Approximation)",
          "BX02 Longwood-Hunts Point (CD 2 Approximation)",
          "BX09 Soundview-Parkchester (CD 9 Approximation)",
          "BX08 Riverdale-Kingsbridge-Marble Hill (CD 8 Approximation)",
          "BX05 Morris Heights-Mount Hope (CD 5 Approximation)",
          "BX07 Fordham-Bedford Park-Norwood (CD 7 Approximation)"
         ],
         "legendgroup": "Bronx",
         "marker": {
          "color": "#ab63fa",
          "size": [
           6,
           4,
           6,
           6,
           8,
           14,
           10,
           10,
           11,
           12,
           9,
           4,
           2,
           1,
           2,
           4,
           3,
           4,
           5,
           9,
           4,
           6,
           3,
           6,
           4,
           4,
           2,
           6,
           6,
           3,
           11,
           10,
           3,
           5,
           4,
           4,
           6,
           12,
           9,
           14,
           2,
           6,
           17,
           8,
           24,
           7,
           2
          ],
          "sizemin": 4,
          "sizemode": "area",
          "sizeref": 0.05333333333333334,
          "symbol": "circle"
         },
         "mode": "markers",
         "name": "Bronx",
         "orientation": "v",
         "showlegend": true,
         "type": "scatter",
         "x": [
          29.9,
          70.5,
          39.5,
          39.5,
          22.1,
          11.9,
          32.8,
          29.9,
          40.3,
          30.4,
          91.5,
          96.7
         ],
         "xaxis": "x",
         "y": [
          11.29,
          9.57,
          11.49,
          11.49,
          8.27,
          4.5,
          8.09,
          11.29,
          6.91,
          5.62,
          11.58,
          11.73
         ],
         "yaxis": "y"
        },
        {
         "hovertemplate": "<b>%{hovertext}</b><br><br>Borough=Staten Island<br>Population density (1,000 persons per square mile)=%{x}<br>Unemployment rate (%)=%{y}<br>Number of subway stations=%{marker.size}<extra></extra>",
         "hovertext": [
          "SI01 North Shore (CD 1 Equivalent)"
         ],
         "legendgroup": "Staten Island",
         "marker": {
          "color": "#FFA15A",
          "size": [
           6,
           4,
           6,
           6,
           8,
           14,
           10,
           10,
           11,
           12,
           9,
           4,
           2,
           1,
           2,
           4,
           3,
           4,
           5,
           9,
           4,
           6,
           3,
           6,
           4,
           4,
           2,
           6,
           6,
           3,
           11,
           10,
           3,
           5,
           4,
           4,
           6,
           12,
           9,
           14,
           2,
           6,
           17,
           8,
           24,
           7,
           2
          ],
          "sizemin": 4,
          "sizemode": "area",
          "sizeref": 0.05333333333333334,
          "symbol": "circle"
         },
         "mode": "markers",
         "name": "Staten Island",
         "orientation": "v",
         "showlegend": true,
         "type": "scatter",
         "x": [
          12.9
         ],
         "xaxis": "x",
         "y": [
          5.13
         ],
         "yaxis": "y"
        }
       ],
       "layout": {
        "annotations": [
         {
          "align": "center",
          "arrowcolor": "#636363",
          "arrowhead": 2,
          "arrowsize": 1,
          "arrowwidth": 2,
          "ax": 30,
          "ay": 60,
          "bgcolor": "#ff7f0e",
          "bordercolor": "#c7c7c7",
          "borderpad": 4,
          "borderwidth": 2,
          "font": {
           "color": "#ffffff",
           "family": "Courier New, monospace",
           "size": 13
          },
          "opacity": 0.8,
          "showarrow": true,
          "text": "BX07 high <br> unemployment rate <br> and poverty rate",
          "x": 96.7,
          "xref": "x",
          "y": 11.73,
          "yref": "y"
         },
         {
          "text": "BK11",
          "x": 50.6,
          "y": 4.53
         },
         {
          "text": "MN03",
          "x": 95.8,
          "y": 5.24
         }
        ],
        "autosize": false,
        "height": 600,
        "legend": {
         "itemsizing": "constant",
         "title": {
          "text": "Borough"
         },
         "tracegroupgap": 0
        },
        "template": {
         "data": {
          "bar": [
           {
            "error_x": {
             "color": "#2a3f5f"
            },
            "error_y": {
             "color": "#2a3f5f"
            },
            "marker": {
             "line": {
              "color": "#E5ECF6",
              "width": 0.5
             },
             "pattern": {
              "fillmode": "overlay",
              "size": 10,
              "solidity": 0.2
             }
            },
            "type": "bar"
           }
          ],
          "barpolar": [
           {
            "marker": {
             "line": {
              "color": "#E5ECF6",
              "width": 0.5
             },
             "pattern": {
              "fillmode": "overlay",
              "size": 10,
              "solidity": 0.2
             }
            },
            "type": "barpolar"
           }
          ],
          "carpet": [
           {
            "aaxis": {
             "endlinecolor": "#2a3f5f",
             "gridcolor": "white",
             "linecolor": "white",
             "minorgridcolor": "white",
             "startlinecolor": "#2a3f5f"
            },
            "baxis": {
             "endlinecolor": "#2a3f5f",
             "gridcolor": "white",
             "linecolor": "white",
             "minorgridcolor": "white",
             "startlinecolor": "#2a3f5f"
            },
            "type": "carpet"
           }
          ],
          "choropleth": [
           {
            "colorbar": {
             "outlinewidth": 0,
             "ticks": ""
            },
            "type": "choropleth"
           }
          ],
          "contour": [
           {
            "colorbar": {
             "outlinewidth": 0,
             "ticks": ""
            },
            "colorscale": [
             [
              0,
              "#0d0887"
             ],
             [
              0.1111111111111111,
              "#46039f"
             ],
             [
              0.2222222222222222,
              "#7201a8"
             ],
             [
              0.3333333333333333,
              "#9c179e"
             ],
             [
              0.4444444444444444,
              "#bd3786"
             ],
             [
              0.5555555555555556,
              "#d8576b"
             ],
             [
              0.6666666666666666,
              "#ed7953"
             ],
             [
              0.7777777777777778,
              "#fb9f3a"
             ],
             [
              0.8888888888888888,
              "#fdca26"
             ],
             [
              1,
              "#f0f921"
             ]
            ],
            "type": "contour"
           }
          ],
          "contourcarpet": [
           {
            "colorbar": {
             "outlinewidth": 0,
             "ticks": ""
            },
            "type": "contourcarpet"
           }
          ],
          "heatmap": [
           {
            "colorbar": {
             "outlinewidth": 0,
             "ticks": ""
            },
            "colorscale": [
             [
              0,
              "#0d0887"
             ],
             [
              0.1111111111111111,
              "#46039f"
             ],
             [
              0.2222222222222222,
              "#7201a8"
             ],
             [
              0.3333333333333333,
              "#9c179e"
             ],
             [
              0.4444444444444444,
              "#bd3786"
             ],
             [
              0.5555555555555556,
              "#d8576b"
             ],
             [
              0.6666666666666666,
              "#ed7953"
             ],
             [
              0.7777777777777778,
              "#fb9f3a"
             ],
             [
              0.8888888888888888,
              "#fdca26"
             ],
             [
              1,
              "#f0f921"
             ]
            ],
            "type": "heatmap"
           }
          ],
          "heatmapgl": [
           {
            "colorbar": {
             "outlinewidth": 0,
             "ticks": ""
            },
            "colorscale": [
             [
              0,
              "#0d0887"
             ],
             [
              0.1111111111111111,
              "#46039f"
             ],
             [
              0.2222222222222222,
              "#7201a8"
             ],
             [
              0.3333333333333333,
              "#9c179e"
             ],
             [
              0.4444444444444444,
              "#bd3786"
             ],
             [
              0.5555555555555556,
              "#d8576b"
             ],
             [
              0.6666666666666666,
              "#ed7953"
             ],
             [
              0.7777777777777778,
              "#fb9f3a"
             ],
             [
              0.8888888888888888,
              "#fdca26"
             ],
             [
              1,
              "#f0f921"
             ]
            ],
            "type": "heatmapgl"
           }
          ],
          "histogram": [
           {
            "marker": {
             "pattern": {
              "fillmode": "overlay",
              "size": 10,
              "solidity": 0.2
             }
            },
            "type": "histogram"
           }
          ],
          "histogram2d": [
           {
            "colorbar": {
             "outlinewidth": 0,
             "ticks": ""
            },
            "colorscale": [
             [
              0,
              "#0d0887"
             ],
             [
              0.1111111111111111,
              "#46039f"
             ],
             [
              0.2222222222222222,
              "#7201a8"
             ],
             [
              0.3333333333333333,
              "#9c179e"
             ],
             [
              0.4444444444444444,
              "#bd3786"
             ],
             [
              0.5555555555555556,
              "#d8576b"
             ],
             [
              0.6666666666666666,
              "#ed7953"
             ],
             [
              0.7777777777777778,
              "#fb9f3a"
             ],
             [
              0.8888888888888888,
              "#fdca26"
             ],
             [
              1,
              "#f0f921"
             ]
            ],
            "type": "histogram2d"
           }
          ],
          "histogram2dcontour": [
           {
            "colorbar": {
             "outlinewidth": 0,
             "ticks": ""
            },
            "colorscale": [
             [
              0,
              "#0d0887"
             ],
             [
              0.1111111111111111,
              "#46039f"
             ],
             [
              0.2222222222222222,
              "#7201a8"
             ],
             [
              0.3333333333333333,
              "#9c179e"
             ],
             [
              0.4444444444444444,
              "#bd3786"
             ],
             [
              0.5555555555555556,
              "#d8576b"
             ],
             [
              0.6666666666666666,
              "#ed7953"
             ],
             [
              0.7777777777777778,
              "#fb9f3a"
             ],
             [
              0.8888888888888888,
              "#fdca26"
             ],
             [
              1,
              "#f0f921"
             ]
            ],
            "type": "histogram2dcontour"
           }
          ],
          "mesh3d": [
           {
            "colorbar": {
             "outlinewidth": 0,
             "ticks": ""
            },
            "type": "mesh3d"
           }
          ],
          "parcoords": [
           {
            "line": {
             "colorbar": {
              "outlinewidth": 0,
              "ticks": ""
             }
            },
            "type": "parcoords"
           }
          ],
          "pie": [
           {
            "automargin": true,
            "type": "pie"
           }
          ],
          "scatter": [
           {
            "fillpattern": {
             "fillmode": "overlay",
             "size": 10,
             "solidity": 0.2
            },
            "type": "scatter"
           }
          ],
          "scatter3d": [
           {
            "line": {
             "colorbar": {
              "outlinewidth": 0,
              "ticks": ""
             }
            },
            "marker": {
             "colorbar": {
              "outlinewidth": 0,
              "ticks": ""
             }
            },
            "type": "scatter3d"
           }
          ],
          "scattercarpet": [
           {
            "marker": {
             "colorbar": {
              "outlinewidth": 0,
              "ticks": ""
             }
            },
            "type": "scattercarpet"
           }
          ],
          "scattergeo": [
           {
            "marker": {
             "colorbar": {
              "outlinewidth": 0,
              "ticks": ""
             }
            },
            "type": "scattergeo"
           }
          ],
          "scattergl": [
           {
            "marker": {
             "colorbar": {
              "outlinewidth": 0,
              "ticks": ""
             }
            },
            "type": "scattergl"
           }
          ],
          "scattermapbox": [
           {
            "marker": {
             "colorbar": {
              "outlinewidth": 0,
              "ticks": ""
             }
            },
            "type": "scattermapbox"
           }
          ],
          "scatterpolar": [
           {
            "marker": {
             "colorbar": {
              "outlinewidth": 0,
              "ticks": ""
             }
            },
            "type": "scatterpolar"
           }
          ],
          "scatterpolargl": [
           {
            "marker": {
             "colorbar": {
              "outlinewidth": 0,
              "ticks": ""
             }
            },
            "type": "scatterpolargl"
           }
          ],
          "scatterternary": [
           {
            "marker": {
             "colorbar": {
              "outlinewidth": 0,
              "ticks": ""
             }
            },
            "type": "scatterternary"
           }
          ],
          "surface": [
           {
            "colorbar": {
             "outlinewidth": 0,
             "ticks": ""
            },
            "colorscale": [
             [
              0,
              "#0d0887"
             ],
             [
              0.1111111111111111,
              "#46039f"
             ],
             [
              0.2222222222222222,
              "#7201a8"
             ],
             [
              0.3333333333333333,
              "#9c179e"
             ],
             [
              0.4444444444444444,
              "#bd3786"
             ],
             [
              0.5555555555555556,
              "#d8576b"
             ],
             [
              0.6666666666666666,
              "#ed7953"
             ],
             [
              0.7777777777777778,
              "#fb9f3a"
             ],
             [
              0.8888888888888888,
              "#fdca26"
             ],
             [
              1,
              "#f0f921"
             ]
            ],
            "type": "surface"
           }
          ],
          "table": [
           {
            "cells": {
             "fill": {
              "color": "#EBF0F8"
             },
             "line": {
              "color": "white"
             }
            },
            "header": {
             "fill": {
              "color": "#C8D4E3"
             },
             "line": {
              "color": "white"
             }
            },
            "type": "table"
           }
          ]
         },
         "layout": {
          "annotationdefaults": {
           "arrowcolor": "#2a3f5f",
           "arrowhead": 0,
           "arrowwidth": 1
          },
          "autotypenumbers": "strict",
          "coloraxis": {
           "colorbar": {
            "outlinewidth": 0,
            "ticks": ""
           }
          },
          "colorscale": {
           "diverging": [
            [
             0,
             "#8e0152"
            ],
            [
             0.1,
             "#c51b7d"
            ],
            [
             0.2,
             "#de77ae"
            ],
            [
             0.3,
             "#f1b6da"
            ],
            [
             0.4,
             "#fde0ef"
            ],
            [
             0.5,
             "#f7f7f7"
            ],
            [
             0.6,
             "#e6f5d0"
            ],
            [
             0.7,
             "#b8e186"
            ],
            [
             0.8,
             "#7fbc41"
            ],
            [
             0.9,
             "#4d9221"
            ],
            [
             1,
             "#276419"
            ]
           ],
           "sequential": [
            [
             0,
             "#0d0887"
            ],
            [
             0.1111111111111111,
             "#46039f"
            ],
            [
             0.2222222222222222,
             "#7201a8"
            ],
            [
             0.3333333333333333,
             "#9c179e"
            ],
            [
             0.4444444444444444,
             "#bd3786"
            ],
            [
             0.5555555555555556,
             "#d8576b"
            ],
            [
             0.6666666666666666,
             "#ed7953"
            ],
            [
             0.7777777777777778,
             "#fb9f3a"
            ],
            [
             0.8888888888888888,
             "#fdca26"
            ],
            [
             1,
             "#f0f921"
            ]
           ],
           "sequentialminus": [
            [
             0,
             "#0d0887"
            ],
            [
             0.1111111111111111,
             "#46039f"
            ],
            [
             0.2222222222222222,
             "#7201a8"
            ],
            [
             0.3333333333333333,
             "#9c179e"
            ],
            [
             0.4444444444444444,
             "#bd3786"
            ],
            [
             0.5555555555555556,
             "#d8576b"
            ],
            [
             0.6666666666666666,
             "#ed7953"
            ],
            [
             0.7777777777777778,
             "#fb9f3a"
            ],
            [
             0.8888888888888888,
             "#fdca26"
            ],
            [
             1,
             "#f0f921"
            ]
           ]
          },
          "colorway": [
           "#636efa",
           "#EF553B",
           "#00cc96",
           "#ab63fa",
           "#FFA15A",
           "#19d3f3",
           "#FF6692",
           "#B6E880",
           "#FF97FF",
           "#FECB52"
          ],
          "font": {
           "color": "#2a3f5f"
          },
          "geo": {
           "bgcolor": "white",
           "lakecolor": "white",
           "landcolor": "#E5ECF6",
           "showlakes": true,
           "showland": true,
           "subunitcolor": "white"
          },
          "hoverlabel": {
           "align": "left"
          },
          "hovermode": "closest",
          "mapbox": {
           "style": "light"
          },
          "paper_bgcolor": "white",
          "plot_bgcolor": "#E5ECF6",
          "polar": {
           "angularaxis": {
            "gridcolor": "white",
            "linecolor": "white",
            "ticks": ""
           },
           "bgcolor": "#E5ECF6",
           "radialaxis": {
            "gridcolor": "white",
            "linecolor": "white",
            "ticks": ""
           }
          },
          "scene": {
           "xaxis": {
            "backgroundcolor": "#E5ECF6",
            "gridcolor": "white",
            "gridwidth": 2,
            "linecolor": "white",
            "showbackground": true,
            "ticks": "",
            "zerolinecolor": "white"
           },
           "yaxis": {
            "backgroundcolor": "#E5ECF6",
            "gridcolor": "white",
            "gridwidth": 2,
            "linecolor": "white",
            "showbackground": true,
            "ticks": "",
            "zerolinecolor": "white"
           },
           "zaxis": {
            "backgroundcolor": "#E5ECF6",
            "gridcolor": "white",
            "gridwidth": 2,
            "linecolor": "white",
            "showbackground": true,
            "ticks": "",
            "zerolinecolor": "white"
           }
          },
          "shapedefaults": {
           "line": {
            "color": "#2a3f5f"
           }
          },
          "ternary": {
           "aaxis": {
            "gridcolor": "white",
            "linecolor": "white",
            "ticks": ""
           },
           "baxis": {
            "gridcolor": "white",
            "linecolor": "white",
            "ticks": ""
           },
           "bgcolor": "#E5ECF6",
           "caxis": {
            "gridcolor": "white",
            "linecolor": "white",
            "ticks": ""
           }
          },
          "title": {
           "x": 0.05
          },
          "xaxis": {
           "automargin": true,
           "gridcolor": "white",
           "linecolor": "white",
           "ticks": "",
           "title": {
            "standoff": 15
           },
           "zerolinecolor": "white",
           "zerolinewidth": 2
          },
          "yaxis": {
           "automargin": true,
           "gridcolor": "white",
           "linecolor": "white",
           "ticks": "",
           "title": {
            "standoff": 15
           },
           "zerolinecolor": "white",
           "zerolinewidth": 2
          }
         }
        },
        "title": {
         "text": "Densly populated districts with high unemployment rate <br>have fewer subway stations"
        },
        "width": 700,
        "xaxis": {
         "anchor": "y",
         "domain": [
          0,
          1
         ],
         "title": {
          "text": "Population density (1,000 persons per square mile)"
         }
        },
        "yaxis": {
         "anchor": "x",
         "domain": [
          0,
          1
         ],
         "title": {
          "text": "Unemployment rate (%)"
         }
        }
       }
      },
      "text/html": [
       "<div>                            <div id=\"67845bdc-b24f-4b94-9a2d-c4f0f9faa9b9\" class=\"plotly-graph-div\" style=\"height:600px; width:700px;\"></div>            <script type=\"text/javascript\">                require([\"plotly\"], function(Plotly) {                    window.PLOTLYENV=window.PLOTLYENV || {};                                    if (document.getElementById(\"67845bdc-b24f-4b94-9a2d-c4f0f9faa9b9\")) {                    Plotly.newPlot(                        \"67845bdc-b24f-4b94-9a2d-c4f0f9faa9b9\",                        [{\"hovertemplate\":\"<b>%{hovertext}</b><br><br>Borough=Queens<br>Population density (1,000 persons per square mile)=%{x}<br>Unemployment rate (%)=%{y}<br>Number of subway stations=%{marker.size}<extra></extra>\",\"hovertext\":[\"QN04 Elmhurst-Corona (CD 4 Approximation)\",\"QN14 The Rockaways (CD 14 Approximation)\",\"QN07 Flushing-Murray Hill-Whitestone (CD 7 Approximation)\",\"QN06 Forest Hills-Rego Park (CD 6 Approximation)\",\"QN09 Kew Gardens-Richmond Hill-Woodhaven (CD 9 Approximation)\",\"QN01 Astoria-Queensbridge (CD 1 Equivalent)\",\"QN03 Jackson Heights-East Elmhurst (CD 3 Approximation)\",\"QN05 Ridgewood-Maspeth-Middle Village (CD 5 Approximation)\",\"QN02 Long Island City-Sunnyside-Woodside (CD 2 Approximation)\",\"QN10 South Ozone Park-Howard Beach (CD 10 Approximation)\",\"QN12 Jamaica-St. Albans-Hollis (CD 12 Approximation)\"],\"legendgroup\":\"Queens\",\"marker\":{\"color\":\"#636efa\",\"size\":[6,4,6,6,8,14,10,10,11,12,9,4,2,1,2,4,3,4,5,9,4,6,3,6,4,4,2,6,6,3,11,10,3,5,4,4,6,12,9,14,2,6,17,8,24,7,2],\"sizemode\":\"area\",\"sizeref\":0.05333333333333334,\"symbol\":\"circle\",\"sizemin\":4},\"mode\":\"markers\",\"name\":\"Queens\",\"orientation\":\"v\",\"showlegend\":true,\"x\":[43.3,10.8,20.4,37.7,30.3,32.2,41.9,22.6,22.7,19.3,25.9],\"xaxis\":\"x\",\"y\":[3.55,6.27,4.53,3.81,5.2,3.37,4.4,3.14,3.92,4.49,6.63],\"yaxis\":\"y\",\"type\":\"scatter\"},{\"hovertemplate\":\"<b>%{hovertext}</b><br><br>Borough=Manhattan<br>Population density (1,000 persons per square mile)=%{x}<br>Unemployment rate (%)=%{y}<br>Number of subway stations=%{marker.size}<extra></extra>\",\"hovertext\":[\"MN04 Chelsea-Hell's Kitchen (CD 4 Approximation)\",\"MN03 Lower East Side-Chinatown (CD 3 Equivalent)\",\"MN08 Upper East Side-Roosevelt Island (CD 8 Equivalent)\",\"MN02 Greenwich Village-SoHo (CD 2 Equivalent)\",\"MN06 East Midtown-Murray Hill (CD 6 Approximation)\",\"MN11 East Harlem (CD 11 Equivalent)\",\"MN12 Washington Heights-Inwood (CD 12 Equivalent)\",\"MN10 Harlem (CD 10 Equivalent)\",\"MN07 Upper West Side (CD 7 Approximation)\",\"MN09 Morningside Heights-Hamilton Heights (CD 9 Equivalent)\",\"MN01 Financial District-Tribeca (CD 1 Equivalent)\",\"MN05 Midtown-Flatiron-Union Square (CD 5 Approximation)\"],\"legendgroup\":\"Manhattan\",\"marker\":{\"color\":\"#EF553B\",\"size\":[6,4,6,6,8,14,10,10,11,12,9,4,2,1,2,4,3,4,5,9,4,6,3,6,4,4,2,6,6,3,11,10,3,5,4,4,6,12,9,14,2,6,17,8,24,7,2],\"sizemode\":\"area\",\"sizeref\":0.05333333333333334,\"symbol\":\"circle\",\"sizemin\":4},\"mode\":\"markers\",\"name\":\"Manhattan\",\"orientation\":\"v\",\"showlegend\":true,\"x\":[54.3,95.8,109.1,56.9,91.6,48.0,69.6,95.4,60.6,78.8,56.9,54.3],\"xaxis\":\"x\",\"y\":[2.64,5.24,1.98,4.32,1.31,6.08,6.16,8.69,2.32,6.79,4.32,2.64],\"yaxis\":\"y\",\"type\":\"scatter\"},{\"hovertemplate\":\"<b>%{hovertext}</b><br><br>Borough=Brooklyn<br>Population density (1,000 persons per square mile)=%{x}<br>Unemployment rate (%)=%{y}<br>Number of subway stations=%{marker.size}<extra></extra>\",\"hovertext\":[\"BK12 Borough Park-Kensington (CD 12 Approximation)\",\"BK02 Downtown Brooklyn-Fort Greene (CD 2 Approximation)\",\"BK01 Williamsburg-Greenpoint (CD 1 Equivalent)\",\"BK09 Crown Heights (South) (CD 9 Approximation)\",\"BK07 Sunset Park-Windsor Terrace (CD 7 Approximation)\",\"BK11 Bensonhurst-Bath Beach (CD 11 Approximation)\",\"BK06 Park Slope-Carroll Gardens (CD 6 Approximation)\",\"BK04 Bushwick (CD 4 Equivalent)\",\"BK05 East New York-Cypress Hills (CD 5 Approximation)\",\"BK03 Bedford-Stuyvesant (CD 3 Approximation)\",\"BK10 Bay Ridge-Dyker Heights (CD 10 Approximation)\"],\"legendgroup\":\"Brooklyn\",\"marker\":{\"color\":\"#00cc96\",\"size\":[6,4,6,6,8,14,10,10,11,12,9,4,2,1,2,4,3,4,5,9,4,6,3,6,4,4,2,6,6,3,11,10,3,5,4,4,6,12,9,14,2,6,17,8,24,7,2],\"sizemode\":\"area\",\"sizeref\":0.05333333333333334,\"symbol\":\"circle\",\"sizemin\":4},\"mode\":\"markers\",\"name\":\"Brooklyn\",\"orientation\":\"v\",\"showlegend\":true,\"x\":[48.8,42.8,36.7,62.2,32.6,50.6,28.5,50.3,29.8,62.8,31.7],\"xaxis\":\"x\",\"y\":[3.99,6.31,3.99,4.46,3.33,4.53,3.41,6.32,3.85,6.63,3.59],\"yaxis\":\"y\",\"type\":\"scatter\"},{\"hovertemplate\":\"<b>%{hovertext}</b><br><br>Borough=Bronx<br>Population density (1,000 persons per square mile)=%{x}<br>Unemployment rate (%)=%{y}<br>Number of subway stations=%{marker.size}<extra></extra>\",\"hovertext\":[\"BX01 Melrose-Mott Haven-Port Morris (CD 1 Approximation)\",\"BX04 Highbridge-Concourse (CD 4 Approximation)\",\"BX03 Morrisania-Crotona Park East (CD 3 Approximation)\",\"BX06 Tremont-Belmont-West Farms (CD 6 Approximation)\",\"BX12 Wakefield-Williamsbridge-Eastchester (CD 12 Approximation)\",\"BX10 Co-op City-Throgs Neck (CD 10 Approximation)\",\"BX11 Pelham Parkway-Morris Park (CD 11 Approximation)\",\"BX02 Longwood-Hunts Point (CD 2 Approximation)\",\"BX09 Soundview-Parkchester (CD 9 Approximation)\",\"BX08 Riverdale-Kingsbridge-Marble Hill (CD 8 Approximation)\",\"BX05 Morris Heights-Mount Hope (CD 5 Approximation)\",\"BX07 Fordham-Bedford Park-Norwood (CD 7 Approximation)\"],\"legendgroup\":\"Bronx\",\"marker\":{\"color\":\"#ab63fa\",\"size\":[6,4,6,6,8,14,10,10,11,12,9,4,2,1,2,4,3,4,5,9,4,6,3,6,4,4,2,6,6,3,11,10,3,5,4,4,6,12,9,14,2,6,17,8,24,7,2],\"sizemode\":\"area\",\"sizeref\":0.05333333333333334,\"symbol\":\"circle\",\"sizemin\":4},\"mode\":\"markers\",\"name\":\"Bronx\",\"orientation\":\"v\",\"showlegend\":true,\"x\":[29.9,70.5,39.5,39.5,22.1,11.9,32.8,29.9,40.3,30.4,91.5,96.7],\"xaxis\":\"x\",\"y\":[11.29,9.57,11.49,11.49,8.27,4.5,8.09,11.29,6.91,5.62,11.58,11.73],\"yaxis\":\"y\",\"type\":\"scatter\"},{\"hovertemplate\":\"<b>%{hovertext}</b><br><br>Borough=Staten Island<br>Population density (1,000 persons per square mile)=%{x}<br>Unemployment rate (%)=%{y}<br>Number of subway stations=%{marker.size}<extra></extra>\",\"hovertext\":[\"SI01 North Shore (CD 1 Equivalent)\"],\"legendgroup\":\"Staten Island\",\"marker\":{\"color\":\"#FFA15A\",\"size\":[6,4,6,6,8,14,10,10,11,12,9,4,2,1,2,4,3,4,5,9,4,6,3,6,4,4,2,6,6,3,11,10,3,5,4,4,6,12,9,14,2,6,17,8,24,7,2],\"sizemode\":\"area\",\"sizeref\":0.05333333333333334,\"symbol\":\"circle\",\"sizemin\":4},\"mode\":\"markers\",\"name\":\"Staten Island\",\"orientation\":\"v\",\"showlegend\":true,\"x\":[12.9],\"xaxis\":\"x\",\"y\":[5.13],\"yaxis\":\"y\",\"type\":\"scatter\"}],                        {\"template\":{\"data\":{\"histogram2dcontour\":[{\"type\":\"histogram2dcontour\",\"colorbar\":{\"outlinewidth\":0,\"ticks\":\"\"},\"colorscale\":[[0.0,\"#0d0887\"],[0.1111111111111111,\"#46039f\"],[0.2222222222222222,\"#7201a8\"],[0.3333333333333333,\"#9c179e\"],[0.4444444444444444,\"#bd3786\"],[0.5555555555555556,\"#d8576b\"],[0.6666666666666666,\"#ed7953\"],[0.7777777777777778,\"#fb9f3a\"],[0.8888888888888888,\"#fdca26\"],[1.0,\"#f0f921\"]]}],\"choropleth\":[{\"type\":\"choropleth\",\"colorbar\":{\"outlinewidth\":0,\"ticks\":\"\"}}],\"histogram2d\":[{\"type\":\"histogram2d\",\"colorbar\":{\"outlinewidth\":0,\"ticks\":\"\"},\"colorscale\":[[0.0,\"#0d0887\"],[0.1111111111111111,\"#46039f\"],[0.2222222222222222,\"#7201a8\"],[0.3333333333333333,\"#9c179e\"],[0.4444444444444444,\"#bd3786\"],[0.5555555555555556,\"#d8576b\"],[0.6666666666666666,\"#ed7953\"],[0.7777777777777778,\"#fb9f3a\"],[0.8888888888888888,\"#fdca26\"],[1.0,\"#f0f921\"]]}],\"heatmap\":[{\"type\":\"heatmap\",\"colorbar\":{\"outlinewidth\":0,\"ticks\":\"\"},\"colorscale\":[[0.0,\"#0d0887\"],[0.1111111111111111,\"#46039f\"],[0.2222222222222222,\"#7201a8\"],[0.3333333333333333,\"#9c179e\"],[0.4444444444444444,\"#bd3786\"],[0.5555555555555556,\"#d8576b\"],[0.6666666666666666,\"#ed7953\"],[0.7777777777777778,\"#fb9f3a\"],[0.8888888888888888,\"#fdca26\"],[1.0,\"#f0f921\"]]}],\"heatmapgl\":[{\"type\":\"heatmapgl\",\"colorbar\":{\"outlinewidth\":0,\"ticks\":\"\"},\"colorscale\":[[0.0,\"#0d0887\"],[0.1111111111111111,\"#46039f\"],[0.2222222222222222,\"#7201a8\"],[0.3333333333333333,\"#9c179e\"],[0.4444444444444444,\"#bd3786\"],[0.5555555555555556,\"#d8576b\"],[0.6666666666666666,\"#ed7953\"],[0.7777777777777778,\"#fb9f3a\"],[0.8888888888888888,\"#fdca26\"],[1.0,\"#f0f921\"]]}],\"contourcarpet\":[{\"type\":\"contourcarpet\",\"colorbar\":{\"outlinewidth\":0,\"ticks\":\"\"}}],\"contour\":[{\"type\":\"contour\",\"colorbar\":{\"outlinewidth\":0,\"ticks\":\"\"},\"colorscale\":[[0.0,\"#0d0887\"],[0.1111111111111111,\"#46039f\"],[0.2222222222222222,\"#7201a8\"],[0.3333333333333333,\"#9c179e\"],[0.4444444444444444,\"#bd3786\"],[0.5555555555555556,\"#d8576b\"],[0.6666666666666666,\"#ed7953\"],[0.7777777777777778,\"#fb9f3a\"],[0.8888888888888888,\"#fdca26\"],[1.0,\"#f0f921\"]]}],\"surface\":[{\"type\":\"surface\",\"colorbar\":{\"outlinewidth\":0,\"ticks\":\"\"},\"colorscale\":[[0.0,\"#0d0887\"],[0.1111111111111111,\"#46039f\"],[0.2222222222222222,\"#7201a8\"],[0.3333333333333333,\"#9c179e\"],[0.4444444444444444,\"#bd3786\"],[0.5555555555555556,\"#d8576b\"],[0.6666666666666666,\"#ed7953\"],[0.7777777777777778,\"#fb9f3a\"],[0.8888888888888888,\"#fdca26\"],[1.0,\"#f0f921\"]]}],\"mesh3d\":[{\"type\":\"mesh3d\",\"colorbar\":{\"outlinewidth\":0,\"ticks\":\"\"}}],\"scatter\":[{\"fillpattern\":{\"fillmode\":\"overlay\",\"size\":10,\"solidity\":0.2},\"type\":\"scatter\"}],\"parcoords\":[{\"type\":\"parcoords\",\"line\":{\"colorbar\":{\"outlinewidth\":0,\"ticks\":\"\"}}}],\"scatterpolargl\":[{\"type\":\"scatterpolargl\",\"marker\":{\"colorbar\":{\"outlinewidth\":0,\"ticks\":\"\"}}}],\"bar\":[{\"error_x\":{\"color\":\"#2a3f5f\"},\"error_y\":{\"color\":\"#2a3f5f\"},\"marker\":{\"line\":{\"color\":\"#E5ECF6\",\"width\":0.5},\"pattern\":{\"fillmode\":\"overlay\",\"size\":10,\"solidity\":0.2}},\"type\":\"bar\"}],\"scattergeo\":[{\"type\":\"scattergeo\",\"marker\":{\"colorbar\":{\"outlinewidth\":0,\"ticks\":\"\"}}}],\"scatterpolar\":[{\"type\":\"scatterpolar\",\"marker\":{\"colorbar\":{\"outlinewidth\":0,\"ticks\":\"\"}}}],\"histogram\":[{\"marker\":{\"pattern\":{\"fillmode\":\"overlay\",\"size\":10,\"solidity\":0.2}},\"type\":\"histogram\"}],\"scattergl\":[{\"type\":\"scattergl\",\"marker\":{\"colorbar\":{\"outlinewidth\":0,\"ticks\":\"\"}}}],\"scatter3d\":[{\"type\":\"scatter3d\",\"line\":{\"colorbar\":{\"outlinewidth\":0,\"ticks\":\"\"}},\"marker\":{\"colorbar\":{\"outlinewidth\":0,\"ticks\":\"\"}}}],\"scattermapbox\":[{\"type\":\"scattermapbox\",\"marker\":{\"colorbar\":{\"outlinewidth\":0,\"ticks\":\"\"}}}],\"scatterternary\":[{\"type\":\"scatterternary\",\"marker\":{\"colorbar\":{\"outlinewidth\":0,\"ticks\":\"\"}}}],\"scattercarpet\":[{\"type\":\"scattercarpet\",\"marker\":{\"colorbar\":{\"outlinewidth\":0,\"ticks\":\"\"}}}],\"carpet\":[{\"aaxis\":{\"endlinecolor\":\"#2a3f5f\",\"gridcolor\":\"white\",\"linecolor\":\"white\",\"minorgridcolor\":\"white\",\"startlinecolor\":\"#2a3f5f\"},\"baxis\":{\"endlinecolor\":\"#2a3f5f\",\"gridcolor\":\"white\",\"linecolor\":\"white\",\"minorgridcolor\":\"white\",\"startlinecolor\":\"#2a3f5f\"},\"type\":\"carpet\"}],\"table\":[{\"cells\":{\"fill\":{\"color\":\"#EBF0F8\"},\"line\":{\"color\":\"white\"}},\"header\":{\"fill\":{\"color\":\"#C8D4E3\"},\"line\":{\"color\":\"white\"}},\"type\":\"table\"}],\"barpolar\":[{\"marker\":{\"line\":{\"color\":\"#E5ECF6\",\"width\":0.5},\"pattern\":{\"fillmode\":\"overlay\",\"size\":10,\"solidity\":0.2}},\"type\":\"barpolar\"}],\"pie\":[{\"automargin\":true,\"type\":\"pie\"}]},\"layout\":{\"autotypenumbers\":\"strict\",\"colorway\":[\"#636efa\",\"#EF553B\",\"#00cc96\",\"#ab63fa\",\"#FFA15A\",\"#19d3f3\",\"#FF6692\",\"#B6E880\",\"#FF97FF\",\"#FECB52\"],\"font\":{\"color\":\"#2a3f5f\"},\"hovermode\":\"closest\",\"hoverlabel\":{\"align\":\"left\"},\"paper_bgcolor\":\"white\",\"plot_bgcolor\":\"#E5ECF6\",\"polar\":{\"bgcolor\":\"#E5ECF6\",\"angularaxis\":{\"gridcolor\":\"white\",\"linecolor\":\"white\",\"ticks\":\"\"},\"radialaxis\":{\"gridcolor\":\"white\",\"linecolor\":\"white\",\"ticks\":\"\"}},\"ternary\":{\"bgcolor\":\"#E5ECF6\",\"aaxis\":{\"gridcolor\":\"white\",\"linecolor\":\"white\",\"ticks\":\"\"},\"baxis\":{\"gridcolor\":\"white\",\"linecolor\":\"white\",\"ticks\":\"\"},\"caxis\":{\"gridcolor\":\"white\",\"linecolor\":\"white\",\"ticks\":\"\"}},\"coloraxis\":{\"colorbar\":{\"outlinewidth\":0,\"ticks\":\"\"}},\"colorscale\":{\"sequential\":[[0.0,\"#0d0887\"],[0.1111111111111111,\"#46039f\"],[0.2222222222222222,\"#7201a8\"],[0.3333333333333333,\"#9c179e\"],[0.4444444444444444,\"#bd3786\"],[0.5555555555555556,\"#d8576b\"],[0.6666666666666666,\"#ed7953\"],[0.7777777777777778,\"#fb9f3a\"],[0.8888888888888888,\"#fdca26\"],[1.0,\"#f0f921\"]],\"sequentialminus\":[[0.0,\"#0d0887\"],[0.1111111111111111,\"#46039f\"],[0.2222222222222222,\"#7201a8\"],[0.3333333333333333,\"#9c179e\"],[0.4444444444444444,\"#bd3786\"],[0.5555555555555556,\"#d8576b\"],[0.6666666666666666,\"#ed7953\"],[0.7777777777777778,\"#fb9f3a\"],[0.8888888888888888,\"#fdca26\"],[1.0,\"#f0f921\"]],\"diverging\":[[0,\"#8e0152\"],[0.1,\"#c51b7d\"],[0.2,\"#de77ae\"],[0.3,\"#f1b6da\"],[0.4,\"#fde0ef\"],[0.5,\"#f7f7f7\"],[0.6,\"#e6f5d0\"],[0.7,\"#b8e186\"],[0.8,\"#7fbc41\"],[0.9,\"#4d9221\"],[1,\"#276419\"]]},\"xaxis\":{\"gridcolor\":\"white\",\"linecolor\":\"white\",\"ticks\":\"\",\"title\":{\"standoff\":15},\"zerolinecolor\":\"white\",\"automargin\":true,\"zerolinewidth\":2},\"yaxis\":{\"gridcolor\":\"white\",\"linecolor\":\"white\",\"ticks\":\"\",\"title\":{\"standoff\":15},\"zerolinecolor\":\"white\",\"automargin\":true,\"zerolinewidth\":2},\"scene\":{\"xaxis\":{\"backgroundcolor\":\"#E5ECF6\",\"gridcolor\":\"white\",\"linecolor\":\"white\",\"showbackground\":true,\"ticks\":\"\",\"zerolinecolor\":\"white\",\"gridwidth\":2},\"yaxis\":{\"backgroundcolor\":\"#E5ECF6\",\"gridcolor\":\"white\",\"linecolor\":\"white\",\"showbackground\":true,\"ticks\":\"\",\"zerolinecolor\":\"white\",\"gridwidth\":2},\"zaxis\":{\"backgroundcolor\":\"#E5ECF6\",\"gridcolor\":\"white\",\"linecolor\":\"white\",\"showbackground\":true,\"ticks\":\"\",\"zerolinecolor\":\"white\",\"gridwidth\":2}},\"shapedefaults\":{\"line\":{\"color\":\"#2a3f5f\"}},\"annotationdefaults\":{\"arrowcolor\":\"#2a3f5f\",\"arrowhead\":0,\"arrowwidth\":1},\"geo\":{\"bgcolor\":\"white\",\"landcolor\":\"#E5ECF6\",\"subunitcolor\":\"white\",\"showland\":true,\"showlakes\":true,\"lakecolor\":\"white\"},\"title\":{\"x\":0.05},\"mapbox\":{\"style\":\"light\"}}},\"xaxis\":{\"anchor\":\"y\",\"domain\":[0.0,1.0],\"title\":{\"text\":\"Population density (1,000 persons per square mile)\"}},\"yaxis\":{\"anchor\":\"x\",\"domain\":[0.0,1.0],\"title\":{\"text\":\"Unemployment rate (%)\"}},\"legend\":{\"title\":{\"text\":\"Borough\"},\"tracegroupgap\":0,\"itemsizing\":\"constant\"},\"title\":{\"text\":\"Densly populated districts with high unemployment rate <br>have fewer subway stations\"},\"annotations\":[{\"align\":\"center\",\"arrowcolor\":\"#636363\",\"arrowhead\":2,\"arrowsize\":1,\"arrowwidth\":2,\"ax\":30,\"ay\":60,\"bgcolor\":\"#ff7f0e\",\"bordercolor\":\"#c7c7c7\",\"borderpad\":4,\"borderwidth\":2,\"font\":{\"color\":\"#ffffff\",\"family\":\"Courier New, monospace\",\"size\":13},\"opacity\":0.8,\"showarrow\":true,\"text\":\"BX07 high <br> unemployment rate <br> and poverty rate\",\"x\":96.7,\"xref\":\"x\",\"y\":11.73,\"yref\":\"y\"},{\"text\":\"BK11\",\"x\":50.6,\"y\":4.53},{\"text\":\"MN03\",\"x\":95.8,\"y\":5.24}],\"autosize\":false,\"width\":700,\"height\":600},                        {\"responsive\": true}                    ).then(function(){\n",
       "                            \n",
       "var gd = document.getElementById('67845bdc-b24f-4b94-9a2d-c4f0f9faa9b9');\n",
       "var x = new MutationObserver(function (mutations, observer) {{\n",
       "        var display = window.getComputedStyle(gd).display;\n",
       "        if (!display || display === 'none') {{\n",
       "            console.log([gd, 'removed!']);\n",
       "            Plotly.purge(gd);\n",
       "            observer.disconnect();\n",
       "        }}\n",
       "}});\n",
       "\n",
       "// Listen for the removal of the full notebook cells\n",
       "var notebookContainer = gd.closest('#notebook-container');\n",
       "if (notebookContainer) {{\n",
       "    x.observe(notebookContainer, {childList: true});\n",
       "}}\n",
       "\n",
       "// Listen for the clearing of the current output cell\n",
       "var outputEl = gd.closest('.output');\n",
       "if (outputEl) {{\n",
       "    x.observe(outputEl, {childList: true});\n",
       "}}\n",
       "\n",
       "                        })                };                });            </script>        </div>"
      ]
     },
     "metadata": {},
     "output_type": "display_data"
    }
   ],
   "source": [
    "s1 = 'Population density (1,000 persons per square mile)'\n",
    "s2 = 'Unemployment rate'\n",
    "cd = 'station_counts'\n",
    "\n",
    "\n",
    "l = {\n",
    "                     \"color\": \"Borough\",\n",
    "                     \"station_counts\" :'Number of subway stations',\n",
    "                     \"Unemployment rate\" :\"Unemployment rate (%)\"\n",
    "                 \n",
    "                 }\n",
    "title = \"Densly populated districts with high unemployment rate <br>have fewer subway stations\"\n",
    "  \n",
    "a_text = \"BX07 high <br> unemployment rate <br> and poverty rate\"\n",
    "\n",
    "create_scatter(s1,s2,cd,\n",
    "               title,l , a_text,\n",
    "               96.7,11.73, 30.,\n",
    "               50.6,4.53, 'BK11',\n",
    "               95.8,5.24,'MN03')\n",
    "\n",
    "\n",
    "\n"
   ]
  },
  {
   "cell_type": "markdown",
   "id": "160c8b05",
   "metadata": {},
   "source": [
    "# Visualization 6: Commuter traffic similar to CDs with more stations"
   ]
  },
  {
   "cell_type": "code",
   "execution_count": 112,
   "id": "21542967",
   "metadata": {},
   "outputs": [
    {
     "data": {
      "application/vnd.plotly.v1+json": {
       "config": {
        "plotlyServerURL": "https://plot.ly"
       },
       "data": [
        {
         "hovertemplate": "<b>%{hovertext}</b><br><br>Borough=Queens<br>Population density (1,000 persons per square mile)=%{x}<br>Unemployment rate (%)=%{y}<br>Subway (net_entries)=%{marker.size}<extra></extra>",
         "hovertext": [
          "QN04 Elmhurst-Corona (CD 4 Approximation)",
          "QN14 The Rockaways (CD 14 Approximation)",
          "QN07 Flushing-Murray Hill-Whitestone (CD 7 Approximation)",
          "QN06 Forest Hills-Rego Park (CD 6 Approximation)",
          "QN09 Kew Gardens-Richmond Hill-Woodhaven (CD 9 Approximation)",
          "QN01 Astoria-Queensbridge (CD 1 Equivalent)",
          "QN03 Jackson Heights-East Elmhurst (CD 3 Approximation)",
          "QN05 Ridgewood-Maspeth-Middle Village (CD 5 Approximation)",
          "QN02 Long Island City-Sunnyside-Woodside (CD 2 Approximation)",
          "QN10 South Ozone Park-Howard Beach (CD 10 Approximation)",
          "QN12 Jamaica-St. Albans-Hollis (CD 12 Approximation)"
         ],
         "legendgroup": "Queens",
         "marker": {
          "color": "#636efa",
          "size": [
           9345433,
           6246420,
           6272926,
           9173768,
           3944838,
           10519669,
           5813770,
           1019040,
           7355798,
           12005066,
           4920002,
           4457936,
           774846,
           3698192,
           814801,
           1916500,
           1220162,
           3542287,
           2833175,
           3091845,
           1902613,
           1973691,
           1324434,
           2486024,
           2278944,
           8045209,
           704513,
           2926313,
           5439765,
           7467576,
           7839541,
           7578836,
           3155301,
           4657148,
           7263953,
           1690659,
           5505727,
           7779388,
           5367529,
           3778796,
           1514771,
           3442356,
           19176623,
           3520152,
           57373279,
           7605396,
           909385
          ],
          "sizemin": 4,
          "sizemode": "area",
          "sizeref": 71716.59875,
          "symbol": "circle"
         },
         "mode": "markers",
         "name": "Queens",
         "orientation": "v",
         "showlegend": true,
         "type": "scatter",
         "x": [
          43.3,
          10.8,
          20.4,
          37.7,
          30.3,
          32.2,
          41.9,
          22.6,
          22.7,
          19.3,
          25.9
         ],
         "xaxis": "x",
         "y": [
          3.55,
          6.27,
          4.53,
          3.81,
          5.2,
          3.37,
          4.4,
          3.14,
          3.92,
          4.49,
          6.63
         ],
         "yaxis": "y"
        },
        {
         "hovertemplate": "<b>%{hovertext}</b><br><br>Borough=Manhattan<br>Population density (1,000 persons per square mile)=%{x}<br>Unemployment rate (%)=%{y}<br>Subway (net_entries)=%{marker.size}<extra></extra>",
         "hovertext": [
          "MN04 Chelsea-Hell's Kitchen (CD 4 Approximation)",
          "MN03 Lower East Side-Chinatown (CD 3 Equivalent)",
          "MN08 Upper East Side-Roosevelt Island (CD 8 Equivalent)",
          "MN02 Greenwich Village-SoHo (CD 2 Equivalent)",
          "MN06 East Midtown-Murray Hill (CD 6 Approximation)",
          "MN11 East Harlem (CD 11 Equivalent)",
          "MN12 Washington Heights-Inwood (CD 12 Equivalent)",
          "MN10 Harlem (CD 10 Equivalent)",
          "MN07 Upper West Side (CD 7 Approximation)",
          "MN09 Morningside Heights-Hamilton Heights (CD 9 Equivalent)",
          "MN01 Financial District-Tribeca (CD 1 Equivalent)",
          "MN05 Midtown-Flatiron-Union Square (CD 5 Approximation)"
         ],
         "legendgroup": "Manhattan",
         "marker": {
          "color": "#EF553B",
          "size": [
           9345433,
           6246420,
           6272926,
           9173768,
           3944838,
           10519669,
           5813770,
           1019040,
           7355798,
           12005066,
           4920002,
           4457936,
           774846,
           3698192,
           814801,
           1916500,
           1220162,
           3542287,
           2833175,
           3091845,
           1902613,
           1973691,
           1324434,
           2486024,
           2278944,
           8045209,
           704513,
           2926313,
           5439765,
           7467576,
           7839541,
           7578836,
           3155301,
           4657148,
           7263953,
           1690659,
           5505727,
           7779388,
           5367529,
           3778796,
           1514771,
           3442356,
           19176623,
           3520152,
           57373279,
           7605396,
           909385
          ],
          "sizemin": 4,
          "sizemode": "area",
          "sizeref": 71716.59875,
          "symbol": "circle"
         },
         "mode": "markers",
         "name": "Manhattan",
         "orientation": "v",
         "showlegend": true,
         "type": "scatter",
         "x": [
          54.3,
          95.8,
          109.1,
          56.9,
          91.6,
          48,
          69.6,
          95.4,
          60.6,
          78.8,
          56.9,
          54.3
         ],
         "xaxis": "x",
         "y": [
          2.64,
          5.24,
          1.98,
          4.32,
          1.31,
          6.08,
          6.16,
          8.69,
          2.32,
          6.79,
          4.32,
          2.64
         ],
         "yaxis": "y"
        },
        {
         "hovertemplate": "<b>%{hovertext}</b><br><br>Borough=Brooklyn<br>Population density (1,000 persons per square mile)=%{x}<br>Unemployment rate (%)=%{y}<br>Subway (net_entries)=%{marker.size}<extra></extra>",
         "hovertext": [
          "BK12 Borough Park-Kensington (CD 12 Approximation)",
          "BK02 Downtown Brooklyn-Fort Greene (CD 2 Approximation)",
          "BK01 Williamsburg-Greenpoint (CD 1 Equivalent)",
          "BK09 Crown Heights (South) (CD 9 Approximation)",
          "BK07 Sunset Park-Windsor Terrace (CD 7 Approximation)",
          "BK11 Bensonhurst-Bath Beach (CD 11 Approximation)",
          "BK06 Park Slope-Carroll Gardens (CD 6 Approximation)",
          "BK04 Bushwick (CD 4 Equivalent)",
          "BK05 East New York-Cypress Hills (CD 5 Approximation)",
          "BK03 Bedford-Stuyvesant (CD 3 Approximation)",
          "BK10 Bay Ridge-Dyker Heights (CD 10 Approximation)"
         ],
         "legendgroup": "Brooklyn",
         "marker": {
          "color": "#00cc96",
          "size": [
           9345433,
           6246420,
           6272926,
           9173768,
           3944838,
           10519669,
           5813770,
           1019040,
           7355798,
           12005066,
           4920002,
           4457936,
           774846,
           3698192,
           814801,
           1916500,
           1220162,
           3542287,
           2833175,
           3091845,
           1902613,
           1973691,
           1324434,
           2486024,
           2278944,
           8045209,
           704513,
           2926313,
           5439765,
           7467576,
           7839541,
           7578836,
           3155301,
           4657148,
           7263953,
           1690659,
           5505727,
           7779388,
           5367529,
           3778796,
           1514771,
           3442356,
           19176623,
           3520152,
           57373279,
           7605396,
           909385
          ],
          "sizemin": 4,
          "sizemode": "area",
          "sizeref": 71716.59875,
          "symbol": "circle"
         },
         "mode": "markers",
         "name": "Brooklyn",
         "orientation": "v",
         "showlegend": true,
         "type": "scatter",
         "x": [
          48.8,
          42.8,
          36.7,
          62.2,
          32.6,
          50.6,
          28.5,
          50.3,
          29.8,
          62.8,
          31.7
         ],
         "xaxis": "x",
         "y": [
          3.99,
          6.31,
          3.99,
          4.46,
          3.33,
          4.53,
          3.41,
          6.32,
          3.85,
          6.63,
          3.59
         ],
         "yaxis": "y"
        },
        {
         "hovertemplate": "<b>%{hovertext}</b><br><br>Borough=Bronx<br>Population density (1,000 persons per square mile)=%{x}<br>Unemployment rate (%)=%{y}<br>Subway (net_entries)=%{marker.size}<extra></extra>",
         "hovertext": [
          "BX01 Melrose-Mott Haven-Port Morris (CD 1 Approximation)",
          "BX04 Highbridge-Concourse (CD 4 Approximation)",
          "BX03 Morrisania-Crotona Park East (CD 3 Approximation)",
          "BX06 Tremont-Belmont-West Farms (CD 6 Approximation)",
          "BX12 Wakefield-Williamsbridge-Eastchester (CD 12 Approximation)",
          "BX10 Co-op City-Throgs Neck (CD 10 Approximation)",
          "BX11 Pelham Parkway-Morris Park (CD 11 Approximation)",
          "BX02 Longwood-Hunts Point (CD 2 Approximation)",
          "BX09 Soundview-Parkchester (CD 9 Approximation)",
          "BX08 Riverdale-Kingsbridge-Marble Hill (CD 8 Approximation)",
          "BX05 Morris Heights-Mount Hope (CD 5 Approximation)",
          "BX07 Fordham-Bedford Park-Norwood (CD 7 Approximation)"
         ],
         "legendgroup": "Bronx",
         "marker": {
          "color": "#ab63fa",
          "size": [
           9345433,
           6246420,
           6272926,
           9173768,
           3944838,
           10519669,
           5813770,
           1019040,
           7355798,
           12005066,
           4920002,
           4457936,
           774846,
           3698192,
           814801,
           1916500,
           1220162,
           3542287,
           2833175,
           3091845,
           1902613,
           1973691,
           1324434,
           2486024,
           2278944,
           8045209,
           704513,
           2926313,
           5439765,
           7467576,
           7839541,
           7578836,
           3155301,
           4657148,
           7263953,
           1690659,
           5505727,
           7779388,
           5367529,
           3778796,
           1514771,
           3442356,
           19176623,
           3520152,
           57373279,
           7605396,
           909385
          ],
          "sizemin": 4,
          "sizemode": "area",
          "sizeref": 71716.59875,
          "symbol": "circle"
         },
         "mode": "markers",
         "name": "Bronx",
         "orientation": "v",
         "showlegend": true,
         "type": "scatter",
         "x": [
          29.9,
          70.5,
          39.5,
          39.5,
          22.1,
          11.9,
          32.8,
          29.9,
          40.3,
          30.4,
          91.5,
          96.7
         ],
         "xaxis": "x",
         "y": [
          11.29,
          9.57,
          11.49,
          11.49,
          8.27,
          4.5,
          8.09,
          11.29,
          6.91,
          5.62,
          11.58,
          11.73
         ],
         "yaxis": "y"
        },
        {
         "hovertemplate": "<b>%{hovertext}</b><br><br>Borough=Staten Island<br>Population density (1,000 persons per square mile)=%{x}<br>Unemployment rate (%)=%{y}<br>Subway (net_entries)=%{marker.size}<extra></extra>",
         "hovertext": [
          "SI01 North Shore (CD 1 Equivalent)"
         ],
         "legendgroup": "Staten Island",
         "marker": {
          "color": "#FFA15A",
          "size": [
           9345433,
           6246420,
           6272926,
           9173768,
           3944838,
           10519669,
           5813770,
           1019040,
           7355798,
           12005066,
           4920002,
           4457936,
           774846,
           3698192,
           814801,
           1916500,
           1220162,
           3542287,
           2833175,
           3091845,
           1902613,
           1973691,
           1324434,
           2486024,
           2278944,
           8045209,
           704513,
           2926313,
           5439765,
           7467576,
           7839541,
           7578836,
           3155301,
           4657148,
           7263953,
           1690659,
           5505727,
           7779388,
           5367529,
           3778796,
           1514771,
           3442356,
           19176623,
           3520152,
           57373279,
           7605396,
           909385
          ],
          "sizemin": 4,
          "sizemode": "area",
          "sizeref": 71716.59875,
          "symbol": "circle"
         },
         "mode": "markers",
         "name": "Staten Island",
         "orientation": "v",
         "showlegend": true,
         "type": "scatter",
         "x": [
          12.9
         ],
         "xaxis": "x",
         "y": [
          5.13
         ],
         "yaxis": "y"
        }
       ],
       "layout": {
        "annotations": [
         {
          "align": "center",
          "arrowcolor": "#636363",
          "arrowhead": 2,
          "arrowsize": 1,
          "arrowwidth": 2,
          "ax": 30,
          "ay": 60,
          "bgcolor": "#ff7f0e",
          "bordercolor": "#c7c7c7",
          "borderpad": 4,
          "borderwidth": 2,
          "font": {
           "color": "#ffffff",
           "family": "Courier New, monospace",
           "size": 13
          },
          "opacity": 0.8,
          "showarrow": true,
          "text": "BX07 high <br> unemployment rate <br> and population density",
          "x": 96.7,
          "xref": "x",
          "y": 11.73,
          "yref": "y"
         },
         {
          "text": "BK11",
          "x": 50.6,
          "y": 4.53
         },
         {
          "text": "MN03",
          "x": 95.8,
          "y": 5.24
         }
        ],
        "autosize": false,
        "height": 600,
        "legend": {
         "itemsizing": "constant",
         "title": {
          "text": "Borough"
         },
         "tracegroupgap": 0
        },
        "template": {
         "data": {
          "bar": [
           {
            "error_x": {
             "color": "#2a3f5f"
            },
            "error_y": {
             "color": "#2a3f5f"
            },
            "marker": {
             "line": {
              "color": "#E5ECF6",
              "width": 0.5
             },
             "pattern": {
              "fillmode": "overlay",
              "size": 10,
              "solidity": 0.2
             }
            },
            "type": "bar"
           }
          ],
          "barpolar": [
           {
            "marker": {
             "line": {
              "color": "#E5ECF6",
              "width": 0.5
             },
             "pattern": {
              "fillmode": "overlay",
              "size": 10,
              "solidity": 0.2
             }
            },
            "type": "barpolar"
           }
          ],
          "carpet": [
           {
            "aaxis": {
             "endlinecolor": "#2a3f5f",
             "gridcolor": "white",
             "linecolor": "white",
             "minorgridcolor": "white",
             "startlinecolor": "#2a3f5f"
            },
            "baxis": {
             "endlinecolor": "#2a3f5f",
             "gridcolor": "white",
             "linecolor": "white",
             "minorgridcolor": "white",
             "startlinecolor": "#2a3f5f"
            },
            "type": "carpet"
           }
          ],
          "choropleth": [
           {
            "colorbar": {
             "outlinewidth": 0,
             "ticks": ""
            },
            "type": "choropleth"
           }
          ],
          "contour": [
           {
            "colorbar": {
             "outlinewidth": 0,
             "ticks": ""
            },
            "colorscale": [
             [
              0,
              "#0d0887"
             ],
             [
              0.1111111111111111,
              "#46039f"
             ],
             [
              0.2222222222222222,
              "#7201a8"
             ],
             [
              0.3333333333333333,
              "#9c179e"
             ],
             [
              0.4444444444444444,
              "#bd3786"
             ],
             [
              0.5555555555555556,
              "#d8576b"
             ],
             [
              0.6666666666666666,
              "#ed7953"
             ],
             [
              0.7777777777777778,
              "#fb9f3a"
             ],
             [
              0.8888888888888888,
              "#fdca26"
             ],
             [
              1,
              "#f0f921"
             ]
            ],
            "type": "contour"
           }
          ],
          "contourcarpet": [
           {
            "colorbar": {
             "outlinewidth": 0,
             "ticks": ""
            },
            "type": "contourcarpet"
           }
          ],
          "heatmap": [
           {
            "colorbar": {
             "outlinewidth": 0,
             "ticks": ""
            },
            "colorscale": [
             [
              0,
              "#0d0887"
             ],
             [
              0.1111111111111111,
              "#46039f"
             ],
             [
              0.2222222222222222,
              "#7201a8"
             ],
             [
              0.3333333333333333,
              "#9c179e"
             ],
             [
              0.4444444444444444,
              "#bd3786"
             ],
             [
              0.5555555555555556,
              "#d8576b"
             ],
             [
              0.6666666666666666,
              "#ed7953"
             ],
             [
              0.7777777777777778,
              "#fb9f3a"
             ],
             [
              0.8888888888888888,
              "#fdca26"
             ],
             [
              1,
              "#f0f921"
             ]
            ],
            "type": "heatmap"
           }
          ],
          "heatmapgl": [
           {
            "colorbar": {
             "outlinewidth": 0,
             "ticks": ""
            },
            "colorscale": [
             [
              0,
              "#0d0887"
             ],
             [
              0.1111111111111111,
              "#46039f"
             ],
             [
              0.2222222222222222,
              "#7201a8"
             ],
             [
              0.3333333333333333,
              "#9c179e"
             ],
             [
              0.4444444444444444,
              "#bd3786"
             ],
             [
              0.5555555555555556,
              "#d8576b"
             ],
             [
              0.6666666666666666,
              "#ed7953"
             ],
             [
              0.7777777777777778,
              "#fb9f3a"
             ],
             [
              0.8888888888888888,
              "#fdca26"
             ],
             [
              1,
              "#f0f921"
             ]
            ],
            "type": "heatmapgl"
           }
          ],
          "histogram": [
           {
            "marker": {
             "pattern": {
              "fillmode": "overlay",
              "size": 10,
              "solidity": 0.2
             }
            },
            "type": "histogram"
           }
          ],
          "histogram2d": [
           {
            "colorbar": {
             "outlinewidth": 0,
             "ticks": ""
            },
            "colorscale": [
             [
              0,
              "#0d0887"
             ],
             [
              0.1111111111111111,
              "#46039f"
             ],
             [
              0.2222222222222222,
              "#7201a8"
             ],
             [
              0.3333333333333333,
              "#9c179e"
             ],
             [
              0.4444444444444444,
              "#bd3786"
             ],
             [
              0.5555555555555556,
              "#d8576b"
             ],
             [
              0.6666666666666666,
              "#ed7953"
             ],
             [
              0.7777777777777778,
              "#fb9f3a"
             ],
             [
              0.8888888888888888,
              "#fdca26"
             ],
             [
              1,
              "#f0f921"
             ]
            ],
            "type": "histogram2d"
           }
          ],
          "histogram2dcontour": [
           {
            "colorbar": {
             "outlinewidth": 0,
             "ticks": ""
            },
            "colorscale": [
             [
              0,
              "#0d0887"
             ],
             [
              0.1111111111111111,
              "#46039f"
             ],
             [
              0.2222222222222222,
              "#7201a8"
             ],
             [
              0.3333333333333333,
              "#9c179e"
             ],
             [
              0.4444444444444444,
              "#bd3786"
             ],
             [
              0.5555555555555556,
              "#d8576b"
             ],
             [
              0.6666666666666666,
              "#ed7953"
             ],
             [
              0.7777777777777778,
              "#fb9f3a"
             ],
             [
              0.8888888888888888,
              "#fdca26"
             ],
             [
              1,
              "#f0f921"
             ]
            ],
            "type": "histogram2dcontour"
           }
          ],
          "mesh3d": [
           {
            "colorbar": {
             "outlinewidth": 0,
             "ticks": ""
            },
            "type": "mesh3d"
           }
          ],
          "parcoords": [
           {
            "line": {
             "colorbar": {
              "outlinewidth": 0,
              "ticks": ""
             }
            },
            "type": "parcoords"
           }
          ],
          "pie": [
           {
            "automargin": true,
            "type": "pie"
           }
          ],
          "scatter": [
           {
            "fillpattern": {
             "fillmode": "overlay",
             "size": 10,
             "solidity": 0.2
            },
            "type": "scatter"
           }
          ],
          "scatter3d": [
           {
            "line": {
             "colorbar": {
              "outlinewidth": 0,
              "ticks": ""
             }
            },
            "marker": {
             "colorbar": {
              "outlinewidth": 0,
              "ticks": ""
             }
            },
            "type": "scatter3d"
           }
          ],
          "scattercarpet": [
           {
            "marker": {
             "colorbar": {
              "outlinewidth": 0,
              "ticks": ""
             }
            },
            "type": "scattercarpet"
           }
          ],
          "scattergeo": [
           {
            "marker": {
             "colorbar": {
              "outlinewidth": 0,
              "ticks": ""
             }
            },
            "type": "scattergeo"
           }
          ],
          "scattergl": [
           {
            "marker": {
             "colorbar": {
              "outlinewidth": 0,
              "ticks": ""
             }
            },
            "type": "scattergl"
           }
          ],
          "scattermapbox": [
           {
            "marker": {
             "colorbar": {
              "outlinewidth": 0,
              "ticks": ""
             }
            },
            "type": "scattermapbox"
           }
          ],
          "scatterpolar": [
           {
            "marker": {
             "colorbar": {
              "outlinewidth": 0,
              "ticks": ""
             }
            },
            "type": "scatterpolar"
           }
          ],
          "scatterpolargl": [
           {
            "marker": {
             "colorbar": {
              "outlinewidth": 0,
              "ticks": ""
             }
            },
            "type": "scatterpolargl"
           }
          ],
          "scatterternary": [
           {
            "marker": {
             "colorbar": {
              "outlinewidth": 0,
              "ticks": ""
             }
            },
            "type": "scatterternary"
           }
          ],
          "surface": [
           {
            "colorbar": {
             "outlinewidth": 0,
             "ticks": ""
            },
            "colorscale": [
             [
              0,
              "#0d0887"
             ],
             [
              0.1111111111111111,
              "#46039f"
             ],
             [
              0.2222222222222222,
              "#7201a8"
             ],
             [
              0.3333333333333333,
              "#9c179e"
             ],
             [
              0.4444444444444444,
              "#bd3786"
             ],
             [
              0.5555555555555556,
              "#d8576b"
             ],
             [
              0.6666666666666666,
              "#ed7953"
             ],
             [
              0.7777777777777778,
              "#fb9f3a"
             ],
             [
              0.8888888888888888,
              "#fdca26"
             ],
             [
              1,
              "#f0f921"
             ]
            ],
            "type": "surface"
           }
          ],
          "table": [
           {
            "cells": {
             "fill": {
              "color": "#EBF0F8"
             },
             "line": {
              "color": "white"
             }
            },
            "header": {
             "fill": {
              "color": "#C8D4E3"
             },
             "line": {
              "color": "white"
             }
            },
            "type": "table"
           }
          ]
         },
         "layout": {
          "annotationdefaults": {
           "arrowcolor": "#2a3f5f",
           "arrowhead": 0,
           "arrowwidth": 1
          },
          "autotypenumbers": "strict",
          "coloraxis": {
           "colorbar": {
            "outlinewidth": 0,
            "ticks": ""
           }
          },
          "colorscale": {
           "diverging": [
            [
             0,
             "#8e0152"
            ],
            [
             0.1,
             "#c51b7d"
            ],
            [
             0.2,
             "#de77ae"
            ],
            [
             0.3,
             "#f1b6da"
            ],
            [
             0.4,
             "#fde0ef"
            ],
            [
             0.5,
             "#f7f7f7"
            ],
            [
             0.6,
             "#e6f5d0"
            ],
            [
             0.7,
             "#b8e186"
            ],
            [
             0.8,
             "#7fbc41"
            ],
            [
             0.9,
             "#4d9221"
            ],
            [
             1,
             "#276419"
            ]
           ],
           "sequential": [
            [
             0,
             "#0d0887"
            ],
            [
             0.1111111111111111,
             "#46039f"
            ],
            [
             0.2222222222222222,
             "#7201a8"
            ],
            [
             0.3333333333333333,
             "#9c179e"
            ],
            [
             0.4444444444444444,
             "#bd3786"
            ],
            [
             0.5555555555555556,
             "#d8576b"
            ],
            [
             0.6666666666666666,
             "#ed7953"
            ],
            [
             0.7777777777777778,
             "#fb9f3a"
            ],
            [
             0.8888888888888888,
             "#fdca26"
            ],
            [
             1,
             "#f0f921"
            ]
           ],
           "sequentialminus": [
            [
             0,
             "#0d0887"
            ],
            [
             0.1111111111111111,
             "#46039f"
            ],
            [
             0.2222222222222222,
             "#7201a8"
            ],
            [
             0.3333333333333333,
             "#9c179e"
            ],
            [
             0.4444444444444444,
             "#bd3786"
            ],
            [
             0.5555555555555556,
             "#d8576b"
            ],
            [
             0.6666666666666666,
             "#ed7953"
            ],
            [
             0.7777777777777778,
             "#fb9f3a"
            ],
            [
             0.8888888888888888,
             "#fdca26"
            ],
            [
             1,
             "#f0f921"
            ]
           ]
          },
          "colorway": [
           "#636efa",
           "#EF553B",
           "#00cc96",
           "#ab63fa",
           "#FFA15A",
           "#19d3f3",
           "#FF6692",
           "#B6E880",
           "#FF97FF",
           "#FECB52"
          ],
          "font": {
           "color": "#2a3f5f"
          },
          "geo": {
           "bgcolor": "white",
           "lakecolor": "white",
           "landcolor": "#E5ECF6",
           "showlakes": true,
           "showland": true,
           "subunitcolor": "white"
          },
          "hoverlabel": {
           "align": "left"
          },
          "hovermode": "closest",
          "mapbox": {
           "style": "light"
          },
          "paper_bgcolor": "white",
          "plot_bgcolor": "#E5ECF6",
          "polar": {
           "angularaxis": {
            "gridcolor": "white",
            "linecolor": "white",
            "ticks": ""
           },
           "bgcolor": "#E5ECF6",
           "radialaxis": {
            "gridcolor": "white",
            "linecolor": "white",
            "ticks": ""
           }
          },
          "scene": {
           "xaxis": {
            "backgroundcolor": "#E5ECF6",
            "gridcolor": "white",
            "gridwidth": 2,
            "linecolor": "white",
            "showbackground": true,
            "ticks": "",
            "zerolinecolor": "white"
           },
           "yaxis": {
            "backgroundcolor": "#E5ECF6",
            "gridcolor": "white",
            "gridwidth": 2,
            "linecolor": "white",
            "showbackground": true,
            "ticks": "",
            "zerolinecolor": "white"
           },
           "zaxis": {
            "backgroundcolor": "#E5ECF6",
            "gridcolor": "white",
            "gridwidth": 2,
            "linecolor": "white",
            "showbackground": true,
            "ticks": "",
            "zerolinecolor": "white"
           }
          },
          "shapedefaults": {
           "line": {
            "color": "#2a3f5f"
           }
          },
          "ternary": {
           "aaxis": {
            "gridcolor": "white",
            "linecolor": "white",
            "ticks": ""
           },
           "baxis": {
            "gridcolor": "white",
            "linecolor": "white",
            "ticks": ""
           },
           "bgcolor": "#E5ECF6",
           "caxis": {
            "gridcolor": "white",
            "linecolor": "white",
            "ticks": ""
           }
          },
          "title": {
           "x": 0.05
          },
          "xaxis": {
           "automargin": true,
           "gridcolor": "white",
           "linecolor": "white",
           "ticks": "",
           "title": {
            "standoff": 15
           },
           "zerolinecolor": "white",
           "zerolinewidth": 2
          },
          "yaxis": {
           "automargin": true,
           "gridcolor": "white",
           "linecolor": "white",
           "ticks": "",
           "title": {
            "standoff": 15
           },
           "zerolinecolor": "white",
           "zerolinewidth": 2
          }
         }
        },
        "title": {
         "text": "Commuter traffic similar to CDs with more stations"
        },
        "width": 700,
        "xaxis": {
         "anchor": "y",
         "domain": [
          0,
          1
         ],
         "title": {
          "text": "Population density (1,000 persons per square mile)"
         }
        },
        "yaxis": {
         "anchor": "x",
         "domain": [
          0,
          1
         ],
         "title": {
          "text": "Unemployment rate (%)"
         }
        }
       }
      },
      "text/html": [
       "<div>                            <div id=\"49deef00-ee53-47bb-9830-67464028f7c0\" class=\"plotly-graph-div\" style=\"height:600px; width:700px;\"></div>            <script type=\"text/javascript\">                require([\"plotly\"], function(Plotly) {                    window.PLOTLYENV=window.PLOTLYENV || {};                                    if (document.getElementById(\"49deef00-ee53-47bb-9830-67464028f7c0\")) {                    Plotly.newPlot(                        \"49deef00-ee53-47bb-9830-67464028f7c0\",                        [{\"hovertemplate\":\"<b>%{hovertext}</b><br><br>Borough=Queens<br>Population density (1,000 persons per square mile)=%{x}<br>Unemployment rate (%)=%{y}<br>Subway (net_entries)=%{marker.size}<extra></extra>\",\"hovertext\":[\"QN04 Elmhurst-Corona (CD 4 Approximation)\",\"QN14 The Rockaways (CD 14 Approximation)\",\"QN07 Flushing-Murray Hill-Whitestone (CD 7 Approximation)\",\"QN06 Forest Hills-Rego Park (CD 6 Approximation)\",\"QN09 Kew Gardens-Richmond Hill-Woodhaven (CD 9 Approximation)\",\"QN01 Astoria-Queensbridge (CD 1 Equivalent)\",\"QN03 Jackson Heights-East Elmhurst (CD 3 Approximation)\",\"QN05 Ridgewood-Maspeth-Middle Village (CD 5 Approximation)\",\"QN02 Long Island City-Sunnyside-Woodside (CD 2 Approximation)\",\"QN10 South Ozone Park-Howard Beach (CD 10 Approximation)\",\"QN12 Jamaica-St. Albans-Hollis (CD 12 Approximation)\"],\"legendgroup\":\"Queens\",\"marker\":{\"color\":\"#636efa\",\"size\":[9345433.0,6246420.0,6272926.0,9173768.0,3944838.0,10519669.0,5813770.0,1019040.0,7355798.0,12005066.0,4920002.0,4457936.0,774846.0,3698192.0,814801.0,1916500.0,1220162.0,3542287.0,2833175.0,3091845.0,1902613.0,1973691.0,1324434.0,2486024.0,2278944.0,8045209.0,704513.0,2926313.0,5439765.0,7467576.0,7839541.0,7578836.0,3155301.0,4657148.0,7263953.0,1690659.0,5505727.0,7779388.0,5367529.0,3778796.0,1514771.0,3442356.0,19176623.0,3520152.0,57373279.0,7605396.0,909385.0],\"sizemode\":\"area\",\"sizeref\":71716.59875,\"symbol\":\"circle\",\"sizemin\":4},\"mode\":\"markers\",\"name\":\"Queens\",\"orientation\":\"v\",\"showlegend\":true,\"x\":[43.3,10.8,20.4,37.7,30.3,32.2,41.9,22.6,22.7,19.3,25.9],\"xaxis\":\"x\",\"y\":[3.55,6.27,4.53,3.81,5.2,3.37,4.4,3.14,3.92,4.49,6.63],\"yaxis\":\"y\",\"type\":\"scatter\"},{\"hovertemplate\":\"<b>%{hovertext}</b><br><br>Borough=Manhattan<br>Population density (1,000 persons per square mile)=%{x}<br>Unemployment rate (%)=%{y}<br>Subway (net_entries)=%{marker.size}<extra></extra>\",\"hovertext\":[\"MN04 Chelsea-Hell's Kitchen (CD 4 Approximation)\",\"MN03 Lower East Side-Chinatown (CD 3 Equivalent)\",\"MN08 Upper East Side-Roosevelt Island (CD 8 Equivalent)\",\"MN02 Greenwich Village-SoHo (CD 2 Equivalent)\",\"MN06 East Midtown-Murray Hill (CD 6 Approximation)\",\"MN11 East Harlem (CD 11 Equivalent)\",\"MN12 Washington Heights-Inwood (CD 12 Equivalent)\",\"MN10 Harlem (CD 10 Equivalent)\",\"MN07 Upper West Side (CD 7 Approximation)\",\"MN09 Morningside Heights-Hamilton Heights (CD 9 Equivalent)\",\"MN01 Financial District-Tribeca (CD 1 Equivalent)\",\"MN05 Midtown-Flatiron-Union Square (CD 5 Approximation)\"],\"legendgroup\":\"Manhattan\",\"marker\":{\"color\":\"#EF553B\",\"size\":[9345433.0,6246420.0,6272926.0,9173768.0,3944838.0,10519669.0,5813770.0,1019040.0,7355798.0,12005066.0,4920002.0,4457936.0,774846.0,3698192.0,814801.0,1916500.0,1220162.0,3542287.0,2833175.0,3091845.0,1902613.0,1973691.0,1324434.0,2486024.0,2278944.0,8045209.0,704513.0,2926313.0,5439765.0,7467576.0,7839541.0,7578836.0,3155301.0,4657148.0,7263953.0,1690659.0,5505727.0,7779388.0,5367529.0,3778796.0,1514771.0,3442356.0,19176623.0,3520152.0,57373279.0,7605396.0,909385.0],\"sizemode\":\"area\",\"sizeref\":71716.59875,\"symbol\":\"circle\",\"sizemin\":4},\"mode\":\"markers\",\"name\":\"Manhattan\",\"orientation\":\"v\",\"showlegend\":true,\"x\":[54.3,95.8,109.1,56.9,91.6,48.0,69.6,95.4,60.6,78.8,56.9,54.3],\"xaxis\":\"x\",\"y\":[2.64,5.24,1.98,4.32,1.31,6.08,6.16,8.69,2.32,6.79,4.32,2.64],\"yaxis\":\"y\",\"type\":\"scatter\"},{\"hovertemplate\":\"<b>%{hovertext}</b><br><br>Borough=Brooklyn<br>Population density (1,000 persons per square mile)=%{x}<br>Unemployment rate (%)=%{y}<br>Subway (net_entries)=%{marker.size}<extra></extra>\",\"hovertext\":[\"BK12 Borough Park-Kensington (CD 12 Approximation)\",\"BK02 Downtown Brooklyn-Fort Greene (CD 2 Approximation)\",\"BK01 Williamsburg-Greenpoint (CD 1 Equivalent)\",\"BK09 Crown Heights (South) (CD 9 Approximation)\",\"BK07 Sunset Park-Windsor Terrace (CD 7 Approximation)\",\"BK11 Bensonhurst-Bath Beach (CD 11 Approximation)\",\"BK06 Park Slope-Carroll Gardens (CD 6 Approximation)\",\"BK04 Bushwick (CD 4 Equivalent)\",\"BK05 East New York-Cypress Hills (CD 5 Approximation)\",\"BK03 Bedford-Stuyvesant (CD 3 Approximation)\",\"BK10 Bay Ridge-Dyker Heights (CD 10 Approximation)\"],\"legendgroup\":\"Brooklyn\",\"marker\":{\"color\":\"#00cc96\",\"size\":[9345433.0,6246420.0,6272926.0,9173768.0,3944838.0,10519669.0,5813770.0,1019040.0,7355798.0,12005066.0,4920002.0,4457936.0,774846.0,3698192.0,814801.0,1916500.0,1220162.0,3542287.0,2833175.0,3091845.0,1902613.0,1973691.0,1324434.0,2486024.0,2278944.0,8045209.0,704513.0,2926313.0,5439765.0,7467576.0,7839541.0,7578836.0,3155301.0,4657148.0,7263953.0,1690659.0,5505727.0,7779388.0,5367529.0,3778796.0,1514771.0,3442356.0,19176623.0,3520152.0,57373279.0,7605396.0,909385.0],\"sizemode\":\"area\",\"sizeref\":71716.59875,\"symbol\":\"circle\",\"sizemin\":4},\"mode\":\"markers\",\"name\":\"Brooklyn\",\"orientation\":\"v\",\"showlegend\":true,\"x\":[48.8,42.8,36.7,62.2,32.6,50.6,28.5,50.3,29.8,62.8,31.7],\"xaxis\":\"x\",\"y\":[3.99,6.31,3.99,4.46,3.33,4.53,3.41,6.32,3.85,6.63,3.59],\"yaxis\":\"y\",\"type\":\"scatter\"},{\"hovertemplate\":\"<b>%{hovertext}</b><br><br>Borough=Bronx<br>Population density (1,000 persons per square mile)=%{x}<br>Unemployment rate (%)=%{y}<br>Subway (net_entries)=%{marker.size}<extra></extra>\",\"hovertext\":[\"BX01 Melrose-Mott Haven-Port Morris (CD 1 Approximation)\",\"BX04 Highbridge-Concourse (CD 4 Approximation)\",\"BX03 Morrisania-Crotona Park East (CD 3 Approximation)\",\"BX06 Tremont-Belmont-West Farms (CD 6 Approximation)\",\"BX12 Wakefield-Williamsbridge-Eastchester (CD 12 Approximation)\",\"BX10 Co-op City-Throgs Neck (CD 10 Approximation)\",\"BX11 Pelham Parkway-Morris Park (CD 11 Approximation)\",\"BX02 Longwood-Hunts Point (CD 2 Approximation)\",\"BX09 Soundview-Parkchester (CD 9 Approximation)\",\"BX08 Riverdale-Kingsbridge-Marble Hill (CD 8 Approximation)\",\"BX05 Morris Heights-Mount Hope (CD 5 Approximation)\",\"BX07 Fordham-Bedford Park-Norwood (CD 7 Approximation)\"],\"legendgroup\":\"Bronx\",\"marker\":{\"color\":\"#ab63fa\",\"size\":[9345433.0,6246420.0,6272926.0,9173768.0,3944838.0,10519669.0,5813770.0,1019040.0,7355798.0,12005066.0,4920002.0,4457936.0,774846.0,3698192.0,814801.0,1916500.0,1220162.0,3542287.0,2833175.0,3091845.0,1902613.0,1973691.0,1324434.0,2486024.0,2278944.0,8045209.0,704513.0,2926313.0,5439765.0,7467576.0,7839541.0,7578836.0,3155301.0,4657148.0,7263953.0,1690659.0,5505727.0,7779388.0,5367529.0,3778796.0,1514771.0,3442356.0,19176623.0,3520152.0,57373279.0,7605396.0,909385.0],\"sizemode\":\"area\",\"sizeref\":71716.59875,\"symbol\":\"circle\",\"sizemin\":4},\"mode\":\"markers\",\"name\":\"Bronx\",\"orientation\":\"v\",\"showlegend\":true,\"x\":[29.9,70.5,39.5,39.5,22.1,11.9,32.8,29.9,40.3,30.4,91.5,96.7],\"xaxis\":\"x\",\"y\":[11.29,9.57,11.49,11.49,8.27,4.5,8.09,11.29,6.91,5.62,11.58,11.73],\"yaxis\":\"y\",\"type\":\"scatter\"},{\"hovertemplate\":\"<b>%{hovertext}</b><br><br>Borough=Staten Island<br>Population density (1,000 persons per square mile)=%{x}<br>Unemployment rate (%)=%{y}<br>Subway (net_entries)=%{marker.size}<extra></extra>\",\"hovertext\":[\"SI01 North Shore (CD 1 Equivalent)\"],\"legendgroup\":\"Staten Island\",\"marker\":{\"color\":\"#FFA15A\",\"size\":[9345433.0,6246420.0,6272926.0,9173768.0,3944838.0,10519669.0,5813770.0,1019040.0,7355798.0,12005066.0,4920002.0,4457936.0,774846.0,3698192.0,814801.0,1916500.0,1220162.0,3542287.0,2833175.0,3091845.0,1902613.0,1973691.0,1324434.0,2486024.0,2278944.0,8045209.0,704513.0,2926313.0,5439765.0,7467576.0,7839541.0,7578836.0,3155301.0,4657148.0,7263953.0,1690659.0,5505727.0,7779388.0,5367529.0,3778796.0,1514771.0,3442356.0,19176623.0,3520152.0,57373279.0,7605396.0,909385.0],\"sizemode\":\"area\",\"sizeref\":71716.59875,\"symbol\":\"circle\",\"sizemin\":4},\"mode\":\"markers\",\"name\":\"Staten Island\",\"orientation\":\"v\",\"showlegend\":true,\"x\":[12.9],\"xaxis\":\"x\",\"y\":[5.13],\"yaxis\":\"y\",\"type\":\"scatter\"}],                        {\"template\":{\"data\":{\"histogram2dcontour\":[{\"type\":\"histogram2dcontour\",\"colorbar\":{\"outlinewidth\":0,\"ticks\":\"\"},\"colorscale\":[[0.0,\"#0d0887\"],[0.1111111111111111,\"#46039f\"],[0.2222222222222222,\"#7201a8\"],[0.3333333333333333,\"#9c179e\"],[0.4444444444444444,\"#bd3786\"],[0.5555555555555556,\"#d8576b\"],[0.6666666666666666,\"#ed7953\"],[0.7777777777777778,\"#fb9f3a\"],[0.8888888888888888,\"#fdca26\"],[1.0,\"#f0f921\"]]}],\"choropleth\":[{\"type\":\"choropleth\",\"colorbar\":{\"outlinewidth\":0,\"ticks\":\"\"}}],\"histogram2d\":[{\"type\":\"histogram2d\",\"colorbar\":{\"outlinewidth\":0,\"ticks\":\"\"},\"colorscale\":[[0.0,\"#0d0887\"],[0.1111111111111111,\"#46039f\"],[0.2222222222222222,\"#7201a8\"],[0.3333333333333333,\"#9c179e\"],[0.4444444444444444,\"#bd3786\"],[0.5555555555555556,\"#d8576b\"],[0.6666666666666666,\"#ed7953\"],[0.7777777777777778,\"#fb9f3a\"],[0.8888888888888888,\"#fdca26\"],[1.0,\"#f0f921\"]]}],\"heatmap\":[{\"type\":\"heatmap\",\"colorbar\":{\"outlinewidth\":0,\"ticks\":\"\"},\"colorscale\":[[0.0,\"#0d0887\"],[0.1111111111111111,\"#46039f\"],[0.2222222222222222,\"#7201a8\"],[0.3333333333333333,\"#9c179e\"],[0.4444444444444444,\"#bd3786\"],[0.5555555555555556,\"#d8576b\"],[0.6666666666666666,\"#ed7953\"],[0.7777777777777778,\"#fb9f3a\"],[0.8888888888888888,\"#fdca26\"],[1.0,\"#f0f921\"]]}],\"heatmapgl\":[{\"type\":\"heatmapgl\",\"colorbar\":{\"outlinewidth\":0,\"ticks\":\"\"},\"colorscale\":[[0.0,\"#0d0887\"],[0.1111111111111111,\"#46039f\"],[0.2222222222222222,\"#7201a8\"],[0.3333333333333333,\"#9c179e\"],[0.4444444444444444,\"#bd3786\"],[0.5555555555555556,\"#d8576b\"],[0.6666666666666666,\"#ed7953\"],[0.7777777777777778,\"#fb9f3a\"],[0.8888888888888888,\"#fdca26\"],[1.0,\"#f0f921\"]]}],\"contourcarpet\":[{\"type\":\"contourcarpet\",\"colorbar\":{\"outlinewidth\":0,\"ticks\":\"\"}}],\"contour\":[{\"type\":\"contour\",\"colorbar\":{\"outlinewidth\":0,\"ticks\":\"\"},\"colorscale\":[[0.0,\"#0d0887\"],[0.1111111111111111,\"#46039f\"],[0.2222222222222222,\"#7201a8\"],[0.3333333333333333,\"#9c179e\"],[0.4444444444444444,\"#bd3786\"],[0.5555555555555556,\"#d8576b\"],[0.6666666666666666,\"#ed7953\"],[0.7777777777777778,\"#fb9f3a\"],[0.8888888888888888,\"#fdca26\"],[1.0,\"#f0f921\"]]}],\"surface\":[{\"type\":\"surface\",\"colorbar\":{\"outlinewidth\":0,\"ticks\":\"\"},\"colorscale\":[[0.0,\"#0d0887\"],[0.1111111111111111,\"#46039f\"],[0.2222222222222222,\"#7201a8\"],[0.3333333333333333,\"#9c179e\"],[0.4444444444444444,\"#bd3786\"],[0.5555555555555556,\"#d8576b\"],[0.6666666666666666,\"#ed7953\"],[0.7777777777777778,\"#fb9f3a\"],[0.8888888888888888,\"#fdca26\"],[1.0,\"#f0f921\"]]}],\"mesh3d\":[{\"type\":\"mesh3d\",\"colorbar\":{\"outlinewidth\":0,\"ticks\":\"\"}}],\"scatter\":[{\"fillpattern\":{\"fillmode\":\"overlay\",\"size\":10,\"solidity\":0.2},\"type\":\"scatter\"}],\"parcoords\":[{\"type\":\"parcoords\",\"line\":{\"colorbar\":{\"outlinewidth\":0,\"ticks\":\"\"}}}],\"scatterpolargl\":[{\"type\":\"scatterpolargl\",\"marker\":{\"colorbar\":{\"outlinewidth\":0,\"ticks\":\"\"}}}],\"bar\":[{\"error_x\":{\"color\":\"#2a3f5f\"},\"error_y\":{\"color\":\"#2a3f5f\"},\"marker\":{\"line\":{\"color\":\"#E5ECF6\",\"width\":0.5},\"pattern\":{\"fillmode\":\"overlay\",\"size\":10,\"solidity\":0.2}},\"type\":\"bar\"}],\"scattergeo\":[{\"type\":\"scattergeo\",\"marker\":{\"colorbar\":{\"outlinewidth\":0,\"ticks\":\"\"}}}],\"scatterpolar\":[{\"type\":\"scatterpolar\",\"marker\":{\"colorbar\":{\"outlinewidth\":0,\"ticks\":\"\"}}}],\"histogram\":[{\"marker\":{\"pattern\":{\"fillmode\":\"overlay\",\"size\":10,\"solidity\":0.2}},\"type\":\"histogram\"}],\"scattergl\":[{\"type\":\"scattergl\",\"marker\":{\"colorbar\":{\"outlinewidth\":0,\"ticks\":\"\"}}}],\"scatter3d\":[{\"type\":\"scatter3d\",\"line\":{\"colorbar\":{\"outlinewidth\":0,\"ticks\":\"\"}},\"marker\":{\"colorbar\":{\"outlinewidth\":0,\"ticks\":\"\"}}}],\"scattermapbox\":[{\"type\":\"scattermapbox\",\"marker\":{\"colorbar\":{\"outlinewidth\":0,\"ticks\":\"\"}}}],\"scatterternary\":[{\"type\":\"scatterternary\",\"marker\":{\"colorbar\":{\"outlinewidth\":0,\"ticks\":\"\"}}}],\"scattercarpet\":[{\"type\":\"scattercarpet\",\"marker\":{\"colorbar\":{\"outlinewidth\":0,\"ticks\":\"\"}}}],\"carpet\":[{\"aaxis\":{\"endlinecolor\":\"#2a3f5f\",\"gridcolor\":\"white\",\"linecolor\":\"white\",\"minorgridcolor\":\"white\",\"startlinecolor\":\"#2a3f5f\"},\"baxis\":{\"endlinecolor\":\"#2a3f5f\",\"gridcolor\":\"white\",\"linecolor\":\"white\",\"minorgridcolor\":\"white\",\"startlinecolor\":\"#2a3f5f\"},\"type\":\"carpet\"}],\"table\":[{\"cells\":{\"fill\":{\"color\":\"#EBF0F8\"},\"line\":{\"color\":\"white\"}},\"header\":{\"fill\":{\"color\":\"#C8D4E3\"},\"line\":{\"color\":\"white\"}},\"type\":\"table\"}],\"barpolar\":[{\"marker\":{\"line\":{\"color\":\"#E5ECF6\",\"width\":0.5},\"pattern\":{\"fillmode\":\"overlay\",\"size\":10,\"solidity\":0.2}},\"type\":\"barpolar\"}],\"pie\":[{\"automargin\":true,\"type\":\"pie\"}]},\"layout\":{\"autotypenumbers\":\"strict\",\"colorway\":[\"#636efa\",\"#EF553B\",\"#00cc96\",\"#ab63fa\",\"#FFA15A\",\"#19d3f3\",\"#FF6692\",\"#B6E880\",\"#FF97FF\",\"#FECB52\"],\"font\":{\"color\":\"#2a3f5f\"},\"hovermode\":\"closest\",\"hoverlabel\":{\"align\":\"left\"},\"paper_bgcolor\":\"white\",\"plot_bgcolor\":\"#E5ECF6\",\"polar\":{\"bgcolor\":\"#E5ECF6\",\"angularaxis\":{\"gridcolor\":\"white\",\"linecolor\":\"white\",\"ticks\":\"\"},\"radialaxis\":{\"gridcolor\":\"white\",\"linecolor\":\"white\",\"ticks\":\"\"}},\"ternary\":{\"bgcolor\":\"#E5ECF6\",\"aaxis\":{\"gridcolor\":\"white\",\"linecolor\":\"white\",\"ticks\":\"\"},\"baxis\":{\"gridcolor\":\"white\",\"linecolor\":\"white\",\"ticks\":\"\"},\"caxis\":{\"gridcolor\":\"white\",\"linecolor\":\"white\",\"ticks\":\"\"}},\"coloraxis\":{\"colorbar\":{\"outlinewidth\":0,\"ticks\":\"\"}},\"colorscale\":{\"sequential\":[[0.0,\"#0d0887\"],[0.1111111111111111,\"#46039f\"],[0.2222222222222222,\"#7201a8\"],[0.3333333333333333,\"#9c179e\"],[0.4444444444444444,\"#bd3786\"],[0.5555555555555556,\"#d8576b\"],[0.6666666666666666,\"#ed7953\"],[0.7777777777777778,\"#fb9f3a\"],[0.8888888888888888,\"#fdca26\"],[1.0,\"#f0f921\"]],\"sequentialminus\":[[0.0,\"#0d0887\"],[0.1111111111111111,\"#46039f\"],[0.2222222222222222,\"#7201a8\"],[0.3333333333333333,\"#9c179e\"],[0.4444444444444444,\"#bd3786\"],[0.5555555555555556,\"#d8576b\"],[0.6666666666666666,\"#ed7953\"],[0.7777777777777778,\"#fb9f3a\"],[0.8888888888888888,\"#fdca26\"],[1.0,\"#f0f921\"]],\"diverging\":[[0,\"#8e0152\"],[0.1,\"#c51b7d\"],[0.2,\"#de77ae\"],[0.3,\"#f1b6da\"],[0.4,\"#fde0ef\"],[0.5,\"#f7f7f7\"],[0.6,\"#e6f5d0\"],[0.7,\"#b8e186\"],[0.8,\"#7fbc41\"],[0.9,\"#4d9221\"],[1,\"#276419\"]]},\"xaxis\":{\"gridcolor\":\"white\",\"linecolor\":\"white\",\"ticks\":\"\",\"title\":{\"standoff\":15},\"zerolinecolor\":\"white\",\"automargin\":true,\"zerolinewidth\":2},\"yaxis\":{\"gridcolor\":\"white\",\"linecolor\":\"white\",\"ticks\":\"\",\"title\":{\"standoff\":15},\"zerolinecolor\":\"white\",\"automargin\":true,\"zerolinewidth\":2},\"scene\":{\"xaxis\":{\"backgroundcolor\":\"#E5ECF6\",\"gridcolor\":\"white\",\"linecolor\":\"white\",\"showbackground\":true,\"ticks\":\"\",\"zerolinecolor\":\"white\",\"gridwidth\":2},\"yaxis\":{\"backgroundcolor\":\"#E5ECF6\",\"gridcolor\":\"white\",\"linecolor\":\"white\",\"showbackground\":true,\"ticks\":\"\",\"zerolinecolor\":\"white\",\"gridwidth\":2},\"zaxis\":{\"backgroundcolor\":\"#E5ECF6\",\"gridcolor\":\"white\",\"linecolor\":\"white\",\"showbackground\":true,\"ticks\":\"\",\"zerolinecolor\":\"white\",\"gridwidth\":2}},\"shapedefaults\":{\"line\":{\"color\":\"#2a3f5f\"}},\"annotationdefaults\":{\"arrowcolor\":\"#2a3f5f\",\"arrowhead\":0,\"arrowwidth\":1},\"geo\":{\"bgcolor\":\"white\",\"landcolor\":\"#E5ECF6\",\"subunitcolor\":\"white\",\"showland\":true,\"showlakes\":true,\"lakecolor\":\"white\"},\"title\":{\"x\":0.05},\"mapbox\":{\"style\":\"light\"}}},\"xaxis\":{\"anchor\":\"y\",\"domain\":[0.0,1.0],\"title\":{\"text\":\"Population density (1,000 persons per square mile)\"}},\"yaxis\":{\"anchor\":\"x\",\"domain\":[0.0,1.0],\"title\":{\"text\":\"Unemployment rate (%)\"}},\"legend\":{\"title\":{\"text\":\"Borough\"},\"tracegroupgap\":0,\"itemsizing\":\"constant\"},\"title\":{\"text\":\"Commuter traffic similar to CDs with more stations\"},\"annotations\":[{\"align\":\"center\",\"arrowcolor\":\"#636363\",\"arrowhead\":2,\"arrowsize\":1,\"arrowwidth\":2,\"ax\":30,\"ay\":60,\"bgcolor\":\"#ff7f0e\",\"bordercolor\":\"#c7c7c7\",\"borderpad\":4,\"borderwidth\":2,\"font\":{\"color\":\"#ffffff\",\"family\":\"Courier New, monospace\",\"size\":13},\"opacity\":0.8,\"showarrow\":true,\"text\":\"BX07 high <br> unemployment rate <br> and population density\",\"x\":96.7,\"xref\":\"x\",\"y\":11.73,\"yref\":\"y\"},{\"text\":\"BK11\",\"x\":50.6,\"y\":4.53},{\"text\":\"MN03\",\"x\":95.8,\"y\":5.24}],\"autosize\":false,\"width\":700,\"height\":600},                        {\"responsive\": true}                    ).then(function(){\n",
       "                            \n",
       "var gd = document.getElementById('49deef00-ee53-47bb-9830-67464028f7c0');\n",
       "var x = new MutationObserver(function (mutations, observer) {{\n",
       "        var display = window.getComputedStyle(gd).display;\n",
       "        if (!display || display === 'none') {{\n",
       "            console.log([gd, 'removed!']);\n",
       "            Plotly.purge(gd);\n",
       "            observer.disconnect();\n",
       "        }}\n",
       "}});\n",
       "\n",
       "// Listen for the removal of the full notebook cells\n",
       "var notebookContainer = gd.closest('#notebook-container');\n",
       "if (notebookContainer) {{\n",
       "    x.observe(notebookContainer, {childList: true});\n",
       "}}\n",
       "\n",
       "// Listen for the clearing of the current output cell\n",
       "var outputEl = gd.closest('.output');\n",
       "if (outputEl) {{\n",
       "    x.observe(outputEl, {childList: true});\n",
       "}}\n",
       "\n",
       "                        })                };                });            </script>        </div>"
      ]
     },
     "metadata": {},
     "output_type": "display_data"
    }
   ],
   "source": [
    "s1 = 'Population density (1,000 persons per square mile)'\n",
    "s2 = 'Unemployment rate'\n",
    "cd = 'net_entries'\n",
    "\n",
    "l={\n",
    "                     \"color\": \"Borough\",\n",
    "                     \"net_entries\" :'Subway (net_entries)',\n",
    "                     \"Unemployment rate\" :\"Unemployment rate (%)\"\n",
    "                 \n",
    "                 }\n",
    "\n",
    "title = \"Commuter traffic similar to CDs with more stations\"\n",
    "  \n",
    "a_text = \"BX07 high <br> unemployment rate <br> and population density\"\n",
    "\n",
    "b_size = 40.\n",
    "\n",
    "create_scatter(s1,s2,cd,title,l , a_text,96.7,11.73, b_size,\n",
    "               50.6,4.53, 'BK11',\n",
    "               95.8,5.24,'MN03')\n",
    "\n",
    "\n"
   ]
  },
  {
   "cell_type": "markdown",
   "id": "92a5d315",
   "metadata": {},
   "source": [
    "# Visualization 7: Disabled populations have limited options for transit\n"
   ]
  },
  {
   "cell_type": "code",
   "execution_count": 113,
   "id": "5a92ea03",
   "metadata": {},
   "outputs": [
    {
     "data": {
      "application/vnd.plotly.v1+json": {
       "config": {
        "plotlyServerURL": "https://plot.ly"
       },
       "data": [
        {
         "hovertemplate": "<b>%{hovertext}</b><br><br>Borough=Queens<br>Disabled population (%)=%{x}<br>Number of subway stations=%{y}<br>PU_average_fare=%{marker.size}<extra></extra>",
         "hovertext": [
          "QN04 Elmhurst-Corona (CD 4 Approximation)",
          "QN14 The Rockaways (CD 14 Approximation)",
          "QN07 Flushing-Murray Hill-Whitestone (CD 7 Approximation)",
          "QN06 Forest Hills-Rego Park (CD 6 Approximation)",
          "QN09 Kew Gardens-Richmond Hill-Woodhaven (CD 9 Approximation)",
          "QN01 Astoria-Queensbridge (CD 1 Equivalent)",
          "QN03 Jackson Heights-East Elmhurst (CD 3 Approximation)",
          "QN05 Ridgewood-Maspeth-Middle Village (CD 5 Approximation)",
          "QN02 Long Island City-Sunnyside-Woodside (CD 2 Approximation)",
          "QN10 South Ozone Park-Howard Beach (CD 10 Approximation)",
          "QN12 Jamaica-St. Albans-Hollis (CD 12 Approximation)"
         ],
         "legendgroup": "Queens",
         "marker": {
          "color": "#636efa",
          "size": [
           26.32,
           18.18,
           19.66,
           16.49,
           49.24,
           31.77,
           31.8,
           48,
           39.56,
           18.57,
           24.83,
           30.09,
           82.05,
           33.67,
           31.85,
           46.61,
           41.16,
           29.53,
           29.59,
           49.52,
           50.87,
           46.24,
           42.45,
           26.77,
           38.27,
           17.25,
           47.29,
           35.96,
           42.49,
           16.67,
           31.98,
           23.27,
           26.68,
           20.29,
           17.26,
           32.05,
           38.28,
           24.61,
           35.08,
           34.11,
           20.54,
           34.47,
           24.46,
           29.41,
           18.25,
           25.61,
           52.33
          ],
          "sizemin": 4,
          "sizemode": "area",
          "sizeref": 0.18233333333333332,
          "symbol": "circle"
         },
         "mode": "markers",
         "name": "Queens",
         "orientation": "v",
         "showlegend": true,
         "type": "scatter",
         "x": [
          5.4,
          15.9,
          4.6,
          7.9,
          7.9,
          5.7,
          8.6,
          5.7,
          4.2,
          8.9,
          6.8
         ],
         "xaxis": "x",
         "y": [
          6,
          10,
          1,
          4,
          5,
          10,
          3,
          4,
          12,
          8,
          7
         ],
         "yaxis": "y"
        },
        {
         "hovertemplate": "<b>%{hovertext}</b><br><br>Borough=Manhattan<br>Disabled population (%)=%{x}<br>Number of subway stations=%{y}<br>PU_average_fare=%{marker.size}<extra></extra>",
         "hovertext": [
          "MN04 Chelsea-Hell's Kitchen (CD 4 Approximation)",
          "MN03 Lower East Side-Chinatown (CD 3 Equivalent)",
          "MN08 Upper East Side-Roosevelt Island (CD 8 Equivalent)",
          "MN02 Greenwich Village-SoHo (CD 2 Equivalent)",
          "MN06 East Midtown-Murray Hill (CD 6 Approximation)",
          "MN11 East Harlem (CD 11 Equivalent)",
          "MN12 Washington Heights-Inwood (CD 12 Equivalent)",
          "MN10 Harlem (CD 10 Equivalent)",
          "MN07 Upper West Side (CD 7 Approximation)",
          "MN09 Morningside Heights-Hamilton Heights (CD 9 Equivalent)",
          "MN01 Financial District-Tribeca (CD 1 Equivalent)",
          "MN05 Midtown-Flatiron-Union Square (CD 5 Approximation)"
         ],
         "legendgroup": "Manhattan",
         "marker": {
          "color": "#EF553B",
          "size": [
           26.32,
           18.18,
           19.66,
           16.49,
           49.24,
           31.77,
           31.8,
           48,
           39.56,
           18.57,
           24.83,
           30.09,
           82.05,
           33.67,
           31.85,
           46.61,
           41.16,
           29.53,
           29.59,
           49.52,
           50.87,
           46.24,
           42.45,
           26.77,
           38.27,
           17.25,
           47.29,
           35.96,
           42.49,
           16.67,
           31.98,
           23.27,
           26.68,
           20.29,
           17.26,
           32.05,
           38.28,
           24.61,
           35.08,
           34.11,
           20.54,
           34.47,
           24.46,
           29.41,
           18.25,
           25.61,
           52.33
          ],
          "sizemin": 4,
          "sizemode": "area",
          "sizeref": 0.18233333333333332,
          "symbol": "circle"
         },
         "mode": "markers",
         "name": "Manhattan",
         "orientation": "v",
         "showlegend": true,
         "type": "scatter",
         "x": [
          6.4,
          7.1,
          2.4,
          2.9,
          3.4,
          12.5,
          11.7,
          10.6,
          5.9,
          7.6,
          2.9,
          6.4
         ],
         "xaxis": "x",
         "y": [
          4,
          6,
          6,
          12,
          4,
          3,
          11,
          5,
          4,
          2,
          17,
          24
         ],
         "yaxis": "y"
        },
        {
         "hovertemplate": "<b>%{hovertext}</b><br><br>Borough=Brooklyn<br>Disabled population (%)=%{x}<br>Number of subway stations=%{y}<br>PU_average_fare=%{marker.size}<extra></extra>",
         "hovertext": [
          "BK12 Borough Park-Kensington (CD 12 Approximation)",
          "BK02 Downtown Brooklyn-Fort Greene (CD 2 Approximation)",
          "BK01 Williamsburg-Greenpoint (CD 1 Equivalent)",
          "BK09 Crown Heights (South) (CD 9 Approximation)",
          "BK07 Sunset Park-Windsor Terrace (CD 7 Approximation)",
          "BK11 Bensonhurst-Bath Beach (CD 11 Approximation)",
          "BK06 Park Slope-Carroll Gardens (CD 6 Approximation)",
          "BK04 Bushwick (CD 4 Equivalent)",
          "BK05 East New York-Cypress Hills (CD 5 Approximation)",
          "BK03 Bedford-Stuyvesant (CD 3 Approximation)",
          "BK10 Bay Ridge-Dyker Heights (CD 10 Approximation)"
         ],
         "legendgroup": "Brooklyn",
         "marker": {
          "color": "#00cc96",
          "size": [
           26.32,
           18.18,
           19.66,
           16.49,
           49.24,
           31.77,
           31.8,
           48,
           39.56,
           18.57,
           24.83,
           30.09,
           82.05,
           33.67,
           31.85,
           46.61,
           41.16,
           29.53,
           29.59,
           49.52,
           50.87,
           46.24,
           42.45,
           26.77,
           38.27,
           17.25,
           47.29,
           35.96,
           42.49,
           16.67,
           31.98,
           23.27,
           26.68,
           20.29,
           17.26,
           32.05,
           38.28,
           24.61,
           35.08,
           34.11,
           20.54,
           34.47,
           24.46,
           29.41,
           18.25,
           25.61,
           52.33
          ],
          "sizemin": 4,
          "sizemode": "area",
          "sizeref": 0.18233333333333332,
          "symbol": "circle"
         },
         "mode": "markers",
         "name": "Brooklyn",
         "orientation": "v",
         "showlegend": true,
         "type": "scatter",
         "x": [
          4.6,
          6,
          4.9,
          4.5,
          4,
          5.8,
          3.1,
          5.2,
          8.8,
          7.4,
          5.6
         ],
         "xaxis": "x",
         "y": [
          8,
          14,
          10,
          11,
          4,
          4,
          6,
          9,
          14,
          6,
          2
         ],
         "yaxis": "y"
        },
        {
         "hovertemplate": "<b>%{hovertext}</b><br><br>Borough=Bronx<br>Disabled population (%)=%{x}<br>Number of subway stations=%{y}<br>PU_average_fare=%{marker.size}<extra></extra>",
         "hovertext": [
          "BX01 Melrose-Mott Haven-Port Morris (CD 1 Approximation)",
          "BX04 Highbridge-Concourse (CD 4 Approximation)",
          "BX03 Morrisania-Crotona Park East (CD 3 Approximation)",
          "BX06 Tremont-Belmont-West Farms (CD 6 Approximation)",
          "BX12 Wakefield-Williamsbridge-Eastchester (CD 12 Approximation)",
          "BX10 Co-op City-Throgs Neck (CD 10 Approximation)",
          "BX11 Pelham Parkway-Morris Park (CD 11 Approximation)",
          "BX02 Longwood-Hunts Point (CD 2 Approximation)",
          "BX09 Soundview-Parkchester (CD 9 Approximation)",
          "BX08 Riverdale-Kingsbridge-Marble Hill (CD 8 Approximation)",
          "BX05 Morris Heights-Mount Hope (CD 5 Approximation)",
          "BX07 Fordham-Bedford Park-Norwood (CD 7 Approximation)"
         ],
         "legendgroup": "Bronx",
         "marker": {
          "color": "#ab63fa",
          "size": [
           26.32,
           18.18,
           19.66,
           16.49,
           49.24,
           31.77,
           31.8,
           48,
           39.56,
           18.57,
           24.83,
           30.09,
           82.05,
           33.67,
           31.85,
           46.61,
           41.16,
           29.53,
           29.59,
           49.52,
           50.87,
           46.24,
           42.45,
           26.77,
           38.27,
           17.25,
           47.29,
           35.96,
           42.49,
           16.67,
           31.98,
           23.27,
           26.68,
           20.29,
           17.26,
           32.05,
           38.28,
           24.61,
           35.08,
           34.11,
           20.54,
           34.47,
           24.46,
           29.41,
           18.25,
           25.61,
           52.33
          ],
          "sizemin": 4,
          "sizemode": "area",
          "sizeref": 0.18233333333333332,
          "symbol": "circle"
         },
         "mode": "markers",
         "name": "Bronx",
         "orientation": "v",
         "showlegend": true,
         "type": "scatter",
         "x": [
          18.2,
          13.2,
          18.4,
          18.4,
          10.3,
          16,
          11.4,
          18.2,
          13.9,
          7.9,
          14.8,
          8.1
         ],
         "xaxis": "x",
         "y": [
          9,
          4,
          2,
          3,
          9,
          6,
          3,
          6,
          4,
          2,
          6,
          6
         ],
         "yaxis": "y"
        },
        {
         "hovertemplate": "<b>%{hovertext}</b><br><br>Borough=Staten Island<br>Disabled population (%)=%{x}<br>Number of subway stations=%{y}<br>PU_average_fare=%{marker.size}<extra></extra>",
         "hovertext": [
          "SI01 North Shore (CD 1 Equivalent)"
         ],
         "legendgroup": "Staten Island",
         "marker": {
          "color": "#FFA15A",
          "size": [
           26.32,
           18.18,
           19.66,
           16.49,
           49.24,
           31.77,
           31.8,
           48,
           39.56,
           18.57,
           24.83,
           30.09,
           82.05,
           33.67,
           31.85,
           46.61,
           41.16,
           29.53,
           29.59,
           49.52,
           50.87,
           46.24,
           42.45,
           26.77,
           38.27,
           17.25,
           47.29,
           35.96,
           42.49,
           16.67,
           31.98,
           23.27,
           26.68,
           20.29,
           17.26,
           32.05,
           38.28,
           24.61,
           35.08,
           34.11,
           20.54,
           34.47,
           24.46,
           29.41,
           18.25,
           25.61,
           52.33
          ],
          "sizemin": 4,
          "sizemode": "area",
          "sizeref": 0.18233333333333332,
          "symbol": "circle"
         },
         "mode": "markers",
         "name": "Staten Island",
         "orientation": "v",
         "showlegend": true,
         "type": "scatter",
         "x": [
          7.2
         ],
         "xaxis": "x",
         "y": [
          2
         ],
         "yaxis": "y"
        }
       ],
       "layout": {
        "annotations": [
         {
          "align": "center",
          "arrowcolor": "#636363",
          "arrowhead": 2,
          "arrowsize": 1,
          "arrowwidth": 2,
          "ax": -40,
          "ay": -130,
          "bgcolor": "#ff7f0e",
          "bordercolor": "#c7c7c7",
          "borderpad": 4,
          "borderwidth": 2,
          "font": {
           "color": "#ffffff",
           "family": "Courier New, monospace",
           "size": 13
          },
          "opacity": 0.8,
          "showarrow": true,
          "text": "high disabled population<br>,few station counts<br>and higher fares",
          "x": 18.2,
          "xref": "x",
          "y": 6,
          "yref": "y"
         },
         {
          "text": "QN14",
          "x": 15.9,
          "y": 10
         }
        ],
        "autosize": false,
        "height": 600,
        "legend": {
         "itemsizing": "constant",
         "title": {
          "text": "Borough"
         },
         "tracegroupgap": 0
        },
        "template": {
         "data": {
          "bar": [
           {
            "error_x": {
             "color": "#2a3f5f"
            },
            "error_y": {
             "color": "#2a3f5f"
            },
            "marker": {
             "line": {
              "color": "#E5ECF6",
              "width": 0.5
             },
             "pattern": {
              "fillmode": "overlay",
              "size": 10,
              "solidity": 0.2
             }
            },
            "type": "bar"
           }
          ],
          "barpolar": [
           {
            "marker": {
             "line": {
              "color": "#E5ECF6",
              "width": 0.5
             },
             "pattern": {
              "fillmode": "overlay",
              "size": 10,
              "solidity": 0.2
             }
            },
            "type": "barpolar"
           }
          ],
          "carpet": [
           {
            "aaxis": {
             "endlinecolor": "#2a3f5f",
             "gridcolor": "white",
             "linecolor": "white",
             "minorgridcolor": "white",
             "startlinecolor": "#2a3f5f"
            },
            "baxis": {
             "endlinecolor": "#2a3f5f",
             "gridcolor": "white",
             "linecolor": "white",
             "minorgridcolor": "white",
             "startlinecolor": "#2a3f5f"
            },
            "type": "carpet"
           }
          ],
          "choropleth": [
           {
            "colorbar": {
             "outlinewidth": 0,
             "ticks": ""
            },
            "type": "choropleth"
           }
          ],
          "contour": [
           {
            "colorbar": {
             "outlinewidth": 0,
             "ticks": ""
            },
            "colorscale": [
             [
              0,
              "#0d0887"
             ],
             [
              0.1111111111111111,
              "#46039f"
             ],
             [
              0.2222222222222222,
              "#7201a8"
             ],
             [
              0.3333333333333333,
              "#9c179e"
             ],
             [
              0.4444444444444444,
              "#bd3786"
             ],
             [
              0.5555555555555556,
              "#d8576b"
             ],
             [
              0.6666666666666666,
              "#ed7953"
             ],
             [
              0.7777777777777778,
              "#fb9f3a"
             ],
             [
              0.8888888888888888,
              "#fdca26"
             ],
             [
              1,
              "#f0f921"
             ]
            ],
            "type": "contour"
           }
          ],
          "contourcarpet": [
           {
            "colorbar": {
             "outlinewidth": 0,
             "ticks": ""
            },
            "type": "contourcarpet"
           }
          ],
          "heatmap": [
           {
            "colorbar": {
             "outlinewidth": 0,
             "ticks": ""
            },
            "colorscale": [
             [
              0,
              "#0d0887"
             ],
             [
              0.1111111111111111,
              "#46039f"
             ],
             [
              0.2222222222222222,
              "#7201a8"
             ],
             [
              0.3333333333333333,
              "#9c179e"
             ],
             [
              0.4444444444444444,
              "#bd3786"
             ],
             [
              0.5555555555555556,
              "#d8576b"
             ],
             [
              0.6666666666666666,
              "#ed7953"
             ],
             [
              0.7777777777777778,
              "#fb9f3a"
             ],
             [
              0.8888888888888888,
              "#fdca26"
             ],
             [
              1,
              "#f0f921"
             ]
            ],
            "type": "heatmap"
           }
          ],
          "heatmapgl": [
           {
            "colorbar": {
             "outlinewidth": 0,
             "ticks": ""
            },
            "colorscale": [
             [
              0,
              "#0d0887"
             ],
             [
              0.1111111111111111,
              "#46039f"
             ],
             [
              0.2222222222222222,
              "#7201a8"
             ],
             [
              0.3333333333333333,
              "#9c179e"
             ],
             [
              0.4444444444444444,
              "#bd3786"
             ],
             [
              0.5555555555555556,
              "#d8576b"
             ],
             [
              0.6666666666666666,
              "#ed7953"
             ],
             [
              0.7777777777777778,
              "#fb9f3a"
             ],
             [
              0.8888888888888888,
              "#fdca26"
             ],
             [
              1,
              "#f0f921"
             ]
            ],
            "type": "heatmapgl"
           }
          ],
          "histogram": [
           {
            "marker": {
             "pattern": {
              "fillmode": "overlay",
              "size": 10,
              "solidity": 0.2
             }
            },
            "type": "histogram"
           }
          ],
          "histogram2d": [
           {
            "colorbar": {
             "outlinewidth": 0,
             "ticks": ""
            },
            "colorscale": [
             [
              0,
              "#0d0887"
             ],
             [
              0.1111111111111111,
              "#46039f"
             ],
             [
              0.2222222222222222,
              "#7201a8"
             ],
             [
              0.3333333333333333,
              "#9c179e"
             ],
             [
              0.4444444444444444,
              "#bd3786"
             ],
             [
              0.5555555555555556,
              "#d8576b"
             ],
             [
              0.6666666666666666,
              "#ed7953"
             ],
             [
              0.7777777777777778,
              "#fb9f3a"
             ],
             [
              0.8888888888888888,
              "#fdca26"
             ],
             [
              1,
              "#f0f921"
             ]
            ],
            "type": "histogram2d"
           }
          ],
          "histogram2dcontour": [
           {
            "colorbar": {
             "outlinewidth": 0,
             "ticks": ""
            },
            "colorscale": [
             [
              0,
              "#0d0887"
             ],
             [
              0.1111111111111111,
              "#46039f"
             ],
             [
              0.2222222222222222,
              "#7201a8"
             ],
             [
              0.3333333333333333,
              "#9c179e"
             ],
             [
              0.4444444444444444,
              "#bd3786"
             ],
             [
              0.5555555555555556,
              "#d8576b"
             ],
             [
              0.6666666666666666,
              "#ed7953"
             ],
             [
              0.7777777777777778,
              "#fb9f3a"
             ],
             [
              0.8888888888888888,
              "#fdca26"
             ],
             [
              1,
              "#f0f921"
             ]
            ],
            "type": "histogram2dcontour"
           }
          ],
          "mesh3d": [
           {
            "colorbar": {
             "outlinewidth": 0,
             "ticks": ""
            },
            "type": "mesh3d"
           }
          ],
          "parcoords": [
           {
            "line": {
             "colorbar": {
              "outlinewidth": 0,
              "ticks": ""
             }
            },
            "type": "parcoords"
           }
          ],
          "pie": [
           {
            "automargin": true,
            "type": "pie"
           }
          ],
          "scatter": [
           {
            "fillpattern": {
             "fillmode": "overlay",
             "size": 10,
             "solidity": 0.2
            },
            "type": "scatter"
           }
          ],
          "scatter3d": [
           {
            "line": {
             "colorbar": {
              "outlinewidth": 0,
              "ticks": ""
             }
            },
            "marker": {
             "colorbar": {
              "outlinewidth": 0,
              "ticks": ""
             }
            },
            "type": "scatter3d"
           }
          ],
          "scattercarpet": [
           {
            "marker": {
             "colorbar": {
              "outlinewidth": 0,
              "ticks": ""
             }
            },
            "type": "scattercarpet"
           }
          ],
          "scattergeo": [
           {
            "marker": {
             "colorbar": {
              "outlinewidth": 0,
              "ticks": ""
             }
            },
            "type": "scattergeo"
           }
          ],
          "scattergl": [
           {
            "marker": {
             "colorbar": {
              "outlinewidth": 0,
              "ticks": ""
             }
            },
            "type": "scattergl"
           }
          ],
          "scattermapbox": [
           {
            "marker": {
             "colorbar": {
              "outlinewidth": 0,
              "ticks": ""
             }
            },
            "type": "scattermapbox"
           }
          ],
          "scatterpolar": [
           {
            "marker": {
             "colorbar": {
              "outlinewidth": 0,
              "ticks": ""
             }
            },
            "type": "scatterpolar"
           }
          ],
          "scatterpolargl": [
           {
            "marker": {
             "colorbar": {
              "outlinewidth": 0,
              "ticks": ""
             }
            },
            "type": "scatterpolargl"
           }
          ],
          "scatterternary": [
           {
            "marker": {
             "colorbar": {
              "outlinewidth": 0,
              "ticks": ""
             }
            },
            "type": "scatterternary"
           }
          ],
          "surface": [
           {
            "colorbar": {
             "outlinewidth": 0,
             "ticks": ""
            },
            "colorscale": [
             [
              0,
              "#0d0887"
             ],
             [
              0.1111111111111111,
              "#46039f"
             ],
             [
              0.2222222222222222,
              "#7201a8"
             ],
             [
              0.3333333333333333,
              "#9c179e"
             ],
             [
              0.4444444444444444,
              "#bd3786"
             ],
             [
              0.5555555555555556,
              "#d8576b"
             ],
             [
              0.6666666666666666,
              "#ed7953"
             ],
             [
              0.7777777777777778,
              "#fb9f3a"
             ],
             [
              0.8888888888888888,
              "#fdca26"
             ],
             [
              1,
              "#f0f921"
             ]
            ],
            "type": "surface"
           }
          ],
          "table": [
           {
            "cells": {
             "fill": {
              "color": "#EBF0F8"
             },
             "line": {
              "color": "white"
             }
            },
            "header": {
             "fill": {
              "color": "#C8D4E3"
             },
             "line": {
              "color": "white"
             }
            },
            "type": "table"
           }
          ]
         },
         "layout": {
          "annotationdefaults": {
           "arrowcolor": "#2a3f5f",
           "arrowhead": 0,
           "arrowwidth": 1
          },
          "autotypenumbers": "strict",
          "coloraxis": {
           "colorbar": {
            "outlinewidth": 0,
            "ticks": ""
           }
          },
          "colorscale": {
           "diverging": [
            [
             0,
             "#8e0152"
            ],
            [
             0.1,
             "#c51b7d"
            ],
            [
             0.2,
             "#de77ae"
            ],
            [
             0.3,
             "#f1b6da"
            ],
            [
             0.4,
             "#fde0ef"
            ],
            [
             0.5,
             "#f7f7f7"
            ],
            [
             0.6,
             "#e6f5d0"
            ],
            [
             0.7,
             "#b8e186"
            ],
            [
             0.8,
             "#7fbc41"
            ],
            [
             0.9,
             "#4d9221"
            ],
            [
             1,
             "#276419"
            ]
           ],
           "sequential": [
            [
             0,
             "#0d0887"
            ],
            [
             0.1111111111111111,
             "#46039f"
            ],
            [
             0.2222222222222222,
             "#7201a8"
            ],
            [
             0.3333333333333333,
             "#9c179e"
            ],
            [
             0.4444444444444444,
             "#bd3786"
            ],
            [
             0.5555555555555556,
             "#d8576b"
            ],
            [
             0.6666666666666666,
             "#ed7953"
            ],
            [
             0.7777777777777778,
             "#fb9f3a"
            ],
            [
             0.8888888888888888,
             "#fdca26"
            ],
            [
             1,
             "#f0f921"
            ]
           ],
           "sequentialminus": [
            [
             0,
             "#0d0887"
            ],
            [
             0.1111111111111111,
             "#46039f"
            ],
            [
             0.2222222222222222,
             "#7201a8"
            ],
            [
             0.3333333333333333,
             "#9c179e"
            ],
            [
             0.4444444444444444,
             "#bd3786"
            ],
            [
             0.5555555555555556,
             "#d8576b"
            ],
            [
             0.6666666666666666,
             "#ed7953"
            ],
            [
             0.7777777777777778,
             "#fb9f3a"
            ],
            [
             0.8888888888888888,
             "#fdca26"
            ],
            [
             1,
             "#f0f921"
            ]
           ]
          },
          "colorway": [
           "#636efa",
           "#EF553B",
           "#00cc96",
           "#ab63fa",
           "#FFA15A",
           "#19d3f3",
           "#FF6692",
           "#B6E880",
           "#FF97FF",
           "#FECB52"
          ],
          "font": {
           "color": "#2a3f5f"
          },
          "geo": {
           "bgcolor": "white",
           "lakecolor": "white",
           "landcolor": "#E5ECF6",
           "showlakes": true,
           "showland": true,
           "subunitcolor": "white"
          },
          "hoverlabel": {
           "align": "left"
          },
          "hovermode": "closest",
          "mapbox": {
           "style": "light"
          },
          "paper_bgcolor": "white",
          "plot_bgcolor": "#E5ECF6",
          "polar": {
           "angularaxis": {
            "gridcolor": "white",
            "linecolor": "white",
            "ticks": ""
           },
           "bgcolor": "#E5ECF6",
           "radialaxis": {
            "gridcolor": "white",
            "linecolor": "white",
            "ticks": ""
           }
          },
          "scene": {
           "xaxis": {
            "backgroundcolor": "#E5ECF6",
            "gridcolor": "white",
            "gridwidth": 2,
            "linecolor": "white",
            "showbackground": true,
            "ticks": "",
            "zerolinecolor": "white"
           },
           "yaxis": {
            "backgroundcolor": "#E5ECF6",
            "gridcolor": "white",
            "gridwidth": 2,
            "linecolor": "white",
            "showbackground": true,
            "ticks": "",
            "zerolinecolor": "white"
           },
           "zaxis": {
            "backgroundcolor": "#E5ECF6",
            "gridcolor": "white",
            "gridwidth": 2,
            "linecolor": "white",
            "showbackground": true,
            "ticks": "",
            "zerolinecolor": "white"
           }
          },
          "shapedefaults": {
           "line": {
            "color": "#2a3f5f"
           }
          },
          "ternary": {
           "aaxis": {
            "gridcolor": "white",
            "linecolor": "white",
            "ticks": ""
           },
           "baxis": {
            "gridcolor": "white",
            "linecolor": "white",
            "ticks": ""
           },
           "bgcolor": "#E5ECF6",
           "caxis": {
            "gridcolor": "white",
            "linecolor": "white",
            "ticks": ""
           }
          },
          "title": {
           "x": 0.05
          },
          "xaxis": {
           "automargin": true,
           "gridcolor": "white",
           "linecolor": "white",
           "ticks": "",
           "title": {
            "standoff": 15
           },
           "zerolinecolor": "white",
           "zerolinewidth": 2
          },
          "yaxis": {
           "automargin": true,
           "gridcolor": "white",
           "linecolor": "white",
           "ticks": "",
           "title": {
            "standoff": 15
           },
           "zerolinecolor": "white",
           "zerolinewidth": 2
          }
         }
        },
        "title": {
         "text": "Disabled populations have limited options for transit"
        },
        "width": 700,
        "xaxis": {
         "anchor": "y",
         "domain": [
          0,
          1
         ],
         "title": {
          "text": "Disabled population (%)"
         }
        },
        "yaxis": {
         "anchor": "x",
         "domain": [
          0,
          1
         ],
         "title": {
          "text": "Number of subway stations"
         }
        }
       }
      },
      "text/html": [
       "<div>                            <div id=\"9886c6a2-97f4-4b7f-8f27-fd48ca156040\" class=\"plotly-graph-div\" style=\"height:600px; width:700px;\"></div>            <script type=\"text/javascript\">                require([\"plotly\"], function(Plotly) {                    window.PLOTLYENV=window.PLOTLYENV || {};                                    if (document.getElementById(\"9886c6a2-97f4-4b7f-8f27-fd48ca156040\")) {                    Plotly.newPlot(                        \"9886c6a2-97f4-4b7f-8f27-fd48ca156040\",                        [{\"hovertemplate\":\"<b>%{hovertext}</b><br><br>Borough=Queens<br>Disabled population (%)=%{x}<br>Number of subway stations=%{y}<br>PU_average_fare=%{marker.size}<extra></extra>\",\"hovertext\":[\"QN04 Elmhurst-Corona (CD 4 Approximation)\",\"QN14 The Rockaways (CD 14 Approximation)\",\"QN07 Flushing-Murray Hill-Whitestone (CD 7 Approximation)\",\"QN06 Forest Hills-Rego Park (CD 6 Approximation)\",\"QN09 Kew Gardens-Richmond Hill-Woodhaven (CD 9 Approximation)\",\"QN01 Astoria-Queensbridge (CD 1 Equivalent)\",\"QN03 Jackson Heights-East Elmhurst (CD 3 Approximation)\",\"QN05 Ridgewood-Maspeth-Middle Village (CD 5 Approximation)\",\"QN02 Long Island City-Sunnyside-Woodside (CD 2 Approximation)\",\"QN10 South Ozone Park-Howard Beach (CD 10 Approximation)\",\"QN12 Jamaica-St. Albans-Hollis (CD 12 Approximation)\"],\"legendgroup\":\"Queens\",\"marker\":{\"color\":\"#636efa\",\"size\":[26.32,18.18,19.66,16.49,49.24,31.77,31.8,48.0,39.56,18.57,24.83,30.09,82.05,33.67,31.85,46.61,41.16,29.53,29.59,49.52,50.87,46.24,42.45,26.77,38.27,17.25,47.29,35.96,42.49,16.67,31.98,23.27,26.68,20.29,17.26,32.05,38.28,24.61,35.08,34.11,20.54,34.47,24.46,29.41,18.25,25.61,52.33],\"sizemode\":\"area\",\"sizeref\":0.18233333333333332,\"symbol\":\"circle\",\"sizemin\":4},\"mode\":\"markers\",\"name\":\"Queens\",\"orientation\":\"v\",\"showlegend\":true,\"x\":[5.4,15.9,4.6,7.9,7.9,5.7,8.6,5.7,4.2,8.9,6.8],\"xaxis\":\"x\",\"y\":[6,10,1,4,5,10,3,4,12,8,7],\"yaxis\":\"y\",\"type\":\"scatter\"},{\"hovertemplate\":\"<b>%{hovertext}</b><br><br>Borough=Manhattan<br>Disabled population (%)=%{x}<br>Number of subway stations=%{y}<br>PU_average_fare=%{marker.size}<extra></extra>\",\"hovertext\":[\"MN04 Chelsea-Hell's Kitchen (CD 4 Approximation)\",\"MN03 Lower East Side-Chinatown (CD 3 Equivalent)\",\"MN08 Upper East Side-Roosevelt Island (CD 8 Equivalent)\",\"MN02 Greenwich Village-SoHo (CD 2 Equivalent)\",\"MN06 East Midtown-Murray Hill (CD 6 Approximation)\",\"MN11 East Harlem (CD 11 Equivalent)\",\"MN12 Washington Heights-Inwood (CD 12 Equivalent)\",\"MN10 Harlem (CD 10 Equivalent)\",\"MN07 Upper West Side (CD 7 Approximation)\",\"MN09 Morningside Heights-Hamilton Heights (CD 9 Equivalent)\",\"MN01 Financial District-Tribeca (CD 1 Equivalent)\",\"MN05 Midtown-Flatiron-Union Square (CD 5 Approximation)\"],\"legendgroup\":\"Manhattan\",\"marker\":{\"color\":\"#EF553B\",\"size\":[26.32,18.18,19.66,16.49,49.24,31.77,31.8,48.0,39.56,18.57,24.83,30.09,82.05,33.67,31.85,46.61,41.16,29.53,29.59,49.52,50.87,46.24,42.45,26.77,38.27,17.25,47.29,35.96,42.49,16.67,31.98,23.27,26.68,20.29,17.26,32.05,38.28,24.61,35.08,34.11,20.54,34.47,24.46,29.41,18.25,25.61,52.33],\"sizemode\":\"area\",\"sizeref\":0.18233333333333332,\"symbol\":\"circle\",\"sizemin\":4},\"mode\":\"markers\",\"name\":\"Manhattan\",\"orientation\":\"v\",\"showlegend\":true,\"x\":[6.4,7.1,2.4,2.9,3.4,12.5,11.7,10.6,5.9,7.6,2.9,6.4],\"xaxis\":\"x\",\"y\":[4,6,6,12,4,3,11,5,4,2,17,24],\"yaxis\":\"y\",\"type\":\"scatter\"},{\"hovertemplate\":\"<b>%{hovertext}</b><br><br>Borough=Brooklyn<br>Disabled population (%)=%{x}<br>Number of subway stations=%{y}<br>PU_average_fare=%{marker.size}<extra></extra>\",\"hovertext\":[\"BK12 Borough Park-Kensington (CD 12 Approximation)\",\"BK02 Downtown Brooklyn-Fort Greene (CD 2 Approximation)\",\"BK01 Williamsburg-Greenpoint (CD 1 Equivalent)\",\"BK09 Crown Heights (South) (CD 9 Approximation)\",\"BK07 Sunset Park-Windsor Terrace (CD 7 Approximation)\",\"BK11 Bensonhurst-Bath Beach (CD 11 Approximation)\",\"BK06 Park Slope-Carroll Gardens (CD 6 Approximation)\",\"BK04 Bushwick (CD 4 Equivalent)\",\"BK05 East New York-Cypress Hills (CD 5 Approximation)\",\"BK03 Bedford-Stuyvesant (CD 3 Approximation)\",\"BK10 Bay Ridge-Dyker Heights (CD 10 Approximation)\"],\"legendgroup\":\"Brooklyn\",\"marker\":{\"color\":\"#00cc96\",\"size\":[26.32,18.18,19.66,16.49,49.24,31.77,31.8,48.0,39.56,18.57,24.83,30.09,82.05,33.67,31.85,46.61,41.16,29.53,29.59,49.52,50.87,46.24,42.45,26.77,38.27,17.25,47.29,35.96,42.49,16.67,31.98,23.27,26.68,20.29,17.26,32.05,38.28,24.61,35.08,34.11,20.54,34.47,24.46,29.41,18.25,25.61,52.33],\"sizemode\":\"area\",\"sizeref\":0.18233333333333332,\"symbol\":\"circle\",\"sizemin\":4},\"mode\":\"markers\",\"name\":\"Brooklyn\",\"orientation\":\"v\",\"showlegend\":true,\"x\":[4.6,6.0,4.9,4.5,4.0,5.8,3.1,5.2,8.8,7.4,5.6],\"xaxis\":\"x\",\"y\":[8,14,10,11,4,4,6,9,14,6,2],\"yaxis\":\"y\",\"type\":\"scatter\"},{\"hovertemplate\":\"<b>%{hovertext}</b><br><br>Borough=Bronx<br>Disabled population (%)=%{x}<br>Number of subway stations=%{y}<br>PU_average_fare=%{marker.size}<extra></extra>\",\"hovertext\":[\"BX01 Melrose-Mott Haven-Port Morris (CD 1 Approximation)\",\"BX04 Highbridge-Concourse (CD 4 Approximation)\",\"BX03 Morrisania-Crotona Park East (CD 3 Approximation)\",\"BX06 Tremont-Belmont-West Farms (CD 6 Approximation)\",\"BX12 Wakefield-Williamsbridge-Eastchester (CD 12 Approximation)\",\"BX10 Co-op City-Throgs Neck (CD 10 Approximation)\",\"BX11 Pelham Parkway-Morris Park (CD 11 Approximation)\",\"BX02 Longwood-Hunts Point (CD 2 Approximation)\",\"BX09 Soundview-Parkchester (CD 9 Approximation)\",\"BX08 Riverdale-Kingsbridge-Marble Hill (CD 8 Approximation)\",\"BX05 Morris Heights-Mount Hope (CD 5 Approximation)\",\"BX07 Fordham-Bedford Park-Norwood (CD 7 Approximation)\"],\"legendgroup\":\"Bronx\",\"marker\":{\"color\":\"#ab63fa\",\"size\":[26.32,18.18,19.66,16.49,49.24,31.77,31.8,48.0,39.56,18.57,24.83,30.09,82.05,33.67,31.85,46.61,41.16,29.53,29.59,49.52,50.87,46.24,42.45,26.77,38.27,17.25,47.29,35.96,42.49,16.67,31.98,23.27,26.68,20.29,17.26,32.05,38.28,24.61,35.08,34.11,20.54,34.47,24.46,29.41,18.25,25.61,52.33],\"sizemode\":\"area\",\"sizeref\":0.18233333333333332,\"symbol\":\"circle\",\"sizemin\":4},\"mode\":\"markers\",\"name\":\"Bronx\",\"orientation\":\"v\",\"showlegend\":true,\"x\":[18.2,13.2,18.4,18.4,10.3,16.0,11.4,18.2,13.9,7.9,14.8,8.1],\"xaxis\":\"x\",\"y\":[9,4,2,3,9,6,3,6,4,2,6,6],\"yaxis\":\"y\",\"type\":\"scatter\"},{\"hovertemplate\":\"<b>%{hovertext}</b><br><br>Borough=Staten Island<br>Disabled population (%)=%{x}<br>Number of subway stations=%{y}<br>PU_average_fare=%{marker.size}<extra></extra>\",\"hovertext\":[\"SI01 North Shore (CD 1 Equivalent)\"],\"legendgroup\":\"Staten Island\",\"marker\":{\"color\":\"#FFA15A\",\"size\":[26.32,18.18,19.66,16.49,49.24,31.77,31.8,48.0,39.56,18.57,24.83,30.09,82.05,33.67,31.85,46.61,41.16,29.53,29.59,49.52,50.87,46.24,42.45,26.77,38.27,17.25,47.29,35.96,42.49,16.67,31.98,23.27,26.68,20.29,17.26,32.05,38.28,24.61,35.08,34.11,20.54,34.47,24.46,29.41,18.25,25.61,52.33],\"sizemode\":\"area\",\"sizeref\":0.18233333333333332,\"symbol\":\"circle\",\"sizemin\":4},\"mode\":\"markers\",\"name\":\"Staten Island\",\"orientation\":\"v\",\"showlegend\":true,\"x\":[7.2],\"xaxis\":\"x\",\"y\":[2],\"yaxis\":\"y\",\"type\":\"scatter\"}],                        {\"template\":{\"data\":{\"histogram2dcontour\":[{\"type\":\"histogram2dcontour\",\"colorbar\":{\"outlinewidth\":0,\"ticks\":\"\"},\"colorscale\":[[0.0,\"#0d0887\"],[0.1111111111111111,\"#46039f\"],[0.2222222222222222,\"#7201a8\"],[0.3333333333333333,\"#9c179e\"],[0.4444444444444444,\"#bd3786\"],[0.5555555555555556,\"#d8576b\"],[0.6666666666666666,\"#ed7953\"],[0.7777777777777778,\"#fb9f3a\"],[0.8888888888888888,\"#fdca26\"],[1.0,\"#f0f921\"]]}],\"choropleth\":[{\"type\":\"choropleth\",\"colorbar\":{\"outlinewidth\":0,\"ticks\":\"\"}}],\"histogram2d\":[{\"type\":\"histogram2d\",\"colorbar\":{\"outlinewidth\":0,\"ticks\":\"\"},\"colorscale\":[[0.0,\"#0d0887\"],[0.1111111111111111,\"#46039f\"],[0.2222222222222222,\"#7201a8\"],[0.3333333333333333,\"#9c179e\"],[0.4444444444444444,\"#bd3786\"],[0.5555555555555556,\"#d8576b\"],[0.6666666666666666,\"#ed7953\"],[0.7777777777777778,\"#fb9f3a\"],[0.8888888888888888,\"#fdca26\"],[1.0,\"#f0f921\"]]}],\"heatmap\":[{\"type\":\"heatmap\",\"colorbar\":{\"outlinewidth\":0,\"ticks\":\"\"},\"colorscale\":[[0.0,\"#0d0887\"],[0.1111111111111111,\"#46039f\"],[0.2222222222222222,\"#7201a8\"],[0.3333333333333333,\"#9c179e\"],[0.4444444444444444,\"#bd3786\"],[0.5555555555555556,\"#d8576b\"],[0.6666666666666666,\"#ed7953\"],[0.7777777777777778,\"#fb9f3a\"],[0.8888888888888888,\"#fdca26\"],[1.0,\"#f0f921\"]]}],\"heatmapgl\":[{\"type\":\"heatmapgl\",\"colorbar\":{\"outlinewidth\":0,\"ticks\":\"\"},\"colorscale\":[[0.0,\"#0d0887\"],[0.1111111111111111,\"#46039f\"],[0.2222222222222222,\"#7201a8\"],[0.3333333333333333,\"#9c179e\"],[0.4444444444444444,\"#bd3786\"],[0.5555555555555556,\"#d8576b\"],[0.6666666666666666,\"#ed7953\"],[0.7777777777777778,\"#fb9f3a\"],[0.8888888888888888,\"#fdca26\"],[1.0,\"#f0f921\"]]}],\"contourcarpet\":[{\"type\":\"contourcarpet\",\"colorbar\":{\"outlinewidth\":0,\"ticks\":\"\"}}],\"contour\":[{\"type\":\"contour\",\"colorbar\":{\"outlinewidth\":0,\"ticks\":\"\"},\"colorscale\":[[0.0,\"#0d0887\"],[0.1111111111111111,\"#46039f\"],[0.2222222222222222,\"#7201a8\"],[0.3333333333333333,\"#9c179e\"],[0.4444444444444444,\"#bd3786\"],[0.5555555555555556,\"#d8576b\"],[0.6666666666666666,\"#ed7953\"],[0.7777777777777778,\"#fb9f3a\"],[0.8888888888888888,\"#fdca26\"],[1.0,\"#f0f921\"]]}],\"surface\":[{\"type\":\"surface\",\"colorbar\":{\"outlinewidth\":0,\"ticks\":\"\"},\"colorscale\":[[0.0,\"#0d0887\"],[0.1111111111111111,\"#46039f\"],[0.2222222222222222,\"#7201a8\"],[0.3333333333333333,\"#9c179e\"],[0.4444444444444444,\"#bd3786\"],[0.5555555555555556,\"#d8576b\"],[0.6666666666666666,\"#ed7953\"],[0.7777777777777778,\"#fb9f3a\"],[0.8888888888888888,\"#fdca26\"],[1.0,\"#f0f921\"]]}],\"mesh3d\":[{\"type\":\"mesh3d\",\"colorbar\":{\"outlinewidth\":0,\"ticks\":\"\"}}],\"scatter\":[{\"fillpattern\":{\"fillmode\":\"overlay\",\"size\":10,\"solidity\":0.2},\"type\":\"scatter\"}],\"parcoords\":[{\"type\":\"parcoords\",\"line\":{\"colorbar\":{\"outlinewidth\":0,\"ticks\":\"\"}}}],\"scatterpolargl\":[{\"type\":\"scatterpolargl\",\"marker\":{\"colorbar\":{\"outlinewidth\":0,\"ticks\":\"\"}}}],\"bar\":[{\"error_x\":{\"color\":\"#2a3f5f\"},\"error_y\":{\"color\":\"#2a3f5f\"},\"marker\":{\"line\":{\"color\":\"#E5ECF6\",\"width\":0.5},\"pattern\":{\"fillmode\":\"overlay\",\"size\":10,\"solidity\":0.2}},\"type\":\"bar\"}],\"scattergeo\":[{\"type\":\"scattergeo\",\"marker\":{\"colorbar\":{\"outlinewidth\":0,\"ticks\":\"\"}}}],\"scatterpolar\":[{\"type\":\"scatterpolar\",\"marker\":{\"colorbar\":{\"outlinewidth\":0,\"ticks\":\"\"}}}],\"histogram\":[{\"marker\":{\"pattern\":{\"fillmode\":\"overlay\",\"size\":10,\"solidity\":0.2}},\"type\":\"histogram\"}],\"scattergl\":[{\"type\":\"scattergl\",\"marker\":{\"colorbar\":{\"outlinewidth\":0,\"ticks\":\"\"}}}],\"scatter3d\":[{\"type\":\"scatter3d\",\"line\":{\"colorbar\":{\"outlinewidth\":0,\"ticks\":\"\"}},\"marker\":{\"colorbar\":{\"outlinewidth\":0,\"ticks\":\"\"}}}],\"scattermapbox\":[{\"type\":\"scattermapbox\",\"marker\":{\"colorbar\":{\"outlinewidth\":0,\"ticks\":\"\"}}}],\"scatterternary\":[{\"type\":\"scatterternary\",\"marker\":{\"colorbar\":{\"outlinewidth\":0,\"ticks\":\"\"}}}],\"scattercarpet\":[{\"type\":\"scattercarpet\",\"marker\":{\"colorbar\":{\"outlinewidth\":0,\"ticks\":\"\"}}}],\"carpet\":[{\"aaxis\":{\"endlinecolor\":\"#2a3f5f\",\"gridcolor\":\"white\",\"linecolor\":\"white\",\"minorgridcolor\":\"white\",\"startlinecolor\":\"#2a3f5f\"},\"baxis\":{\"endlinecolor\":\"#2a3f5f\",\"gridcolor\":\"white\",\"linecolor\":\"white\",\"minorgridcolor\":\"white\",\"startlinecolor\":\"#2a3f5f\"},\"type\":\"carpet\"}],\"table\":[{\"cells\":{\"fill\":{\"color\":\"#EBF0F8\"},\"line\":{\"color\":\"white\"}},\"header\":{\"fill\":{\"color\":\"#C8D4E3\"},\"line\":{\"color\":\"white\"}},\"type\":\"table\"}],\"barpolar\":[{\"marker\":{\"line\":{\"color\":\"#E5ECF6\",\"width\":0.5},\"pattern\":{\"fillmode\":\"overlay\",\"size\":10,\"solidity\":0.2}},\"type\":\"barpolar\"}],\"pie\":[{\"automargin\":true,\"type\":\"pie\"}]},\"layout\":{\"autotypenumbers\":\"strict\",\"colorway\":[\"#636efa\",\"#EF553B\",\"#00cc96\",\"#ab63fa\",\"#FFA15A\",\"#19d3f3\",\"#FF6692\",\"#B6E880\",\"#FF97FF\",\"#FECB52\"],\"font\":{\"color\":\"#2a3f5f\"},\"hovermode\":\"closest\",\"hoverlabel\":{\"align\":\"left\"},\"paper_bgcolor\":\"white\",\"plot_bgcolor\":\"#E5ECF6\",\"polar\":{\"bgcolor\":\"#E5ECF6\",\"angularaxis\":{\"gridcolor\":\"white\",\"linecolor\":\"white\",\"ticks\":\"\"},\"radialaxis\":{\"gridcolor\":\"white\",\"linecolor\":\"white\",\"ticks\":\"\"}},\"ternary\":{\"bgcolor\":\"#E5ECF6\",\"aaxis\":{\"gridcolor\":\"white\",\"linecolor\":\"white\",\"ticks\":\"\"},\"baxis\":{\"gridcolor\":\"white\",\"linecolor\":\"white\",\"ticks\":\"\"},\"caxis\":{\"gridcolor\":\"white\",\"linecolor\":\"white\",\"ticks\":\"\"}},\"coloraxis\":{\"colorbar\":{\"outlinewidth\":0,\"ticks\":\"\"}},\"colorscale\":{\"sequential\":[[0.0,\"#0d0887\"],[0.1111111111111111,\"#46039f\"],[0.2222222222222222,\"#7201a8\"],[0.3333333333333333,\"#9c179e\"],[0.4444444444444444,\"#bd3786\"],[0.5555555555555556,\"#d8576b\"],[0.6666666666666666,\"#ed7953\"],[0.7777777777777778,\"#fb9f3a\"],[0.8888888888888888,\"#fdca26\"],[1.0,\"#f0f921\"]],\"sequentialminus\":[[0.0,\"#0d0887\"],[0.1111111111111111,\"#46039f\"],[0.2222222222222222,\"#7201a8\"],[0.3333333333333333,\"#9c179e\"],[0.4444444444444444,\"#bd3786\"],[0.5555555555555556,\"#d8576b\"],[0.6666666666666666,\"#ed7953\"],[0.7777777777777778,\"#fb9f3a\"],[0.8888888888888888,\"#fdca26\"],[1.0,\"#f0f921\"]],\"diverging\":[[0,\"#8e0152\"],[0.1,\"#c51b7d\"],[0.2,\"#de77ae\"],[0.3,\"#f1b6da\"],[0.4,\"#fde0ef\"],[0.5,\"#f7f7f7\"],[0.6,\"#e6f5d0\"],[0.7,\"#b8e186\"],[0.8,\"#7fbc41\"],[0.9,\"#4d9221\"],[1,\"#276419\"]]},\"xaxis\":{\"gridcolor\":\"white\",\"linecolor\":\"white\",\"ticks\":\"\",\"title\":{\"standoff\":15},\"zerolinecolor\":\"white\",\"automargin\":true,\"zerolinewidth\":2},\"yaxis\":{\"gridcolor\":\"white\",\"linecolor\":\"white\",\"ticks\":\"\",\"title\":{\"standoff\":15},\"zerolinecolor\":\"white\",\"automargin\":true,\"zerolinewidth\":2},\"scene\":{\"xaxis\":{\"backgroundcolor\":\"#E5ECF6\",\"gridcolor\":\"white\",\"linecolor\":\"white\",\"showbackground\":true,\"ticks\":\"\",\"zerolinecolor\":\"white\",\"gridwidth\":2},\"yaxis\":{\"backgroundcolor\":\"#E5ECF6\",\"gridcolor\":\"white\",\"linecolor\":\"white\",\"showbackground\":true,\"ticks\":\"\",\"zerolinecolor\":\"white\",\"gridwidth\":2},\"zaxis\":{\"backgroundcolor\":\"#E5ECF6\",\"gridcolor\":\"white\",\"linecolor\":\"white\",\"showbackground\":true,\"ticks\":\"\",\"zerolinecolor\":\"white\",\"gridwidth\":2}},\"shapedefaults\":{\"line\":{\"color\":\"#2a3f5f\"}},\"annotationdefaults\":{\"arrowcolor\":\"#2a3f5f\",\"arrowhead\":0,\"arrowwidth\":1},\"geo\":{\"bgcolor\":\"white\",\"landcolor\":\"#E5ECF6\",\"subunitcolor\":\"white\",\"showland\":true,\"showlakes\":true,\"lakecolor\":\"white\"},\"title\":{\"x\":0.05},\"mapbox\":{\"style\":\"light\"}}},\"xaxis\":{\"anchor\":\"y\",\"domain\":[0.0,1.0],\"title\":{\"text\":\"Disabled population (%)\"}},\"yaxis\":{\"anchor\":\"x\",\"domain\":[0.0,1.0],\"title\":{\"text\":\"Number of subway stations\"}},\"legend\":{\"title\":{\"text\":\"Borough\"},\"tracegroupgap\":0,\"itemsizing\":\"constant\"},\"title\":{\"text\":\"Disabled populations have limited options for transit\"},\"annotations\":[{\"align\":\"center\",\"arrowcolor\":\"#636363\",\"arrowhead\":2,\"arrowsize\":1,\"arrowwidth\":2,\"ax\":-40,\"ay\":-130,\"bgcolor\":\"#ff7f0e\",\"bordercolor\":\"#c7c7c7\",\"borderpad\":4,\"borderwidth\":2,\"font\":{\"color\":\"#ffffff\",\"family\":\"Courier New, monospace\",\"size\":13},\"opacity\":0.8,\"showarrow\":true,\"text\":\"high disabled population<br>,few station counts<br>and higher fares\",\"x\":18.2,\"xref\":\"x\",\"y\":6,\"yref\":\"y\"},{\"text\":\"QN14\",\"x\":15.9,\"y\":10}],\"autosize\":false,\"width\":700,\"height\":600},                        {\"responsive\": true}                    ).then(function(){\n",
       "                            \n",
       "var gd = document.getElementById('9886c6a2-97f4-4b7f-8f27-fd48ca156040');\n",
       "var x = new MutationObserver(function (mutations, observer) {{\n",
       "        var display = window.getComputedStyle(gd).display;\n",
       "        if (!display || display === 'none') {{\n",
       "            console.log([gd, 'removed!']);\n",
       "            Plotly.purge(gd);\n",
       "            observer.disconnect();\n",
       "        }}\n",
       "}});\n",
       "\n",
       "// Listen for the removal of the full notebook cells\n",
       "var notebookContainer = gd.closest('#notebook-container');\n",
       "if (notebookContainer) {{\n",
       "    x.observe(notebookContainer, {childList: true});\n",
       "}}\n",
       "\n",
       "// Listen for the clearing of the current output cell\n",
       "var outputEl = gd.closest('.output');\n",
       "if (outputEl) {{\n",
       "    x.observe(outputEl, {childList: true});\n",
       "}}\n",
       "\n",
       "                        })                };                });            </script>        </div>"
      ]
     },
     "metadata": {},
     "output_type": "display_data"
    }
   ],
   "source": [
    "\n",
    "s1 = 'Disabled population'\n",
    "s2 = 'station_counts'\n",
    "cd = 'PU_average_fare'\n",
    "\n",
    "a_text = \"high disabled population<br>,few station counts<br>and higher fares\"\n",
    "\n",
    "l={\n",
    "                     \"color\": \"Borough\",\n",
    "                     \"station_counts\" :'Number of subway stations',\n",
    "                     \"Disabled population\" :\"Disabled population (%)\"\n",
    "                 \n",
    "                 }\n",
    "b_size = 30.\n",
    "title=\"Disabled populations have limited options for transit\"\n",
    "\n",
    "create_scatter(s1,s2,cd,title,\n",
    "               l , a_text,\n",
    "               18.2,6,b_size,\n",
    "               15.9,10, 'QN14',\n",
    "               0,0,'',\n",
    "               2)"
   ]
  },
  {
   "cell_type": "markdown",
   "id": "a5d9a803",
   "metadata": {},
   "source": [
    "# Visualization 8: Longer commute times in districts with high disabled population\n"
   ]
  },
  {
   "cell_type": "code",
   "execution_count": 114,
   "id": "210a3180",
   "metadata": {},
   "outputs": [
    {
     "data": {
      "application/vnd.plotly.v1+json": {
       "config": {
        "plotlyServerURL": "https://plot.ly"
       },
       "data": [
        {
         "hovertemplate": "<b>%{hovertext}</b><br><br>Borough=Queens<br>Disabled population (%)=%{x}<br>Poverty rate=%{y}<br>PU_average_duration (min)=%{marker.size}<extra></extra>",
         "hovertext": [
          "QN04 Elmhurst-Corona (CD 4 Approximation)",
          "QN14 The Rockaways (CD 14 Approximation)",
          "QN07 Flushing-Murray Hill-Whitestone (CD 7 Approximation)",
          "QN06 Forest Hills-Rego Park (CD 6 Approximation)",
          "QN09 Kew Gardens-Richmond Hill-Woodhaven (CD 9 Approximation)",
          "QN01 Astoria-Queensbridge (CD 1 Equivalent)",
          "QN03 Jackson Heights-East Elmhurst (CD 3 Approximation)",
          "QN05 Ridgewood-Maspeth-Middle Village (CD 5 Approximation)",
          "QN02 Long Island City-Sunnyside-Woodside (CD 2 Approximation)",
          "QN10 South Ozone Park-Howard Beach (CD 10 Approximation)",
          "QN12 Jamaica-St. Albans-Hollis (CD 12 Approximation)"
         ],
         "legendgroup": "Queens",
         "marker": {
          "color": "#636efa",
          "size": [
           26.09,
           15.43,
           17.18,
           12.91,
           42.1,
           28.18,
           27.54,
           40.02,
           38.66,
           16.52,
           24.74,
           28.37,
           46.36,
           28.53,
           31.69,
           35.54,
           37.12,
           24.89,
           26.5,
           37.22,
           39.74,
           33.78,
           33.49,
           24.01,
           31.2,
           13.75,
           33.49,
           33.45,
           37.44,
           14.17,
           25.28,
           22.12,
           24.55,
           17.84,
           13.99,
           28.81,
           32.56,
           21.17,
           32.64,
           31.9,
           17.9,
           34.29,
           21.01,
           22.74,
           15.55,
           22.6,
           38.3
          ],
          "sizemin": 4,
          "sizemode": "area",
          "sizeref": 0.10302222222222222,
          "symbol": "circle"
         },
         "mode": "markers",
         "name": "Queens",
         "orientation": "v",
         "showlegend": true,
         "type": "scatter",
         "x": [
          5.4,
          15.9,
          4.6,
          7.9,
          7.9,
          5.7,
          8.6,
          5.7,
          4.2,
          8.9,
          6.8
         ],
         "xaxis": "x",
         "y": [
          10.2,
          18.1,
          14.8,
          11.1,
          10.1,
          11.6,
          15,
          8.4,
          9.2,
          7.5,
          10.6
         ],
         "yaxis": "y"
        },
        {
         "hovertemplate": "<b>%{hovertext}</b><br><br>Borough=Manhattan<br>Disabled population (%)=%{x}<br>Poverty rate=%{y}<br>PU_average_duration (min)=%{marker.size}<extra></extra>",
         "hovertext": [
          "MN04 Chelsea-Hell's Kitchen (CD 4 Approximation)",
          "MN03 Lower East Side-Chinatown (CD 3 Equivalent)",
          "MN08 Upper East Side-Roosevelt Island (CD 8 Equivalent)",
          "MN02 Greenwich Village-SoHo (CD 2 Equivalent)",
          "MN06 East Midtown-Murray Hill (CD 6 Approximation)",
          "MN11 East Harlem (CD 11 Equivalent)",
          "MN12 Washington Heights-Inwood (CD 12 Equivalent)",
          "MN10 Harlem (CD 10 Equivalent)",
          "MN07 Upper West Side (CD 7 Approximation)",
          "MN09 Morningside Heights-Hamilton Heights (CD 9 Equivalent)",
          "MN01 Financial District-Tribeca (CD 1 Equivalent)",
          "MN05 Midtown-Flatiron-Union Square (CD 5 Approximation)"
         ],
         "legendgroup": "Manhattan",
         "marker": {
          "color": "#EF553B",
          "size": [
           26.09,
           15.43,
           17.18,
           12.91,
           42.1,
           28.18,
           27.54,
           40.02,
           38.66,
           16.52,
           24.74,
           28.37,
           46.36,
           28.53,
           31.69,
           35.54,
           37.12,
           24.89,
           26.5,
           37.22,
           39.74,
           33.78,
           33.49,
           24.01,
           31.2,
           13.75,
           33.49,
           33.45,
           37.44,
           14.17,
           25.28,
           22.12,
           24.55,
           17.84,
           13.99,
           28.81,
           32.56,
           21.17,
           32.64,
           31.9,
           17.9,
           34.29,
           21.01,
           22.74,
           15.55,
           22.6,
           38.3
          ],
          "sizemin": 4,
          "sizemode": "area",
          "sizeref": 0.10302222222222222,
          "symbol": "circle"
         },
         "mode": "markers",
         "name": "Manhattan",
         "orientation": "v",
         "showlegend": true,
         "type": "scatter",
         "x": [
          6.4,
          7.1,
          2.4,
          2.9,
          3.4,
          12.5,
          11.7,
          10.6,
          5.9,
          7.6,
          2.9,
          6.4
         ],
         "xaxis": "x",
         "y": [
          11.1,
          24,
          5.8,
          6.1,
          6.5,
          34,
          15.5,
          20.1,
          8.7,
          19.6,
          6.1,
          11.1
         ],
         "yaxis": "y"
        },
        {
         "hovertemplate": "<b>%{hovertext}</b><br><br>Borough=Brooklyn<br>Disabled population (%)=%{x}<br>Poverty rate=%{y}<br>PU_average_duration (min)=%{marker.size}<extra></extra>",
         "hovertext": [
          "BK12 Borough Park-Kensington (CD 12 Approximation)",
          "BK02 Downtown Brooklyn-Fort Greene (CD 2 Approximation)",
          "BK01 Williamsburg-Greenpoint (CD 1 Equivalent)",
          "BK09 Crown Heights (South) (CD 9 Approximation)",
          "BK07 Sunset Park-Windsor Terrace (CD 7 Approximation)",
          "BK11 Bensonhurst-Bath Beach (CD 11 Approximation)",
          "BK06 Park Slope-Carroll Gardens (CD 6 Approximation)",
          "BK04 Bushwick (CD 4 Equivalent)",
          "BK05 East New York-Cypress Hills (CD 5 Approximation)",
          "BK03 Bedford-Stuyvesant (CD 3 Approximation)",
          "BK10 Bay Ridge-Dyker Heights (CD 10 Approximation)"
         ],
         "legendgroup": "Brooklyn",
         "marker": {
          "color": "#00cc96",
          "size": [
           26.09,
           15.43,
           17.18,
           12.91,
           42.1,
           28.18,
           27.54,
           40.02,
           38.66,
           16.52,
           24.74,
           28.37,
           46.36,
           28.53,
           31.69,
           35.54,
           37.12,
           24.89,
           26.5,
           37.22,
           39.74,
           33.78,
           33.49,
           24.01,
           31.2,
           13.75,
           33.49,
           33.45,
           37.44,
           14.17,
           25.28,
           22.12,
           24.55,
           17.84,
           13.99,
           28.81,
           32.56,
           21.17,
           32.64,
           31.9,
           17.9,
           34.29,
           21.01,
           22.74,
           15.55,
           22.6,
           38.3
          ],
          "sizemin": 4,
          "sizemode": "area",
          "sizeref": 0.10302222222222222,
          "symbol": "circle"
         },
         "mode": "markers",
         "name": "Brooklyn",
         "orientation": "v",
         "showlegend": true,
         "type": "scatter",
         "x": [
          4.6,
          6,
          4.9,
          4.5,
          4,
          5.8,
          3.1,
          5.2,
          8.8,
          7.4,
          5.6
         ],
         "xaxis": "x",
         "y": [
          26.8,
          13.8,
          20.1,
          17.9,
          18.1,
          14.6,
          7.6,
          20.7,
          23.3,
          23,
          14.2
         ],
         "yaxis": "y"
        },
        {
         "hovertemplate": "<b>%{hovertext}</b><br><br>Borough=Bronx<br>Disabled population (%)=%{x}<br>Poverty rate=%{y}<br>PU_average_duration (min)=%{marker.size}<extra></extra>",
         "hovertext": [
          "BX01 Melrose-Mott Haven-Port Morris (CD 1 Approximation)",
          "BX04 Highbridge-Concourse (CD 4 Approximation)",
          "BX03 Morrisania-Crotona Park East (CD 3 Approximation)",
          "BX06 Tremont-Belmont-West Farms (CD 6 Approximation)",
          "BX12 Wakefield-Williamsbridge-Eastchester (CD 12 Approximation)",
          "BX10 Co-op City-Throgs Neck (CD 10 Approximation)",
          "BX11 Pelham Parkway-Morris Park (CD 11 Approximation)",
          "BX02 Longwood-Hunts Point (CD 2 Approximation)",
          "BX09 Soundview-Parkchester (CD 9 Approximation)",
          "BX08 Riverdale-Kingsbridge-Marble Hill (CD 8 Approximation)",
          "BX05 Morris Heights-Mount Hope (CD 5 Approximation)",
          "BX07 Fordham-Bedford Park-Norwood (CD 7 Approximation)"
         ],
         "legendgroup": "Bronx",
         "marker": {
          "color": "#ab63fa",
          "size": [
           26.09,
           15.43,
           17.18,
           12.91,
           42.1,
           28.18,
           27.54,
           40.02,
           38.66,
           16.52,
           24.74,
           28.37,
           46.36,
           28.53,
           31.69,
           35.54,
           37.12,
           24.89,
           26.5,
           37.22,
           39.74,
           33.78,
           33.49,
           24.01,
           31.2,
           13.75,
           33.49,
           33.45,
           37.44,
           14.17,
           25.28,
           22.12,
           24.55,
           17.84,
           13.99,
           28.81,
           32.56,
           21.17,
           32.64,
           31.9,
           17.9,
           34.29,
           21.01,
           22.74,
           15.55,
           22.6,
           38.3
          ],
          "sizemin": 4,
          "sizemode": "area",
          "sizeref": 0.10302222222222222,
          "symbol": "circle"
         },
         "mode": "markers",
         "name": "Bronx",
         "orientation": "v",
         "showlegend": true,
         "type": "scatter",
         "x": [
          18.2,
          13.2,
          18.4,
          18.4,
          10.3,
          16,
          11.4,
          18.2,
          13.9,
          7.9,
          14.8,
          8.1
         ],
         "xaxis": "x",
         "y": [
          39.6,
          32.4,
          40.3,
          40.3,
          17.1,
          12.9,
          14.6,
          39.6,
          26.6,
          16.5,
          31.4,
          22.6
         ],
         "yaxis": "y"
        },
        {
         "hovertemplate": "<b>%{hovertext}</b><br><br>Borough=Staten Island<br>Disabled population (%)=%{x}<br>Poverty rate=%{y}<br>PU_average_duration (min)=%{marker.size}<extra></extra>",
         "hovertext": [
          "SI01 North Shore (CD 1 Equivalent)"
         ],
         "legendgroup": "Staten Island",
         "marker": {
          "color": "#FFA15A",
          "size": [
           26.09,
           15.43,
           17.18,
           12.91,
           42.1,
           28.18,
           27.54,
           40.02,
           38.66,
           16.52,
           24.74,
           28.37,
           46.36,
           28.53,
           31.69,
           35.54,
           37.12,
           24.89,
           26.5,
           37.22,
           39.74,
           33.78,
           33.49,
           24.01,
           31.2,
           13.75,
           33.49,
           33.45,
           37.44,
           14.17,
           25.28,
           22.12,
           24.55,
           17.84,
           13.99,
           28.81,
           32.56,
           21.17,
           32.64,
           31.9,
           17.9,
           34.29,
           21.01,
           22.74,
           15.55,
           22.6,
           38.3
          ],
          "sizemin": 4,
          "sizemode": "area",
          "sizeref": 0.10302222222222222,
          "symbol": "circle"
         },
         "mode": "markers",
         "name": "Staten Island",
         "orientation": "v",
         "showlegend": true,
         "type": "scatter",
         "x": [
          7.2
         ],
         "xaxis": "x",
         "y": [
          13
         ],
         "yaxis": "y"
        }
       ],
       "layout": {
        "annotations": [
         {
          "align": "center",
          "arrowcolor": "#636363",
          "arrowhead": 2,
          "arrowsize": 1,
          "arrowwidth": 2,
          "ax": 30,
          "ay": 60,
          "bgcolor": "#ff7f0e",
          "bordercolor": "#c7c7c7",
          "borderpad": 4,
          "borderwidth": 2,
          "font": {
           "color": "#ffffff",
           "family": "Courier New, monospace",
           "size": 13
          },
          "opacity": 0.8,
          "showarrow": true,
          "text": "BX02 high disabled population<br>,poverty rate and<br>more commute time",
          "x": 18.2,
          "xref": "x",
          "y": 39.6,
          "yref": "y"
         }
        ],
        "autosize": false,
        "height": 600,
        "legend": {
         "itemsizing": "constant",
         "title": {
          "text": "Borough"
         },
         "tracegroupgap": 0
        },
        "template": {
         "data": {
          "bar": [
           {
            "error_x": {
             "color": "#2a3f5f"
            },
            "error_y": {
             "color": "#2a3f5f"
            },
            "marker": {
             "line": {
              "color": "#E5ECF6",
              "width": 0.5
             },
             "pattern": {
              "fillmode": "overlay",
              "size": 10,
              "solidity": 0.2
             }
            },
            "type": "bar"
           }
          ],
          "barpolar": [
           {
            "marker": {
             "line": {
              "color": "#E5ECF6",
              "width": 0.5
             },
             "pattern": {
              "fillmode": "overlay",
              "size": 10,
              "solidity": 0.2
             }
            },
            "type": "barpolar"
           }
          ],
          "carpet": [
           {
            "aaxis": {
             "endlinecolor": "#2a3f5f",
             "gridcolor": "white",
             "linecolor": "white",
             "minorgridcolor": "white",
             "startlinecolor": "#2a3f5f"
            },
            "baxis": {
             "endlinecolor": "#2a3f5f",
             "gridcolor": "white",
             "linecolor": "white",
             "minorgridcolor": "white",
             "startlinecolor": "#2a3f5f"
            },
            "type": "carpet"
           }
          ],
          "choropleth": [
           {
            "colorbar": {
             "outlinewidth": 0,
             "ticks": ""
            },
            "type": "choropleth"
           }
          ],
          "contour": [
           {
            "colorbar": {
             "outlinewidth": 0,
             "ticks": ""
            },
            "colorscale": [
             [
              0,
              "#0d0887"
             ],
             [
              0.1111111111111111,
              "#46039f"
             ],
             [
              0.2222222222222222,
              "#7201a8"
             ],
             [
              0.3333333333333333,
              "#9c179e"
             ],
             [
              0.4444444444444444,
              "#bd3786"
             ],
             [
              0.5555555555555556,
              "#d8576b"
             ],
             [
              0.6666666666666666,
              "#ed7953"
             ],
             [
              0.7777777777777778,
              "#fb9f3a"
             ],
             [
              0.8888888888888888,
              "#fdca26"
             ],
             [
              1,
              "#f0f921"
             ]
            ],
            "type": "contour"
           }
          ],
          "contourcarpet": [
           {
            "colorbar": {
             "outlinewidth": 0,
             "ticks": ""
            },
            "type": "contourcarpet"
           }
          ],
          "heatmap": [
           {
            "colorbar": {
             "outlinewidth": 0,
             "ticks": ""
            },
            "colorscale": [
             [
              0,
              "#0d0887"
             ],
             [
              0.1111111111111111,
              "#46039f"
             ],
             [
              0.2222222222222222,
              "#7201a8"
             ],
             [
              0.3333333333333333,
              "#9c179e"
             ],
             [
              0.4444444444444444,
              "#bd3786"
             ],
             [
              0.5555555555555556,
              "#d8576b"
             ],
             [
              0.6666666666666666,
              "#ed7953"
             ],
             [
              0.7777777777777778,
              "#fb9f3a"
             ],
             [
              0.8888888888888888,
              "#fdca26"
             ],
             [
              1,
              "#f0f921"
             ]
            ],
            "type": "heatmap"
           }
          ],
          "heatmapgl": [
           {
            "colorbar": {
             "outlinewidth": 0,
             "ticks": ""
            },
            "colorscale": [
             [
              0,
              "#0d0887"
             ],
             [
              0.1111111111111111,
              "#46039f"
             ],
             [
              0.2222222222222222,
              "#7201a8"
             ],
             [
              0.3333333333333333,
              "#9c179e"
             ],
             [
              0.4444444444444444,
              "#bd3786"
             ],
             [
              0.5555555555555556,
              "#d8576b"
             ],
             [
              0.6666666666666666,
              "#ed7953"
             ],
             [
              0.7777777777777778,
              "#fb9f3a"
             ],
             [
              0.8888888888888888,
              "#fdca26"
             ],
             [
              1,
              "#f0f921"
             ]
            ],
            "type": "heatmapgl"
           }
          ],
          "histogram": [
           {
            "marker": {
             "pattern": {
              "fillmode": "overlay",
              "size": 10,
              "solidity": 0.2
             }
            },
            "type": "histogram"
           }
          ],
          "histogram2d": [
           {
            "colorbar": {
             "outlinewidth": 0,
             "ticks": ""
            },
            "colorscale": [
             [
              0,
              "#0d0887"
             ],
             [
              0.1111111111111111,
              "#46039f"
             ],
             [
              0.2222222222222222,
              "#7201a8"
             ],
             [
              0.3333333333333333,
              "#9c179e"
             ],
             [
              0.4444444444444444,
              "#bd3786"
             ],
             [
              0.5555555555555556,
              "#d8576b"
             ],
             [
              0.6666666666666666,
              "#ed7953"
             ],
             [
              0.7777777777777778,
              "#fb9f3a"
             ],
             [
              0.8888888888888888,
              "#fdca26"
             ],
             [
              1,
              "#f0f921"
             ]
            ],
            "type": "histogram2d"
           }
          ],
          "histogram2dcontour": [
           {
            "colorbar": {
             "outlinewidth": 0,
             "ticks": ""
            },
            "colorscale": [
             [
              0,
              "#0d0887"
             ],
             [
              0.1111111111111111,
              "#46039f"
             ],
             [
              0.2222222222222222,
              "#7201a8"
             ],
             [
              0.3333333333333333,
              "#9c179e"
             ],
             [
              0.4444444444444444,
              "#bd3786"
             ],
             [
              0.5555555555555556,
              "#d8576b"
             ],
             [
              0.6666666666666666,
              "#ed7953"
             ],
             [
              0.7777777777777778,
              "#fb9f3a"
             ],
             [
              0.8888888888888888,
              "#fdca26"
             ],
             [
              1,
              "#f0f921"
             ]
            ],
            "type": "histogram2dcontour"
           }
          ],
          "mesh3d": [
           {
            "colorbar": {
             "outlinewidth": 0,
             "ticks": ""
            },
            "type": "mesh3d"
           }
          ],
          "parcoords": [
           {
            "line": {
             "colorbar": {
              "outlinewidth": 0,
              "ticks": ""
             }
            },
            "type": "parcoords"
           }
          ],
          "pie": [
           {
            "automargin": true,
            "type": "pie"
           }
          ],
          "scatter": [
           {
            "fillpattern": {
             "fillmode": "overlay",
             "size": 10,
             "solidity": 0.2
            },
            "type": "scatter"
           }
          ],
          "scatter3d": [
           {
            "line": {
             "colorbar": {
              "outlinewidth": 0,
              "ticks": ""
             }
            },
            "marker": {
             "colorbar": {
              "outlinewidth": 0,
              "ticks": ""
             }
            },
            "type": "scatter3d"
           }
          ],
          "scattercarpet": [
           {
            "marker": {
             "colorbar": {
              "outlinewidth": 0,
              "ticks": ""
             }
            },
            "type": "scattercarpet"
           }
          ],
          "scattergeo": [
           {
            "marker": {
             "colorbar": {
              "outlinewidth": 0,
              "ticks": ""
             }
            },
            "type": "scattergeo"
           }
          ],
          "scattergl": [
           {
            "marker": {
             "colorbar": {
              "outlinewidth": 0,
              "ticks": ""
             }
            },
            "type": "scattergl"
           }
          ],
          "scattermapbox": [
           {
            "marker": {
             "colorbar": {
              "outlinewidth": 0,
              "ticks": ""
             }
            },
            "type": "scattermapbox"
           }
          ],
          "scatterpolar": [
           {
            "marker": {
             "colorbar": {
              "outlinewidth": 0,
              "ticks": ""
             }
            },
            "type": "scatterpolar"
           }
          ],
          "scatterpolargl": [
           {
            "marker": {
             "colorbar": {
              "outlinewidth": 0,
              "ticks": ""
             }
            },
            "type": "scatterpolargl"
           }
          ],
          "scatterternary": [
           {
            "marker": {
             "colorbar": {
              "outlinewidth": 0,
              "ticks": ""
             }
            },
            "type": "scatterternary"
           }
          ],
          "surface": [
           {
            "colorbar": {
             "outlinewidth": 0,
             "ticks": ""
            },
            "colorscale": [
             [
              0,
              "#0d0887"
             ],
             [
              0.1111111111111111,
              "#46039f"
             ],
             [
              0.2222222222222222,
              "#7201a8"
             ],
             [
              0.3333333333333333,
              "#9c179e"
             ],
             [
              0.4444444444444444,
              "#bd3786"
             ],
             [
              0.5555555555555556,
              "#d8576b"
             ],
             [
              0.6666666666666666,
              "#ed7953"
             ],
             [
              0.7777777777777778,
              "#fb9f3a"
             ],
             [
              0.8888888888888888,
              "#fdca26"
             ],
             [
              1,
              "#f0f921"
             ]
            ],
            "type": "surface"
           }
          ],
          "table": [
           {
            "cells": {
             "fill": {
              "color": "#EBF0F8"
             },
             "line": {
              "color": "white"
             }
            },
            "header": {
             "fill": {
              "color": "#C8D4E3"
             },
             "line": {
              "color": "white"
             }
            },
            "type": "table"
           }
          ]
         },
         "layout": {
          "annotationdefaults": {
           "arrowcolor": "#2a3f5f",
           "arrowhead": 0,
           "arrowwidth": 1
          },
          "autotypenumbers": "strict",
          "coloraxis": {
           "colorbar": {
            "outlinewidth": 0,
            "ticks": ""
           }
          },
          "colorscale": {
           "diverging": [
            [
             0,
             "#8e0152"
            ],
            [
             0.1,
             "#c51b7d"
            ],
            [
             0.2,
             "#de77ae"
            ],
            [
             0.3,
             "#f1b6da"
            ],
            [
             0.4,
             "#fde0ef"
            ],
            [
             0.5,
             "#f7f7f7"
            ],
            [
             0.6,
             "#e6f5d0"
            ],
            [
             0.7,
             "#b8e186"
            ],
            [
             0.8,
             "#7fbc41"
            ],
            [
             0.9,
             "#4d9221"
            ],
            [
             1,
             "#276419"
            ]
           ],
           "sequential": [
            [
             0,
             "#0d0887"
            ],
            [
             0.1111111111111111,
             "#46039f"
            ],
            [
             0.2222222222222222,
             "#7201a8"
            ],
            [
             0.3333333333333333,
             "#9c179e"
            ],
            [
             0.4444444444444444,
             "#bd3786"
            ],
            [
             0.5555555555555556,
             "#d8576b"
            ],
            [
             0.6666666666666666,
             "#ed7953"
            ],
            [
             0.7777777777777778,
             "#fb9f3a"
            ],
            [
             0.8888888888888888,
             "#fdca26"
            ],
            [
             1,
             "#f0f921"
            ]
           ],
           "sequentialminus": [
            [
             0,
             "#0d0887"
            ],
            [
             0.1111111111111111,
             "#46039f"
            ],
            [
             0.2222222222222222,
             "#7201a8"
            ],
            [
             0.3333333333333333,
             "#9c179e"
            ],
            [
             0.4444444444444444,
             "#bd3786"
            ],
            [
             0.5555555555555556,
             "#d8576b"
            ],
            [
             0.6666666666666666,
             "#ed7953"
            ],
            [
             0.7777777777777778,
             "#fb9f3a"
            ],
            [
             0.8888888888888888,
             "#fdca26"
            ],
            [
             1,
             "#f0f921"
            ]
           ]
          },
          "colorway": [
           "#636efa",
           "#EF553B",
           "#00cc96",
           "#ab63fa",
           "#FFA15A",
           "#19d3f3",
           "#FF6692",
           "#B6E880",
           "#FF97FF",
           "#FECB52"
          ],
          "font": {
           "color": "#2a3f5f"
          },
          "geo": {
           "bgcolor": "white",
           "lakecolor": "white",
           "landcolor": "#E5ECF6",
           "showlakes": true,
           "showland": true,
           "subunitcolor": "white"
          },
          "hoverlabel": {
           "align": "left"
          },
          "hovermode": "closest",
          "mapbox": {
           "style": "light"
          },
          "paper_bgcolor": "white",
          "plot_bgcolor": "#E5ECF6",
          "polar": {
           "angularaxis": {
            "gridcolor": "white",
            "linecolor": "white",
            "ticks": ""
           },
           "bgcolor": "#E5ECF6",
           "radialaxis": {
            "gridcolor": "white",
            "linecolor": "white",
            "ticks": ""
           }
          },
          "scene": {
           "xaxis": {
            "backgroundcolor": "#E5ECF6",
            "gridcolor": "white",
            "gridwidth": 2,
            "linecolor": "white",
            "showbackground": true,
            "ticks": "",
            "zerolinecolor": "white"
           },
           "yaxis": {
            "backgroundcolor": "#E5ECF6",
            "gridcolor": "white",
            "gridwidth": 2,
            "linecolor": "white",
            "showbackground": true,
            "ticks": "",
            "zerolinecolor": "white"
           },
           "zaxis": {
            "backgroundcolor": "#E5ECF6",
            "gridcolor": "white",
            "gridwidth": 2,
            "linecolor": "white",
            "showbackground": true,
            "ticks": "",
            "zerolinecolor": "white"
           }
          },
          "shapedefaults": {
           "line": {
            "color": "#2a3f5f"
           }
          },
          "ternary": {
           "aaxis": {
            "gridcolor": "white",
            "linecolor": "white",
            "ticks": ""
           },
           "baxis": {
            "gridcolor": "white",
            "linecolor": "white",
            "ticks": ""
           },
           "bgcolor": "#E5ECF6",
           "caxis": {
            "gridcolor": "white",
            "linecolor": "white",
            "ticks": ""
           }
          },
          "title": {
           "x": 0.05
          },
          "xaxis": {
           "automargin": true,
           "gridcolor": "white",
           "linecolor": "white",
           "ticks": "",
           "title": {
            "standoff": 15
           },
           "zerolinecolor": "white",
           "zerolinewidth": 2
          },
          "yaxis": {
           "automargin": true,
           "gridcolor": "white",
           "linecolor": "white",
           "ticks": "",
           "title": {
            "standoff": 15
           },
           "zerolinecolor": "white",
           "zerolinewidth": 2
          }
         }
        },
        "title": {
         "text": "Longer commute times in districts with <br>high disabled population"
        },
        "width": 700,
        "xaxis": {
         "anchor": "y",
         "domain": [
          0,
          1
         ],
         "title": {
          "text": "Disabled population (%)"
         }
        },
        "yaxis": {
         "anchor": "x",
         "domain": [
          0,
          1
         ],
         "title": {
          "text": "Poverty rate"
         }
        }
       }
      },
      "text/html": [
       "<div>                            <div id=\"6f6e637d-26dd-4dea-9be7-08546f1227b3\" class=\"plotly-graph-div\" style=\"height:600px; width:700px;\"></div>            <script type=\"text/javascript\">                require([\"plotly\"], function(Plotly) {                    window.PLOTLYENV=window.PLOTLYENV || {};                                    if (document.getElementById(\"6f6e637d-26dd-4dea-9be7-08546f1227b3\")) {                    Plotly.newPlot(                        \"6f6e637d-26dd-4dea-9be7-08546f1227b3\",                        [{\"hovertemplate\":\"<b>%{hovertext}</b><br><br>Borough=Queens<br>Disabled population (%)=%{x}<br>Poverty rate=%{y}<br>PU_average_duration (min)=%{marker.size}<extra></extra>\",\"hovertext\":[\"QN04 Elmhurst-Corona (CD 4 Approximation)\",\"QN14 The Rockaways (CD 14 Approximation)\",\"QN07 Flushing-Murray Hill-Whitestone (CD 7 Approximation)\",\"QN06 Forest Hills-Rego Park (CD 6 Approximation)\",\"QN09 Kew Gardens-Richmond Hill-Woodhaven (CD 9 Approximation)\",\"QN01 Astoria-Queensbridge (CD 1 Equivalent)\",\"QN03 Jackson Heights-East Elmhurst (CD 3 Approximation)\",\"QN05 Ridgewood-Maspeth-Middle Village (CD 5 Approximation)\",\"QN02 Long Island City-Sunnyside-Woodside (CD 2 Approximation)\",\"QN10 South Ozone Park-Howard Beach (CD 10 Approximation)\",\"QN12 Jamaica-St. Albans-Hollis (CD 12 Approximation)\"],\"legendgroup\":\"Queens\",\"marker\":{\"color\":\"#636efa\",\"size\":[26.09,15.43,17.18,12.91,42.1,28.18,27.54,40.02,38.66,16.52,24.74,28.37,46.36,28.53,31.69,35.54,37.12,24.89,26.5,37.22,39.74,33.78,33.49,24.01,31.2,13.75,33.49,33.45,37.44,14.17,25.28,22.12,24.55,17.84,13.99,28.81,32.56,21.17,32.64,31.9,17.9,34.29,21.01,22.74,15.55,22.6,38.3],\"sizemode\":\"area\",\"sizeref\":0.10302222222222222,\"symbol\":\"circle\",\"sizemin\":4},\"mode\":\"markers\",\"name\":\"Queens\",\"orientation\":\"v\",\"showlegend\":true,\"x\":[5.4,15.9,4.6,7.9,7.9,5.7,8.6,5.7,4.2,8.9,6.8],\"xaxis\":\"x\",\"y\":[10.2,18.1,14.8,11.1,10.1,11.6,15.0,8.4,9.2,7.5,10.6],\"yaxis\":\"y\",\"type\":\"scatter\"},{\"hovertemplate\":\"<b>%{hovertext}</b><br><br>Borough=Manhattan<br>Disabled population (%)=%{x}<br>Poverty rate=%{y}<br>PU_average_duration (min)=%{marker.size}<extra></extra>\",\"hovertext\":[\"MN04 Chelsea-Hell's Kitchen (CD 4 Approximation)\",\"MN03 Lower East Side-Chinatown (CD 3 Equivalent)\",\"MN08 Upper East Side-Roosevelt Island (CD 8 Equivalent)\",\"MN02 Greenwich Village-SoHo (CD 2 Equivalent)\",\"MN06 East Midtown-Murray Hill (CD 6 Approximation)\",\"MN11 East Harlem (CD 11 Equivalent)\",\"MN12 Washington Heights-Inwood (CD 12 Equivalent)\",\"MN10 Harlem (CD 10 Equivalent)\",\"MN07 Upper West Side (CD 7 Approximation)\",\"MN09 Morningside Heights-Hamilton Heights (CD 9 Equivalent)\",\"MN01 Financial District-Tribeca (CD 1 Equivalent)\",\"MN05 Midtown-Flatiron-Union Square (CD 5 Approximation)\"],\"legendgroup\":\"Manhattan\",\"marker\":{\"color\":\"#EF553B\",\"size\":[26.09,15.43,17.18,12.91,42.1,28.18,27.54,40.02,38.66,16.52,24.74,28.37,46.36,28.53,31.69,35.54,37.12,24.89,26.5,37.22,39.74,33.78,33.49,24.01,31.2,13.75,33.49,33.45,37.44,14.17,25.28,22.12,24.55,17.84,13.99,28.81,32.56,21.17,32.64,31.9,17.9,34.29,21.01,22.74,15.55,22.6,38.3],\"sizemode\":\"area\",\"sizeref\":0.10302222222222222,\"symbol\":\"circle\",\"sizemin\":4},\"mode\":\"markers\",\"name\":\"Manhattan\",\"orientation\":\"v\",\"showlegend\":true,\"x\":[6.4,7.1,2.4,2.9,3.4,12.5,11.7,10.6,5.9,7.6,2.9,6.4],\"xaxis\":\"x\",\"y\":[11.1,24.0,5.8,6.1,6.5,34.0,15.5,20.1,8.7,19.6,6.1,11.1],\"yaxis\":\"y\",\"type\":\"scatter\"},{\"hovertemplate\":\"<b>%{hovertext}</b><br><br>Borough=Brooklyn<br>Disabled population (%)=%{x}<br>Poverty rate=%{y}<br>PU_average_duration (min)=%{marker.size}<extra></extra>\",\"hovertext\":[\"BK12 Borough Park-Kensington (CD 12 Approximation)\",\"BK02 Downtown Brooklyn-Fort Greene (CD 2 Approximation)\",\"BK01 Williamsburg-Greenpoint (CD 1 Equivalent)\",\"BK09 Crown Heights (South) (CD 9 Approximation)\",\"BK07 Sunset Park-Windsor Terrace (CD 7 Approximation)\",\"BK11 Bensonhurst-Bath Beach (CD 11 Approximation)\",\"BK06 Park Slope-Carroll Gardens (CD 6 Approximation)\",\"BK04 Bushwick (CD 4 Equivalent)\",\"BK05 East New York-Cypress Hills (CD 5 Approximation)\",\"BK03 Bedford-Stuyvesant (CD 3 Approximation)\",\"BK10 Bay Ridge-Dyker Heights (CD 10 Approximation)\"],\"legendgroup\":\"Brooklyn\",\"marker\":{\"color\":\"#00cc96\",\"size\":[26.09,15.43,17.18,12.91,42.1,28.18,27.54,40.02,38.66,16.52,24.74,28.37,46.36,28.53,31.69,35.54,37.12,24.89,26.5,37.22,39.74,33.78,33.49,24.01,31.2,13.75,33.49,33.45,37.44,14.17,25.28,22.12,24.55,17.84,13.99,28.81,32.56,21.17,32.64,31.9,17.9,34.29,21.01,22.74,15.55,22.6,38.3],\"sizemode\":\"area\",\"sizeref\":0.10302222222222222,\"symbol\":\"circle\",\"sizemin\":4},\"mode\":\"markers\",\"name\":\"Brooklyn\",\"orientation\":\"v\",\"showlegend\":true,\"x\":[4.6,6.0,4.9,4.5,4.0,5.8,3.1,5.2,8.8,7.4,5.6],\"xaxis\":\"x\",\"y\":[26.8,13.8,20.1,17.9,18.1,14.6,7.6,20.7,23.3,23.0,14.2],\"yaxis\":\"y\",\"type\":\"scatter\"},{\"hovertemplate\":\"<b>%{hovertext}</b><br><br>Borough=Bronx<br>Disabled population (%)=%{x}<br>Poverty rate=%{y}<br>PU_average_duration (min)=%{marker.size}<extra></extra>\",\"hovertext\":[\"BX01 Melrose-Mott Haven-Port Morris (CD 1 Approximation)\",\"BX04 Highbridge-Concourse (CD 4 Approximation)\",\"BX03 Morrisania-Crotona Park East (CD 3 Approximation)\",\"BX06 Tremont-Belmont-West Farms (CD 6 Approximation)\",\"BX12 Wakefield-Williamsbridge-Eastchester (CD 12 Approximation)\",\"BX10 Co-op City-Throgs Neck (CD 10 Approximation)\",\"BX11 Pelham Parkway-Morris Park (CD 11 Approximation)\",\"BX02 Longwood-Hunts Point (CD 2 Approximation)\",\"BX09 Soundview-Parkchester (CD 9 Approximation)\",\"BX08 Riverdale-Kingsbridge-Marble Hill (CD 8 Approximation)\",\"BX05 Morris Heights-Mount Hope (CD 5 Approximation)\",\"BX07 Fordham-Bedford Park-Norwood (CD 7 Approximation)\"],\"legendgroup\":\"Bronx\",\"marker\":{\"color\":\"#ab63fa\",\"size\":[26.09,15.43,17.18,12.91,42.1,28.18,27.54,40.02,38.66,16.52,24.74,28.37,46.36,28.53,31.69,35.54,37.12,24.89,26.5,37.22,39.74,33.78,33.49,24.01,31.2,13.75,33.49,33.45,37.44,14.17,25.28,22.12,24.55,17.84,13.99,28.81,32.56,21.17,32.64,31.9,17.9,34.29,21.01,22.74,15.55,22.6,38.3],\"sizemode\":\"area\",\"sizeref\":0.10302222222222222,\"symbol\":\"circle\",\"sizemin\":4},\"mode\":\"markers\",\"name\":\"Bronx\",\"orientation\":\"v\",\"showlegend\":true,\"x\":[18.2,13.2,18.4,18.4,10.3,16.0,11.4,18.2,13.9,7.9,14.8,8.1],\"xaxis\":\"x\",\"y\":[39.6,32.4,40.3,40.3,17.1,12.9,14.6,39.6,26.6,16.5,31.4,22.6],\"yaxis\":\"y\",\"type\":\"scatter\"},{\"hovertemplate\":\"<b>%{hovertext}</b><br><br>Borough=Staten Island<br>Disabled population (%)=%{x}<br>Poverty rate=%{y}<br>PU_average_duration (min)=%{marker.size}<extra></extra>\",\"hovertext\":[\"SI01 North Shore (CD 1 Equivalent)\"],\"legendgroup\":\"Staten Island\",\"marker\":{\"color\":\"#FFA15A\",\"size\":[26.09,15.43,17.18,12.91,42.1,28.18,27.54,40.02,38.66,16.52,24.74,28.37,46.36,28.53,31.69,35.54,37.12,24.89,26.5,37.22,39.74,33.78,33.49,24.01,31.2,13.75,33.49,33.45,37.44,14.17,25.28,22.12,24.55,17.84,13.99,28.81,32.56,21.17,32.64,31.9,17.9,34.29,21.01,22.74,15.55,22.6,38.3],\"sizemode\":\"area\",\"sizeref\":0.10302222222222222,\"symbol\":\"circle\",\"sizemin\":4},\"mode\":\"markers\",\"name\":\"Staten Island\",\"orientation\":\"v\",\"showlegend\":true,\"x\":[7.2],\"xaxis\":\"x\",\"y\":[13.0],\"yaxis\":\"y\",\"type\":\"scatter\"}],                        {\"template\":{\"data\":{\"histogram2dcontour\":[{\"type\":\"histogram2dcontour\",\"colorbar\":{\"outlinewidth\":0,\"ticks\":\"\"},\"colorscale\":[[0.0,\"#0d0887\"],[0.1111111111111111,\"#46039f\"],[0.2222222222222222,\"#7201a8\"],[0.3333333333333333,\"#9c179e\"],[0.4444444444444444,\"#bd3786\"],[0.5555555555555556,\"#d8576b\"],[0.6666666666666666,\"#ed7953\"],[0.7777777777777778,\"#fb9f3a\"],[0.8888888888888888,\"#fdca26\"],[1.0,\"#f0f921\"]]}],\"choropleth\":[{\"type\":\"choropleth\",\"colorbar\":{\"outlinewidth\":0,\"ticks\":\"\"}}],\"histogram2d\":[{\"type\":\"histogram2d\",\"colorbar\":{\"outlinewidth\":0,\"ticks\":\"\"},\"colorscale\":[[0.0,\"#0d0887\"],[0.1111111111111111,\"#46039f\"],[0.2222222222222222,\"#7201a8\"],[0.3333333333333333,\"#9c179e\"],[0.4444444444444444,\"#bd3786\"],[0.5555555555555556,\"#d8576b\"],[0.6666666666666666,\"#ed7953\"],[0.7777777777777778,\"#fb9f3a\"],[0.8888888888888888,\"#fdca26\"],[1.0,\"#f0f921\"]]}],\"heatmap\":[{\"type\":\"heatmap\",\"colorbar\":{\"outlinewidth\":0,\"ticks\":\"\"},\"colorscale\":[[0.0,\"#0d0887\"],[0.1111111111111111,\"#46039f\"],[0.2222222222222222,\"#7201a8\"],[0.3333333333333333,\"#9c179e\"],[0.4444444444444444,\"#bd3786\"],[0.5555555555555556,\"#d8576b\"],[0.6666666666666666,\"#ed7953\"],[0.7777777777777778,\"#fb9f3a\"],[0.8888888888888888,\"#fdca26\"],[1.0,\"#f0f921\"]]}],\"heatmapgl\":[{\"type\":\"heatmapgl\",\"colorbar\":{\"outlinewidth\":0,\"ticks\":\"\"},\"colorscale\":[[0.0,\"#0d0887\"],[0.1111111111111111,\"#46039f\"],[0.2222222222222222,\"#7201a8\"],[0.3333333333333333,\"#9c179e\"],[0.4444444444444444,\"#bd3786\"],[0.5555555555555556,\"#d8576b\"],[0.6666666666666666,\"#ed7953\"],[0.7777777777777778,\"#fb9f3a\"],[0.8888888888888888,\"#fdca26\"],[1.0,\"#f0f921\"]]}],\"contourcarpet\":[{\"type\":\"contourcarpet\",\"colorbar\":{\"outlinewidth\":0,\"ticks\":\"\"}}],\"contour\":[{\"type\":\"contour\",\"colorbar\":{\"outlinewidth\":0,\"ticks\":\"\"},\"colorscale\":[[0.0,\"#0d0887\"],[0.1111111111111111,\"#46039f\"],[0.2222222222222222,\"#7201a8\"],[0.3333333333333333,\"#9c179e\"],[0.4444444444444444,\"#bd3786\"],[0.5555555555555556,\"#d8576b\"],[0.6666666666666666,\"#ed7953\"],[0.7777777777777778,\"#fb9f3a\"],[0.8888888888888888,\"#fdca26\"],[1.0,\"#f0f921\"]]}],\"surface\":[{\"type\":\"surface\",\"colorbar\":{\"outlinewidth\":0,\"ticks\":\"\"},\"colorscale\":[[0.0,\"#0d0887\"],[0.1111111111111111,\"#46039f\"],[0.2222222222222222,\"#7201a8\"],[0.3333333333333333,\"#9c179e\"],[0.4444444444444444,\"#bd3786\"],[0.5555555555555556,\"#d8576b\"],[0.6666666666666666,\"#ed7953\"],[0.7777777777777778,\"#fb9f3a\"],[0.8888888888888888,\"#fdca26\"],[1.0,\"#f0f921\"]]}],\"mesh3d\":[{\"type\":\"mesh3d\",\"colorbar\":{\"outlinewidth\":0,\"ticks\":\"\"}}],\"scatter\":[{\"fillpattern\":{\"fillmode\":\"overlay\",\"size\":10,\"solidity\":0.2},\"type\":\"scatter\"}],\"parcoords\":[{\"type\":\"parcoords\",\"line\":{\"colorbar\":{\"outlinewidth\":0,\"ticks\":\"\"}}}],\"scatterpolargl\":[{\"type\":\"scatterpolargl\",\"marker\":{\"colorbar\":{\"outlinewidth\":0,\"ticks\":\"\"}}}],\"bar\":[{\"error_x\":{\"color\":\"#2a3f5f\"},\"error_y\":{\"color\":\"#2a3f5f\"},\"marker\":{\"line\":{\"color\":\"#E5ECF6\",\"width\":0.5},\"pattern\":{\"fillmode\":\"overlay\",\"size\":10,\"solidity\":0.2}},\"type\":\"bar\"}],\"scattergeo\":[{\"type\":\"scattergeo\",\"marker\":{\"colorbar\":{\"outlinewidth\":0,\"ticks\":\"\"}}}],\"scatterpolar\":[{\"type\":\"scatterpolar\",\"marker\":{\"colorbar\":{\"outlinewidth\":0,\"ticks\":\"\"}}}],\"histogram\":[{\"marker\":{\"pattern\":{\"fillmode\":\"overlay\",\"size\":10,\"solidity\":0.2}},\"type\":\"histogram\"}],\"scattergl\":[{\"type\":\"scattergl\",\"marker\":{\"colorbar\":{\"outlinewidth\":0,\"ticks\":\"\"}}}],\"scatter3d\":[{\"type\":\"scatter3d\",\"line\":{\"colorbar\":{\"outlinewidth\":0,\"ticks\":\"\"}},\"marker\":{\"colorbar\":{\"outlinewidth\":0,\"ticks\":\"\"}}}],\"scattermapbox\":[{\"type\":\"scattermapbox\",\"marker\":{\"colorbar\":{\"outlinewidth\":0,\"ticks\":\"\"}}}],\"scatterternary\":[{\"type\":\"scatterternary\",\"marker\":{\"colorbar\":{\"outlinewidth\":0,\"ticks\":\"\"}}}],\"scattercarpet\":[{\"type\":\"scattercarpet\",\"marker\":{\"colorbar\":{\"outlinewidth\":0,\"ticks\":\"\"}}}],\"carpet\":[{\"aaxis\":{\"endlinecolor\":\"#2a3f5f\",\"gridcolor\":\"white\",\"linecolor\":\"white\",\"minorgridcolor\":\"white\",\"startlinecolor\":\"#2a3f5f\"},\"baxis\":{\"endlinecolor\":\"#2a3f5f\",\"gridcolor\":\"white\",\"linecolor\":\"white\",\"minorgridcolor\":\"white\",\"startlinecolor\":\"#2a3f5f\"},\"type\":\"carpet\"}],\"table\":[{\"cells\":{\"fill\":{\"color\":\"#EBF0F8\"},\"line\":{\"color\":\"white\"}},\"header\":{\"fill\":{\"color\":\"#C8D4E3\"},\"line\":{\"color\":\"white\"}},\"type\":\"table\"}],\"barpolar\":[{\"marker\":{\"line\":{\"color\":\"#E5ECF6\",\"width\":0.5},\"pattern\":{\"fillmode\":\"overlay\",\"size\":10,\"solidity\":0.2}},\"type\":\"barpolar\"}],\"pie\":[{\"automargin\":true,\"type\":\"pie\"}]},\"layout\":{\"autotypenumbers\":\"strict\",\"colorway\":[\"#636efa\",\"#EF553B\",\"#00cc96\",\"#ab63fa\",\"#FFA15A\",\"#19d3f3\",\"#FF6692\",\"#B6E880\",\"#FF97FF\",\"#FECB52\"],\"font\":{\"color\":\"#2a3f5f\"},\"hovermode\":\"closest\",\"hoverlabel\":{\"align\":\"left\"},\"paper_bgcolor\":\"white\",\"plot_bgcolor\":\"#E5ECF6\",\"polar\":{\"bgcolor\":\"#E5ECF6\",\"angularaxis\":{\"gridcolor\":\"white\",\"linecolor\":\"white\",\"ticks\":\"\"},\"radialaxis\":{\"gridcolor\":\"white\",\"linecolor\":\"white\",\"ticks\":\"\"}},\"ternary\":{\"bgcolor\":\"#E5ECF6\",\"aaxis\":{\"gridcolor\":\"white\",\"linecolor\":\"white\",\"ticks\":\"\"},\"baxis\":{\"gridcolor\":\"white\",\"linecolor\":\"white\",\"ticks\":\"\"},\"caxis\":{\"gridcolor\":\"white\",\"linecolor\":\"white\",\"ticks\":\"\"}},\"coloraxis\":{\"colorbar\":{\"outlinewidth\":0,\"ticks\":\"\"}},\"colorscale\":{\"sequential\":[[0.0,\"#0d0887\"],[0.1111111111111111,\"#46039f\"],[0.2222222222222222,\"#7201a8\"],[0.3333333333333333,\"#9c179e\"],[0.4444444444444444,\"#bd3786\"],[0.5555555555555556,\"#d8576b\"],[0.6666666666666666,\"#ed7953\"],[0.7777777777777778,\"#fb9f3a\"],[0.8888888888888888,\"#fdca26\"],[1.0,\"#f0f921\"]],\"sequentialminus\":[[0.0,\"#0d0887\"],[0.1111111111111111,\"#46039f\"],[0.2222222222222222,\"#7201a8\"],[0.3333333333333333,\"#9c179e\"],[0.4444444444444444,\"#bd3786\"],[0.5555555555555556,\"#d8576b\"],[0.6666666666666666,\"#ed7953\"],[0.7777777777777778,\"#fb9f3a\"],[0.8888888888888888,\"#fdca26\"],[1.0,\"#f0f921\"]],\"diverging\":[[0,\"#8e0152\"],[0.1,\"#c51b7d\"],[0.2,\"#de77ae\"],[0.3,\"#f1b6da\"],[0.4,\"#fde0ef\"],[0.5,\"#f7f7f7\"],[0.6,\"#e6f5d0\"],[0.7,\"#b8e186\"],[0.8,\"#7fbc41\"],[0.9,\"#4d9221\"],[1,\"#276419\"]]},\"xaxis\":{\"gridcolor\":\"white\",\"linecolor\":\"white\",\"ticks\":\"\",\"title\":{\"standoff\":15},\"zerolinecolor\":\"white\",\"automargin\":true,\"zerolinewidth\":2},\"yaxis\":{\"gridcolor\":\"white\",\"linecolor\":\"white\",\"ticks\":\"\",\"title\":{\"standoff\":15},\"zerolinecolor\":\"white\",\"automargin\":true,\"zerolinewidth\":2},\"scene\":{\"xaxis\":{\"backgroundcolor\":\"#E5ECF6\",\"gridcolor\":\"white\",\"linecolor\":\"white\",\"showbackground\":true,\"ticks\":\"\",\"zerolinecolor\":\"white\",\"gridwidth\":2},\"yaxis\":{\"backgroundcolor\":\"#E5ECF6\",\"gridcolor\":\"white\",\"linecolor\":\"white\",\"showbackground\":true,\"ticks\":\"\",\"zerolinecolor\":\"white\",\"gridwidth\":2},\"zaxis\":{\"backgroundcolor\":\"#E5ECF6\",\"gridcolor\":\"white\",\"linecolor\":\"white\",\"showbackground\":true,\"ticks\":\"\",\"zerolinecolor\":\"white\",\"gridwidth\":2}},\"shapedefaults\":{\"line\":{\"color\":\"#2a3f5f\"}},\"annotationdefaults\":{\"arrowcolor\":\"#2a3f5f\",\"arrowhead\":0,\"arrowwidth\":1},\"geo\":{\"bgcolor\":\"white\",\"landcolor\":\"#E5ECF6\",\"subunitcolor\":\"white\",\"showland\":true,\"showlakes\":true,\"lakecolor\":\"white\"},\"title\":{\"x\":0.05},\"mapbox\":{\"style\":\"light\"}}},\"xaxis\":{\"anchor\":\"y\",\"domain\":[0.0,1.0],\"title\":{\"text\":\"Disabled population (%)\"}},\"yaxis\":{\"anchor\":\"x\",\"domain\":[0.0,1.0],\"title\":{\"text\":\"Poverty rate\"}},\"legend\":{\"title\":{\"text\":\"Borough\"},\"tracegroupgap\":0,\"itemsizing\":\"constant\"},\"title\":{\"text\":\"Longer commute times in districts with <br>high disabled population\"},\"annotations\":[{\"align\":\"center\",\"arrowcolor\":\"#636363\",\"arrowhead\":2,\"arrowsize\":1,\"arrowwidth\":2,\"ax\":30,\"ay\":60,\"bgcolor\":\"#ff7f0e\",\"bordercolor\":\"#c7c7c7\",\"borderpad\":4,\"borderwidth\":2,\"font\":{\"color\":\"#ffffff\",\"family\":\"Courier New, monospace\",\"size\":13},\"opacity\":0.8,\"showarrow\":true,\"text\":\"BX02 high disabled population<br>,poverty rate and<br>more commute time\",\"x\":18.2,\"xref\":\"x\",\"y\":39.6,\"yref\":\"y\"}],\"autosize\":false,\"width\":700,\"height\":600},                        {\"responsive\": true}                    ).then(function(){\n",
       "                            \n",
       "var gd = document.getElementById('6f6e637d-26dd-4dea-9be7-08546f1227b3');\n",
       "var x = new MutationObserver(function (mutations, observer) {{\n",
       "        var display = window.getComputedStyle(gd).display;\n",
       "        if (!display || display === 'none') {{\n",
       "            console.log([gd, 'removed!']);\n",
       "            Plotly.purge(gd);\n",
       "            observer.disconnect();\n",
       "        }}\n",
       "}});\n",
       "\n",
       "// Listen for the removal of the full notebook cells\n",
       "var notebookContainer = gd.closest('#notebook-container');\n",
       "if (notebookContainer) {{\n",
       "    x.observe(notebookContainer, {childList: true});\n",
       "}}\n",
       "\n",
       "// Listen for the clearing of the current output cell\n",
       "var outputEl = gd.closest('.output');\n",
       "if (outputEl) {{\n",
       "    x.observe(outputEl, {childList: true});\n",
       "}}\n",
       "\n",
       "                        })                };                });            </script>        </div>"
      ]
     },
     "metadata": {},
     "output_type": "display_data"
    }
   ],
   "source": [
    "s1 = 'Disabled population'\n",
    "s2 = 'Poverty rate'\n",
    "cd = 'PU_average_duration (min)'\n",
    "\n",
    "a_text = \"BX02 high disabled population<br>,poverty rate and<br>more commute time\"\n",
    "\n",
    "l={\n",
    "                     \"color\": \"Borough\",\n",
    "                     \"station_counts\" :'Number of subway stations',\n",
    "                     \"Disabled population\" :\"Disabled population (%)\"\n",
    "                 \n",
    "                 }\n",
    "b_size = 30.\n",
    "title=\"Longer commute times in districts with <br>high disabled population\"\n",
    "\n",
    "create_scatter(s1,s2,cd,title,\n",
    "               l , a_text,\n",
    "               18.2,39.6,b_size,\n",
    "               0,0, '',\n",
    "               0,0,'',\n",
    "               1)"
   ]
  },
  {
   "cell_type": "markdown",
   "id": "5141ac3d",
   "metadata": {},
   "source": [
    "# Visualization 9: Interactive visualizations that lets you pick all the different variables for you to explore"
   ]
  },
  {
   "cell_type": "raw",
   "id": "9bff60fb",
   "metadata": {},
   "source": [
    "Pick values from the three dropdowns. Be careful when you pick dimensions (socio economic indicators) with measures (taxi trips counts, station counts, net entries etc.) so you get meaningful resuls."
   ]
  },
  {
   "cell_type": "code",
   "execution_count": 115,
   "id": "b352bbf0",
   "metadata": {},
   "outputs": [
    {
     "name": "stdout",
     "output_type": "stream",
     "text": [
      "Please select from the dropdowns\n"
     ]
    },
    {
     "data": {
      "application/vnd.jupyter.widget-view+json": {
       "model_id": "7adf26e2ed894beda4e2f6791438fca8",
       "version_major": 2,
       "version_minor": 0
      },
      "text/plain": [
       "VBox(children=(HBox(children=(Dropdown(index=12, options=('Car-free commute (% of commuters)', 'Disabled popul…"
      ]
     },
     "metadata": {},
     "output_type": "display_data"
    }
   ],
   "source": [
    "\n",
    "print(\"Please select from the dropdowns\")\n",
    "feature1_drop = widgets.Dropdown(options=gdf_cd_small.columns, value = 'Population density (1,000 persons per square mile)')\n",
    "feature1_drop\n",
    "\n",
    "feature2_drop = widgets.Dropdown(options=gdf_cd_small.columns, value = 'Median household income (2021$)')\n",
    "feature2_drop\n",
    "\n",
    "feature3_drop = widgets.Dropdown(options=gdf_cd_small.columns, value = 'PU_average_fare')\n",
    "feature3_drop\n",
    "\n",
    "out = widgets.interactive_output(create_scatter_interactive, {'s1': feature1_drop, 's2':feature2_drop,'cd':feature3_drop})\n",
    "\n",
    "\n",
    "widgets.VBox([widgets.HBox([feature1_drop, feature2_drop, feature3_drop]), out])"
   ]
  },
  {
   "cell_type": "markdown",
   "id": "436ac667",
   "metadata": {},
   "source": [
    "# Other visualizations not included in the report that you might find useful. "
   ]
  },
  {
   "cell_type": "code",
   "execution_count": 116,
   "id": "14d1d83d",
   "metadata": {},
   "outputs": [
    {
     "data": {
      "application/vnd.plotly.v1+json": {
       "config": {
        "plotlyServerURL": "https://plot.ly"
       },
       "data": [
        {
         "hovertemplate": "variable=PU_average_trip_distance (mile)<br>value=%{x}<br>CDTA=%{y}<extra></extra>",
         "legendgroup": "PU_average_trip_distance (mile)",
         "marker": {
          "color": "#636efa",
          "symbol": "circle"
         },
         "mode": "markers",
         "name": "PU_average_trip_distance (mile)",
         "orientation": "h",
         "showlegend": true,
         "type": "scatter",
         "x": [
          2.23178213388794,
          2.252731273508653,
          2.50372936352992,
          2.519568935449195,
          2.581866480159918,
          2.6433841710980777,
          2.7116586813118406,
          2.883517131061738,
          3.1125235672715514,
          3.823612532181712,
          3.908093606485364,
          4.657171336090534,
          4.963847068307101,
          5.178680382452464,
          5.439748265289657,
          5.620514227691415,
          5.836489595187774,
          5.929425868895732,
          5.95837401037401,
          6.346985620536576,
          6.614678909170882,
          6.62794895124988,
          6.868843200167508,
          6.928993468896198,
          6.987192335177196,
          7.438045293522267,
          7.510469218944441,
          7.640887097417887,
          7.654210616229409,
          7.879692740671966,
          7.939311357702349,
          8.263297360703811,
          8.26814007064967,
          8.312844497607657,
          8.379086712414225,
          8.68605383960285,
          9.024079634464751,
          9.320493407060823,
          9.533552378333791,
          10.092240201366415,
          10.200067007382168,
          10.229204033469212,
          10.292785023611422,
          11.041871601008092,
          11.17826043453402,
          11.39595303285594,
          11.448719687976936,
          11.886453792287208,
          11.959109822283708,
          12.855352112676057,
          12.860710647285376,
          12.942341389728098,
          13.206132204655797,
          13.681980779498131,
          13.744833132892364,
          14.237456112924733,
          19.747866440294285
         ],
         "xaxis": "x",
         "y": [
          "MN08",
          "MN64",
          "MN06",
          "MN07",
          "MN05",
          "MN04",
          "MN02",
          "MN11",
          "MN03",
          "MN10",
          "MN09",
          "MN01",
          "QN02",
          "QN01",
          "BX01",
          "QN12",
          "QN03",
          "QN04",
          "BX02",
          "QN10",
          "QN06",
          "QN09",
          "BK01",
          "BX04",
          "BK02",
          "BX03",
          "QN05",
          "MN12",
          "BK03",
          "BK04",
          "BK55",
          "QN07",
          "BK05",
          "QN81",
          "BK16",
          "BK06",
          "BX05",
          "BK09",
          "BX09",
          "BK17",
          "BX11",
          "BX06",
          "BX07",
          "QN14",
          "BK18",
          "BX10",
          "BK07",
          "BK14",
          "BX08",
          "BK15",
          "BK13",
          "BX12",
          "BK12",
          "BK10",
          "BK11",
          "QN83",
          "SI01"
         ],
         "yaxis": "y"
        }
       ],
       "layout": {
        "legend": {
         "title": {
          "text": "variable"
         },
         "tracegroupgap": 0
        },
        "margin": {
         "t": 60
        },
        "template": {
         "data": {
          "bar": [
           {
            "error_x": {
             "color": "#2a3f5f"
            },
            "error_y": {
             "color": "#2a3f5f"
            },
            "marker": {
             "line": {
              "color": "#E5ECF6",
              "width": 0.5
             },
             "pattern": {
              "fillmode": "overlay",
              "size": 10,
              "solidity": 0.2
             }
            },
            "type": "bar"
           }
          ],
          "barpolar": [
           {
            "marker": {
             "line": {
              "color": "#E5ECF6",
              "width": 0.5
             },
             "pattern": {
              "fillmode": "overlay",
              "size": 10,
              "solidity": 0.2
             }
            },
            "type": "barpolar"
           }
          ],
          "carpet": [
           {
            "aaxis": {
             "endlinecolor": "#2a3f5f",
             "gridcolor": "white",
             "linecolor": "white",
             "minorgridcolor": "white",
             "startlinecolor": "#2a3f5f"
            },
            "baxis": {
             "endlinecolor": "#2a3f5f",
             "gridcolor": "white",
             "linecolor": "white",
             "minorgridcolor": "white",
             "startlinecolor": "#2a3f5f"
            },
            "type": "carpet"
           }
          ],
          "choropleth": [
           {
            "colorbar": {
             "outlinewidth": 0,
             "ticks": ""
            },
            "type": "choropleth"
           }
          ],
          "contour": [
           {
            "colorbar": {
             "outlinewidth": 0,
             "ticks": ""
            },
            "colorscale": [
             [
              0,
              "#0d0887"
             ],
             [
              0.1111111111111111,
              "#46039f"
             ],
             [
              0.2222222222222222,
              "#7201a8"
             ],
             [
              0.3333333333333333,
              "#9c179e"
             ],
             [
              0.4444444444444444,
              "#bd3786"
             ],
             [
              0.5555555555555556,
              "#d8576b"
             ],
             [
              0.6666666666666666,
              "#ed7953"
             ],
             [
              0.7777777777777778,
              "#fb9f3a"
             ],
             [
              0.8888888888888888,
              "#fdca26"
             ],
             [
              1,
              "#f0f921"
             ]
            ],
            "type": "contour"
           }
          ],
          "contourcarpet": [
           {
            "colorbar": {
             "outlinewidth": 0,
             "ticks": ""
            },
            "type": "contourcarpet"
           }
          ],
          "heatmap": [
           {
            "colorbar": {
             "outlinewidth": 0,
             "ticks": ""
            },
            "colorscale": [
             [
              0,
              "#0d0887"
             ],
             [
              0.1111111111111111,
              "#46039f"
             ],
             [
              0.2222222222222222,
              "#7201a8"
             ],
             [
              0.3333333333333333,
              "#9c179e"
             ],
             [
              0.4444444444444444,
              "#bd3786"
             ],
             [
              0.5555555555555556,
              "#d8576b"
             ],
             [
              0.6666666666666666,
              "#ed7953"
             ],
             [
              0.7777777777777778,
              "#fb9f3a"
             ],
             [
              0.8888888888888888,
              "#fdca26"
             ],
             [
              1,
              "#f0f921"
             ]
            ],
            "type": "heatmap"
           }
          ],
          "heatmapgl": [
           {
            "colorbar": {
             "outlinewidth": 0,
             "ticks": ""
            },
            "colorscale": [
             [
              0,
              "#0d0887"
             ],
             [
              0.1111111111111111,
              "#46039f"
             ],
             [
              0.2222222222222222,
              "#7201a8"
             ],
             [
              0.3333333333333333,
              "#9c179e"
             ],
             [
              0.4444444444444444,
              "#bd3786"
             ],
             [
              0.5555555555555556,
              "#d8576b"
             ],
             [
              0.6666666666666666,
              "#ed7953"
             ],
             [
              0.7777777777777778,
              "#fb9f3a"
             ],
             [
              0.8888888888888888,
              "#fdca26"
             ],
             [
              1,
              "#f0f921"
             ]
            ],
            "type": "heatmapgl"
           }
          ],
          "histogram": [
           {
            "marker": {
             "pattern": {
              "fillmode": "overlay",
              "size": 10,
              "solidity": 0.2
             }
            },
            "type": "histogram"
           }
          ],
          "histogram2d": [
           {
            "colorbar": {
             "outlinewidth": 0,
             "ticks": ""
            },
            "colorscale": [
             [
              0,
              "#0d0887"
             ],
             [
              0.1111111111111111,
              "#46039f"
             ],
             [
              0.2222222222222222,
              "#7201a8"
             ],
             [
              0.3333333333333333,
              "#9c179e"
             ],
             [
              0.4444444444444444,
              "#bd3786"
             ],
             [
              0.5555555555555556,
              "#d8576b"
             ],
             [
              0.6666666666666666,
              "#ed7953"
             ],
             [
              0.7777777777777778,
              "#fb9f3a"
             ],
             [
              0.8888888888888888,
              "#fdca26"
             ],
             [
              1,
              "#f0f921"
             ]
            ],
            "type": "histogram2d"
           }
          ],
          "histogram2dcontour": [
           {
            "colorbar": {
             "outlinewidth": 0,
             "ticks": ""
            },
            "colorscale": [
             [
              0,
              "#0d0887"
             ],
             [
              0.1111111111111111,
              "#46039f"
             ],
             [
              0.2222222222222222,
              "#7201a8"
             ],
             [
              0.3333333333333333,
              "#9c179e"
             ],
             [
              0.4444444444444444,
              "#bd3786"
             ],
             [
              0.5555555555555556,
              "#d8576b"
             ],
             [
              0.6666666666666666,
              "#ed7953"
             ],
             [
              0.7777777777777778,
              "#fb9f3a"
             ],
             [
              0.8888888888888888,
              "#fdca26"
             ],
             [
              1,
              "#f0f921"
             ]
            ],
            "type": "histogram2dcontour"
           }
          ],
          "mesh3d": [
           {
            "colorbar": {
             "outlinewidth": 0,
             "ticks": ""
            },
            "type": "mesh3d"
           }
          ],
          "parcoords": [
           {
            "line": {
             "colorbar": {
              "outlinewidth": 0,
              "ticks": ""
             }
            },
            "type": "parcoords"
           }
          ],
          "pie": [
           {
            "automargin": true,
            "type": "pie"
           }
          ],
          "scatter": [
           {
            "fillpattern": {
             "fillmode": "overlay",
             "size": 10,
             "solidity": 0.2
            },
            "type": "scatter"
           }
          ],
          "scatter3d": [
           {
            "line": {
             "colorbar": {
              "outlinewidth": 0,
              "ticks": ""
             }
            },
            "marker": {
             "colorbar": {
              "outlinewidth": 0,
              "ticks": ""
             }
            },
            "type": "scatter3d"
           }
          ],
          "scattercarpet": [
           {
            "marker": {
             "colorbar": {
              "outlinewidth": 0,
              "ticks": ""
             }
            },
            "type": "scattercarpet"
           }
          ],
          "scattergeo": [
           {
            "marker": {
             "colorbar": {
              "outlinewidth": 0,
              "ticks": ""
             }
            },
            "type": "scattergeo"
           }
          ],
          "scattergl": [
           {
            "marker": {
             "colorbar": {
              "outlinewidth": 0,
              "ticks": ""
             }
            },
            "type": "scattergl"
           }
          ],
          "scattermapbox": [
           {
            "marker": {
             "colorbar": {
              "outlinewidth": 0,
              "ticks": ""
             }
            },
            "type": "scattermapbox"
           }
          ],
          "scatterpolar": [
           {
            "marker": {
             "colorbar": {
              "outlinewidth": 0,
              "ticks": ""
             }
            },
            "type": "scatterpolar"
           }
          ],
          "scatterpolargl": [
           {
            "marker": {
             "colorbar": {
              "outlinewidth": 0,
              "ticks": ""
             }
            },
            "type": "scatterpolargl"
           }
          ],
          "scatterternary": [
           {
            "marker": {
             "colorbar": {
              "outlinewidth": 0,
              "ticks": ""
             }
            },
            "type": "scatterternary"
           }
          ],
          "surface": [
           {
            "colorbar": {
             "outlinewidth": 0,
             "ticks": ""
            },
            "colorscale": [
             [
              0,
              "#0d0887"
             ],
             [
              0.1111111111111111,
              "#46039f"
             ],
             [
              0.2222222222222222,
              "#7201a8"
             ],
             [
              0.3333333333333333,
              "#9c179e"
             ],
             [
              0.4444444444444444,
              "#bd3786"
             ],
             [
              0.5555555555555556,
              "#d8576b"
             ],
             [
              0.6666666666666666,
              "#ed7953"
             ],
             [
              0.7777777777777778,
              "#fb9f3a"
             ],
             [
              0.8888888888888888,
              "#fdca26"
             ],
             [
              1,
              "#f0f921"
             ]
            ],
            "type": "surface"
           }
          ],
          "table": [
           {
            "cells": {
             "fill": {
              "color": "#EBF0F8"
             },
             "line": {
              "color": "white"
             }
            },
            "header": {
             "fill": {
              "color": "#C8D4E3"
             },
             "line": {
              "color": "white"
             }
            },
            "type": "table"
           }
          ]
         },
         "layout": {
          "annotationdefaults": {
           "arrowcolor": "#2a3f5f",
           "arrowhead": 0,
           "arrowwidth": 1
          },
          "autotypenumbers": "strict",
          "coloraxis": {
           "colorbar": {
            "outlinewidth": 0,
            "ticks": ""
           }
          },
          "colorscale": {
           "diverging": [
            [
             0,
             "#8e0152"
            ],
            [
             0.1,
             "#c51b7d"
            ],
            [
             0.2,
             "#de77ae"
            ],
            [
             0.3,
             "#f1b6da"
            ],
            [
             0.4,
             "#fde0ef"
            ],
            [
             0.5,
             "#f7f7f7"
            ],
            [
             0.6,
             "#e6f5d0"
            ],
            [
             0.7,
             "#b8e186"
            ],
            [
             0.8,
             "#7fbc41"
            ],
            [
             0.9,
             "#4d9221"
            ],
            [
             1,
             "#276419"
            ]
           ],
           "sequential": [
            [
             0,
             "#0d0887"
            ],
            [
             0.1111111111111111,
             "#46039f"
            ],
            [
             0.2222222222222222,
             "#7201a8"
            ],
            [
             0.3333333333333333,
             "#9c179e"
            ],
            [
             0.4444444444444444,
             "#bd3786"
            ],
            [
             0.5555555555555556,
             "#d8576b"
            ],
            [
             0.6666666666666666,
             "#ed7953"
            ],
            [
             0.7777777777777778,
             "#fb9f3a"
            ],
            [
             0.8888888888888888,
             "#fdca26"
            ],
            [
             1,
             "#f0f921"
            ]
           ],
           "sequentialminus": [
            [
             0,
             "#0d0887"
            ],
            [
             0.1111111111111111,
             "#46039f"
            ],
            [
             0.2222222222222222,
             "#7201a8"
            ],
            [
             0.3333333333333333,
             "#9c179e"
            ],
            [
             0.4444444444444444,
             "#bd3786"
            ],
            [
             0.5555555555555556,
             "#d8576b"
            ],
            [
             0.6666666666666666,
             "#ed7953"
            ],
            [
             0.7777777777777778,
             "#fb9f3a"
            ],
            [
             0.8888888888888888,
             "#fdca26"
            ],
            [
             1,
             "#f0f921"
            ]
           ]
          },
          "colorway": [
           "#636efa",
           "#EF553B",
           "#00cc96",
           "#ab63fa",
           "#FFA15A",
           "#19d3f3",
           "#FF6692",
           "#B6E880",
           "#FF97FF",
           "#FECB52"
          ],
          "font": {
           "color": "#2a3f5f"
          },
          "geo": {
           "bgcolor": "white",
           "lakecolor": "white",
           "landcolor": "#E5ECF6",
           "showlakes": true,
           "showland": true,
           "subunitcolor": "white"
          },
          "hoverlabel": {
           "align": "left"
          },
          "hovermode": "closest",
          "mapbox": {
           "style": "light"
          },
          "paper_bgcolor": "white",
          "plot_bgcolor": "#E5ECF6",
          "polar": {
           "angularaxis": {
            "gridcolor": "white",
            "linecolor": "white",
            "ticks": ""
           },
           "bgcolor": "#E5ECF6",
           "radialaxis": {
            "gridcolor": "white",
            "linecolor": "white",
            "ticks": ""
           }
          },
          "scene": {
           "xaxis": {
            "backgroundcolor": "#E5ECF6",
            "gridcolor": "white",
            "gridwidth": 2,
            "linecolor": "white",
            "showbackground": true,
            "ticks": "",
            "zerolinecolor": "white"
           },
           "yaxis": {
            "backgroundcolor": "#E5ECF6",
            "gridcolor": "white",
            "gridwidth": 2,
            "linecolor": "white",
            "showbackground": true,
            "ticks": "",
            "zerolinecolor": "white"
           },
           "zaxis": {
            "backgroundcolor": "#E5ECF6",
            "gridcolor": "white",
            "gridwidth": 2,
            "linecolor": "white",
            "showbackground": true,
            "ticks": "",
            "zerolinecolor": "white"
           }
          },
          "shapedefaults": {
           "line": {
            "color": "#2a3f5f"
           }
          },
          "ternary": {
           "aaxis": {
            "gridcolor": "white",
            "linecolor": "white",
            "ticks": ""
           },
           "baxis": {
            "gridcolor": "white",
            "linecolor": "white",
            "ticks": ""
           },
           "bgcolor": "#E5ECF6",
           "caxis": {
            "gridcolor": "white",
            "linecolor": "white",
            "ticks": ""
           }
          },
          "title": {
           "x": 0.05
          },
          "xaxis": {
           "automargin": true,
           "gridcolor": "white",
           "linecolor": "white",
           "ticks": "",
           "title": {
            "standoff": 15
           },
           "zerolinecolor": "white",
           "zerolinewidth": 2
          },
          "yaxis": {
           "automargin": true,
           "gridcolor": "white",
           "linecolor": "white",
           "ticks": "",
           "title": {
            "standoff": 15
           },
           "zerolinecolor": "white",
           "zerolinewidth": 2
          }
         }
        },
        "xaxis": {
         "anchor": "y",
         "domain": [
          0,
          1
         ],
         "title": {
          "text": "value"
         },
         "type": "log"
        },
        "yaxis": {
         "anchor": "x",
         "domain": [
          0,
          1
         ],
         "title": {
          "text": "CDTA"
         }
        }
       }
      },
      "text/html": [
       "<div>                            <div id=\"9354d13e-6b94-4466-b02d-998263ea5f5e\" class=\"plotly-graph-div\" style=\"height:525px; width:100%;\"></div>            <script type=\"text/javascript\">                require([\"plotly\"], function(Plotly) {                    window.PLOTLYENV=window.PLOTLYENV || {};                                    if (document.getElementById(\"9354d13e-6b94-4466-b02d-998263ea5f5e\")) {                    Plotly.newPlot(                        \"9354d13e-6b94-4466-b02d-998263ea5f5e\",                        [{\"hovertemplate\":\"variable=PU_average_trip_distance (mile)<br>value=%{x}<br>CDTA=%{y}<extra></extra>\",\"legendgroup\":\"PU_average_trip_distance (mile)\",\"marker\":{\"color\":\"#636efa\",\"symbol\":\"circle\"},\"mode\":\"markers\",\"name\":\"PU_average_trip_distance (mile)\",\"orientation\":\"h\",\"showlegend\":true,\"x\":[2.23178213388794,2.252731273508653,2.50372936352992,2.519568935449195,2.581866480159918,2.6433841710980777,2.7116586813118406,2.883517131061738,3.1125235672715514,3.823612532181712,3.908093606485364,4.657171336090534,4.963847068307101,5.178680382452464,5.439748265289657,5.620514227691415,5.836489595187774,5.929425868895732,5.95837401037401,6.346985620536576,6.614678909170882,6.62794895124988,6.868843200167508,6.928993468896198,6.987192335177196,7.438045293522267,7.510469218944441,7.640887097417887,7.654210616229409,7.879692740671966,7.939311357702349,8.263297360703811,8.26814007064967,8.312844497607657,8.379086712414225,8.68605383960285,9.024079634464751,9.320493407060823,9.533552378333791,10.092240201366415,10.200067007382168,10.229204033469212,10.292785023611422,11.041871601008092,11.17826043453402,11.39595303285594,11.448719687976936,11.886453792287208,11.959109822283708,12.855352112676057,12.860710647285376,12.942341389728098,13.206132204655797,13.681980779498131,13.744833132892364,14.237456112924733,19.747866440294285],\"xaxis\":\"x\",\"y\":[\"MN08\",\"MN64\",\"MN06\",\"MN07\",\"MN05\",\"MN04\",\"MN02\",\"MN11\",\"MN03\",\"MN10\",\"MN09\",\"MN01\",\"QN02\",\"QN01\",\"BX01\",\"QN12\",\"QN03\",\"QN04\",\"BX02\",\"QN10\",\"QN06\",\"QN09\",\"BK01\",\"BX04\",\"BK02\",\"BX03\",\"QN05\",\"MN12\",\"BK03\",\"BK04\",\"BK55\",\"QN07\",\"BK05\",\"QN81\",\"BK16\",\"BK06\",\"BX05\",\"BK09\",\"BX09\",\"BK17\",\"BX11\",\"BX06\",\"BX07\",\"QN14\",\"BK18\",\"BX10\",\"BK07\",\"BK14\",\"BX08\",\"BK15\",\"BK13\",\"BX12\",\"BK12\",\"BK10\",\"BK11\",\"QN83\",\"SI01\"],\"yaxis\":\"y\",\"type\":\"scatter\"}],                        {\"template\":{\"data\":{\"histogram2dcontour\":[{\"type\":\"histogram2dcontour\",\"colorbar\":{\"outlinewidth\":0,\"ticks\":\"\"},\"colorscale\":[[0.0,\"#0d0887\"],[0.1111111111111111,\"#46039f\"],[0.2222222222222222,\"#7201a8\"],[0.3333333333333333,\"#9c179e\"],[0.4444444444444444,\"#bd3786\"],[0.5555555555555556,\"#d8576b\"],[0.6666666666666666,\"#ed7953\"],[0.7777777777777778,\"#fb9f3a\"],[0.8888888888888888,\"#fdca26\"],[1.0,\"#f0f921\"]]}],\"choropleth\":[{\"type\":\"choropleth\",\"colorbar\":{\"outlinewidth\":0,\"ticks\":\"\"}}],\"histogram2d\":[{\"type\":\"histogram2d\",\"colorbar\":{\"outlinewidth\":0,\"ticks\":\"\"},\"colorscale\":[[0.0,\"#0d0887\"],[0.1111111111111111,\"#46039f\"],[0.2222222222222222,\"#7201a8\"],[0.3333333333333333,\"#9c179e\"],[0.4444444444444444,\"#bd3786\"],[0.5555555555555556,\"#d8576b\"],[0.6666666666666666,\"#ed7953\"],[0.7777777777777778,\"#fb9f3a\"],[0.8888888888888888,\"#fdca26\"],[1.0,\"#f0f921\"]]}],\"heatmap\":[{\"type\":\"heatmap\",\"colorbar\":{\"outlinewidth\":0,\"ticks\":\"\"},\"colorscale\":[[0.0,\"#0d0887\"],[0.1111111111111111,\"#46039f\"],[0.2222222222222222,\"#7201a8\"],[0.3333333333333333,\"#9c179e\"],[0.4444444444444444,\"#bd3786\"],[0.5555555555555556,\"#d8576b\"],[0.6666666666666666,\"#ed7953\"],[0.7777777777777778,\"#fb9f3a\"],[0.8888888888888888,\"#fdca26\"],[1.0,\"#f0f921\"]]}],\"heatmapgl\":[{\"type\":\"heatmapgl\",\"colorbar\":{\"outlinewidth\":0,\"ticks\":\"\"},\"colorscale\":[[0.0,\"#0d0887\"],[0.1111111111111111,\"#46039f\"],[0.2222222222222222,\"#7201a8\"],[0.3333333333333333,\"#9c179e\"],[0.4444444444444444,\"#bd3786\"],[0.5555555555555556,\"#d8576b\"],[0.6666666666666666,\"#ed7953\"],[0.7777777777777778,\"#fb9f3a\"],[0.8888888888888888,\"#fdca26\"],[1.0,\"#f0f921\"]]}],\"contourcarpet\":[{\"type\":\"contourcarpet\",\"colorbar\":{\"outlinewidth\":0,\"ticks\":\"\"}}],\"contour\":[{\"type\":\"contour\",\"colorbar\":{\"outlinewidth\":0,\"ticks\":\"\"},\"colorscale\":[[0.0,\"#0d0887\"],[0.1111111111111111,\"#46039f\"],[0.2222222222222222,\"#7201a8\"],[0.3333333333333333,\"#9c179e\"],[0.4444444444444444,\"#bd3786\"],[0.5555555555555556,\"#d8576b\"],[0.6666666666666666,\"#ed7953\"],[0.7777777777777778,\"#fb9f3a\"],[0.8888888888888888,\"#fdca26\"],[1.0,\"#f0f921\"]]}],\"surface\":[{\"type\":\"surface\",\"colorbar\":{\"outlinewidth\":0,\"ticks\":\"\"},\"colorscale\":[[0.0,\"#0d0887\"],[0.1111111111111111,\"#46039f\"],[0.2222222222222222,\"#7201a8\"],[0.3333333333333333,\"#9c179e\"],[0.4444444444444444,\"#bd3786\"],[0.5555555555555556,\"#d8576b\"],[0.6666666666666666,\"#ed7953\"],[0.7777777777777778,\"#fb9f3a\"],[0.8888888888888888,\"#fdca26\"],[1.0,\"#f0f921\"]]}],\"mesh3d\":[{\"type\":\"mesh3d\",\"colorbar\":{\"outlinewidth\":0,\"ticks\":\"\"}}],\"scatter\":[{\"fillpattern\":{\"fillmode\":\"overlay\",\"size\":10,\"solidity\":0.2},\"type\":\"scatter\"}],\"parcoords\":[{\"type\":\"parcoords\",\"line\":{\"colorbar\":{\"outlinewidth\":0,\"ticks\":\"\"}}}],\"scatterpolargl\":[{\"type\":\"scatterpolargl\",\"marker\":{\"colorbar\":{\"outlinewidth\":0,\"ticks\":\"\"}}}],\"bar\":[{\"error_x\":{\"color\":\"#2a3f5f\"},\"error_y\":{\"color\":\"#2a3f5f\"},\"marker\":{\"line\":{\"color\":\"#E5ECF6\",\"width\":0.5},\"pattern\":{\"fillmode\":\"overlay\",\"size\":10,\"solidity\":0.2}},\"type\":\"bar\"}],\"scattergeo\":[{\"type\":\"scattergeo\",\"marker\":{\"colorbar\":{\"outlinewidth\":0,\"ticks\":\"\"}}}],\"scatterpolar\":[{\"type\":\"scatterpolar\",\"marker\":{\"colorbar\":{\"outlinewidth\":0,\"ticks\":\"\"}}}],\"histogram\":[{\"marker\":{\"pattern\":{\"fillmode\":\"overlay\",\"size\":10,\"solidity\":0.2}},\"type\":\"histogram\"}],\"scattergl\":[{\"type\":\"scattergl\",\"marker\":{\"colorbar\":{\"outlinewidth\":0,\"ticks\":\"\"}}}],\"scatter3d\":[{\"type\":\"scatter3d\",\"line\":{\"colorbar\":{\"outlinewidth\":0,\"ticks\":\"\"}},\"marker\":{\"colorbar\":{\"outlinewidth\":0,\"ticks\":\"\"}}}],\"scattermapbox\":[{\"type\":\"scattermapbox\",\"marker\":{\"colorbar\":{\"outlinewidth\":0,\"ticks\":\"\"}}}],\"scatterternary\":[{\"type\":\"scatterternary\",\"marker\":{\"colorbar\":{\"outlinewidth\":0,\"ticks\":\"\"}}}],\"scattercarpet\":[{\"type\":\"scattercarpet\",\"marker\":{\"colorbar\":{\"outlinewidth\":0,\"ticks\":\"\"}}}],\"carpet\":[{\"aaxis\":{\"endlinecolor\":\"#2a3f5f\",\"gridcolor\":\"white\",\"linecolor\":\"white\",\"minorgridcolor\":\"white\",\"startlinecolor\":\"#2a3f5f\"},\"baxis\":{\"endlinecolor\":\"#2a3f5f\",\"gridcolor\":\"white\",\"linecolor\":\"white\",\"minorgridcolor\":\"white\",\"startlinecolor\":\"#2a3f5f\"},\"type\":\"carpet\"}],\"table\":[{\"cells\":{\"fill\":{\"color\":\"#EBF0F8\"},\"line\":{\"color\":\"white\"}},\"header\":{\"fill\":{\"color\":\"#C8D4E3\"},\"line\":{\"color\":\"white\"}},\"type\":\"table\"}],\"barpolar\":[{\"marker\":{\"line\":{\"color\":\"#E5ECF6\",\"width\":0.5},\"pattern\":{\"fillmode\":\"overlay\",\"size\":10,\"solidity\":0.2}},\"type\":\"barpolar\"}],\"pie\":[{\"automargin\":true,\"type\":\"pie\"}]},\"layout\":{\"autotypenumbers\":\"strict\",\"colorway\":[\"#636efa\",\"#EF553B\",\"#00cc96\",\"#ab63fa\",\"#FFA15A\",\"#19d3f3\",\"#FF6692\",\"#B6E880\",\"#FF97FF\",\"#FECB52\"],\"font\":{\"color\":\"#2a3f5f\"},\"hovermode\":\"closest\",\"hoverlabel\":{\"align\":\"left\"},\"paper_bgcolor\":\"white\",\"plot_bgcolor\":\"#E5ECF6\",\"polar\":{\"bgcolor\":\"#E5ECF6\",\"angularaxis\":{\"gridcolor\":\"white\",\"linecolor\":\"white\",\"ticks\":\"\"},\"radialaxis\":{\"gridcolor\":\"white\",\"linecolor\":\"white\",\"ticks\":\"\"}},\"ternary\":{\"bgcolor\":\"#E5ECF6\",\"aaxis\":{\"gridcolor\":\"white\",\"linecolor\":\"white\",\"ticks\":\"\"},\"baxis\":{\"gridcolor\":\"white\",\"linecolor\":\"white\",\"ticks\":\"\"},\"caxis\":{\"gridcolor\":\"white\",\"linecolor\":\"white\",\"ticks\":\"\"}},\"coloraxis\":{\"colorbar\":{\"outlinewidth\":0,\"ticks\":\"\"}},\"colorscale\":{\"sequential\":[[0.0,\"#0d0887\"],[0.1111111111111111,\"#46039f\"],[0.2222222222222222,\"#7201a8\"],[0.3333333333333333,\"#9c179e\"],[0.4444444444444444,\"#bd3786\"],[0.5555555555555556,\"#d8576b\"],[0.6666666666666666,\"#ed7953\"],[0.7777777777777778,\"#fb9f3a\"],[0.8888888888888888,\"#fdca26\"],[1.0,\"#f0f921\"]],\"sequentialminus\":[[0.0,\"#0d0887\"],[0.1111111111111111,\"#46039f\"],[0.2222222222222222,\"#7201a8\"],[0.3333333333333333,\"#9c179e\"],[0.4444444444444444,\"#bd3786\"],[0.5555555555555556,\"#d8576b\"],[0.6666666666666666,\"#ed7953\"],[0.7777777777777778,\"#fb9f3a\"],[0.8888888888888888,\"#fdca26\"],[1.0,\"#f0f921\"]],\"diverging\":[[0,\"#8e0152\"],[0.1,\"#c51b7d\"],[0.2,\"#de77ae\"],[0.3,\"#f1b6da\"],[0.4,\"#fde0ef\"],[0.5,\"#f7f7f7\"],[0.6,\"#e6f5d0\"],[0.7,\"#b8e186\"],[0.8,\"#7fbc41\"],[0.9,\"#4d9221\"],[1,\"#276419\"]]},\"xaxis\":{\"gridcolor\":\"white\",\"linecolor\":\"white\",\"ticks\":\"\",\"title\":{\"standoff\":15},\"zerolinecolor\":\"white\",\"automargin\":true,\"zerolinewidth\":2},\"yaxis\":{\"gridcolor\":\"white\",\"linecolor\":\"white\",\"ticks\":\"\",\"title\":{\"standoff\":15},\"zerolinecolor\":\"white\",\"automargin\":true,\"zerolinewidth\":2},\"scene\":{\"xaxis\":{\"backgroundcolor\":\"#E5ECF6\",\"gridcolor\":\"white\",\"linecolor\":\"white\",\"showbackground\":true,\"ticks\":\"\",\"zerolinecolor\":\"white\",\"gridwidth\":2},\"yaxis\":{\"backgroundcolor\":\"#E5ECF6\",\"gridcolor\":\"white\",\"linecolor\":\"white\",\"showbackground\":true,\"ticks\":\"\",\"zerolinecolor\":\"white\",\"gridwidth\":2},\"zaxis\":{\"backgroundcolor\":\"#E5ECF6\",\"gridcolor\":\"white\",\"linecolor\":\"white\",\"showbackground\":true,\"ticks\":\"\",\"zerolinecolor\":\"white\",\"gridwidth\":2}},\"shapedefaults\":{\"line\":{\"color\":\"#2a3f5f\"}},\"annotationdefaults\":{\"arrowcolor\":\"#2a3f5f\",\"arrowhead\":0,\"arrowwidth\":1},\"geo\":{\"bgcolor\":\"white\",\"landcolor\":\"#E5ECF6\",\"subunitcolor\":\"white\",\"showland\":true,\"showlakes\":true,\"lakecolor\":\"white\"},\"title\":{\"x\":0.05},\"mapbox\":{\"style\":\"light\"}}},\"xaxis\":{\"anchor\":\"y\",\"domain\":[0.0,1.0],\"title\":{\"text\":\"value\"},\"type\":\"log\"},\"yaxis\":{\"anchor\":\"x\",\"domain\":[0.0,1.0],\"title\":{\"text\":\"CDTA\"}},\"legend\":{\"title\":{\"text\":\"variable\"},\"tracegroupgap\":0},\"margin\":{\"t\":60}},                        {\"responsive\": true}                    ).then(function(){\n",
       "                            \n",
       "var gd = document.getElementById('9354d13e-6b94-4466-b02d-998263ea5f5e');\n",
       "var x = new MutationObserver(function (mutations, observer) {{\n",
       "        var display = window.getComputedStyle(gd).display;\n",
       "        if (!display || display === 'none') {{\n",
       "            console.log([gd, 'removed!']);\n",
       "            Plotly.purge(gd);\n",
       "            observer.disconnect();\n",
       "        }}\n",
       "}});\n",
       "\n",
       "// Listen for the removal of the full notebook cells\n",
       "var notebookContainer = gd.closest('#notebook-container');\n",
       "if (notebookContainer) {{\n",
       "    x.observe(notebookContainer, {childList: true});\n",
       "}}\n",
       "\n",
       "// Listen for the clearing of the current output cell\n",
       "var outputEl = gd.closest('.output');\n",
       "if (outputEl) {{\n",
       "    x.observe(outputEl, {childList: true});\n",
       "}}\n",
       "\n",
       "                        })                };                });            </script>        </div>"
      ]
     },
     "metadata": {},
     "output_type": "display_data"
    }
   ],
   "source": [
    "df_taxi_subway = df_taxi_subway.sort_values(['PU_average_trip_distance (mile)'], ascending=[True])\n",
    "fig = px.scatter(df_taxi_subway, y='CDTA', x=['PU_average_trip_distance (mile)'],log_x = True)\n",
    "fig.show()\n"
   ]
  },
  {
   "cell_type": "code",
   "execution_count": 117,
   "id": "cda61cfa",
   "metadata": {},
   "outputs": [
    {
     "data": {
      "application/vnd.plotly.v1+json": {
       "config": {
        "plotlyServerURL": "https://plot.ly"
       },
       "data": [
        {
         "hovertemplate": "variable=PU_average_fare<br>value=%{x}<br>CDTA=%{y}<extra></extra>",
         "legendgroup": "PU_average_fare",
         "marker": {
          "color": "#636efa",
          "symbol": "circle"
         },
         "mode": "markers",
         "name": "PU_average_fare",
         "orientation": "h",
         "showlegend": true,
         "type": "scatter",
         "x": [
          16.491724321394123,
          16.533813575142293,
          16.6705903717905,
          17.248767604811828,
          17.256715972073984,
          18.182721280272517,
          18.251423133985572,
          18.571386976798564,
          19.661212565169947,
          20.28728942778839,
          20.542185815262968,
          23.267875136977228,
          24.46350113653543,
          24.61067574279596,
          24.83062772309182,
          25.608220148441845,
          26.31703167619885,
          26.682382539424484,
          26.76569860769861,
          29.41248890175642,
          29.52731086430613,
          29.585061775691983,
          30.092041780536384,
          31.76519874017415,
          31.80285892880237,
          31.85445470647773,
          31.97573380692022,
          32.05102225312935,
          33.67101661779081,
          34.105145138995546,
          34.4699836485662,
          35.07952213775895,
          35.96406766753699,
          35.9712027448534,
          36.85131853785901,
          37.759667464114834,
          38.266473283842,
          38.27716864341649,
          39.56441003828159,
          40.34043779216109,
          41.158403776013735,
          42.43029088050314,
          42.4521601362862,
          42.49415111310996,
          46.23789385004212,
          46.51462983026363,
          46.605955570629135,
          47.10255251997238,
          47.29049537086304,
          48.0047499668391,
          49.24474169052658,
          49.52000604229608,
          50.41717728910424,
          50.868831930246536,
          52.33384810464496,
          61.23985921191779,
          82.05130730050934
         ],
         "xaxis": "x",
         "y": [
          "MN08",
          "MN64",
          "MN11",
          "MN06",
          "MN07",
          "MN04",
          "MN05",
          "MN02",
          "MN03",
          "MN10",
          "MN09",
          "QN01",
          "MN01",
          "QN02",
          "BX01",
          "QN12",
          "QN04",
          "QN03",
          "BX02",
          "QN10",
          "QN06",
          "QN09",
          "BX04",
          "BK02",
          "BK01",
          "BX03",
          "MN12",
          "QN05",
          "QN07",
          "BK05",
          "BK03",
          "BK04",
          "BX05",
          "BK16",
          "BK55",
          "QN81",
          "BX09",
          "BK06",
          "BK09",
          "BK17",
          "BX06",
          "BK18",
          "BX11",
          "BX07",
          "BX10",
          "BK15",
          "BK07",
          "BK14",
          "BX08",
          "QN14",
          "BK12",
          "BX12",
          "BK13",
          "BK11",
          "BK10",
          "QN83",
          "SI01"
         ],
         "yaxis": "y"
        }
       ],
       "layout": {
        "legend": {
         "title": {
          "text": "variable"
         },
         "tracegroupgap": 0
        },
        "margin": {
         "t": 60
        },
        "template": {
         "data": {
          "bar": [
           {
            "error_x": {
             "color": "#2a3f5f"
            },
            "error_y": {
             "color": "#2a3f5f"
            },
            "marker": {
             "line": {
              "color": "#E5ECF6",
              "width": 0.5
             },
             "pattern": {
              "fillmode": "overlay",
              "size": 10,
              "solidity": 0.2
             }
            },
            "type": "bar"
           }
          ],
          "barpolar": [
           {
            "marker": {
             "line": {
              "color": "#E5ECF6",
              "width": 0.5
             },
             "pattern": {
              "fillmode": "overlay",
              "size": 10,
              "solidity": 0.2
             }
            },
            "type": "barpolar"
           }
          ],
          "carpet": [
           {
            "aaxis": {
             "endlinecolor": "#2a3f5f",
             "gridcolor": "white",
             "linecolor": "white",
             "minorgridcolor": "white",
             "startlinecolor": "#2a3f5f"
            },
            "baxis": {
             "endlinecolor": "#2a3f5f",
             "gridcolor": "white",
             "linecolor": "white",
             "minorgridcolor": "white",
             "startlinecolor": "#2a3f5f"
            },
            "type": "carpet"
           }
          ],
          "choropleth": [
           {
            "colorbar": {
             "outlinewidth": 0,
             "ticks": ""
            },
            "type": "choropleth"
           }
          ],
          "contour": [
           {
            "colorbar": {
             "outlinewidth": 0,
             "ticks": ""
            },
            "colorscale": [
             [
              0,
              "#0d0887"
             ],
             [
              0.1111111111111111,
              "#46039f"
             ],
             [
              0.2222222222222222,
              "#7201a8"
             ],
             [
              0.3333333333333333,
              "#9c179e"
             ],
             [
              0.4444444444444444,
              "#bd3786"
             ],
             [
              0.5555555555555556,
              "#d8576b"
             ],
             [
              0.6666666666666666,
              "#ed7953"
             ],
             [
              0.7777777777777778,
              "#fb9f3a"
             ],
             [
              0.8888888888888888,
              "#fdca26"
             ],
             [
              1,
              "#f0f921"
             ]
            ],
            "type": "contour"
           }
          ],
          "contourcarpet": [
           {
            "colorbar": {
             "outlinewidth": 0,
             "ticks": ""
            },
            "type": "contourcarpet"
           }
          ],
          "heatmap": [
           {
            "colorbar": {
             "outlinewidth": 0,
             "ticks": ""
            },
            "colorscale": [
             [
              0,
              "#0d0887"
             ],
             [
              0.1111111111111111,
              "#46039f"
             ],
             [
              0.2222222222222222,
              "#7201a8"
             ],
             [
              0.3333333333333333,
              "#9c179e"
             ],
             [
              0.4444444444444444,
              "#bd3786"
             ],
             [
              0.5555555555555556,
              "#d8576b"
             ],
             [
              0.6666666666666666,
              "#ed7953"
             ],
             [
              0.7777777777777778,
              "#fb9f3a"
             ],
             [
              0.8888888888888888,
              "#fdca26"
             ],
             [
              1,
              "#f0f921"
             ]
            ],
            "type": "heatmap"
           }
          ],
          "heatmapgl": [
           {
            "colorbar": {
             "outlinewidth": 0,
             "ticks": ""
            },
            "colorscale": [
             [
              0,
              "#0d0887"
             ],
             [
              0.1111111111111111,
              "#46039f"
             ],
             [
              0.2222222222222222,
              "#7201a8"
             ],
             [
              0.3333333333333333,
              "#9c179e"
             ],
             [
              0.4444444444444444,
              "#bd3786"
             ],
             [
              0.5555555555555556,
              "#d8576b"
             ],
             [
              0.6666666666666666,
              "#ed7953"
             ],
             [
              0.7777777777777778,
              "#fb9f3a"
             ],
             [
              0.8888888888888888,
              "#fdca26"
             ],
             [
              1,
              "#f0f921"
             ]
            ],
            "type": "heatmapgl"
           }
          ],
          "histogram": [
           {
            "marker": {
             "pattern": {
              "fillmode": "overlay",
              "size": 10,
              "solidity": 0.2
             }
            },
            "type": "histogram"
           }
          ],
          "histogram2d": [
           {
            "colorbar": {
             "outlinewidth": 0,
             "ticks": ""
            },
            "colorscale": [
             [
              0,
              "#0d0887"
             ],
             [
              0.1111111111111111,
              "#46039f"
             ],
             [
              0.2222222222222222,
              "#7201a8"
             ],
             [
              0.3333333333333333,
              "#9c179e"
             ],
             [
              0.4444444444444444,
              "#bd3786"
             ],
             [
              0.5555555555555556,
              "#d8576b"
             ],
             [
              0.6666666666666666,
              "#ed7953"
             ],
             [
              0.7777777777777778,
              "#fb9f3a"
             ],
             [
              0.8888888888888888,
              "#fdca26"
             ],
             [
              1,
              "#f0f921"
             ]
            ],
            "type": "histogram2d"
           }
          ],
          "histogram2dcontour": [
           {
            "colorbar": {
             "outlinewidth": 0,
             "ticks": ""
            },
            "colorscale": [
             [
              0,
              "#0d0887"
             ],
             [
              0.1111111111111111,
              "#46039f"
             ],
             [
              0.2222222222222222,
              "#7201a8"
             ],
             [
              0.3333333333333333,
              "#9c179e"
             ],
             [
              0.4444444444444444,
              "#bd3786"
             ],
             [
              0.5555555555555556,
              "#d8576b"
             ],
             [
              0.6666666666666666,
              "#ed7953"
             ],
             [
              0.7777777777777778,
              "#fb9f3a"
             ],
             [
              0.8888888888888888,
              "#fdca26"
             ],
             [
              1,
              "#f0f921"
             ]
            ],
            "type": "histogram2dcontour"
           }
          ],
          "mesh3d": [
           {
            "colorbar": {
             "outlinewidth": 0,
             "ticks": ""
            },
            "type": "mesh3d"
           }
          ],
          "parcoords": [
           {
            "line": {
             "colorbar": {
              "outlinewidth": 0,
              "ticks": ""
             }
            },
            "type": "parcoords"
           }
          ],
          "pie": [
           {
            "automargin": true,
            "type": "pie"
           }
          ],
          "scatter": [
           {
            "fillpattern": {
             "fillmode": "overlay",
             "size": 10,
             "solidity": 0.2
            },
            "type": "scatter"
           }
          ],
          "scatter3d": [
           {
            "line": {
             "colorbar": {
              "outlinewidth": 0,
              "ticks": ""
             }
            },
            "marker": {
             "colorbar": {
              "outlinewidth": 0,
              "ticks": ""
             }
            },
            "type": "scatter3d"
           }
          ],
          "scattercarpet": [
           {
            "marker": {
             "colorbar": {
              "outlinewidth": 0,
              "ticks": ""
             }
            },
            "type": "scattercarpet"
           }
          ],
          "scattergeo": [
           {
            "marker": {
             "colorbar": {
              "outlinewidth": 0,
              "ticks": ""
             }
            },
            "type": "scattergeo"
           }
          ],
          "scattergl": [
           {
            "marker": {
             "colorbar": {
              "outlinewidth": 0,
              "ticks": ""
             }
            },
            "type": "scattergl"
           }
          ],
          "scattermapbox": [
           {
            "marker": {
             "colorbar": {
              "outlinewidth": 0,
              "ticks": ""
             }
            },
            "type": "scattermapbox"
           }
          ],
          "scatterpolar": [
           {
            "marker": {
             "colorbar": {
              "outlinewidth": 0,
              "ticks": ""
             }
            },
            "type": "scatterpolar"
           }
          ],
          "scatterpolargl": [
           {
            "marker": {
             "colorbar": {
              "outlinewidth": 0,
              "ticks": ""
             }
            },
            "type": "scatterpolargl"
           }
          ],
          "scatterternary": [
           {
            "marker": {
             "colorbar": {
              "outlinewidth": 0,
              "ticks": ""
             }
            },
            "type": "scatterternary"
           }
          ],
          "surface": [
           {
            "colorbar": {
             "outlinewidth": 0,
             "ticks": ""
            },
            "colorscale": [
             [
              0,
              "#0d0887"
             ],
             [
              0.1111111111111111,
              "#46039f"
             ],
             [
              0.2222222222222222,
              "#7201a8"
             ],
             [
              0.3333333333333333,
              "#9c179e"
             ],
             [
              0.4444444444444444,
              "#bd3786"
             ],
             [
              0.5555555555555556,
              "#d8576b"
             ],
             [
              0.6666666666666666,
              "#ed7953"
             ],
             [
              0.7777777777777778,
              "#fb9f3a"
             ],
             [
              0.8888888888888888,
              "#fdca26"
             ],
             [
              1,
              "#f0f921"
             ]
            ],
            "type": "surface"
           }
          ],
          "table": [
           {
            "cells": {
             "fill": {
              "color": "#EBF0F8"
             },
             "line": {
              "color": "white"
             }
            },
            "header": {
             "fill": {
              "color": "#C8D4E3"
             },
             "line": {
              "color": "white"
             }
            },
            "type": "table"
           }
          ]
         },
         "layout": {
          "annotationdefaults": {
           "arrowcolor": "#2a3f5f",
           "arrowhead": 0,
           "arrowwidth": 1
          },
          "autotypenumbers": "strict",
          "coloraxis": {
           "colorbar": {
            "outlinewidth": 0,
            "ticks": ""
           }
          },
          "colorscale": {
           "diverging": [
            [
             0,
             "#8e0152"
            ],
            [
             0.1,
             "#c51b7d"
            ],
            [
             0.2,
             "#de77ae"
            ],
            [
             0.3,
             "#f1b6da"
            ],
            [
             0.4,
             "#fde0ef"
            ],
            [
             0.5,
             "#f7f7f7"
            ],
            [
             0.6,
             "#e6f5d0"
            ],
            [
             0.7,
             "#b8e186"
            ],
            [
             0.8,
             "#7fbc41"
            ],
            [
             0.9,
             "#4d9221"
            ],
            [
             1,
             "#276419"
            ]
           ],
           "sequential": [
            [
             0,
             "#0d0887"
            ],
            [
             0.1111111111111111,
             "#46039f"
            ],
            [
             0.2222222222222222,
             "#7201a8"
            ],
            [
             0.3333333333333333,
             "#9c179e"
            ],
            [
             0.4444444444444444,
             "#bd3786"
            ],
            [
             0.5555555555555556,
             "#d8576b"
            ],
            [
             0.6666666666666666,
             "#ed7953"
            ],
            [
             0.7777777777777778,
             "#fb9f3a"
            ],
            [
             0.8888888888888888,
             "#fdca26"
            ],
            [
             1,
             "#f0f921"
            ]
           ],
           "sequentialminus": [
            [
             0,
             "#0d0887"
            ],
            [
             0.1111111111111111,
             "#46039f"
            ],
            [
             0.2222222222222222,
             "#7201a8"
            ],
            [
             0.3333333333333333,
             "#9c179e"
            ],
            [
             0.4444444444444444,
             "#bd3786"
            ],
            [
             0.5555555555555556,
             "#d8576b"
            ],
            [
             0.6666666666666666,
             "#ed7953"
            ],
            [
             0.7777777777777778,
             "#fb9f3a"
            ],
            [
             0.8888888888888888,
             "#fdca26"
            ],
            [
             1,
             "#f0f921"
            ]
           ]
          },
          "colorway": [
           "#636efa",
           "#EF553B",
           "#00cc96",
           "#ab63fa",
           "#FFA15A",
           "#19d3f3",
           "#FF6692",
           "#B6E880",
           "#FF97FF",
           "#FECB52"
          ],
          "font": {
           "color": "#2a3f5f"
          },
          "geo": {
           "bgcolor": "white",
           "lakecolor": "white",
           "landcolor": "#E5ECF6",
           "showlakes": true,
           "showland": true,
           "subunitcolor": "white"
          },
          "hoverlabel": {
           "align": "left"
          },
          "hovermode": "closest",
          "mapbox": {
           "style": "light"
          },
          "paper_bgcolor": "white",
          "plot_bgcolor": "#E5ECF6",
          "polar": {
           "angularaxis": {
            "gridcolor": "white",
            "linecolor": "white",
            "ticks": ""
           },
           "bgcolor": "#E5ECF6",
           "radialaxis": {
            "gridcolor": "white",
            "linecolor": "white",
            "ticks": ""
           }
          },
          "scene": {
           "xaxis": {
            "backgroundcolor": "#E5ECF6",
            "gridcolor": "white",
            "gridwidth": 2,
            "linecolor": "white",
            "showbackground": true,
            "ticks": "",
            "zerolinecolor": "white"
           },
           "yaxis": {
            "backgroundcolor": "#E5ECF6",
            "gridcolor": "white",
            "gridwidth": 2,
            "linecolor": "white",
            "showbackground": true,
            "ticks": "",
            "zerolinecolor": "white"
           },
           "zaxis": {
            "backgroundcolor": "#E5ECF6",
            "gridcolor": "white",
            "gridwidth": 2,
            "linecolor": "white",
            "showbackground": true,
            "ticks": "",
            "zerolinecolor": "white"
           }
          },
          "shapedefaults": {
           "line": {
            "color": "#2a3f5f"
           }
          },
          "ternary": {
           "aaxis": {
            "gridcolor": "white",
            "linecolor": "white",
            "ticks": ""
           },
           "baxis": {
            "gridcolor": "white",
            "linecolor": "white",
            "ticks": ""
           },
           "bgcolor": "#E5ECF6",
           "caxis": {
            "gridcolor": "white",
            "linecolor": "white",
            "ticks": ""
           }
          },
          "title": {
           "x": 0.05
          },
          "xaxis": {
           "automargin": true,
           "gridcolor": "white",
           "linecolor": "white",
           "ticks": "",
           "title": {
            "standoff": 15
           },
           "zerolinecolor": "white",
           "zerolinewidth": 2
          },
          "yaxis": {
           "automargin": true,
           "gridcolor": "white",
           "linecolor": "white",
           "ticks": "",
           "title": {
            "standoff": 15
           },
           "zerolinecolor": "white",
           "zerolinewidth": 2
          }
         }
        },
        "xaxis": {
         "anchor": "y",
         "domain": [
          0,
          1
         ],
         "title": {
          "text": "value"
         },
         "type": "log"
        },
        "yaxis": {
         "anchor": "x",
         "domain": [
          0,
          1
         ],
         "title": {
          "text": "CDTA"
         }
        }
       }
      },
      "text/html": [
       "<div>                            <div id=\"ebdba0de-2cf9-4743-871e-8b5fa6ef59d3\" class=\"plotly-graph-div\" style=\"height:525px; width:100%;\"></div>            <script type=\"text/javascript\">                require([\"plotly\"], function(Plotly) {                    window.PLOTLYENV=window.PLOTLYENV || {};                                    if (document.getElementById(\"ebdba0de-2cf9-4743-871e-8b5fa6ef59d3\")) {                    Plotly.newPlot(                        \"ebdba0de-2cf9-4743-871e-8b5fa6ef59d3\",                        [{\"hovertemplate\":\"variable=PU_average_fare<br>value=%{x}<br>CDTA=%{y}<extra></extra>\",\"legendgroup\":\"PU_average_fare\",\"marker\":{\"color\":\"#636efa\",\"symbol\":\"circle\"},\"mode\":\"markers\",\"name\":\"PU_average_fare\",\"orientation\":\"h\",\"showlegend\":true,\"x\":[16.491724321394123,16.533813575142293,16.6705903717905,17.248767604811828,17.256715972073984,18.182721280272517,18.251423133985572,18.571386976798564,19.661212565169947,20.28728942778839,20.542185815262968,23.267875136977228,24.46350113653543,24.61067574279596,24.83062772309182,25.608220148441845,26.31703167619885,26.682382539424484,26.76569860769861,29.41248890175642,29.52731086430613,29.585061775691983,30.092041780536384,31.76519874017415,31.80285892880237,31.85445470647773,31.97573380692022,32.05102225312935,33.67101661779081,34.105145138995546,34.4699836485662,35.07952213775895,35.96406766753699,35.9712027448534,36.85131853785901,37.759667464114834,38.266473283842,38.27716864341649,39.56441003828159,40.34043779216109,41.158403776013735,42.43029088050314,42.4521601362862,42.49415111310996,46.23789385004212,46.51462983026363,46.605955570629135,47.10255251997238,47.29049537086304,48.0047499668391,49.24474169052658,49.52000604229608,50.41717728910424,50.868831930246536,52.33384810464496,61.23985921191779,82.05130730050934],\"xaxis\":\"x\",\"y\":[\"MN08\",\"MN64\",\"MN11\",\"MN06\",\"MN07\",\"MN04\",\"MN05\",\"MN02\",\"MN03\",\"MN10\",\"MN09\",\"QN01\",\"MN01\",\"QN02\",\"BX01\",\"QN12\",\"QN04\",\"QN03\",\"BX02\",\"QN10\",\"QN06\",\"QN09\",\"BX04\",\"BK02\",\"BK01\",\"BX03\",\"MN12\",\"QN05\",\"QN07\",\"BK05\",\"BK03\",\"BK04\",\"BX05\",\"BK16\",\"BK55\",\"QN81\",\"BX09\",\"BK06\",\"BK09\",\"BK17\",\"BX06\",\"BK18\",\"BX11\",\"BX07\",\"BX10\",\"BK15\",\"BK07\",\"BK14\",\"BX08\",\"QN14\",\"BK12\",\"BX12\",\"BK13\",\"BK11\",\"BK10\",\"QN83\",\"SI01\"],\"yaxis\":\"y\",\"type\":\"scatter\"}],                        {\"template\":{\"data\":{\"histogram2dcontour\":[{\"type\":\"histogram2dcontour\",\"colorbar\":{\"outlinewidth\":0,\"ticks\":\"\"},\"colorscale\":[[0.0,\"#0d0887\"],[0.1111111111111111,\"#46039f\"],[0.2222222222222222,\"#7201a8\"],[0.3333333333333333,\"#9c179e\"],[0.4444444444444444,\"#bd3786\"],[0.5555555555555556,\"#d8576b\"],[0.6666666666666666,\"#ed7953\"],[0.7777777777777778,\"#fb9f3a\"],[0.8888888888888888,\"#fdca26\"],[1.0,\"#f0f921\"]]}],\"choropleth\":[{\"type\":\"choropleth\",\"colorbar\":{\"outlinewidth\":0,\"ticks\":\"\"}}],\"histogram2d\":[{\"type\":\"histogram2d\",\"colorbar\":{\"outlinewidth\":0,\"ticks\":\"\"},\"colorscale\":[[0.0,\"#0d0887\"],[0.1111111111111111,\"#46039f\"],[0.2222222222222222,\"#7201a8\"],[0.3333333333333333,\"#9c179e\"],[0.4444444444444444,\"#bd3786\"],[0.5555555555555556,\"#d8576b\"],[0.6666666666666666,\"#ed7953\"],[0.7777777777777778,\"#fb9f3a\"],[0.8888888888888888,\"#fdca26\"],[1.0,\"#f0f921\"]]}],\"heatmap\":[{\"type\":\"heatmap\",\"colorbar\":{\"outlinewidth\":0,\"ticks\":\"\"},\"colorscale\":[[0.0,\"#0d0887\"],[0.1111111111111111,\"#46039f\"],[0.2222222222222222,\"#7201a8\"],[0.3333333333333333,\"#9c179e\"],[0.4444444444444444,\"#bd3786\"],[0.5555555555555556,\"#d8576b\"],[0.6666666666666666,\"#ed7953\"],[0.7777777777777778,\"#fb9f3a\"],[0.8888888888888888,\"#fdca26\"],[1.0,\"#f0f921\"]]}],\"heatmapgl\":[{\"type\":\"heatmapgl\",\"colorbar\":{\"outlinewidth\":0,\"ticks\":\"\"},\"colorscale\":[[0.0,\"#0d0887\"],[0.1111111111111111,\"#46039f\"],[0.2222222222222222,\"#7201a8\"],[0.3333333333333333,\"#9c179e\"],[0.4444444444444444,\"#bd3786\"],[0.5555555555555556,\"#d8576b\"],[0.6666666666666666,\"#ed7953\"],[0.7777777777777778,\"#fb9f3a\"],[0.8888888888888888,\"#fdca26\"],[1.0,\"#f0f921\"]]}],\"contourcarpet\":[{\"type\":\"contourcarpet\",\"colorbar\":{\"outlinewidth\":0,\"ticks\":\"\"}}],\"contour\":[{\"type\":\"contour\",\"colorbar\":{\"outlinewidth\":0,\"ticks\":\"\"},\"colorscale\":[[0.0,\"#0d0887\"],[0.1111111111111111,\"#46039f\"],[0.2222222222222222,\"#7201a8\"],[0.3333333333333333,\"#9c179e\"],[0.4444444444444444,\"#bd3786\"],[0.5555555555555556,\"#d8576b\"],[0.6666666666666666,\"#ed7953\"],[0.7777777777777778,\"#fb9f3a\"],[0.8888888888888888,\"#fdca26\"],[1.0,\"#f0f921\"]]}],\"surface\":[{\"type\":\"surface\",\"colorbar\":{\"outlinewidth\":0,\"ticks\":\"\"},\"colorscale\":[[0.0,\"#0d0887\"],[0.1111111111111111,\"#46039f\"],[0.2222222222222222,\"#7201a8\"],[0.3333333333333333,\"#9c179e\"],[0.4444444444444444,\"#bd3786\"],[0.5555555555555556,\"#d8576b\"],[0.6666666666666666,\"#ed7953\"],[0.7777777777777778,\"#fb9f3a\"],[0.8888888888888888,\"#fdca26\"],[1.0,\"#f0f921\"]]}],\"mesh3d\":[{\"type\":\"mesh3d\",\"colorbar\":{\"outlinewidth\":0,\"ticks\":\"\"}}],\"scatter\":[{\"fillpattern\":{\"fillmode\":\"overlay\",\"size\":10,\"solidity\":0.2},\"type\":\"scatter\"}],\"parcoords\":[{\"type\":\"parcoords\",\"line\":{\"colorbar\":{\"outlinewidth\":0,\"ticks\":\"\"}}}],\"scatterpolargl\":[{\"type\":\"scatterpolargl\",\"marker\":{\"colorbar\":{\"outlinewidth\":0,\"ticks\":\"\"}}}],\"bar\":[{\"error_x\":{\"color\":\"#2a3f5f\"},\"error_y\":{\"color\":\"#2a3f5f\"},\"marker\":{\"line\":{\"color\":\"#E5ECF6\",\"width\":0.5},\"pattern\":{\"fillmode\":\"overlay\",\"size\":10,\"solidity\":0.2}},\"type\":\"bar\"}],\"scattergeo\":[{\"type\":\"scattergeo\",\"marker\":{\"colorbar\":{\"outlinewidth\":0,\"ticks\":\"\"}}}],\"scatterpolar\":[{\"type\":\"scatterpolar\",\"marker\":{\"colorbar\":{\"outlinewidth\":0,\"ticks\":\"\"}}}],\"histogram\":[{\"marker\":{\"pattern\":{\"fillmode\":\"overlay\",\"size\":10,\"solidity\":0.2}},\"type\":\"histogram\"}],\"scattergl\":[{\"type\":\"scattergl\",\"marker\":{\"colorbar\":{\"outlinewidth\":0,\"ticks\":\"\"}}}],\"scatter3d\":[{\"type\":\"scatter3d\",\"line\":{\"colorbar\":{\"outlinewidth\":0,\"ticks\":\"\"}},\"marker\":{\"colorbar\":{\"outlinewidth\":0,\"ticks\":\"\"}}}],\"scattermapbox\":[{\"type\":\"scattermapbox\",\"marker\":{\"colorbar\":{\"outlinewidth\":0,\"ticks\":\"\"}}}],\"scatterternary\":[{\"type\":\"scatterternary\",\"marker\":{\"colorbar\":{\"outlinewidth\":0,\"ticks\":\"\"}}}],\"scattercarpet\":[{\"type\":\"scattercarpet\",\"marker\":{\"colorbar\":{\"outlinewidth\":0,\"ticks\":\"\"}}}],\"carpet\":[{\"aaxis\":{\"endlinecolor\":\"#2a3f5f\",\"gridcolor\":\"white\",\"linecolor\":\"white\",\"minorgridcolor\":\"white\",\"startlinecolor\":\"#2a3f5f\"},\"baxis\":{\"endlinecolor\":\"#2a3f5f\",\"gridcolor\":\"white\",\"linecolor\":\"white\",\"minorgridcolor\":\"white\",\"startlinecolor\":\"#2a3f5f\"},\"type\":\"carpet\"}],\"table\":[{\"cells\":{\"fill\":{\"color\":\"#EBF0F8\"},\"line\":{\"color\":\"white\"}},\"header\":{\"fill\":{\"color\":\"#C8D4E3\"},\"line\":{\"color\":\"white\"}},\"type\":\"table\"}],\"barpolar\":[{\"marker\":{\"line\":{\"color\":\"#E5ECF6\",\"width\":0.5},\"pattern\":{\"fillmode\":\"overlay\",\"size\":10,\"solidity\":0.2}},\"type\":\"barpolar\"}],\"pie\":[{\"automargin\":true,\"type\":\"pie\"}]},\"layout\":{\"autotypenumbers\":\"strict\",\"colorway\":[\"#636efa\",\"#EF553B\",\"#00cc96\",\"#ab63fa\",\"#FFA15A\",\"#19d3f3\",\"#FF6692\",\"#B6E880\",\"#FF97FF\",\"#FECB52\"],\"font\":{\"color\":\"#2a3f5f\"},\"hovermode\":\"closest\",\"hoverlabel\":{\"align\":\"left\"},\"paper_bgcolor\":\"white\",\"plot_bgcolor\":\"#E5ECF6\",\"polar\":{\"bgcolor\":\"#E5ECF6\",\"angularaxis\":{\"gridcolor\":\"white\",\"linecolor\":\"white\",\"ticks\":\"\"},\"radialaxis\":{\"gridcolor\":\"white\",\"linecolor\":\"white\",\"ticks\":\"\"}},\"ternary\":{\"bgcolor\":\"#E5ECF6\",\"aaxis\":{\"gridcolor\":\"white\",\"linecolor\":\"white\",\"ticks\":\"\"},\"baxis\":{\"gridcolor\":\"white\",\"linecolor\":\"white\",\"ticks\":\"\"},\"caxis\":{\"gridcolor\":\"white\",\"linecolor\":\"white\",\"ticks\":\"\"}},\"coloraxis\":{\"colorbar\":{\"outlinewidth\":0,\"ticks\":\"\"}},\"colorscale\":{\"sequential\":[[0.0,\"#0d0887\"],[0.1111111111111111,\"#46039f\"],[0.2222222222222222,\"#7201a8\"],[0.3333333333333333,\"#9c179e\"],[0.4444444444444444,\"#bd3786\"],[0.5555555555555556,\"#d8576b\"],[0.6666666666666666,\"#ed7953\"],[0.7777777777777778,\"#fb9f3a\"],[0.8888888888888888,\"#fdca26\"],[1.0,\"#f0f921\"]],\"sequentialminus\":[[0.0,\"#0d0887\"],[0.1111111111111111,\"#46039f\"],[0.2222222222222222,\"#7201a8\"],[0.3333333333333333,\"#9c179e\"],[0.4444444444444444,\"#bd3786\"],[0.5555555555555556,\"#d8576b\"],[0.6666666666666666,\"#ed7953\"],[0.7777777777777778,\"#fb9f3a\"],[0.8888888888888888,\"#fdca26\"],[1.0,\"#f0f921\"]],\"diverging\":[[0,\"#8e0152\"],[0.1,\"#c51b7d\"],[0.2,\"#de77ae\"],[0.3,\"#f1b6da\"],[0.4,\"#fde0ef\"],[0.5,\"#f7f7f7\"],[0.6,\"#e6f5d0\"],[0.7,\"#b8e186\"],[0.8,\"#7fbc41\"],[0.9,\"#4d9221\"],[1,\"#276419\"]]},\"xaxis\":{\"gridcolor\":\"white\",\"linecolor\":\"white\",\"ticks\":\"\",\"title\":{\"standoff\":15},\"zerolinecolor\":\"white\",\"automargin\":true,\"zerolinewidth\":2},\"yaxis\":{\"gridcolor\":\"white\",\"linecolor\":\"white\",\"ticks\":\"\",\"title\":{\"standoff\":15},\"zerolinecolor\":\"white\",\"automargin\":true,\"zerolinewidth\":2},\"scene\":{\"xaxis\":{\"backgroundcolor\":\"#E5ECF6\",\"gridcolor\":\"white\",\"linecolor\":\"white\",\"showbackground\":true,\"ticks\":\"\",\"zerolinecolor\":\"white\",\"gridwidth\":2},\"yaxis\":{\"backgroundcolor\":\"#E5ECF6\",\"gridcolor\":\"white\",\"linecolor\":\"white\",\"showbackground\":true,\"ticks\":\"\",\"zerolinecolor\":\"white\",\"gridwidth\":2},\"zaxis\":{\"backgroundcolor\":\"#E5ECF6\",\"gridcolor\":\"white\",\"linecolor\":\"white\",\"showbackground\":true,\"ticks\":\"\",\"zerolinecolor\":\"white\",\"gridwidth\":2}},\"shapedefaults\":{\"line\":{\"color\":\"#2a3f5f\"}},\"annotationdefaults\":{\"arrowcolor\":\"#2a3f5f\",\"arrowhead\":0,\"arrowwidth\":1},\"geo\":{\"bgcolor\":\"white\",\"landcolor\":\"#E5ECF6\",\"subunitcolor\":\"white\",\"showland\":true,\"showlakes\":true,\"lakecolor\":\"white\"},\"title\":{\"x\":0.05},\"mapbox\":{\"style\":\"light\"}}},\"xaxis\":{\"anchor\":\"y\",\"domain\":[0.0,1.0],\"title\":{\"text\":\"value\"},\"type\":\"log\"},\"yaxis\":{\"anchor\":\"x\",\"domain\":[0.0,1.0],\"title\":{\"text\":\"CDTA\"}},\"legend\":{\"title\":{\"text\":\"variable\"},\"tracegroupgap\":0},\"margin\":{\"t\":60}},                        {\"responsive\": true}                    ).then(function(){\n",
       "                            \n",
       "var gd = document.getElementById('ebdba0de-2cf9-4743-871e-8b5fa6ef59d3');\n",
       "var x = new MutationObserver(function (mutations, observer) {{\n",
       "        var display = window.getComputedStyle(gd).display;\n",
       "        if (!display || display === 'none') {{\n",
       "            console.log([gd, 'removed!']);\n",
       "            Plotly.purge(gd);\n",
       "            observer.disconnect();\n",
       "        }}\n",
       "}});\n",
       "\n",
       "// Listen for the removal of the full notebook cells\n",
       "var notebookContainer = gd.closest('#notebook-container');\n",
       "if (notebookContainer) {{\n",
       "    x.observe(notebookContainer, {childList: true});\n",
       "}}\n",
       "\n",
       "// Listen for the clearing of the current output cell\n",
       "var outputEl = gd.closest('.output');\n",
       "if (outputEl) {{\n",
       "    x.observe(outputEl, {childList: true});\n",
       "}}\n",
       "\n",
       "                        })                };                });            </script>        </div>"
      ]
     },
     "metadata": {},
     "output_type": "display_data"
    }
   ],
   "source": [
    "df_taxi_subway = df_taxi_subway.sort_values(['PU_average_fare'], ascending=[True])\n",
    "fig = px.scatter(df_taxi_subway, y='CDTA', x=['PU_average_fare'],log_x = True)\n",
    "fig.show()"
   ]
  },
  {
   "cell_type": "code",
   "execution_count": 118,
   "id": "b9c085f7",
   "metadata": {},
   "outputs": [
    {
     "data": {
      "application/vnd.plotly.v1+json": {
       "config": {
        "plotlyServerURL": "https://plot.ly"
       },
       "data": [
        {
         "labels": [
          "Bronx",
          "Brooklyn",
          "Manhattan",
          "Queens",
          "Staten Island",
          "MN08",
          "MN64",
          "MN11",
          "MN06",
          "MN07",
          "MN04",
          "MN05",
          "MN02",
          "MN03",
          "MN10",
          "MN09",
          "QN01",
          "MN01",
          "QN02",
          "BX01",
          "QN12",
          "QN04",
          "QN03",
          "BX02",
          "QN10",
          "QN06",
          "QN09",
          "BX04",
          "BK02",
          "BK01",
          "BX03",
          "MN12",
          "QN05",
          "QN07",
          "BK05",
          "BK03",
          "BK04",
          "BX05",
          "BK16",
          "BK55",
          "QN81",
          "BX09",
          "BK06",
          "BK09",
          "BK17",
          "BX06",
          "BK18",
          "BX11",
          "BX07",
          "BX10",
          "BK15",
          "BK07",
          "BK14",
          "BX08",
          "QN14",
          "BK12",
          "BX12",
          "BK13",
          "BK11",
          "BK10",
          "QN83",
          "SI01"
         ],
         "parents": [
          "Boroughs",
          "Boroughs",
          "Boroughs",
          "Boroughs",
          "Boroughs",
          "Manhattan",
          "Manhattan",
          "Manhattan",
          "Manhattan",
          "Manhattan",
          "Manhattan",
          "Manhattan",
          "Manhattan",
          "Manhattan",
          "Manhattan",
          "Manhattan",
          "Queens",
          "Manhattan",
          "Queens",
          "Bronx",
          "Queens",
          "Queens",
          "Queens",
          "Bronx",
          "Queens",
          "Queens",
          "Queens",
          "Bronx",
          "Brooklyn",
          "Brooklyn",
          "Bronx",
          "Manhattan",
          "Queens",
          "Queens",
          "Brooklyn",
          "Brooklyn",
          "Brooklyn",
          "Bronx",
          "Brooklyn",
          "Brooklyn",
          "Queens",
          "Bronx",
          "Brooklyn",
          "Brooklyn",
          "Brooklyn",
          "Bronx",
          "Brooklyn",
          "Bronx",
          "Bronx",
          "Bronx",
          "Brooklyn",
          "Brooklyn",
          "Brooklyn",
          "Bronx",
          "Queens",
          "Brooklyn",
          "Bronx",
          "Brooklyn",
          "Brooklyn",
          "Brooklyn",
          "Queens",
          "Staten Island"
         ],
         "type": "sunburst",
         "values": [
          31638430,
          72878938,
          162311230,
          54052566,
          774846,
          12461284,
          15607478,
          7770727,
          10593662,
          9309853,
          8029235,
          61041108,
          13377396,
          6996555,
          4776565,
          1684299,
          7644115,
          19806925,
          7823937,
          4921932,
          7625177,
          9360394,
          3236155,
          2489968,
          3523936,
          3565934,
          2842014,
          4463588,
          10595953,
          5834046,
          817144,
          7872321,
          1693420,
          3703267,
          3780311,
          3446282,
          5369919,
          2928754,
          4649492,
          276604,
          1866263,
          2282432,
          5524519,
          7358811,
          4965069,
          1221571,
          377562,
          1327431,
          5442703,
          1976469,
          4328005,
          1917861,
          5006523,
          706914,
          1020924,
          3946570,
          3093805,
          2835877,
          1904042,
          910972,
          1243329,
          775007
         ]
        }
       ],
       "layout": {
        "margin": {
         "b": 0,
         "l": 0,
         "r": 0,
         "t": 0
        },
        "template": {
         "data": {
          "bar": [
           {
            "error_x": {
             "color": "#2a3f5f"
            },
            "error_y": {
             "color": "#2a3f5f"
            },
            "marker": {
             "line": {
              "color": "#E5ECF6",
              "width": 0.5
             },
             "pattern": {
              "fillmode": "overlay",
              "size": 10,
              "solidity": 0.2
             }
            },
            "type": "bar"
           }
          ],
          "barpolar": [
           {
            "marker": {
             "line": {
              "color": "#E5ECF6",
              "width": 0.5
             },
             "pattern": {
              "fillmode": "overlay",
              "size": 10,
              "solidity": 0.2
             }
            },
            "type": "barpolar"
           }
          ],
          "carpet": [
           {
            "aaxis": {
             "endlinecolor": "#2a3f5f",
             "gridcolor": "white",
             "linecolor": "white",
             "minorgridcolor": "white",
             "startlinecolor": "#2a3f5f"
            },
            "baxis": {
             "endlinecolor": "#2a3f5f",
             "gridcolor": "white",
             "linecolor": "white",
             "minorgridcolor": "white",
             "startlinecolor": "#2a3f5f"
            },
            "type": "carpet"
           }
          ],
          "choropleth": [
           {
            "colorbar": {
             "outlinewidth": 0,
             "ticks": ""
            },
            "type": "choropleth"
           }
          ],
          "contour": [
           {
            "colorbar": {
             "outlinewidth": 0,
             "ticks": ""
            },
            "colorscale": [
             [
              0,
              "#0d0887"
             ],
             [
              0.1111111111111111,
              "#46039f"
             ],
             [
              0.2222222222222222,
              "#7201a8"
             ],
             [
              0.3333333333333333,
              "#9c179e"
             ],
             [
              0.4444444444444444,
              "#bd3786"
             ],
             [
              0.5555555555555556,
              "#d8576b"
             ],
             [
              0.6666666666666666,
              "#ed7953"
             ],
             [
              0.7777777777777778,
              "#fb9f3a"
             ],
             [
              0.8888888888888888,
              "#fdca26"
             ],
             [
              1,
              "#f0f921"
             ]
            ],
            "type": "contour"
           }
          ],
          "contourcarpet": [
           {
            "colorbar": {
             "outlinewidth": 0,
             "ticks": ""
            },
            "type": "contourcarpet"
           }
          ],
          "heatmap": [
           {
            "colorbar": {
             "outlinewidth": 0,
             "ticks": ""
            },
            "colorscale": [
             [
              0,
              "#0d0887"
             ],
             [
              0.1111111111111111,
              "#46039f"
             ],
             [
              0.2222222222222222,
              "#7201a8"
             ],
             [
              0.3333333333333333,
              "#9c179e"
             ],
             [
              0.4444444444444444,
              "#bd3786"
             ],
             [
              0.5555555555555556,
              "#d8576b"
             ],
             [
              0.6666666666666666,
              "#ed7953"
             ],
             [
              0.7777777777777778,
              "#fb9f3a"
             ],
             [
              0.8888888888888888,
              "#fdca26"
             ],
             [
              1,
              "#f0f921"
             ]
            ],
            "type": "heatmap"
           }
          ],
          "heatmapgl": [
           {
            "colorbar": {
             "outlinewidth": 0,
             "ticks": ""
            },
            "colorscale": [
             [
              0,
              "#0d0887"
             ],
             [
              0.1111111111111111,
              "#46039f"
             ],
             [
              0.2222222222222222,
              "#7201a8"
             ],
             [
              0.3333333333333333,
              "#9c179e"
             ],
             [
              0.4444444444444444,
              "#bd3786"
             ],
             [
              0.5555555555555556,
              "#d8576b"
             ],
             [
              0.6666666666666666,
              "#ed7953"
             ],
             [
              0.7777777777777778,
              "#fb9f3a"
             ],
             [
              0.8888888888888888,
              "#fdca26"
             ],
             [
              1,
              "#f0f921"
             ]
            ],
            "type": "heatmapgl"
           }
          ],
          "histogram": [
           {
            "marker": {
             "pattern": {
              "fillmode": "overlay",
              "size": 10,
              "solidity": 0.2
             }
            },
            "type": "histogram"
           }
          ],
          "histogram2d": [
           {
            "colorbar": {
             "outlinewidth": 0,
             "ticks": ""
            },
            "colorscale": [
             [
              0,
              "#0d0887"
             ],
             [
              0.1111111111111111,
              "#46039f"
             ],
             [
              0.2222222222222222,
              "#7201a8"
             ],
             [
              0.3333333333333333,
              "#9c179e"
             ],
             [
              0.4444444444444444,
              "#bd3786"
             ],
             [
              0.5555555555555556,
              "#d8576b"
             ],
             [
              0.6666666666666666,
              "#ed7953"
             ],
             [
              0.7777777777777778,
              "#fb9f3a"
             ],
             [
              0.8888888888888888,
              "#fdca26"
             ],
             [
              1,
              "#f0f921"
             ]
            ],
            "type": "histogram2d"
           }
          ],
          "histogram2dcontour": [
           {
            "colorbar": {
             "outlinewidth": 0,
             "ticks": ""
            },
            "colorscale": [
             [
              0,
              "#0d0887"
             ],
             [
              0.1111111111111111,
              "#46039f"
             ],
             [
              0.2222222222222222,
              "#7201a8"
             ],
             [
              0.3333333333333333,
              "#9c179e"
             ],
             [
              0.4444444444444444,
              "#bd3786"
             ],
             [
              0.5555555555555556,
              "#d8576b"
             ],
             [
              0.6666666666666666,
              "#ed7953"
             ],
             [
              0.7777777777777778,
              "#fb9f3a"
             ],
             [
              0.8888888888888888,
              "#fdca26"
             ],
             [
              1,
              "#f0f921"
             ]
            ],
            "type": "histogram2dcontour"
           }
          ],
          "mesh3d": [
           {
            "colorbar": {
             "outlinewidth": 0,
             "ticks": ""
            },
            "type": "mesh3d"
           }
          ],
          "parcoords": [
           {
            "line": {
             "colorbar": {
              "outlinewidth": 0,
              "ticks": ""
             }
            },
            "type": "parcoords"
           }
          ],
          "pie": [
           {
            "automargin": true,
            "type": "pie"
           }
          ],
          "scatter": [
           {
            "fillpattern": {
             "fillmode": "overlay",
             "size": 10,
             "solidity": 0.2
            },
            "type": "scatter"
           }
          ],
          "scatter3d": [
           {
            "line": {
             "colorbar": {
              "outlinewidth": 0,
              "ticks": ""
             }
            },
            "marker": {
             "colorbar": {
              "outlinewidth": 0,
              "ticks": ""
             }
            },
            "type": "scatter3d"
           }
          ],
          "scattercarpet": [
           {
            "marker": {
             "colorbar": {
              "outlinewidth": 0,
              "ticks": ""
             }
            },
            "type": "scattercarpet"
           }
          ],
          "scattergeo": [
           {
            "marker": {
             "colorbar": {
              "outlinewidth": 0,
              "ticks": ""
             }
            },
            "type": "scattergeo"
           }
          ],
          "scattergl": [
           {
            "marker": {
             "colorbar": {
              "outlinewidth": 0,
              "ticks": ""
             }
            },
            "type": "scattergl"
           }
          ],
          "scattermapbox": [
           {
            "marker": {
             "colorbar": {
              "outlinewidth": 0,
              "ticks": ""
             }
            },
            "type": "scattermapbox"
           }
          ],
          "scatterpolar": [
           {
            "marker": {
             "colorbar": {
              "outlinewidth": 0,
              "ticks": ""
             }
            },
            "type": "scatterpolar"
           }
          ],
          "scatterpolargl": [
           {
            "marker": {
             "colorbar": {
              "outlinewidth": 0,
              "ticks": ""
             }
            },
            "type": "scatterpolargl"
           }
          ],
          "scatterternary": [
           {
            "marker": {
             "colorbar": {
              "outlinewidth": 0,
              "ticks": ""
             }
            },
            "type": "scatterternary"
           }
          ],
          "surface": [
           {
            "colorbar": {
             "outlinewidth": 0,
             "ticks": ""
            },
            "colorscale": [
             [
              0,
              "#0d0887"
             ],
             [
              0.1111111111111111,
              "#46039f"
             ],
             [
              0.2222222222222222,
              "#7201a8"
             ],
             [
              0.3333333333333333,
              "#9c179e"
             ],
             [
              0.4444444444444444,
              "#bd3786"
             ],
             [
              0.5555555555555556,
              "#d8576b"
             ],
             [
              0.6666666666666666,
              "#ed7953"
             ],
             [
              0.7777777777777778,
              "#fb9f3a"
             ],
             [
              0.8888888888888888,
              "#fdca26"
             ],
             [
              1,
              "#f0f921"
             ]
            ],
            "type": "surface"
           }
          ],
          "table": [
           {
            "cells": {
             "fill": {
              "color": "#EBF0F8"
             },
             "line": {
              "color": "white"
             }
            },
            "header": {
             "fill": {
              "color": "#C8D4E3"
             },
             "line": {
              "color": "white"
             }
            },
            "type": "table"
           }
          ]
         },
         "layout": {
          "annotationdefaults": {
           "arrowcolor": "#2a3f5f",
           "arrowhead": 0,
           "arrowwidth": 1
          },
          "autotypenumbers": "strict",
          "coloraxis": {
           "colorbar": {
            "outlinewidth": 0,
            "ticks": ""
           }
          },
          "colorscale": {
           "diverging": [
            [
             0,
             "#8e0152"
            ],
            [
             0.1,
             "#c51b7d"
            ],
            [
             0.2,
             "#de77ae"
            ],
            [
             0.3,
             "#f1b6da"
            ],
            [
             0.4,
             "#fde0ef"
            ],
            [
             0.5,
             "#f7f7f7"
            ],
            [
             0.6,
             "#e6f5d0"
            ],
            [
             0.7,
             "#b8e186"
            ],
            [
             0.8,
             "#7fbc41"
            ],
            [
             0.9,
             "#4d9221"
            ],
            [
             1,
             "#276419"
            ]
           ],
           "sequential": [
            [
             0,
             "#0d0887"
            ],
            [
             0.1111111111111111,
             "#46039f"
            ],
            [
             0.2222222222222222,
             "#7201a8"
            ],
            [
             0.3333333333333333,
             "#9c179e"
            ],
            [
             0.4444444444444444,
             "#bd3786"
            ],
            [
             0.5555555555555556,
             "#d8576b"
            ],
            [
             0.6666666666666666,
             "#ed7953"
            ],
            [
             0.7777777777777778,
             "#fb9f3a"
            ],
            [
             0.8888888888888888,
             "#fdca26"
            ],
            [
             1,
             "#f0f921"
            ]
           ],
           "sequentialminus": [
            [
             0,
             "#0d0887"
            ],
            [
             0.1111111111111111,
             "#46039f"
            ],
            [
             0.2222222222222222,
             "#7201a8"
            ],
            [
             0.3333333333333333,
             "#9c179e"
            ],
            [
             0.4444444444444444,
             "#bd3786"
            ],
            [
             0.5555555555555556,
             "#d8576b"
            ],
            [
             0.6666666666666666,
             "#ed7953"
            ],
            [
             0.7777777777777778,
             "#fb9f3a"
            ],
            [
             0.8888888888888888,
             "#fdca26"
            ],
            [
             1,
             "#f0f921"
            ]
           ]
          },
          "colorway": [
           "#636efa",
           "#EF553B",
           "#00cc96",
           "#ab63fa",
           "#FFA15A",
           "#19d3f3",
           "#FF6692",
           "#B6E880",
           "#FF97FF",
           "#FECB52"
          ],
          "font": {
           "color": "#2a3f5f"
          },
          "geo": {
           "bgcolor": "white",
           "lakecolor": "white",
           "landcolor": "#E5ECF6",
           "showlakes": true,
           "showland": true,
           "subunitcolor": "white"
          },
          "hoverlabel": {
           "align": "left"
          },
          "hovermode": "closest",
          "mapbox": {
           "style": "light"
          },
          "paper_bgcolor": "white",
          "plot_bgcolor": "#E5ECF6",
          "polar": {
           "angularaxis": {
            "gridcolor": "white",
            "linecolor": "white",
            "ticks": ""
           },
           "bgcolor": "#E5ECF6",
           "radialaxis": {
            "gridcolor": "white",
            "linecolor": "white",
            "ticks": ""
           }
          },
          "scene": {
           "xaxis": {
            "backgroundcolor": "#E5ECF6",
            "gridcolor": "white",
            "gridwidth": 2,
            "linecolor": "white",
            "showbackground": true,
            "ticks": "",
            "zerolinecolor": "white"
           },
           "yaxis": {
            "backgroundcolor": "#E5ECF6",
            "gridcolor": "white",
            "gridwidth": 2,
            "linecolor": "white",
            "showbackground": true,
            "ticks": "",
            "zerolinecolor": "white"
           },
           "zaxis": {
            "backgroundcolor": "#E5ECF6",
            "gridcolor": "white",
            "gridwidth": 2,
            "linecolor": "white",
            "showbackground": true,
            "ticks": "",
            "zerolinecolor": "white"
           }
          },
          "shapedefaults": {
           "line": {
            "color": "#2a3f5f"
           }
          },
          "ternary": {
           "aaxis": {
            "gridcolor": "white",
            "linecolor": "white",
            "ticks": ""
           },
           "baxis": {
            "gridcolor": "white",
            "linecolor": "white",
            "ticks": ""
           },
           "bgcolor": "#E5ECF6",
           "caxis": {
            "gridcolor": "white",
            "linecolor": "white",
            "ticks": ""
           }
          },
          "title": {
           "x": 0.05
          },
          "xaxis": {
           "automargin": true,
           "gridcolor": "white",
           "linecolor": "white",
           "ticks": "",
           "title": {
            "standoff": 15
           },
           "zerolinecolor": "white",
           "zerolinewidth": 2
          },
          "yaxis": {
           "automargin": true,
           "gridcolor": "white",
           "linecolor": "white",
           "ticks": "",
           "title": {
            "standoff": 15
           },
           "zerolinecolor": "white",
           "zerolinewidth": 2
          }
         }
        }
       }
      },
      "text/html": [
       "<div>                            <div id=\"337541c9-b913-449a-b53f-f0b258479f42\" class=\"plotly-graph-div\" style=\"height:525px; width:100%;\"></div>            <script type=\"text/javascript\">                require([\"plotly\"], function(Plotly) {                    window.PLOTLYENV=window.PLOTLYENV || {};                                    if (document.getElementById(\"337541c9-b913-449a-b53f-f0b258479f42\")) {                    Plotly.newPlot(                        \"337541c9-b913-449a-b53f-f0b258479f42\",                        [{\"labels\":[\"Bronx\",\"Brooklyn\",\"Manhattan\",\"Queens\",\"Staten Island\",\"MN08\",\"MN64\",\"MN11\",\"MN06\",\"MN07\",\"MN04\",\"MN05\",\"MN02\",\"MN03\",\"MN10\",\"MN09\",\"QN01\",\"MN01\",\"QN02\",\"BX01\",\"QN12\",\"QN04\",\"QN03\",\"BX02\",\"QN10\",\"QN06\",\"QN09\",\"BX04\",\"BK02\",\"BK01\",\"BX03\",\"MN12\",\"QN05\",\"QN07\",\"BK05\",\"BK03\",\"BK04\",\"BX05\",\"BK16\",\"BK55\",\"QN81\",\"BX09\",\"BK06\",\"BK09\",\"BK17\",\"BX06\",\"BK18\",\"BX11\",\"BX07\",\"BX10\",\"BK15\",\"BK07\",\"BK14\",\"BX08\",\"QN14\",\"BK12\",\"BX12\",\"BK13\",\"BK11\",\"BK10\",\"QN83\",\"SI01\"],\"parents\":[\"Boroughs\",\"Boroughs\",\"Boroughs\",\"Boroughs\",\"Boroughs\",\"Manhattan\",\"Manhattan\",\"Manhattan\",\"Manhattan\",\"Manhattan\",\"Manhattan\",\"Manhattan\",\"Manhattan\",\"Manhattan\",\"Manhattan\",\"Manhattan\",\"Queens\",\"Manhattan\",\"Queens\",\"Bronx\",\"Queens\",\"Queens\",\"Queens\",\"Bronx\",\"Queens\",\"Queens\",\"Queens\",\"Bronx\",\"Brooklyn\",\"Brooklyn\",\"Bronx\",\"Manhattan\",\"Queens\",\"Queens\",\"Brooklyn\",\"Brooklyn\",\"Brooklyn\",\"Bronx\",\"Brooklyn\",\"Brooklyn\",\"Queens\",\"Bronx\",\"Brooklyn\",\"Brooklyn\",\"Brooklyn\",\"Bronx\",\"Brooklyn\",\"Bronx\",\"Bronx\",\"Bronx\",\"Brooklyn\",\"Brooklyn\",\"Brooklyn\",\"Bronx\",\"Queens\",\"Brooklyn\",\"Bronx\",\"Brooklyn\",\"Brooklyn\",\"Brooklyn\",\"Queens\",\"Staten Island\"],\"values\":[31638430.0,72878938.0,162311230.0,54052566.0,774846.0,12461284.0,15607478.0,7770727.0,10593662.0,9309853.0,8029235.0,61041108.0,13377396.0,6996555.0,4776565.0,1684299.0,7644115.0,19806925.0,7823937.0,4921932.0,7625177.0,9360394.0,3236155.0,2489968.0,3523936.0,3565934.0,2842014.0,4463588.0,10595953.0,5834046.0,817144.0,7872321.0,1693420.0,3703267.0,3780311.0,3446282.0,5369919.0,2928754.0,4649492.0,276604.0,1866263.0,2282432.0,5524519.0,7358811.0,4965069.0,1221571.0,377562.0,1327431.0,5442703.0,1976469.0,4328005.0,1917861.0,5006523.0,706914.0,1020924.0,3946570.0,3093805.0,2835877.0,1904042.0,910972.0,1243329.0,775007.0],\"type\":\"sunburst\"}],                        {\"template\":{\"data\":{\"histogram2dcontour\":[{\"type\":\"histogram2dcontour\",\"colorbar\":{\"outlinewidth\":0,\"ticks\":\"\"},\"colorscale\":[[0.0,\"#0d0887\"],[0.1111111111111111,\"#46039f\"],[0.2222222222222222,\"#7201a8\"],[0.3333333333333333,\"#9c179e\"],[0.4444444444444444,\"#bd3786\"],[0.5555555555555556,\"#d8576b\"],[0.6666666666666666,\"#ed7953\"],[0.7777777777777778,\"#fb9f3a\"],[0.8888888888888888,\"#fdca26\"],[1.0,\"#f0f921\"]]}],\"choropleth\":[{\"type\":\"choropleth\",\"colorbar\":{\"outlinewidth\":0,\"ticks\":\"\"}}],\"histogram2d\":[{\"type\":\"histogram2d\",\"colorbar\":{\"outlinewidth\":0,\"ticks\":\"\"},\"colorscale\":[[0.0,\"#0d0887\"],[0.1111111111111111,\"#46039f\"],[0.2222222222222222,\"#7201a8\"],[0.3333333333333333,\"#9c179e\"],[0.4444444444444444,\"#bd3786\"],[0.5555555555555556,\"#d8576b\"],[0.6666666666666666,\"#ed7953\"],[0.7777777777777778,\"#fb9f3a\"],[0.8888888888888888,\"#fdca26\"],[1.0,\"#f0f921\"]]}],\"heatmap\":[{\"type\":\"heatmap\",\"colorbar\":{\"outlinewidth\":0,\"ticks\":\"\"},\"colorscale\":[[0.0,\"#0d0887\"],[0.1111111111111111,\"#46039f\"],[0.2222222222222222,\"#7201a8\"],[0.3333333333333333,\"#9c179e\"],[0.4444444444444444,\"#bd3786\"],[0.5555555555555556,\"#d8576b\"],[0.6666666666666666,\"#ed7953\"],[0.7777777777777778,\"#fb9f3a\"],[0.8888888888888888,\"#fdca26\"],[1.0,\"#f0f921\"]]}],\"heatmapgl\":[{\"type\":\"heatmapgl\",\"colorbar\":{\"outlinewidth\":0,\"ticks\":\"\"},\"colorscale\":[[0.0,\"#0d0887\"],[0.1111111111111111,\"#46039f\"],[0.2222222222222222,\"#7201a8\"],[0.3333333333333333,\"#9c179e\"],[0.4444444444444444,\"#bd3786\"],[0.5555555555555556,\"#d8576b\"],[0.6666666666666666,\"#ed7953\"],[0.7777777777777778,\"#fb9f3a\"],[0.8888888888888888,\"#fdca26\"],[1.0,\"#f0f921\"]]}],\"contourcarpet\":[{\"type\":\"contourcarpet\",\"colorbar\":{\"outlinewidth\":0,\"ticks\":\"\"}}],\"contour\":[{\"type\":\"contour\",\"colorbar\":{\"outlinewidth\":0,\"ticks\":\"\"},\"colorscale\":[[0.0,\"#0d0887\"],[0.1111111111111111,\"#46039f\"],[0.2222222222222222,\"#7201a8\"],[0.3333333333333333,\"#9c179e\"],[0.4444444444444444,\"#bd3786\"],[0.5555555555555556,\"#d8576b\"],[0.6666666666666666,\"#ed7953\"],[0.7777777777777778,\"#fb9f3a\"],[0.8888888888888888,\"#fdca26\"],[1.0,\"#f0f921\"]]}],\"surface\":[{\"type\":\"surface\",\"colorbar\":{\"outlinewidth\":0,\"ticks\":\"\"},\"colorscale\":[[0.0,\"#0d0887\"],[0.1111111111111111,\"#46039f\"],[0.2222222222222222,\"#7201a8\"],[0.3333333333333333,\"#9c179e\"],[0.4444444444444444,\"#bd3786\"],[0.5555555555555556,\"#d8576b\"],[0.6666666666666666,\"#ed7953\"],[0.7777777777777778,\"#fb9f3a\"],[0.8888888888888888,\"#fdca26\"],[1.0,\"#f0f921\"]]}],\"mesh3d\":[{\"type\":\"mesh3d\",\"colorbar\":{\"outlinewidth\":0,\"ticks\":\"\"}}],\"scatter\":[{\"fillpattern\":{\"fillmode\":\"overlay\",\"size\":10,\"solidity\":0.2},\"type\":\"scatter\"}],\"parcoords\":[{\"type\":\"parcoords\",\"line\":{\"colorbar\":{\"outlinewidth\":0,\"ticks\":\"\"}}}],\"scatterpolargl\":[{\"type\":\"scatterpolargl\",\"marker\":{\"colorbar\":{\"outlinewidth\":0,\"ticks\":\"\"}}}],\"bar\":[{\"error_x\":{\"color\":\"#2a3f5f\"},\"error_y\":{\"color\":\"#2a3f5f\"},\"marker\":{\"line\":{\"color\":\"#E5ECF6\",\"width\":0.5},\"pattern\":{\"fillmode\":\"overlay\",\"size\":10,\"solidity\":0.2}},\"type\":\"bar\"}],\"scattergeo\":[{\"type\":\"scattergeo\",\"marker\":{\"colorbar\":{\"outlinewidth\":0,\"ticks\":\"\"}}}],\"scatterpolar\":[{\"type\":\"scatterpolar\",\"marker\":{\"colorbar\":{\"outlinewidth\":0,\"ticks\":\"\"}}}],\"histogram\":[{\"marker\":{\"pattern\":{\"fillmode\":\"overlay\",\"size\":10,\"solidity\":0.2}},\"type\":\"histogram\"}],\"scattergl\":[{\"type\":\"scattergl\",\"marker\":{\"colorbar\":{\"outlinewidth\":0,\"ticks\":\"\"}}}],\"scatter3d\":[{\"type\":\"scatter3d\",\"line\":{\"colorbar\":{\"outlinewidth\":0,\"ticks\":\"\"}},\"marker\":{\"colorbar\":{\"outlinewidth\":0,\"ticks\":\"\"}}}],\"scattermapbox\":[{\"type\":\"scattermapbox\",\"marker\":{\"colorbar\":{\"outlinewidth\":0,\"ticks\":\"\"}}}],\"scatterternary\":[{\"type\":\"scatterternary\",\"marker\":{\"colorbar\":{\"outlinewidth\":0,\"ticks\":\"\"}}}],\"scattercarpet\":[{\"type\":\"scattercarpet\",\"marker\":{\"colorbar\":{\"outlinewidth\":0,\"ticks\":\"\"}}}],\"carpet\":[{\"aaxis\":{\"endlinecolor\":\"#2a3f5f\",\"gridcolor\":\"white\",\"linecolor\":\"white\",\"minorgridcolor\":\"white\",\"startlinecolor\":\"#2a3f5f\"},\"baxis\":{\"endlinecolor\":\"#2a3f5f\",\"gridcolor\":\"white\",\"linecolor\":\"white\",\"minorgridcolor\":\"white\",\"startlinecolor\":\"#2a3f5f\"},\"type\":\"carpet\"}],\"table\":[{\"cells\":{\"fill\":{\"color\":\"#EBF0F8\"},\"line\":{\"color\":\"white\"}},\"header\":{\"fill\":{\"color\":\"#C8D4E3\"},\"line\":{\"color\":\"white\"}},\"type\":\"table\"}],\"barpolar\":[{\"marker\":{\"line\":{\"color\":\"#E5ECF6\",\"width\":0.5},\"pattern\":{\"fillmode\":\"overlay\",\"size\":10,\"solidity\":0.2}},\"type\":\"barpolar\"}],\"pie\":[{\"automargin\":true,\"type\":\"pie\"}]},\"layout\":{\"autotypenumbers\":\"strict\",\"colorway\":[\"#636efa\",\"#EF553B\",\"#00cc96\",\"#ab63fa\",\"#FFA15A\",\"#19d3f3\",\"#FF6692\",\"#B6E880\",\"#FF97FF\",\"#FECB52\"],\"font\":{\"color\":\"#2a3f5f\"},\"hovermode\":\"closest\",\"hoverlabel\":{\"align\":\"left\"},\"paper_bgcolor\":\"white\",\"plot_bgcolor\":\"#E5ECF6\",\"polar\":{\"bgcolor\":\"#E5ECF6\",\"angularaxis\":{\"gridcolor\":\"white\",\"linecolor\":\"white\",\"ticks\":\"\"},\"radialaxis\":{\"gridcolor\":\"white\",\"linecolor\":\"white\",\"ticks\":\"\"}},\"ternary\":{\"bgcolor\":\"#E5ECF6\",\"aaxis\":{\"gridcolor\":\"white\",\"linecolor\":\"white\",\"ticks\":\"\"},\"baxis\":{\"gridcolor\":\"white\",\"linecolor\":\"white\",\"ticks\":\"\"},\"caxis\":{\"gridcolor\":\"white\",\"linecolor\":\"white\",\"ticks\":\"\"}},\"coloraxis\":{\"colorbar\":{\"outlinewidth\":0,\"ticks\":\"\"}},\"colorscale\":{\"sequential\":[[0.0,\"#0d0887\"],[0.1111111111111111,\"#46039f\"],[0.2222222222222222,\"#7201a8\"],[0.3333333333333333,\"#9c179e\"],[0.4444444444444444,\"#bd3786\"],[0.5555555555555556,\"#d8576b\"],[0.6666666666666666,\"#ed7953\"],[0.7777777777777778,\"#fb9f3a\"],[0.8888888888888888,\"#fdca26\"],[1.0,\"#f0f921\"]],\"sequentialminus\":[[0.0,\"#0d0887\"],[0.1111111111111111,\"#46039f\"],[0.2222222222222222,\"#7201a8\"],[0.3333333333333333,\"#9c179e\"],[0.4444444444444444,\"#bd3786\"],[0.5555555555555556,\"#d8576b\"],[0.6666666666666666,\"#ed7953\"],[0.7777777777777778,\"#fb9f3a\"],[0.8888888888888888,\"#fdca26\"],[1.0,\"#f0f921\"]],\"diverging\":[[0,\"#8e0152\"],[0.1,\"#c51b7d\"],[0.2,\"#de77ae\"],[0.3,\"#f1b6da\"],[0.4,\"#fde0ef\"],[0.5,\"#f7f7f7\"],[0.6,\"#e6f5d0\"],[0.7,\"#b8e186\"],[0.8,\"#7fbc41\"],[0.9,\"#4d9221\"],[1,\"#276419\"]]},\"xaxis\":{\"gridcolor\":\"white\",\"linecolor\":\"white\",\"ticks\":\"\",\"title\":{\"standoff\":15},\"zerolinecolor\":\"white\",\"automargin\":true,\"zerolinewidth\":2},\"yaxis\":{\"gridcolor\":\"white\",\"linecolor\":\"white\",\"ticks\":\"\",\"title\":{\"standoff\":15},\"zerolinecolor\":\"white\",\"automargin\":true,\"zerolinewidth\":2},\"scene\":{\"xaxis\":{\"backgroundcolor\":\"#E5ECF6\",\"gridcolor\":\"white\",\"linecolor\":\"white\",\"showbackground\":true,\"ticks\":\"\",\"zerolinecolor\":\"white\",\"gridwidth\":2},\"yaxis\":{\"backgroundcolor\":\"#E5ECF6\",\"gridcolor\":\"white\",\"linecolor\":\"white\",\"showbackground\":true,\"ticks\":\"\",\"zerolinecolor\":\"white\",\"gridwidth\":2},\"zaxis\":{\"backgroundcolor\":\"#E5ECF6\",\"gridcolor\":\"white\",\"linecolor\":\"white\",\"showbackground\":true,\"ticks\":\"\",\"zerolinecolor\":\"white\",\"gridwidth\":2}},\"shapedefaults\":{\"line\":{\"color\":\"#2a3f5f\"}},\"annotationdefaults\":{\"arrowcolor\":\"#2a3f5f\",\"arrowhead\":0,\"arrowwidth\":1},\"geo\":{\"bgcolor\":\"white\",\"landcolor\":\"#E5ECF6\",\"subunitcolor\":\"white\",\"showland\":true,\"showlakes\":true,\"lakecolor\":\"white\"},\"title\":{\"x\":0.05},\"mapbox\":{\"style\":\"light\"}}},\"margin\":{\"t\":0,\"l\":0,\"r\":0,\"b\":0}},                        {\"responsive\": true}                    ).then(function(){\n",
       "                            \n",
       "var gd = document.getElementById('337541c9-b913-449a-b53f-f0b258479f42');\n",
       "var x = new MutationObserver(function (mutations, observer) {{\n",
       "        var display = window.getComputedStyle(gd).display;\n",
       "        if (!display || display === 'none') {{\n",
       "            console.log([gd, 'removed!']);\n",
       "            Plotly.purge(gd);\n",
       "            observer.disconnect();\n",
       "        }}\n",
       "}});\n",
       "\n",
       "// Listen for the removal of the full notebook cells\n",
       "var notebookContainer = gd.closest('#notebook-container');\n",
       "if (notebookContainer) {{\n",
       "    x.observe(notebookContainer, {childList: true});\n",
       "}}\n",
       "\n",
       "// Listen for the clearing of the current output cell\n",
       "var outputEl = gd.closest('.output');\n",
       "if (outputEl) {{\n",
       "    x.observe(outputEl, {childList: true});\n",
       "}}\n",
       "\n",
       "                        })                };                });            </script>        </div>"
      ]
     },
     "metadata": {},
     "output_type": "display_data"
    }
   ],
   "source": [
    "\n",
    "df_taxi_subway['total'] = df_taxi_subway['PU_total_trip_count'] + df_taxi_subway['net_entries']\n",
    "\n",
    "labels = df_taxi_subway[['borough_x','CDTA']]['CDTA'].tolist()\n",
    "\n",
    "labels = df_taxi_subway_aggr['borough_x'].unique().tolist() + labels  \n",
    "\n",
    "parents = df_taxi_subway[['borough_x','CDTA']]['borough_x'].tolist()\n",
    "parents = ['Boroughs','Boroughs','Boroughs','Boroughs','Boroughs'] + parents\n",
    "\n",
    "\n",
    "values = df_taxi_subway_aggr[['borough_x','net_entries']]['net_entries'].tolist()\n",
    "\n",
    "values = values + df_taxi_subway[['borough_x','CDTA','total']]['total'].tolist()\n",
    "\n",
    "fig =go.Figure(go.Sunburst(\n",
    "    labels= labels,\n",
    "    parents=parents,\n",
    "    values=values,\n",
    "))\n",
    "fig.update_layout(margin = dict(t=0, l=0, r=0, b=0))\n",
    "\n",
    "fig.show()"
   ]
  },
  {
   "cell_type": "code",
   "execution_count": null,
   "id": "f10e77b4",
   "metadata": {},
   "outputs": [],
   "source": []
  }
 ],
 "metadata": {
  "kernelspec": {
   "display_name": "Python 3 (ipykernel)",
   "language": "python",
   "name": "python3"
  },
  "language_info": {
   "codemirror_mode": {
    "name": "ipython",
    "version": 3
   },
   "file_extension": ".py",
   "mimetype": "text/x-python",
   "name": "python",
   "nbconvert_exporter": "python",
   "pygments_lexer": "ipython3",
   "version": "3.9.7"
  }
 },
 "nbformat": 4,
 "nbformat_minor": 5
}
